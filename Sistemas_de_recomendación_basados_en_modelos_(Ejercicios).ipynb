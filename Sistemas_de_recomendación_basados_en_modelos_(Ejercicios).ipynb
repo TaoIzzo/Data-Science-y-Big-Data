{
  "cells": [
    {
      "cell_type": "markdown",
      "metadata": {
        "id": "1_aNNmhP6BKL"
      },
      "source": [
        "# Filtrado colaborativo\n",
        "\n",
        "El filtrado colaborativo es una familia de aproximaciones algorítmicas basadas en el comportamiento colaborativo y collectivo. Esto permite realizar una definición a futuro de posibles feedback esperado bajo la matríz de ratings. Podemos encontrar filtrados basados en la similitud entre usuarios (User Based Collaborative Filtering) o basado en ítems (Item Based Colaborative Filtering).\n",
        "\n",
        "Tras haber explorado la forma en la que podemos trabajar con la matriz de relación ítem-usuario, veremos formas nuevas en las que los avances en el dominio de los modelos de aprendizaje automático nos permiten realizar aproximaciones más precisas a la imputación y estimación de valoraciones (predicciones de feedback de un usuario ante un ítem no consumido)."
      ]
    },
    {
      "cell_type": "markdown",
      "metadata": {
        "id": "ln0CPxM3spks"
      },
      "source": [
        "## Conjunto de datos: Movielens"
      ]
    },
    {
      "cell_type": "code",
      "execution_count": null,
      "metadata": {
        "id": "gtPMbuFg1Oh4"
      },
      "outputs": [],
      "source": [
        "import zipfile\n",
        "import numpy as np\n",
        "import pandas as pd\n",
        "import seaborn as sns\n",
        "from urllib.request import urlretrieve\n",
        "\n",
        "# Dataset\n",
        "urlretrieve(\"https://files.grouplens.org/datasets/movielens/ml-100k.zip\", \"movielens.zip\")\n",
        "zip_ref = zipfile.ZipFile('movielens.zip', \"r\")\n",
        "zip_ref.extractall()\n",
        "info = zip_ref.read('ml-100k/u.info')\n",
        "\n",
        "# Users\n",
        "users_cols = ['user_id', 'age', 'sex', 'occupation', 'zip_code']\n",
        "users = pd.read_csv('ml-100k/u.user', sep='|', names=users_cols, encoding='latin-1')\n",
        "\n",
        "# Movies\n",
        "genre_cols = [\n",
        "    \"genre_unknown\", \"Action\", \"Adventure\", \"Animation\", \"Children\", \"Comedy\",\n",
        "    \"Crime\", \"Documentary\", \"Drama\", \"Fantasy\", \"Film-Noir\", \"Horror\",\n",
        "    \"Musical\", \"Mystery\", \"Romance\", \"Sci-Fi\", \"Thriller\", \"War\", \"Western\"\n",
        "]\n",
        "movies_cols = ['movie_id', 'title', 'release_date', \"video_release_date\", \"imdb_url\"] + genre_cols\n",
        "movies = pd.read_csv('ml-100k/u.item', sep='|', names=movies_cols, encoding='latin-1')\n",
        "\n",
        "# Obtenemos el año de la fecha de publicación\n",
        "movies[\"year\"] = movies['release_date'].apply(lambda x: str(x).split('-')[-1])\n",
        "\n",
        "# Ratings\n",
        "ratings_cols = ['user_id', 'movie_id', 'rating', 'unix_timestamp']\n",
        "ratings = pd.read_csv('ml-100k/u.data', sep='\\t', names=ratings_cols, encoding='latin-1')\n",
        "ratings[\"rating\"] = ratings[\"rating\"].apply(lambda x: float(x))\n",
        "\n",
        "# User-item matrix\n",
        "user_item_m = ratings.pivot('user_id','movie_id','rating')"
      ]
    },
    {
      "cell_type": "markdown",
      "metadata": {
        "id": "ijN6UgOrrN-W"
      },
      "source": [
        "Uno de los problemas principales a los que nos enfrentábamos era a la escasez de información habitual debido a que pocos usuarios son los generadores en muchas plataformas de la mayoría de la actividad. Esto se refleja en los vacios que encontramos en la matriz de ratings."
      ]
    },
    {
      "cell_type": "code",
      "execution_count": null,
      "metadata": {
        "colab": {
          "base_uri": "https://localhost:8080/",
          "height": 455
        },
        "id": "1mYJk_frrNM0",
        "outputId": "438537c0-87c3-48ac-8a7f-c100f24c417f"
      },
      "outputs": [
        {
          "output_type": "execute_result",
          "data": {
            "text/plain": [
              "movie_id  1     2     3     4     5     6     7     8     9     10    ...  \\\n",
              "user_id                                                               ...   \n",
              "1          5.0   3.0   4.0   3.0   3.0   5.0   4.0   1.0   5.0   3.0  ...   \n",
              "2          4.0   NaN   NaN   NaN   NaN   NaN   NaN   NaN   NaN   2.0  ...   \n",
              "3          NaN   NaN   NaN   NaN   NaN   NaN   NaN   NaN   NaN   NaN  ...   \n",
              "4          NaN   NaN   NaN   NaN   NaN   NaN   NaN   NaN   NaN   NaN  ...   \n",
              "5          4.0   3.0   NaN   NaN   NaN   NaN   NaN   NaN   NaN   NaN  ...   \n",
              "...        ...   ...   ...   ...   ...   ...   ...   ...   ...   ...  ...   \n",
              "939        NaN   NaN   NaN   NaN   NaN   NaN   NaN   NaN   5.0   NaN  ...   \n",
              "940        NaN   NaN   NaN   2.0   NaN   NaN   4.0   5.0   3.0   NaN  ...   \n",
              "941        5.0   NaN   NaN   NaN   NaN   NaN   4.0   NaN   NaN   NaN  ...   \n",
              "942        NaN   NaN   NaN   NaN   NaN   NaN   NaN   NaN   NaN   NaN  ...   \n",
              "943        NaN   5.0   NaN   NaN   NaN   NaN   NaN   NaN   3.0   NaN  ...   \n",
              "\n",
              "movie_id  1673  1674  1675  1676  1677  1678  1679  1680  1681  1682  \n",
              "user_id                                                               \n",
              "1          NaN   NaN   NaN   NaN   NaN   NaN   NaN   NaN   NaN   NaN  \n",
              "2          NaN   NaN   NaN   NaN   NaN   NaN   NaN   NaN   NaN   NaN  \n",
              "3          NaN   NaN   NaN   NaN   NaN   NaN   NaN   NaN   NaN   NaN  \n",
              "4          NaN   NaN   NaN   NaN   NaN   NaN   NaN   NaN   NaN   NaN  \n",
              "5          NaN   NaN   NaN   NaN   NaN   NaN   NaN   NaN   NaN   NaN  \n",
              "...        ...   ...   ...   ...   ...   ...   ...   ...   ...   ...  \n",
              "939        NaN   NaN   NaN   NaN   NaN   NaN   NaN   NaN   NaN   NaN  \n",
              "940        NaN   NaN   NaN   NaN   NaN   NaN   NaN   NaN   NaN   NaN  \n",
              "941        NaN   NaN   NaN   NaN   NaN   NaN   NaN   NaN   NaN   NaN  \n",
              "942        NaN   NaN   NaN   NaN   NaN   NaN   NaN   NaN   NaN   NaN  \n",
              "943        NaN   NaN   NaN   NaN   NaN   NaN   NaN   NaN   NaN   NaN  \n",
              "\n",
              "[943 rows x 1682 columns]"
            ],
            "text/html": [
              "\n",
              "  <div id=\"df-0933e54a-777d-4436-9885-eb1de509aeb9\">\n",
              "    <div class=\"colab-df-container\">\n",
              "      <div>\n",
              "<style scoped>\n",
              "    .dataframe tbody tr th:only-of-type {\n",
              "        vertical-align: middle;\n",
              "    }\n",
              "\n",
              "    .dataframe tbody tr th {\n",
              "        vertical-align: top;\n",
              "    }\n",
              "\n",
              "    .dataframe thead th {\n",
              "        text-align: right;\n",
              "    }\n",
              "</style>\n",
              "<table border=\"1\" class=\"dataframe\">\n",
              "  <thead>\n",
              "    <tr style=\"text-align: right;\">\n",
              "      <th>movie_id</th>\n",
              "      <th>1</th>\n",
              "      <th>2</th>\n",
              "      <th>3</th>\n",
              "      <th>4</th>\n",
              "      <th>5</th>\n",
              "      <th>6</th>\n",
              "      <th>7</th>\n",
              "      <th>8</th>\n",
              "      <th>9</th>\n",
              "      <th>10</th>\n",
              "      <th>...</th>\n",
              "      <th>1673</th>\n",
              "      <th>1674</th>\n",
              "      <th>1675</th>\n",
              "      <th>1676</th>\n",
              "      <th>1677</th>\n",
              "      <th>1678</th>\n",
              "      <th>1679</th>\n",
              "      <th>1680</th>\n",
              "      <th>1681</th>\n",
              "      <th>1682</th>\n",
              "    </tr>\n",
              "    <tr>\n",
              "      <th>user_id</th>\n",
              "      <th></th>\n",
              "      <th></th>\n",
              "      <th></th>\n",
              "      <th></th>\n",
              "      <th></th>\n",
              "      <th></th>\n",
              "      <th></th>\n",
              "      <th></th>\n",
              "      <th></th>\n",
              "      <th></th>\n",
              "      <th></th>\n",
              "      <th></th>\n",
              "      <th></th>\n",
              "      <th></th>\n",
              "      <th></th>\n",
              "      <th></th>\n",
              "      <th></th>\n",
              "      <th></th>\n",
              "      <th></th>\n",
              "      <th></th>\n",
              "      <th></th>\n",
              "    </tr>\n",
              "  </thead>\n",
              "  <tbody>\n",
              "    <tr>\n",
              "      <th>1</th>\n",
              "      <td>5.0</td>\n",
              "      <td>3.0</td>\n",
              "      <td>4.0</td>\n",
              "      <td>3.0</td>\n",
              "      <td>3.0</td>\n",
              "      <td>5.0</td>\n",
              "      <td>4.0</td>\n",
              "      <td>1.0</td>\n",
              "      <td>5.0</td>\n",
              "      <td>3.0</td>\n",
              "      <td>...</td>\n",
              "      <td>NaN</td>\n",
              "      <td>NaN</td>\n",
              "      <td>NaN</td>\n",
              "      <td>NaN</td>\n",
              "      <td>NaN</td>\n",
              "      <td>NaN</td>\n",
              "      <td>NaN</td>\n",
              "      <td>NaN</td>\n",
              "      <td>NaN</td>\n",
              "      <td>NaN</td>\n",
              "    </tr>\n",
              "    <tr>\n",
              "      <th>2</th>\n",
              "      <td>4.0</td>\n",
              "      <td>NaN</td>\n",
              "      <td>NaN</td>\n",
              "      <td>NaN</td>\n",
              "      <td>NaN</td>\n",
              "      <td>NaN</td>\n",
              "      <td>NaN</td>\n",
              "      <td>NaN</td>\n",
              "      <td>NaN</td>\n",
              "      <td>2.0</td>\n",
              "      <td>...</td>\n",
              "      <td>NaN</td>\n",
              "      <td>NaN</td>\n",
              "      <td>NaN</td>\n",
              "      <td>NaN</td>\n",
              "      <td>NaN</td>\n",
              "      <td>NaN</td>\n",
              "      <td>NaN</td>\n",
              "      <td>NaN</td>\n",
              "      <td>NaN</td>\n",
              "      <td>NaN</td>\n",
              "    </tr>\n",
              "    <tr>\n",
              "      <th>3</th>\n",
              "      <td>NaN</td>\n",
              "      <td>NaN</td>\n",
              "      <td>NaN</td>\n",
              "      <td>NaN</td>\n",
              "      <td>NaN</td>\n",
              "      <td>NaN</td>\n",
              "      <td>NaN</td>\n",
              "      <td>NaN</td>\n",
              "      <td>NaN</td>\n",
              "      <td>NaN</td>\n",
              "      <td>...</td>\n",
              "      <td>NaN</td>\n",
              "      <td>NaN</td>\n",
              "      <td>NaN</td>\n",
              "      <td>NaN</td>\n",
              "      <td>NaN</td>\n",
              "      <td>NaN</td>\n",
              "      <td>NaN</td>\n",
              "      <td>NaN</td>\n",
              "      <td>NaN</td>\n",
              "      <td>NaN</td>\n",
              "    </tr>\n",
              "    <tr>\n",
              "      <th>4</th>\n",
              "      <td>NaN</td>\n",
              "      <td>NaN</td>\n",
              "      <td>NaN</td>\n",
              "      <td>NaN</td>\n",
              "      <td>NaN</td>\n",
              "      <td>NaN</td>\n",
              "      <td>NaN</td>\n",
              "      <td>NaN</td>\n",
              "      <td>NaN</td>\n",
              "      <td>NaN</td>\n",
              "      <td>...</td>\n",
              "      <td>NaN</td>\n",
              "      <td>NaN</td>\n",
              "      <td>NaN</td>\n",
              "      <td>NaN</td>\n",
              "      <td>NaN</td>\n",
              "      <td>NaN</td>\n",
              "      <td>NaN</td>\n",
              "      <td>NaN</td>\n",
              "      <td>NaN</td>\n",
              "      <td>NaN</td>\n",
              "    </tr>\n",
              "    <tr>\n",
              "      <th>5</th>\n",
              "      <td>4.0</td>\n",
              "      <td>3.0</td>\n",
              "      <td>NaN</td>\n",
              "      <td>NaN</td>\n",
              "      <td>NaN</td>\n",
              "      <td>NaN</td>\n",
              "      <td>NaN</td>\n",
              "      <td>NaN</td>\n",
              "      <td>NaN</td>\n",
              "      <td>NaN</td>\n",
              "      <td>...</td>\n",
              "      <td>NaN</td>\n",
              "      <td>NaN</td>\n",
              "      <td>NaN</td>\n",
              "      <td>NaN</td>\n",
              "      <td>NaN</td>\n",
              "      <td>NaN</td>\n",
              "      <td>NaN</td>\n",
              "      <td>NaN</td>\n",
              "      <td>NaN</td>\n",
              "      <td>NaN</td>\n",
              "    </tr>\n",
              "    <tr>\n",
              "      <th>...</th>\n",
              "      <td>...</td>\n",
              "      <td>...</td>\n",
              "      <td>...</td>\n",
              "      <td>...</td>\n",
              "      <td>...</td>\n",
              "      <td>...</td>\n",
              "      <td>...</td>\n",
              "      <td>...</td>\n",
              "      <td>...</td>\n",
              "      <td>...</td>\n",
              "      <td>...</td>\n",
              "      <td>...</td>\n",
              "      <td>...</td>\n",
              "      <td>...</td>\n",
              "      <td>...</td>\n",
              "      <td>...</td>\n",
              "      <td>...</td>\n",
              "      <td>...</td>\n",
              "      <td>...</td>\n",
              "      <td>...</td>\n",
              "      <td>...</td>\n",
              "    </tr>\n",
              "    <tr>\n",
              "      <th>939</th>\n",
              "      <td>NaN</td>\n",
              "      <td>NaN</td>\n",
              "      <td>NaN</td>\n",
              "      <td>NaN</td>\n",
              "      <td>NaN</td>\n",
              "      <td>NaN</td>\n",
              "      <td>NaN</td>\n",
              "      <td>NaN</td>\n",
              "      <td>5.0</td>\n",
              "      <td>NaN</td>\n",
              "      <td>...</td>\n",
              "      <td>NaN</td>\n",
              "      <td>NaN</td>\n",
              "      <td>NaN</td>\n",
              "      <td>NaN</td>\n",
              "      <td>NaN</td>\n",
              "      <td>NaN</td>\n",
              "      <td>NaN</td>\n",
              "      <td>NaN</td>\n",
              "      <td>NaN</td>\n",
              "      <td>NaN</td>\n",
              "    </tr>\n",
              "    <tr>\n",
              "      <th>940</th>\n",
              "      <td>NaN</td>\n",
              "      <td>NaN</td>\n",
              "      <td>NaN</td>\n",
              "      <td>2.0</td>\n",
              "      <td>NaN</td>\n",
              "      <td>NaN</td>\n",
              "      <td>4.0</td>\n",
              "      <td>5.0</td>\n",
              "      <td>3.0</td>\n",
              "      <td>NaN</td>\n",
              "      <td>...</td>\n",
              "      <td>NaN</td>\n",
              "      <td>NaN</td>\n",
              "      <td>NaN</td>\n",
              "      <td>NaN</td>\n",
              "      <td>NaN</td>\n",
              "      <td>NaN</td>\n",
              "      <td>NaN</td>\n",
              "      <td>NaN</td>\n",
              "      <td>NaN</td>\n",
              "      <td>NaN</td>\n",
              "    </tr>\n",
              "    <tr>\n",
              "      <th>941</th>\n",
              "      <td>5.0</td>\n",
              "      <td>NaN</td>\n",
              "      <td>NaN</td>\n",
              "      <td>NaN</td>\n",
              "      <td>NaN</td>\n",
              "      <td>NaN</td>\n",
              "      <td>4.0</td>\n",
              "      <td>NaN</td>\n",
              "      <td>NaN</td>\n",
              "      <td>NaN</td>\n",
              "      <td>...</td>\n",
              "      <td>NaN</td>\n",
              "      <td>NaN</td>\n",
              "      <td>NaN</td>\n",
              "      <td>NaN</td>\n",
              "      <td>NaN</td>\n",
              "      <td>NaN</td>\n",
              "      <td>NaN</td>\n",
              "      <td>NaN</td>\n",
              "      <td>NaN</td>\n",
              "      <td>NaN</td>\n",
              "    </tr>\n",
              "    <tr>\n",
              "      <th>942</th>\n",
              "      <td>NaN</td>\n",
              "      <td>NaN</td>\n",
              "      <td>NaN</td>\n",
              "      <td>NaN</td>\n",
              "      <td>NaN</td>\n",
              "      <td>NaN</td>\n",
              "      <td>NaN</td>\n",
              "      <td>NaN</td>\n",
              "      <td>NaN</td>\n",
              "      <td>NaN</td>\n",
              "      <td>...</td>\n",
              "      <td>NaN</td>\n",
              "      <td>NaN</td>\n",
              "      <td>NaN</td>\n",
              "      <td>NaN</td>\n",
              "      <td>NaN</td>\n",
              "      <td>NaN</td>\n",
              "      <td>NaN</td>\n",
              "      <td>NaN</td>\n",
              "      <td>NaN</td>\n",
              "      <td>NaN</td>\n",
              "    </tr>\n",
              "    <tr>\n",
              "      <th>943</th>\n",
              "      <td>NaN</td>\n",
              "      <td>5.0</td>\n",
              "      <td>NaN</td>\n",
              "      <td>NaN</td>\n",
              "      <td>NaN</td>\n",
              "      <td>NaN</td>\n",
              "      <td>NaN</td>\n",
              "      <td>NaN</td>\n",
              "      <td>3.0</td>\n",
              "      <td>NaN</td>\n",
              "      <td>...</td>\n",
              "      <td>NaN</td>\n",
              "      <td>NaN</td>\n",
              "      <td>NaN</td>\n",
              "      <td>NaN</td>\n",
              "      <td>NaN</td>\n",
              "      <td>NaN</td>\n",
              "      <td>NaN</td>\n",
              "      <td>NaN</td>\n",
              "      <td>NaN</td>\n",
              "      <td>NaN</td>\n",
              "    </tr>\n",
              "  </tbody>\n",
              "</table>\n",
              "<p>943 rows × 1682 columns</p>\n",
              "</div>\n",
              "      <button class=\"colab-df-convert\" onclick=\"convertToInteractive('df-0933e54a-777d-4436-9885-eb1de509aeb9')\"\n",
              "              title=\"Convert this dataframe to an interactive table.\"\n",
              "              style=\"display:none;\">\n",
              "        \n",
              "  <svg xmlns=\"http://www.w3.org/2000/svg\" height=\"24px\"viewBox=\"0 0 24 24\"\n",
              "       width=\"24px\">\n",
              "    <path d=\"M0 0h24v24H0V0z\" fill=\"none\"/>\n",
              "    <path d=\"M18.56 5.44l.94 2.06.94-2.06 2.06-.94-2.06-.94-.94-2.06-.94 2.06-2.06.94zm-11 1L8.5 8.5l.94-2.06 2.06-.94-2.06-.94L8.5 2.5l-.94 2.06-2.06.94zm10 10l.94 2.06.94-2.06 2.06-.94-2.06-.94-.94-2.06-.94 2.06-2.06.94z\"/><path d=\"M17.41 7.96l-1.37-1.37c-.4-.4-.92-.59-1.43-.59-.52 0-1.04.2-1.43.59L10.3 9.45l-7.72 7.72c-.78.78-.78 2.05 0 2.83L4 21.41c.39.39.9.59 1.41.59.51 0 1.02-.2 1.41-.59l7.78-7.78 2.81-2.81c.8-.78.8-2.07 0-2.86zM5.41 20L4 18.59l7.72-7.72 1.47 1.35L5.41 20z\"/>\n",
              "  </svg>\n",
              "      </button>\n",
              "      \n",
              "  <style>\n",
              "    .colab-df-container {\n",
              "      display:flex;\n",
              "      flex-wrap:wrap;\n",
              "      gap: 12px;\n",
              "    }\n",
              "\n",
              "    .colab-df-convert {\n",
              "      background-color: #E8F0FE;\n",
              "      border: none;\n",
              "      border-radius: 50%;\n",
              "      cursor: pointer;\n",
              "      display: none;\n",
              "      fill: #1967D2;\n",
              "      height: 32px;\n",
              "      padding: 0 0 0 0;\n",
              "      width: 32px;\n",
              "    }\n",
              "\n",
              "    .colab-df-convert:hover {\n",
              "      background-color: #E2EBFA;\n",
              "      box-shadow: 0px 1px 2px rgba(60, 64, 67, 0.3), 0px 1px 3px 1px rgba(60, 64, 67, 0.15);\n",
              "      fill: #174EA6;\n",
              "    }\n",
              "\n",
              "    [theme=dark] .colab-df-convert {\n",
              "      background-color: #3B4455;\n",
              "      fill: #D2E3FC;\n",
              "    }\n",
              "\n",
              "    [theme=dark] .colab-df-convert:hover {\n",
              "      background-color: #434B5C;\n",
              "      box-shadow: 0px 1px 3px 1px rgba(0, 0, 0, 0.15);\n",
              "      filter: drop-shadow(0px 1px 2px rgba(0, 0, 0, 0.3));\n",
              "      fill: #FFFFFF;\n",
              "    }\n",
              "  </style>\n",
              "\n",
              "      <script>\n",
              "        const buttonEl =\n",
              "          document.querySelector('#df-0933e54a-777d-4436-9885-eb1de509aeb9 button.colab-df-convert');\n",
              "        buttonEl.style.display =\n",
              "          google.colab.kernel.accessAllowed ? 'block' : 'none';\n",
              "\n",
              "        async function convertToInteractive(key) {\n",
              "          const element = document.querySelector('#df-0933e54a-777d-4436-9885-eb1de509aeb9');\n",
              "          const dataTable =\n",
              "            await google.colab.kernel.invokeFunction('convertToInteractive',\n",
              "                                                     [key], {});\n",
              "          if (!dataTable) return;\n",
              "\n",
              "          const docLinkHtml = 'Like what you see? Visit the ' +\n",
              "            '<a target=\"_blank\" href=https://colab.research.google.com/notebooks/data_table.ipynb>data table notebook</a>'\n",
              "            + ' to learn more about interactive tables.';\n",
              "          element.innerHTML = '';\n",
              "          dataTable['output_type'] = 'display_data';\n",
              "          await google.colab.output.renderOutput(dataTable, element);\n",
              "          const docLink = document.createElement('div');\n",
              "          docLink.innerHTML = docLinkHtml;\n",
              "          element.appendChild(docLink);\n",
              "        }\n",
              "      </script>\n",
              "    </div>\n",
              "  </div>\n",
              "  "
            ]
          },
          "metadata": {},
          "execution_count": 2
        }
      ],
      "source": [
        "user_item_m"
      ]
    },
    {
      "cell_type": "markdown",
      "metadata": {
        "id": "_19-xsL4ri5M"
      },
      "source": [
        "Debemos encontrar una forma coherente de rellenar esos huecos y de este modo podremos disponer de las futuras puntuaciones que un usuario dado podría darle a un ítem. Esta información se vuelve extremadamente válida ya que únicamente deberemos mostrar los elementos no consumidos susceptibles de recibir una buena puntuación, pero ¿cómo podemos realizar esta imputación?"
      ]
    },
    {
      "cell_type": "markdown",
      "metadata": {
        "id": "Boeh4nKIs-4I"
      },
      "source": [
        "# Factorización de matrices\n",
        "\n",
        "La factorización de matrices permite descomponer una matriz en matrices características de forma que nuestra matriz de recomendaciones ($M \\in \\mathbb{R}^{m \\times n}$) con pares de usuarios e items pueda descomponerse en el producto de dos matrizes:\n",
        "\n",
        "*   La matriz $U \\in \\mathbb{R}^{m \\times d}$ que representa a nuestros usuarios\n",
        "*   La matriz $I \\in \\mathbb{R}^{n \\times d}$ que representa a nuestros usuarios\n",
        "\n",
        "Las representaciones ($U$ e $I$) no son establecidas por nosotros si no que se aplican medios de aprendizaje automático de modo que estas matrices representen de la mejor forma posible la relación $UI^T = M$. De este modo nuestra función objetivo será representada de modo que:\n",
        "\n",
        "$\\min \\sum_{i,j} (M_{ij}-U_{ij}V_{ij})^2$\n",
        "\n",
        "Existen varios medios por los que podemos obtener estas matrices pero sin duda una de las más conocidas tras el concurso de Netflix es la descomposición en valores singlures (SVD). Podeis leer el relato de [Simon Funk](https://sifter.org/~simon/journal/20061211.html) para haceros eco de su trabajo durante este concurso.\n",
        "\n",
        "## Singular Value Decomposition\n",
        "\n",
        "La descomposición en valores singulares (o SVD de sus siglas en inglés) descompone nuestra matriz en *vectores y valores singulares*. Expresado de forma sencilla, SVD comprende un funcionamiento similar al del análisis de componentes principales (PCA) con el que quizás estéis más familiarizados. Haremos un ejemplo sencillo donde emplearemos una matriz de muestra.\n"
      ]
    },
    {
      "cell_type": "code",
      "execution_count": null,
      "metadata": {
        "colab": {
          "base_uri": "https://localhost:8080/"
        },
        "id": "UcvlATHbaaHt",
        "outputId": "2919f3a0-71ba-42cc-f5e4-21dd13e55cf3"
      },
      "outputs": [
        {
          "output_type": "execute_result",
          "data": {
            "text/plain": [
              "array([[ 1.,  2.],\n",
              "       [ 3.,  4.],\n",
              "       [ 5., nan]])"
            ]
          },
          "metadata": {},
          "execution_count": 3
        }
      ],
      "source": [
        "A = np.array([[1, 2], [3, 4], [5, np.nan]])\n",
        "A"
      ]
    },
    {
      "cell_type": "markdown",
      "metadata": {
        "id": "cL3M0oPmad5V"
      },
      "source": [
        "Haciendo un simil a nuestro contexto, se trata de una base de conocimiento de tres usuarios y dos items donde solo falta una puntuación por conocer. Deberemos imputar nuestros valores faltantes con un valor aproximado."
      ]
    },
    {
      "cell_type": "code",
      "execution_count": null,
      "metadata": {
        "colab": {
          "base_uri": "https://localhost:8080/"
        },
        "id": "y9IaMP3KbWrM",
        "outputId": "9ec78cc7-5c74-482f-adaa-d6d1c7da0c97"
      },
      "outputs": [
        {
          "output_type": "execute_result",
          "data": {
            "text/plain": [
              "array([[1., 2.],\n",
              "       [3., 4.],\n",
              "       [5., 0.]])"
            ]
          },
          "metadata": {},
          "execution_count": 4
        }
      ],
      "source": [
        "# Imputamos ceros\n",
        "zeros = [0, 0]\n",
        "# Los valores faltantes\n",
        "nans = ~np.isnan(A)\n",
        "# Y los imputamos\n",
        "A_h = np.where(nans, A, zeros)\n",
        "A_h"
      ]
    },
    {
      "cell_type": "code",
      "execution_count": null,
      "metadata": {
        "id": "yx5qqGwwsQ7T"
      },
      "outputs": [],
      "source": [
        "import scipy\n",
        "\n",
        "U, s, VT = scipy.linalg.svd(A_h)"
      ]
    },
    {
      "cell_type": "code",
      "execution_count": null,
      "metadata": {
        "colab": {
          "base_uri": "https://localhost:8080/"
        },
        "id": "kgli4i3FsqV7",
        "outputId": "8142d9a6-05d2-439e-fce6-629b7719787c"
      },
      "outputs": [
        {
          "output_type": "execute_result",
          "data": {
            "text/plain": [
              "array([[-0.28624663, -0.35272096, -0.89087081],\n",
              "       [-0.7027544 , -0.55472836,  0.4454354 ],\n",
              "       [-0.65130571,  0.75356776, -0.08908708]])"
            ]
          },
          "metadata": {},
          "execution_count": 6
        }
      ],
      "source": [
        "U"
      ]
    },
    {
      "cell_type": "code",
      "execution_count": null,
      "metadata": {
        "colab": {
          "base_uri": "https://localhost:8080/"
        },
        "id": "sa8lUw6wuIGM",
        "outputId": "cda9b399-cff7-4a8f-828c-bc646f60e4dc"
      },
      "outputs": [
        {
          "output_type": "execute_result",
          "data": {
            "text/plain": [
              "array([6.58653021, 3.40846297])"
            ]
          },
          "metadata": {},
          "execution_count": 7
        }
      ],
      "source": [
        "s"
      ]
    },
    {
      "cell_type": "code",
      "execution_count": null,
      "metadata": {
        "colab": {
          "base_uri": "https://localhost:8080/"
        },
        "id": "Bcs2Uui1uJfS",
        "outputId": "b38b33a7-d25d-46d8-9d0d-d6ff426cfb51"
      },
      "outputs": [
        {
          "output_type": "execute_result",
          "data": {
            "text/plain": [
              "array([[-0.85796894, -0.51370156],\n",
              "       [ 0.51370156, -0.85796894]])"
            ]
          },
          "metadata": {},
          "execution_count": 8
        }
      ],
      "source": [
        "VT"
      ]
    },
    {
      "cell_type": "code",
      "execution_count": null,
      "metadata": {
        "colab": {
          "base_uri": "https://localhost:8080/"
        },
        "id": "mLSCcvWHuS6p",
        "outputId": "5a12eb5f-95d3-4d86-ac7e-1f489ddd4e2b"
      },
      "outputs": [
        {
          "output_type": "execute_result",
          "data": {
            "text/plain": [
              "array([[ 1.00000000e+00,  2.00000000e+00],\n",
              "       [ 3.00000000e+00,  4.00000000e+00],\n",
              "       [ 5.00000000e+00, -1.40621636e-16]])"
            ]
          },
          "metadata": {},
          "execution_count": 9
        }
      ],
      "source": [
        "Sigma = np.zeros((A.shape[0], A.shape[1]))\n",
        "# populate Sigma with n x n diagonal matrix\n",
        "Sigma[:A.shape[1], :A.shape[1]] = np.diag(s)\n",
        "# reconstruct matrix\n",
        "U.dot(Sigma.dot(VT))"
      ]
    },
    {
      "cell_type": "markdown",
      "metadata": {
        "id": "YAzbRI0csP8v"
      },
      "source": [
        "si nos fijamos en detalle veremos que no es exactamente cero lo que devuelve en el valor faltante si no que lo aproxima al valor lógico a obtener como el producto de las dos matrices de representaciones de usuarios y películas. Este es un caso sencillo pero este es el efecto que buscamos a la hora de separar la matriz en componentes, encontrar las mejores representaciones de nuestros usuarios y películas mediante [espacios latentes](https://en.wikipedia.org/wiki/Latent_space) y poder así reconstruir una matriz confiable de puntuaciones.\n",
        "\n",
        "Aquellos que queráis ahondar en como funciona este proceso podéis recurrir a este [tutorial del MIT](http://web.mit.edu/be.400/www/SVD/Singular_Value_Decomposition.htm) que os guiará en el proceso paso a paso. Nosotros nos beneficiaremos del trabajo previamente realizado por otros de forma que podamos explotar las librerías existentes. Un recurso muy válido en este sentido será la librería [Surprise](http://surpriselib.com/)."
      ]
    },
    {
      "cell_type": "markdown",
      "metadata": {
        "id": "97FXyoQmedu1"
      },
      "source": [
        "## Surprise"
      ]
    },
    {
      "cell_type": "code",
      "execution_count": null,
      "metadata": {
        "colab": {
          "base_uri": "https://localhost:8080/"
        },
        "id": "17BCUoO05NwW",
        "outputId": "f1ef51bf-a922-49a9-e2f5-687d1f8ea8e4"
      },
      "outputs": [
        {
          "output_type": "stream",
          "name": "stdout",
          "text": [
            "Looking in indexes: https://pypi.org/simple, https://us-python.pkg.dev/colab-wheels/public/simple/\n",
            "Collecting surprise\n",
            "  Downloading surprise-0.1-py2.py3-none-any.whl (1.8 kB)\n",
            "Collecting scikit-surprise\n",
            "  Downloading scikit-surprise-1.1.1.tar.gz (11.8 MB)\n",
            "\u001b[K     |████████████████████████████████| 11.8 MB 6.5 MB/s \n",
            "\u001b[?25hRequirement already satisfied: joblib>=0.11 in /usr/local/lib/python3.7/dist-packages (from scikit-surprise->surprise) (1.1.0)\n",
            "Requirement already satisfied: numpy>=1.11.2 in /usr/local/lib/python3.7/dist-packages (from scikit-surprise->surprise) (1.21.6)\n",
            "Requirement already satisfied: scipy>=1.0.0 in /usr/local/lib/python3.7/dist-packages (from scikit-surprise->surprise) (1.4.1)\n",
            "Requirement already satisfied: six>=1.10.0 in /usr/local/lib/python3.7/dist-packages (from scikit-surprise->surprise) (1.15.0)\n",
            "Building wheels for collected packages: scikit-surprise\n",
            "  Building wheel for scikit-surprise (setup.py) ... \u001b[?25l\u001b[?25hdone\n",
            "  Created wheel for scikit-surprise: filename=scikit_surprise-1.1.1-cp37-cp37m-linux_x86_64.whl size=1633695 sha256=251ddb50f7811f2a1c41f6ebc1ce65424cd9d293a2f57ff853fe6a5145aca58f\n",
            "  Stored in directory: /root/.cache/pip/wheels/76/44/74/b498c42be47b2406bd27994e16c5188e337c657025ab400c1c\n",
            "Successfully built scikit-surprise\n",
            "Installing collected packages: scikit-surprise, surprise\n",
            "Successfully installed scikit-surprise-1.1.1 surprise-0.1\n"
          ]
        }
      ],
      "source": [
        "!pip install surprise"
      ]
    },
    {
      "cell_type": "code",
      "execution_count": null,
      "metadata": {
        "id": "zoSaLWdD7mZH"
      },
      "outputs": [],
      "source": [
        "from surprise import Reader\n",
        "from surprise import Dataset\n",
        "\n",
        "# Definimos un reader para indicar la escala de los ratings\n",
        "reader = Reader(rating_scale=(1, 5))\n",
        "\n",
        "# Y damos formato a los datos tal y como la librería los espera\n",
        "df = ratings[['user_id', 'movie_id', 'rating']]\n",
        "df = df.rename(columns={\"rating\": \"raw_ratings\"})\n",
        "data = Dataset.load_from_df(df[['user_id', 'movie_id', 'raw_ratings']], reader)"
      ]
    },
    {
      "cell_type": "markdown",
      "metadata": {
        "id": "5RPi3Wi770Ot"
      },
      "source": [
        "Podemos de forma sencilla gracias a la librería Surprise importar, por ejemplo, nuestro anterior ejemplo basado en memoria donde emplearemos modelos como el de los vecinos cercanos. Podremos variar la métrica de similitud entre varias de [las disponibles y más comunes](https://surprise.readthedocs.io/en/stable/similarities.html#module-surprise.similarities).\n",
        "\n",
        "En nuestro caso, y por variar, emplearemos la correlación de [Pearson](https://surprise.readthedocs.io/en/stable/similarities.html#surprise.similarities.pearson)."
      ]
    },
    {
      "cell_type": "code",
      "execution_count": null,
      "metadata": {
        "colab": {
          "base_uri": "https://localhost:8080/"
        },
        "id": "FwSDPK-o7qLf",
        "outputId": "83101f1c-10f6-45ea-b091-82bef7778463"
      },
      "outputs": [
        {
          "output_type": "stream",
          "name": "stdout",
          "text": [
            "Estimating biases using als...\n",
            "Computing the pearson_baseline similarity matrix...\n",
            "Done computing similarity matrix.\n"
          ]
        }
      ],
      "source": [
        "from surprise import KNNBasic\n",
        "\n",
        "# Indicamos como opción de similitud la correlación de pearson\n",
        "sim_options = {'name': 'pearson_baseline'}\n",
        "algo = KNNBasic(sim_options=sim_options)\n",
        "\n",
        "# Y entrenamos nuestro modelo\n",
        "model = algo.fit(data.build_full_trainset())"
      ]
    },
    {
      "cell_type": "code",
      "execution_count": null,
      "metadata": {
        "id": "JTQxJi4D8J2g"
      },
      "outputs": [],
      "source": [
        "knn_pred = model.predict(uid=195, iid=55)"
      ]
    },
    {
      "cell_type": "markdown",
      "metadata": {
        "id": "llSShLub8OBY"
      },
      "source": [
        "Disponemos de multitud de modelos, entre ellos [SVD](https://surprise.readthedocs.io/en/stable/matrix_factorization.html#surprise.prediction_algorithms.matrix_factorization.SVD). En este caso además emplearemos técnicas de validación cruzada para poder así conocer el nivel de precisión de nuestro modelo."
      ]
    },
    {
      "cell_type": "markdown",
      "metadata": {
        "id": "qPESCtUVfoJL"
      },
      "source": [
        "### Ejercicio"
      ]
    },
    {
      "cell_type": "code",
      "execution_count": null,
      "metadata": {
        "colab": {
          "base_uri": "https://localhost:8080/"
        },
        "id": "kgjEirPC5ZQb",
        "outputId": "084dbe3c-95ed-48d9-cd1b-146ae45ad02e"
      },
      "outputs": [
        {
          "output_type": "stream",
          "name": "stdout",
          "text": [
            "Evaluating RMSE, MAE of algorithm SVD on 5 split(s).\n",
            "\n",
            "                  Fold 1  Fold 2  Fold 3  Fold 4  Fold 5  Mean    Std     \n",
            "RMSE (testset)    0.9482  0.9292  0.9311  0.9398  0.9363  0.9369  0.0068  \n",
            "MAE (testset)     0.7446  0.7330  0.7325  0.7418  0.7384  0.7380  0.0048  \n",
            "Fit time          7.12    10.07   9.02    5.46    4.07    7.15    2.21    \n",
            "Test time         0.22    0.47    0.23    0.19    0.21    0.26    0.10    \n"
          ]
        }
      ],
      "source": [
        "from surprise import SVD\n",
        "from surprise.model_selection import cross_validate\n",
        "\n",
        "\"\"\"\n",
        "Ejercicio: Explorar en la documentación de Surprise para encontrar como se deben indicar que\n",
        "el algorimo a ejecutar es SVD\n",
        "\"\"\"\n",
        "\n",
        "# Importamos nuestro algoritmo\n",
        "algo =  SVD()\n",
        "\n",
        "# Y utilizaremos una validación cruzada de 5-plieges (5-fold)\n",
        "validation = cross_validate(algo, data, measures=['RMSE', 'MAE'], cv=5, verbose=True)"
      ]
    },
    {
      "cell_type": "markdown",
      "metadata": {
        "id": "YRdynRRH9jHu"
      },
      "source": [
        "Es importante que garanticemos un rendimiento previo a entrenar nuestro modelo de cara a entender cual es la precisión esperada que podemos obtener en nuestro sistema."
      ]
    },
    {
      "cell_type": "code",
      "execution_count": null,
      "metadata": {
        "id": "khVqZJWR9c4p"
      },
      "outputs": [],
      "source": [
        "model = algo.fit(data.build_full_trainset())"
      ]
    },
    {
      "cell_type": "markdown",
      "metadata": {
        "id": "nTF4xPRD-pXO"
      },
      "source": [
        "Gracias a este modelo podemos predecir los rating que establecería un usuario sobre nuestro conjunto de datos. Por ejemplo, el usuario 196 sobre la película 55."
      ]
    },
    {
      "cell_type": "code",
      "execution_count": null,
      "metadata": {
        "id": "PiQ4eFmH8yXn"
      },
      "outputs": [],
      "source": [
        "svd_pred = model.predict(uid=195, iid=55)"
      ]
    },
    {
      "cell_type": "code",
      "execution_count": null,
      "metadata": {
        "colab": {
          "base_uri": "https://localhost:8080/"
        },
        "id": "Z4w6yrKIgJOr",
        "outputId": "99ad0888-d626-4d66-a8f1-da70d6a785cb"
      },
      "outputs": [
        {
          "output_type": "stream",
          "name": "stdout",
          "text": [
            "KNN rating prediction for movie 55 and user 195: 3.7314194450611016\n",
            "SVD rating prediction for movie 55 and user 195: 3.5779895940549613\n"
          ]
        }
      ],
      "source": [
        "print(f'KNN rating prediction for movie 55 and user 195: {knn_pred.est}')\n",
        "print(f'SVD rating prediction for movie 55 and user 195: {svd_pred.est}')"
      ]
    },
    {
      "cell_type": "markdown",
      "metadata": {
        "id": "0HKGh_Lb_Dxd"
      },
      "source": [
        "Vemos que la valoración difiere ligeramente. Por ello es importante cerciorarse de la bondad del modelo así como de disponer de suficiente disparidad a la hora de emplear sistemas híbridos como veremos en la última sección de este *notebook*. Podéis probar a variar las opciones del algoritmo a emplear y contrastar si existen diferencias entre las distintas opciones en la librería Surprise para [Factorización de matrices](https://surprise.readthedocs.io/en/stable/matrix_factorization.html#)\n",
        "\n",
        "A continuación emplearemos estos métodos para recomendar los ítems con mejor valoración potencial de las no vistas por el usuario sujeto de la recomendación. Nuestro sistema de generación por tanto será las películas no vistas y el sistema de puntuación será la predicción del modelo entrenado SVD."
      ]
    },
    {
      "cell_type": "markdown",
      "metadata": {
        "id": "eEzQGG7BfjX-"
      },
      "source": [
        "### Ejercicio"
      ]
    },
    {
      "cell_type": "markdown",
      "source": [
        "Tengo duda si esta bien con nan_cols[1]"
      ],
      "metadata": {
        "id": "j9ql0u3SDAI9"
      }
    },
    {
      "cell_type": "code",
      "execution_count": null,
      "metadata": {
        "id": "qKl-pv_P_LDT"
      },
      "outputs": [],
      "source": [
        "def svd_recommender(user_id, umbral=4.5):\n",
        "\n",
        "  \"\"\"\n",
        "  Ejercicio: Buscaremos los elementos no consumidos por el usuario \n",
        "  y filtraremos aquellos por encima del umbral como a recomendar usando el modelo\n",
        "  SVD previamente entrenado\n",
        "  \"\"\"\n",
        "  # Items sin puntuación (no vistos o evaluados)\n",
        "  nan_cols = [i for i in user_item_m.columns if np.isnan(user_item_m.loc[user_id][i])]\n",
        "\n",
        "  # Generamos una valoración para cada uno de ellos\n",
        "  candidatos =model.predict(uid=user_id, iid=1)\n",
        "\n",
        "  rec_df = movies[movies[\"movie_id\"].isin(candidatos)][[\"movie_id\",\"title\"]]\n",
        "  return rec_df\n"
      ]
    },
    {
      "cell_type": "code",
      "execution_count": null,
      "metadata": {
        "id": "ikMKCr2PCrlt",
        "colab": {
          "base_uri": "https://localhost:8080/"
        },
        "outputId": "3d8b0d02-8f5f-4110-ee59-124613485fc2"
      },
      "outputs": [
        {
          "output_type": "execute_result",
          "data": {
            "text/plain": [
              "   movie_id             title\n",
              "0         1  Toy Story (1995)\n",
              "4         5    Copycat (1995)"
            ],
            "text/html": [
              "\n",
              "  <div id=\"df-2cab6143-4a9b-45ab-a0f1-1e23f636d319\">\n",
              "    <div class=\"colab-df-container\">\n",
              "      <div>\n",
              "<style scoped>\n",
              "    .dataframe tbody tr th:only-of-type {\n",
              "        vertical-align: middle;\n",
              "    }\n",
              "\n",
              "    .dataframe tbody tr th {\n",
              "        vertical-align: top;\n",
              "    }\n",
              "\n",
              "    .dataframe thead th {\n",
              "        text-align: right;\n",
              "    }\n",
              "</style>\n",
              "<table border=\"1\" class=\"dataframe\">\n",
              "  <thead>\n",
              "    <tr style=\"text-align: right;\">\n",
              "      <th></th>\n",
              "      <th>movie_id</th>\n",
              "      <th>title</th>\n",
              "    </tr>\n",
              "  </thead>\n",
              "  <tbody>\n",
              "    <tr>\n",
              "      <th>0</th>\n",
              "      <td>1</td>\n",
              "      <td>Toy Story (1995)</td>\n",
              "    </tr>\n",
              "    <tr>\n",
              "      <th>4</th>\n",
              "      <td>5</td>\n",
              "      <td>Copycat (1995)</td>\n",
              "    </tr>\n",
              "  </tbody>\n",
              "</table>\n",
              "</div>\n",
              "      <button class=\"colab-df-convert\" onclick=\"convertToInteractive('df-2cab6143-4a9b-45ab-a0f1-1e23f636d319')\"\n",
              "              title=\"Convert this dataframe to an interactive table.\"\n",
              "              style=\"display:none;\">\n",
              "        \n",
              "  <svg xmlns=\"http://www.w3.org/2000/svg\" height=\"24px\"viewBox=\"0 0 24 24\"\n",
              "       width=\"24px\">\n",
              "    <path d=\"M0 0h24v24H0V0z\" fill=\"none\"/>\n",
              "    <path d=\"M18.56 5.44l.94 2.06.94-2.06 2.06-.94-2.06-.94-.94-2.06-.94 2.06-2.06.94zm-11 1L8.5 8.5l.94-2.06 2.06-.94-2.06-.94L8.5 2.5l-.94 2.06-2.06.94zm10 10l.94 2.06.94-2.06 2.06-.94-2.06-.94-.94-2.06-.94 2.06-2.06.94z\"/><path d=\"M17.41 7.96l-1.37-1.37c-.4-.4-.92-.59-1.43-.59-.52 0-1.04.2-1.43.59L10.3 9.45l-7.72 7.72c-.78.78-.78 2.05 0 2.83L4 21.41c.39.39.9.59 1.41.59.51 0 1.02-.2 1.41-.59l7.78-7.78 2.81-2.81c.8-.78.8-2.07 0-2.86zM5.41 20L4 18.59l7.72-7.72 1.47 1.35L5.41 20z\"/>\n",
              "  </svg>\n",
              "      </button>\n",
              "      \n",
              "  <style>\n",
              "    .colab-df-container {\n",
              "      display:flex;\n",
              "      flex-wrap:wrap;\n",
              "      gap: 12px;\n",
              "    }\n",
              "\n",
              "    .colab-df-convert {\n",
              "      background-color: #E8F0FE;\n",
              "      border: none;\n",
              "      border-radius: 50%;\n",
              "      cursor: pointer;\n",
              "      display: none;\n",
              "      fill: #1967D2;\n",
              "      height: 32px;\n",
              "      padding: 0 0 0 0;\n",
              "      width: 32px;\n",
              "    }\n",
              "\n",
              "    .colab-df-convert:hover {\n",
              "      background-color: #E2EBFA;\n",
              "      box-shadow: 0px 1px 2px rgba(60, 64, 67, 0.3), 0px 1px 3px 1px rgba(60, 64, 67, 0.15);\n",
              "      fill: #174EA6;\n",
              "    }\n",
              "\n",
              "    [theme=dark] .colab-df-convert {\n",
              "      background-color: #3B4455;\n",
              "      fill: #D2E3FC;\n",
              "    }\n",
              "\n",
              "    [theme=dark] .colab-df-convert:hover {\n",
              "      background-color: #434B5C;\n",
              "      box-shadow: 0px 1px 3px 1px rgba(0, 0, 0, 0.15);\n",
              "      filter: drop-shadow(0px 1px 2px rgba(0, 0, 0, 0.3));\n",
              "      fill: #FFFFFF;\n",
              "    }\n",
              "  </style>\n",
              "\n",
              "      <script>\n",
              "        const buttonEl =\n",
              "          document.querySelector('#df-2cab6143-4a9b-45ab-a0f1-1e23f636d319 button.colab-df-convert');\n",
              "        buttonEl.style.display =\n",
              "          google.colab.kernel.accessAllowed ? 'block' : 'none';\n",
              "\n",
              "        async function convertToInteractive(key) {\n",
              "          const element = document.querySelector('#df-2cab6143-4a9b-45ab-a0f1-1e23f636d319');\n",
              "          const dataTable =\n",
              "            await google.colab.kernel.invokeFunction('convertToInteractive',\n",
              "                                                     [key], {});\n",
              "          if (!dataTable) return;\n",
              "\n",
              "          const docLinkHtml = 'Like what you see? Visit the ' +\n",
              "            '<a target=\"_blank\" href=https://colab.research.google.com/notebooks/data_table.ipynb>data table notebook</a>'\n",
              "            + ' to learn more about interactive tables.';\n",
              "          element.innerHTML = '';\n",
              "          dataTable['output_type'] = 'display_data';\n",
              "          await google.colab.output.renderOutput(dataTable, element);\n",
              "          const docLink = document.createElement('div');\n",
              "          docLink.innerHTML = docLinkHtml;\n",
              "          element.appendChild(docLink);\n",
              "        }\n",
              "      </script>\n",
              "    </div>\n",
              "  </div>\n",
              "  "
            ]
          },
          "metadata": {},
          "execution_count": 19
        }
      ],
      "source": [
        "svd_recommender(5, umbral=4.2)"
      ]
    },
    {
      "cell_type": "code",
      "execution_count": null,
      "metadata": {
        "id": "JwrzGxLsDa2O",
        "colab": {
          "base_uri": "https://localhost:8080/"
        },
        "outputId": "813d646a-7874-4a6d-eedb-2290664b2386"
      },
      "outputs": [
        {
          "output_type": "execute_result",
          "data": {
            "text/plain": [
              "     movie_id                      title\n",
              "0           1           Toy Story (1995)\n",
              "195       196  Dead Poets Society (1989)"
            ],
            "text/html": [
              "\n",
              "  <div id=\"df-bd01cc18-e60a-4dc2-a584-186b10fb432a\">\n",
              "    <div class=\"colab-df-container\">\n",
              "      <div>\n",
              "<style scoped>\n",
              "    .dataframe tbody tr th:only-of-type {\n",
              "        vertical-align: middle;\n",
              "    }\n",
              "\n",
              "    .dataframe tbody tr th {\n",
              "        vertical-align: top;\n",
              "    }\n",
              "\n",
              "    .dataframe thead th {\n",
              "        text-align: right;\n",
              "    }\n",
              "</style>\n",
              "<table border=\"1\" class=\"dataframe\">\n",
              "  <thead>\n",
              "    <tr style=\"text-align: right;\">\n",
              "      <th></th>\n",
              "      <th>movie_id</th>\n",
              "      <th>title</th>\n",
              "    </tr>\n",
              "  </thead>\n",
              "  <tbody>\n",
              "    <tr>\n",
              "      <th>0</th>\n",
              "      <td>1</td>\n",
              "      <td>Toy Story (1995)</td>\n",
              "    </tr>\n",
              "    <tr>\n",
              "      <th>195</th>\n",
              "      <td>196</td>\n",
              "      <td>Dead Poets Society (1989)</td>\n",
              "    </tr>\n",
              "  </tbody>\n",
              "</table>\n",
              "</div>\n",
              "      <button class=\"colab-df-convert\" onclick=\"convertToInteractive('df-bd01cc18-e60a-4dc2-a584-186b10fb432a')\"\n",
              "              title=\"Convert this dataframe to an interactive table.\"\n",
              "              style=\"display:none;\">\n",
              "        \n",
              "  <svg xmlns=\"http://www.w3.org/2000/svg\" height=\"24px\"viewBox=\"0 0 24 24\"\n",
              "       width=\"24px\">\n",
              "    <path d=\"M0 0h24v24H0V0z\" fill=\"none\"/>\n",
              "    <path d=\"M18.56 5.44l.94 2.06.94-2.06 2.06-.94-2.06-.94-.94-2.06-.94 2.06-2.06.94zm-11 1L8.5 8.5l.94-2.06 2.06-.94-2.06-.94L8.5 2.5l-.94 2.06-2.06.94zm10 10l.94 2.06.94-2.06 2.06-.94-2.06-.94-.94-2.06-.94 2.06-2.06.94z\"/><path d=\"M17.41 7.96l-1.37-1.37c-.4-.4-.92-.59-1.43-.59-.52 0-1.04.2-1.43.59L10.3 9.45l-7.72 7.72c-.78.78-.78 2.05 0 2.83L4 21.41c.39.39.9.59 1.41.59.51 0 1.02-.2 1.41-.59l7.78-7.78 2.81-2.81c.8-.78.8-2.07 0-2.86zM5.41 20L4 18.59l7.72-7.72 1.47 1.35L5.41 20z\"/>\n",
              "  </svg>\n",
              "      </button>\n",
              "      \n",
              "  <style>\n",
              "    .colab-df-container {\n",
              "      display:flex;\n",
              "      flex-wrap:wrap;\n",
              "      gap: 12px;\n",
              "    }\n",
              "\n",
              "    .colab-df-convert {\n",
              "      background-color: #E8F0FE;\n",
              "      border: none;\n",
              "      border-radius: 50%;\n",
              "      cursor: pointer;\n",
              "      display: none;\n",
              "      fill: #1967D2;\n",
              "      height: 32px;\n",
              "      padding: 0 0 0 0;\n",
              "      width: 32px;\n",
              "    }\n",
              "\n",
              "    .colab-df-convert:hover {\n",
              "      background-color: #E2EBFA;\n",
              "      box-shadow: 0px 1px 2px rgba(60, 64, 67, 0.3), 0px 1px 3px 1px rgba(60, 64, 67, 0.15);\n",
              "      fill: #174EA6;\n",
              "    }\n",
              "\n",
              "    [theme=dark] .colab-df-convert {\n",
              "      background-color: #3B4455;\n",
              "      fill: #D2E3FC;\n",
              "    }\n",
              "\n",
              "    [theme=dark] .colab-df-convert:hover {\n",
              "      background-color: #434B5C;\n",
              "      box-shadow: 0px 1px 3px 1px rgba(0, 0, 0, 0.15);\n",
              "      filter: drop-shadow(0px 1px 2px rgba(0, 0, 0, 0.3));\n",
              "      fill: #FFFFFF;\n",
              "    }\n",
              "  </style>\n",
              "\n",
              "      <script>\n",
              "        const buttonEl =\n",
              "          document.querySelector('#df-bd01cc18-e60a-4dc2-a584-186b10fb432a button.colab-df-convert');\n",
              "        buttonEl.style.display =\n",
              "          google.colab.kernel.accessAllowed ? 'block' : 'none';\n",
              "\n",
              "        async function convertToInteractive(key) {\n",
              "          const element = document.querySelector('#df-bd01cc18-e60a-4dc2-a584-186b10fb432a');\n",
              "          const dataTable =\n",
              "            await google.colab.kernel.invokeFunction('convertToInteractive',\n",
              "                                                     [key], {});\n",
              "          if (!dataTable) return;\n",
              "\n",
              "          const docLinkHtml = 'Like what you see? Visit the ' +\n",
              "            '<a target=\"_blank\" href=https://colab.research.google.com/notebooks/data_table.ipynb>data table notebook</a>'\n",
              "            + ' to learn more about interactive tables.';\n",
              "          element.innerHTML = '';\n",
              "          dataTable['output_type'] = 'display_data';\n",
              "          await google.colab.output.renderOutput(dataTable, element);\n",
              "          const docLink = document.createElement('div');\n",
              "          docLink.innerHTML = docLinkHtml;\n",
              "          element.appendChild(docLink);\n",
              "        }\n",
              "      </script>\n",
              "    </div>\n",
              "  </div>\n",
              "  "
            ]
          },
          "metadata": {},
          "execution_count": 20
        }
      ],
      "source": [
        "svd_recommender(196, umbral=4.4)"
      ]
    },
    {
      "cell_type": "markdown",
      "metadata": {
        "id": "4-HxYPnYD2W5"
      },
      "source": [
        "Estos ratings son calculados en base a la representación de nuestro usuario y nuestros items con lo que cierta infromación relativa al contexto puede que sea obviada y aunque estadísticamente tenga todo el sentido del mundo, los generos más visitados, actores preferidos,... son cuestiones que puede interesar incluir en nuestros recomendadores.\n",
        "\n",
        "Por ese motivo se ha puesto mucho esfuerzo en la codificación de la información que caracteriza a los usuarios y las películas en los sistemas más recientes. Además, con el auge de las redes neuronales profundas, podemos beneficiarnos de los desarrollos recientes para englobar todo nuestro conocimiento en las distintas capas que compongan nuestra red."
      ]
    },
    {
      "cell_type": "markdown",
      "metadata": {
        "id": "c6PW16MRtobT"
      },
      "source": [
        "# Modelos basados en redes neuronales\n",
        "\n",
        "Sin duda las redes neuronales han supuesto una revolución en el aprendizaje automático y la capacidad de abstracción de los sistemas. Siendo Tensorflow uno de los frameworks más empleados en este ámbito, se hicieron eco de est uso y por ello disponemos de recursos para poder de forma sencilla emplear estos recursos en nuestros sistemas de recomendación gracias a [TensorFlow Recommenders](https://www.tensorflow.org/recommenders).\n",
        "\n",
        "Estos modelados pueden resultar complejos y parten de un conocimiento técnico importante por lo que, para simplificar nuestro ejerccio emplearemos una aproximación basada en Keras pero aquellos que os dispongáis de los conocimientos necesarios no dudéis en explorar la vía de Tensorflow."
      ]
    },
    {
      "cell_type": "markdown",
      "metadata": {
        "id": "RtZQTie7vZ0u"
      },
      "source": [
        "Estas técnicas se basan en la construcción de modelos de abstracción de usuarios basado en redes neuronales que convergen las características base de los usuarios y los items a una representación (o embeding). Esto nos permite construir una reducción en la complejidad de los usuarios e items de forma que para conjuntos muy voluminosos de datos únicamente con su representación podremos generar un número acotado de muestras entre las que poder realizar el ejercicio de recomendación manteniendo la confianza en los resultados.\n",
        "\n",
        "![twotower](https://1.bp.blogspot.com/-ww8cKT3nIb8/X2pdWAWWNmI/AAAAAAAADl8/pkeFRxizkXYbDGbOcaAnZkorjEuqtrabgCLcBGAsYHQ/s0/TF%2BRecommenders%2B06.gif)"
      ]
    },
    {
      "cell_type": "markdown",
      "metadata": {
        "id": "0CwP4ecqFfQY"
      },
      "source": [
        "El primer ejercicio será el de disponer toda la información necesaria para que la red pueda ser entrenada. Además separaremos en conjunto de entrenamiento (90%) y conjunto de validación (10%) nuestro conjunto de datos."
      ]
    },
    {
      "cell_type": "code",
      "execution_count": null,
      "metadata": {
        "id": "EBsTwUEm-Uk8"
      },
      "outputs": [],
      "source": [
        "# Copiamos nuestro conjunto de datos de puntuaciones\n",
        "df = ratings\n",
        "\n",
        "# Codificamos los identificadores de usuarios\n",
        "user_ids = df[\"user_id\"].unique().tolist()\n",
        "user2user_encoded = {x: i for i, x in enumerate(user_ids)}\n",
        "userencoded2user = {i: x for i, x in enumerate(user_ids)}\n",
        "num_users = len(ratings[\"user_id\"].unique())\n",
        "\n",
        "# Codificamos los identificadores de los items\n",
        "movie_ids = df[\"movie_id\"].unique().tolist()\n",
        "movie2movie_encoded = {x: i for i, x in enumerate(movie_ids)}\n",
        "movie_encoded2movie = {i: x for i, x in enumerate(movie_ids)}\n",
        "num_movies = len(ratings[\"movie_id\"].unique())\n",
        "\n",
        "# Y los incorporamos al conjunto de datos\n",
        "df[\"user\"] = df[\"user_id\"].map(user2user_encoded)\n",
        "df[\"movie\"] = df[\"movie_id\"].map(movie2movie_encoded)"
      ]
    },
    {
      "cell_type": "code",
      "execution_count": null,
      "metadata": {
        "id": "rNEX1ugzFlpH"
      },
      "outputs": [],
      "source": [
        "# Rango de valores para los ratings\n",
        "min_rating = 1.0\n",
        "max_rating = 5.0\n",
        "\n",
        "# Datos de entrada para nuestra red\n",
        "x = df[[\"user\", \"movie\"]].values\n",
        "\n",
        "# Normalizamoz los ratings entre 0 y 1\n",
        "y = df[\"rating\"].apply(lambda x: (x - min_rating) / (max_rating - min_rating)).values\n",
        "\n",
        "# Realizamos la separación entre entrenamiento y validación\n",
        "idx = int(0.9 * df.shape[0])\n",
        "x_train, x_val, y_train, y_val = (\n",
        "    x[:idx],\n",
        "    x[idx:],\n",
        "    y[:idx],\n",
        "    y[idx:],\n",
        ")"
      ]
    },
    {
      "cell_type": "markdown",
      "metadata": {
        "id": "Thae0nNl-fvL"
      },
      "source": [
        "Con esto podremos plantear nuestra clase base que se encargará de gestionar el modelo y ser invocado durante el proceso de entrenamiento."
      ]
    },
    {
      "cell_type": "code",
      "execution_count": null,
      "metadata": {
        "id": "dt-izPt4zJ83"
      },
      "outputs": [],
      "source": [
        "import tensorflow as tf\n",
        "from tensorflow import keras\n",
        "from tensorflow.keras import layers\n",
        "\n",
        "class RecommenderNet(keras.Model):\n",
        "    \"\"\"\n",
        "    Clase que codifica un modelo tipo como red de recomendación\n",
        "    \"\"\"\n",
        "    def __init__(self, num_users, num_movies, embedding_size=50, **kwargs):\n",
        "        super(RecommenderNet, self).__init__(**kwargs)\n",
        "\n",
        "        # Tamaño de nuestros modelos de representación (embeding)\n",
        "        self.num_users = num_users\n",
        "        self.num_movies = num_movies\n",
        "\n",
        "        # Representación de usuarios\n",
        "        self.embedding_size = embedding_size\n",
        "        self.user_embedding = layers.Embedding(\n",
        "            num_users,\n",
        "            embedding_size,\n",
        "            embeddings_initializer=\"he_normal\",\n",
        "            embeddings_regularizer=keras.regularizers.l2(1e-6),\n",
        "        )\n",
        "        self.user_bias = layers.Embedding(num_users, 1) # Bias\n",
        "\n",
        "        # Representación de ítems\n",
        "        self.movie_embedding = layers.Embedding(\n",
        "            num_movies,\n",
        "            embedding_size,\n",
        "            embeddings_initializer=\"he_normal\",\n",
        "            embeddings_regularizer=keras.regularizers.l2(1e-6),\n",
        "        )\n",
        "        self.movie_bias = layers.Embedding(num_movies, 1) # Bias\n",
        "\n",
        "    # Funcion que se invoca con una entrada tipo\n",
        "    def call(self, inputs):\n",
        "        # Usuario\n",
        "        user_vector = self.user_embedding(inputs[:, 0])\n",
        "        user_bias = self.user_bias(inputs[:, 0])\n",
        "        # Item\n",
        "        movie_vector = self.movie_embedding(inputs[:, 1])\n",
        "        movie_bias = self.movie_bias(inputs[:, 1])\n",
        "\n",
        "        # Vector de entrada para la red (user + item + bias)\n",
        "        dot_user_movie = tf.tensordot(user_vector, movie_vector, 2)\n",
        "        x = dot_user_movie + user_bias + movie_bias\n",
        "\n",
        "        # Aplicamos una función sigmoidea para evaluar el rating (0 a 1.0)\n",
        "        return tf.nn.sigmoid(x)"
      ]
    },
    {
      "cell_type": "markdown",
      "metadata": {
        "id": "vGwenKtuAQCV"
      },
      "source": [
        "Con nuestra estructura neuronal planteada simplemente deberemos instanciar el modelo indicando cual serán las funciones de pérdida (losses) y el optimizador a emplear cuando entrenemos la red.\n",
        "\n",
        "Seleccionaremos [BinaryCrossEntropy](https://keras.io/api/losses/probabilistic_losses/) como función que evaluará la bondad de nuestro modelo; y [Adam](https://keras.io/api/optimizers/adam/) como función de optimizador en nuestro ejercicio pero estos parámetros pueden variarse siempre teniendo en cuenta las características de nuestro problema a resolver."
      ]
    },
    {
      "cell_type": "code",
      "execution_count": null,
      "metadata": {
        "id": "Q0ySwTngIZlF"
      },
      "outputs": [],
      "source": [
        "model = RecommenderNet(num_users, num_movies)\n",
        "model.compile(loss=tf.keras.losses.BinaryCrossentropy(), optimizer=keras.optimizers.Adam(learning_rate=0.001))"
      ]
    },
    {
      "cell_type": "markdown",
      "metadata": {
        "id": "Wsv7tVOyBIvZ"
      },
      "source": [
        "Habiendo definido nuestro modelo, solo resta ajustarlo en base a nuestro conjunto de datos."
      ]
    },
    {
      "cell_type": "code",
      "execution_count": null,
      "metadata": {
        "colab": {
          "base_uri": "https://localhost:8080/"
        },
        "id": "iWyqeIehygJ3",
        "outputId": "4a9d17d3-6d8a-4885-bce7-b1a5c2a3186e"
      },
      "outputs": [
        {
          "output_type": "stream",
          "name": "stdout",
          "text": [
            "Epoch 1/5\n",
            "1407/1407 [==============================] - 4s 2ms/step - loss: 0.6522 - val_loss: 0.6361\n",
            "Epoch 2/5\n",
            "1407/1407 [==============================] - 3s 2ms/step - loss: 0.6273 - val_loss: 0.6276\n",
            "Epoch 3/5\n",
            "1407/1407 [==============================] - 3s 2ms/step - loss: 0.6197 - val_loss: 0.6204\n",
            "Epoch 4/5\n",
            "1407/1407 [==============================] - 3s 2ms/step - loss: 0.6175 - val_loss: 0.6202\n",
            "Epoch 5/5\n",
            "1407/1407 [==============================] - 3s 2ms/step - loss: 0.6161 - val_loss: 0.6173\n"
          ]
        }
      ],
      "source": [
        "batch_size = 64 # Numero de muestras por lote a emplear en el entrenamiento\n",
        "epochs = 5 # Iteraciones sobre el conjunto de datos\n",
        "\n",
        "# Procedemos a entrenar el modelo\n",
        "train_output = model.fit(\n",
        "    x=x_train,\n",
        "    y=y_train,\n",
        "    batch_size=batch_size,\n",
        "    epochs=epochs,\n",
        "    verbose=1,\n",
        "    validation_data=(x_val, y_val),\n",
        ")"
      ]
    },
    {
      "cell_type": "markdown",
      "metadata": {
        "id": "m3CTij5dBnL5"
      },
      "source": [
        "Si todo ha ido bien, deberíamos ver cierta convergencia en el error en base al número de épocas empleado."
      ]
    },
    {
      "cell_type": "code",
      "execution_count": null,
      "metadata": {
        "colab": {
          "base_uri": "https://localhost:8080/",
          "height": 295
        },
        "id": "Tcl0ZWcW0C1n",
        "outputId": "99eacfba-6b5e-484f-ba78-aec1b50ecdd9"
      },
      "outputs": [
        {
          "output_type": "display_data",
          "data": {
            "text/plain": [
              "<Figure size 432x288 with 1 Axes>"
            ],
            "image/png": "[encoded data removed]"
          },
          "metadata": {
            "needs_background": "light"
          }
        }
      ],
      "source": [
        "import matplotlib.pyplot as plt\n",
        "\n",
        "plt.plot(train_output.history[\"loss\"])\n",
        "plt.plot(train_output.history[\"val_loss\"])\n",
        "plt.title(\"Bondad del modelo\")\n",
        "plt.ylabel(\"Pérdida\")\n",
        "plt.xlabel(\"Epoch\")\n",
        "plt.legend([\"Entrenamiento\", \"Validación\"], loc=\"upper left\")\n",
        "plt.show()\n"
      ]
    },
    {
      "cell_type": "markdown",
      "metadata": {
        "id": "nXo6KlEwChWy"
      },
      "source": [
        "Con este modelo es sencillo poder componer una función encargada de obtener las películas no vistas con mejor puntuación para un usuario concreto."
      ]
    },
    {
      "cell_type": "code",
      "execution_count": null,
      "metadata": {
        "id": "X6lAkNXYDrGe"
      },
      "outputs": [],
      "source": [
        "def nn_recommender(user_id, num=10):\n",
        "  \"\"\"\n",
        "  Deberemos tener en cuenta la codificación antes empleada a la hora de entrenar el modelo\n",
        "  \"\"\"\n",
        "  # Peliculas vistas\n",
        "  seen_movies = ratings[ratings[\"user_id\"] == user_id]\n",
        "\n",
        "  # Películas no vistas\n",
        "  not_seen = movies[~movies[\"movie_id\"].isin(seen_movies[\"movie_id\"].values)][\"movie_id\"].tolist()\n",
        "  not_seen = list(set(not_seen).intersection(set(movie2movie_encoded.keys())))\n",
        "  not_seen = [[movie2movie_encoded.get(x)] for x in not_seen]\n",
        "\n",
        "  # User\n",
        "  encoded_id = user2user_encoded.get(user_id)\n",
        "\n",
        "  # Input data para el modelo\n",
        "  input_data  = np.hstack(([[encoded_id]] * len(not_seen), not_seen))\n",
        "  pred_ratings = model.predict(input_data).flatten()\n",
        "\n",
        "  # Top ratings\n",
        "  top_rated = pred_ratings.argsort()[-num:][::-1]\n",
        "\n",
        "  # Decode\n",
        "  movie_id = [movie_encoded2movie.get(not_seen[x][0]) for x in top_rated]\n",
        "\n",
        "  return movies[movies[\"movie_id\"].isin(movie_id)][\"title\"]"
      ]
    },
    {
      "cell_type": "code",
      "execution_count": null,
      "metadata": {
        "colab": {
          "base_uri": "https://localhost:8080/"
        },
        "id": "-SfhVghcXo5E",
        "outputId": "49093921-9473-44ca-c949-105a2404275a"
      },
      "outputs": [
        {
          "output_type": "execute_result",
          "data": {
            "text/plain": [
              "11               Usual Suspects, The (1995)\n",
              "97         Silence of the Lambs, The (1991)\n",
              "126                   Godfather, The (1972)\n",
              "173          Raiders of the Lost Ark (1981)\n",
              "177                     12 Angry Men (1957)\n",
              "186          Godfather: Part II, The (1974)\n",
              "190                          Amadeus (1984)\n",
              "198    Bridge on the River Kwai, The (1957)\n",
              "271                Good Will Hunting (1997)\n",
              "482                       Casablanca (1942)\n",
              "Name: title, dtype: object"
            ]
          },
          "metadata": {},
          "execution_count": 28
        }
      ],
      "source": [
        "nn_recommender(196)"
      ]
    },
    {
      "cell_type": "code",
      "execution_count": null,
      "metadata": {
        "colab": {
          "base_uri": "https://localhost:8080/"
        },
        "id": "0fHNZ_lgXEPV",
        "outputId": "e7ef532b-7a42-465b-b65a-34f8e94a0ad2"
      },
      "outputs": [
        {
          "output_type": "execute_result",
          "data": {
            "text/plain": [
              "63                      Shawshank Redemption, The (1994)\n",
              "284                                Secrets & Lies (1996)\n",
              "301                             L.A. Confidential (1997)\n",
              "312                                       Titanic (1997)\n",
              "317                              Schindler's List (1993)\n",
              "473    Dr. Strangelove or: How I Learned to Stop Worr...\n",
              "478                                       Vertigo (1958)\n",
              "479                            North by Northwest (1959)\n",
              "482                                    Casablanca (1942)\n",
              "602                                   Rear Window (1954)\n",
              "Name: title, dtype: object"
            ]
          },
          "metadata": {},
          "execution_count": 29
        }
      ],
      "source": [
        "nn_recommender(5)"
      ]
    },
    {
      "cell_type": "markdown",
      "metadata": {
        "id": "OMnM0TZvFo4t"
      },
      "source": [
        "Para hacernos eco de los avances en este ámbito es muy recomendable la lectura del artículo [Deep Learning based Recommender System: A Survey and New Perspectives](https://arxiv.org/abs/1707.07435) de *Zhang et al* ya que da una visión amplia sobre las técnicas y avances al respecto de estas nuevas aproximaciones."
      ]
    },
    {
      "cell_type": "markdown",
      "metadata": {
        "id": "bc0_LRnLWI4f"
      },
      "source": [
        "# Modelos basados en árboles\n",
        "\n",
        "Los arboles de decisión han ganado adeptos también en problemas donde la categorización de elementos no es tan continua como desearíamos. Las redes neuronales funcionan muy bien cuando los datos entrentan cierta continuidad pero cuando nos enfrentamos a datos discretos o categóricos los arboles de decisión pueden mostrar una ventaja significativa."
      ]
    },
    {
      "cell_type": "markdown",
      "metadata": {
        "id": "pI4ScSzpU0NY"
      },
      "source": [
        "## Codificación del contexto\n",
        "\n",
        "Probaremos este hecho incluyendo información relativa a la ocupación y sexo de los usuarios de nuestro conjunto de datos de modo que esto ayude a refinar nuestras ponderaciones. Para ello podremos valernos de las funciones [OneHotEncoder](https://scikit-learn.org/stable/modules/generated/sklearn.preprocessing.OneHotEncoder.html?highlight=onehot#sklearn.preprocessing.OneHotEncoder) y [LabelEncoder](https://scikit-learn.org/stable/modules/generated/sklearn.preprocessing.LabelEncoder.html) de *sklearn*."
      ]
    },
    {
      "cell_type": "markdown",
      "metadata": {
        "id": "Kgsk8BSffP4c"
      },
      "source": [
        "### Ejercicio"
      ]
    },
    {
      "cell_type": "code",
      "source": [
        "from sklearn import preprocessing\n",
        "from sklearn.preprocessing import OneHotEncoder\n",
        "\n",
        "\"\"\"\n",
        "Ejercicio: encontrar la forma de codificar la ocupación de nuestros usuarios \n",
        "como columnas on hot encoding y el sexo como un etiquetado\n",
        "\"\"\"\n",
        "\n",
        "# Obtengamos categorías de sexo y occupación para nuestros usuarios\n",
        "occupation_cols = users[\"occupation\"].unique().tolist()\n",
        "ohe = OneHotEncoder()\n",
        "users[occupation_cols] = ohe.fit_transform(users[\"occupation\"].values.reshape(-1,1)).toarray()\n",
        "users['sex'] = ohe.fit_transform(users[\"sex\"].values.reshape(-1,1)).toarray()\n",
        "# Obtengamos nuestro conjunto de datos de entrenamiento\n",
        "x = ratings[['user_id', 'movie_id']]\n",
        "y = ratings['rating']\n",
        "\n",
        "selected_cols = occupation_cols + [\"user_id\", \"age\",\"sex\"]\n",
        "x = x.merge(users[selected_cols], on=[\"user_id\",\"user_id\"]).merge(movies[genre_cols + [\"movie_id\"]], on=[\"movie_id\",\"movie_id\"])\n",
        "x"
      ],
      "metadata": {
        "colab": {
          "base_uri": "https://localhost:8080/"
        },
        "id": "jDhlkE4Z1Zg5",
        "outputId": "7c0022cc-a333-4bd5-947e-42180752a089"
      },
      "execution_count": null,
      "outputs": [
        {
          "output_type": "execute_result",
          "data": {
            "text/plain": [
              "       user_id  movie_id  technician  other  writer  executive  administrator  \\\n",
              "0          196       242         0.0    0.0     0.0        0.0            0.0   \n",
              "1          305       242         0.0    0.0     0.0        0.0            0.0   \n",
              "2            6       242         0.0    0.0     0.0        0.0            0.0   \n",
              "3          234       242         0.0    0.0     0.0        0.0            0.0   \n",
              "4           63       242         0.0    0.0     0.0        0.0            0.0   \n",
              "...        ...       ...         ...    ...     ...        ...            ...   \n",
              "99995      863      1679         0.0    0.0     0.0        0.0            0.0   \n",
              "99996      863      1678         0.0    0.0     0.0        0.0            0.0   \n",
              "99997      863      1680         0.0    0.0     0.0        0.0            0.0   \n",
              "99998      896      1681         0.0    0.0     0.0        0.0            0.0   \n",
              "99999      916      1682         0.0    0.0     0.0        0.0            1.0   \n",
              "\n",
              "       student  lawyer  educator  ...  Fantasy  Film-Noir  Horror  Musical  \\\n",
              "0          0.0     0.0       0.0  ...        0          0       0        0   \n",
              "1          0.0     0.0       0.0  ...        0          0       0        0   \n",
              "2          0.0     1.0       0.0  ...        0          0       0        0   \n",
              "3          0.0     0.0       0.0  ...        0          0       0        0   \n",
              "4          0.0     0.0       0.0  ...        0          0       0        0   \n",
              "...        ...     ...       ...  ...      ...        ...     ...      ...   \n",
              "99995      0.0     0.0       0.0  ...        0          0       0        0   \n",
              "99996      0.0     0.0       0.0  ...        0          0       0        0   \n",
              "99997      0.0     0.0       0.0  ...        0          0       0        0   \n",
              "99998      0.0     0.0       0.0  ...        0          0       0        0   \n",
              "99999      0.0     0.0       0.0  ...        0          0       0        0   \n",
              "\n",
              "       Mystery  Romance  Sci-Fi  Thriller  War  Western  \n",
              "0            0        0       0         0    0        0  \n",
              "1            0        0       0         0    0        0  \n",
              "2            0        0       0         0    0        0  \n",
              "3            0        0       0         0    0        0  \n",
              "4            0        0       0         0    0        0  \n",
              "...        ...      ...     ...       ...  ...      ...  \n",
              "99995        0        1       0         1    0        0  \n",
              "99996        0        0       0         0    0        0  \n",
              "99997        0        1       0         0    0        0  \n",
              "99998        0        0       0         0    0        0  \n",
              "99999        0        0       0         0    0        0  \n",
              "\n",
              "[100000 rows x 44 columns]"
            ],
            "text/html": [
              "\n",
              "  <div id=\"df-00da9a47-7b88-47c1-a516-804fd35edafa\">\n",
              "    <div class=\"colab-df-container\">\n",
              "      <div>\n",
              "<style scoped>\n",
              "    .dataframe tbody tr th:only-of-type {\n",
              "        vertical-align: middle;\n",
              "    }\n",
              "\n",
              "    .dataframe tbody tr th {\n",
              "        vertical-align: top;\n",
              "    }\n",
              "\n",
              "    .dataframe thead th {\n",
              "        text-align: right;\n",
              "    }\n",
              "</style>\n",
              "<table border=\"1\" class=\"dataframe\">\n",
              "  <thead>\n",
              "    <tr style=\"text-align: right;\">\n",
              "      <th></th>\n",
              "      <th>user_id</th>\n",
              "      <th>movie_id</th>\n",
              "      <th>technician</th>\n",
              "      <th>other</th>\n",
              "      <th>writer</th>\n",
              "      <th>executive</th>\n",
              "      <th>administrator</th>\n",
              "      <th>student</th>\n",
              "      <th>lawyer</th>\n",
              "      <th>educator</th>\n",
              "      <th>...</th>\n",
              "      <th>Fantasy</th>\n",
              "      <th>Film-Noir</th>\n",
              "      <th>Horror</th>\n",
              "      <th>Musical</th>\n",
              "      <th>Mystery</th>\n",
              "      <th>Romance</th>\n",
              "      <th>Sci-Fi</th>\n",
              "      <th>Thriller</th>\n",
              "      <th>War</th>\n",
              "      <th>Western</th>\n",
              "    </tr>\n",
              "  </thead>\n",
              "  <tbody>\n",
              "    <tr>\n",
              "      <th>0</th>\n",
              "      <td>196</td>\n",
              "      <td>242</td>\n",
              "      <td>0.0</td>\n",
              "      <td>0.0</td>\n",
              "      <td>0.0</td>\n",
              "      <td>0.0</td>\n",
              "      <td>0.0</td>\n",
              "      <td>0.0</td>\n",
              "      <td>0.0</td>\n",
              "      <td>0.0</td>\n",
              "      <td>...</td>\n",
              "      <td>0</td>\n",
              "      <td>0</td>\n",
              "      <td>0</td>\n",
              "      <td>0</td>\n",
              "      <td>0</td>\n",
              "      <td>0</td>\n",
              "      <td>0</td>\n",
              "      <td>0</td>\n",
              "      <td>0</td>\n",
              "      <td>0</td>\n",
              "    </tr>\n",
              "    <tr>\n",
              "      <th>1</th>\n",
              "      <td>305</td>\n",
              "      <td>242</td>\n",
              "      <td>0.0</td>\n",
              "      <td>0.0</td>\n",
              "      <td>0.0</td>\n",
              "      <td>0.0</td>\n",
              "      <td>0.0</td>\n",
              "      <td>0.0</td>\n",
              "      <td>0.0</td>\n",
              "      <td>0.0</td>\n",
              "      <td>...</td>\n",
              "      <td>0</td>\n",
              "      <td>0</td>\n",
              "      <td>0</td>\n",
              "      <td>0</td>\n",
              "      <td>0</td>\n",
              "      <td>0</td>\n",
              "      <td>0</td>\n",
              "      <td>0</td>\n",
              "      <td>0</td>\n",
              "      <td>0</td>\n",
              "    </tr>\n",
              "    <tr>\n",
              "      <th>2</th>\n",
              "      <td>6</td>\n",
              "      <td>242</td>\n",
              "      <td>0.0</td>\n",
              "      <td>0.0</td>\n",
              "      <td>0.0</td>\n",
              "      <td>0.0</td>\n",
              "      <td>0.0</td>\n",
              "      <td>0.0</td>\n",
              "      <td>1.0</td>\n",
              "      <td>0.0</td>\n",
              "      <td>...</td>\n",
              "      <td>0</td>\n",
              "      <td>0</td>\n",
              "      <td>0</td>\n",
              "      <td>0</td>\n",
              "      <td>0</td>\n",
              "      <td>0</td>\n",
              "      <td>0</td>\n",
              "      <td>0</td>\n",
              "      <td>0</td>\n",
              "      <td>0</td>\n",
              "    </tr>\n",
              "    <tr>\n",
              "      <th>3</th>\n",
              "      <td>234</td>\n",
              "      <td>242</td>\n",
              "      <td>0.0</td>\n",
              "      <td>0.0</td>\n",
              "      <td>0.0</td>\n",
              "      <td>0.0</td>\n",
              "      <td>0.0</td>\n",
              "      <td>0.0</td>\n",
              "      <td>0.0</td>\n",
              "      <td>0.0</td>\n",
              "      <td>...</td>\n",
              "      <td>0</td>\n",
              "      <td>0</td>\n",
              "      <td>0</td>\n",
              "      <td>0</td>\n",
              "      <td>0</td>\n",
              "      <td>0</td>\n",
              "      <td>0</td>\n",
              "      <td>0</td>\n",
              "      <td>0</td>\n",
              "      <td>0</td>\n",
              "    </tr>\n",
              "    <tr>\n",
              "      <th>4</th>\n",
              "      <td>63</td>\n",
              "      <td>242</td>\n",
              "      <td>0.0</td>\n",
              "      <td>0.0</td>\n",
              "      <td>0.0</td>\n",
              "      <td>0.0</td>\n",
              "      <td>0.0</td>\n",
              "      <td>0.0</td>\n",
              "      <td>0.0</td>\n",
              "      <td>0.0</td>\n",
              "      <td>...</td>\n",
              "      <td>0</td>\n",
              "      <td>0</td>\n",
              "      <td>0</td>\n",
              "      <td>0</td>\n",
              "      <td>0</td>\n",
              "      <td>0</td>\n",
              "      <td>0</td>\n",
              "      <td>0</td>\n",
              "      <td>0</td>\n",
              "      <td>0</td>\n",
              "    </tr>\n",
              "    <tr>\n",
              "      <th>...</th>\n",
              "      <td>...</td>\n",
              "      <td>...</td>\n",
              "      <td>...</td>\n",
              "      <td>...</td>\n",
              "      <td>...</td>\n",
              "      <td>...</td>\n",
              "      <td>...</td>\n",
              "      <td>...</td>\n",
              "      <td>...</td>\n",
              "      <td>...</td>\n",
              "      <td>...</td>\n",
              "      <td>...</td>\n",
              "      <td>...</td>\n",
              "      <td>...</td>\n",
              "      <td>...</td>\n",
              "      <td>...</td>\n",
              "      <td>...</td>\n",
              "      <td>...</td>\n",
              "      <td>...</td>\n",
              "      <td>...</td>\n",
              "      <td>...</td>\n",
              "    </tr>\n",
              "    <tr>\n",
              "      <th>99995</th>\n",
              "      <td>863</td>\n",
              "      <td>1679</td>\n",
              "      <td>0.0</td>\n",
              "      <td>0.0</td>\n",
              "      <td>0.0</td>\n",
              "      <td>0.0</td>\n",
              "      <td>0.0</td>\n",
              "      <td>0.0</td>\n",
              "      <td>0.0</td>\n",
              "      <td>0.0</td>\n",
              "      <td>...</td>\n",
              "      <td>0</td>\n",
              "      <td>0</td>\n",
              "      <td>0</td>\n",
              "      <td>0</td>\n",
              "      <td>0</td>\n",
              "      <td>1</td>\n",
              "      <td>0</td>\n",
              "      <td>1</td>\n",
              "      <td>0</td>\n",
              "      <td>0</td>\n",
              "    </tr>\n",
              "    <tr>\n",
              "      <th>99996</th>\n",
              "      <td>863</td>\n",
              "      <td>1678</td>\n",
              "      <td>0.0</td>\n",
              "      <td>0.0</td>\n",
              "      <td>0.0</td>\n",
              "      <td>0.0</td>\n",
              "      <td>0.0</td>\n",
              "      <td>0.0</td>\n",
              "      <td>0.0</td>\n",
              "      <td>0.0</td>\n",
              "      <td>...</td>\n",
              "      <td>0</td>\n",
              "      <td>0</td>\n",
              "      <td>0</td>\n",
              "      <td>0</td>\n",
              "      <td>0</td>\n",
              "      <td>0</td>\n",
              "      <td>0</td>\n",
              "      <td>0</td>\n",
              "      <td>0</td>\n",
              "      <td>0</td>\n",
              "    </tr>\n",
              "    <tr>\n",
              "      <th>99997</th>\n",
              "      <td>863</td>\n",
              "      <td>1680</td>\n",
              "      <td>0.0</td>\n",
              "      <td>0.0</td>\n",
              "      <td>0.0</td>\n",
              "      <td>0.0</td>\n",
              "      <td>0.0</td>\n",
              "      <td>0.0</td>\n",
              "      <td>0.0</td>\n",
              "      <td>0.0</td>\n",
              "      <td>...</td>\n",
              "      <td>0</td>\n",
              "      <td>0</td>\n",
              "      <td>0</td>\n",
              "      <td>0</td>\n",
              "      <td>0</td>\n",
              "      <td>1</td>\n",
              "      <td>0</td>\n",
              "      <td>0</td>\n",
              "      <td>0</td>\n",
              "      <td>0</td>\n",
              "    </tr>\n",
              "    <tr>\n",
              "      <th>99998</th>\n",
              "      <td>896</td>\n",
              "      <td>1681</td>\n",
              "      <td>0.0</td>\n",
              "      <td>0.0</td>\n",
              "      <td>0.0</td>\n",
              "      <td>0.0</td>\n",
              "      <td>0.0</td>\n",
              "      <td>0.0</td>\n",
              "      <td>0.0</td>\n",
              "      <td>0.0</td>\n",
              "      <td>...</td>\n",
              "      <td>0</td>\n",
              "      <td>0</td>\n",
              "      <td>0</td>\n",
              "      <td>0</td>\n",
              "      <td>0</td>\n",
              "      <td>0</td>\n",
              "      <td>0</td>\n",
              "      <td>0</td>\n",
              "      <td>0</td>\n",
              "      <td>0</td>\n",
              "    </tr>\n",
              "    <tr>\n",
              "      <th>99999</th>\n",
              "      <td>916</td>\n",
              "      <td>1682</td>\n",
              "      <td>0.0</td>\n",
              "      <td>0.0</td>\n",
              "      <td>0.0</td>\n",
              "      <td>0.0</td>\n",
              "      <td>1.0</td>\n",
              "      <td>0.0</td>\n",
              "      <td>0.0</td>\n",
              "      <td>0.0</td>\n",
              "      <td>...</td>\n",
              "      <td>0</td>\n",
              "      <td>0</td>\n",
              "      <td>0</td>\n",
              "      <td>0</td>\n",
              "      <td>0</td>\n",
              "      <td>0</td>\n",
              "      <td>0</td>\n",
              "      <td>0</td>\n",
              "      <td>0</td>\n",
              "      <td>0</td>\n",
              "    </tr>\n",
              "  </tbody>\n",
              "</table>\n",
              "<p>100000 rows × 44 columns</p>\n",
              "</div>\n",
              "      <button class=\"colab-df-convert\" onclick=\"convertToInteractive('df-00da9a47-7b88-47c1-a516-804fd35edafa')\"\n",
              "              title=\"Convert this dataframe to an interactive table.\"\n",
              "              style=\"display:none;\">\n",
              "        \n",
              "  <svg xmlns=\"http://www.w3.org/2000/svg\" height=\"24px\"viewBox=\"0 0 24 24\"\n",
              "       width=\"24px\">\n",
              "    <path d=\"M0 0h24v24H0V0z\" fill=\"none\"/>\n",
              "    <path d=\"M18.56 5.44l.94 2.06.94-2.06 2.06-.94-2.06-.94-.94-2.06-.94 2.06-2.06.94zm-11 1L8.5 8.5l.94-2.06 2.06-.94-2.06-.94L8.5 2.5l-.94 2.06-2.06.94zm10 10l.94 2.06.94-2.06 2.06-.94-2.06-.94-.94-2.06-.94 2.06-2.06.94z\"/><path d=\"M17.41 7.96l-1.37-1.37c-.4-.4-.92-.59-1.43-.59-.52 0-1.04.2-1.43.59L10.3 9.45l-7.72 7.72c-.78.78-.78 2.05 0 2.83L4 21.41c.39.39.9.59 1.41.59.51 0 1.02-.2 1.41-.59l7.78-7.78 2.81-2.81c.8-.78.8-2.07 0-2.86zM5.41 20L4 18.59l7.72-7.72 1.47 1.35L5.41 20z\"/>\n",
              "  </svg>\n",
              "      </button>\n",
              "      \n",
              "  <style>\n",
              "    .colab-df-container {\n",
              "      display:flex;\n",
              "      flex-wrap:wrap;\n",
              "      gap: 12px;\n",
              "    }\n",
              "\n",
              "    .colab-df-convert {\n",
              "      background-color: #E8F0FE;\n",
              "      border: none;\n",
              "      border-radius: 50%;\n",
              "      cursor: pointer;\n",
              "      display: none;\n",
              "      fill: #1967D2;\n",
              "      height: 32px;\n",
              "      padding: 0 0 0 0;\n",
              "      width: 32px;\n",
              "    }\n",
              "\n",
              "    .colab-df-convert:hover {\n",
              "      background-color: #E2EBFA;\n",
              "      box-shadow: 0px 1px 2px rgba(60, 64, 67, 0.3), 0px 1px 3px 1px rgba(60, 64, 67, 0.15);\n",
              "      fill: #174EA6;\n",
              "    }\n",
              "\n",
              "    [theme=dark] .colab-df-convert {\n",
              "      background-color: #3B4455;\n",
              "      fill: #D2E3FC;\n",
              "    }\n",
              "\n",
              "    [theme=dark] .colab-df-convert:hover {\n",
              "      background-color: #434B5C;\n",
              "      box-shadow: 0px 1px 3px 1px rgba(0, 0, 0, 0.15);\n",
              "      filter: drop-shadow(0px 1px 2px rgba(0, 0, 0, 0.3));\n",
              "      fill: #FFFFFF;\n",
              "    }\n",
              "  </style>\n",
              "\n",
              "      <script>\n",
              "        const buttonEl =\n",
              "          document.querySelector('#df-00da9a47-7b88-47c1-a516-804fd35edafa button.colab-df-convert');\n",
              "        buttonEl.style.display =\n",
              "          google.colab.kernel.accessAllowed ? 'block' : 'none';\n",
              "\n",
              "        async function convertToInteractive(key) {\n",
              "          const element = document.querySelector('#df-00da9a47-7b88-47c1-a516-804fd35edafa');\n",
              "          const dataTable =\n",
              "            await google.colab.kernel.invokeFunction('convertToInteractive',\n",
              "                                                     [key], {});\n",
              "          if (!dataTable) return;\n",
              "\n",
              "          const docLinkHtml = 'Like what you see? Visit the ' +\n",
              "            '<a target=\"_blank\" href=https://colab.research.google.com/notebooks/data_table.ipynb>data table notebook</a>'\n",
              "            + ' to learn more about interactive tables.';\n",
              "          element.innerHTML = '';\n",
              "          dataTable['output_type'] = 'display_data';\n",
              "          await google.colab.output.renderOutput(dataTable, element);\n",
              "          const docLink = document.createElement('div');\n",
              "          docLink.innerHTML = docLinkHtml;\n",
              "          element.appendChild(docLink);\n",
              "        }\n",
              "      </script>\n",
              "    </div>\n",
              "  </div>\n",
              "  "
            ]
          },
          "metadata": {},
          "execution_count": 30
        }
      ]
    },
    {
      "cell_type": "markdown",
      "metadata": {
        "id": "6y1Was79U6u8"
      },
      "source": [
        "## Modelos ensemble\n",
        "\n",
        "Tal y como vimos para las redes neuronales podemos emplear modelos concretos que exploten de manera distinta la información contextual disponible tanto de los usuarios como de los ítems. Y en este caso emplearemos un modelo ampliamente conocido en el mundo de la ciencia de datos: [XGBoost](https://xgboost.readthedocs.io/en/stable/#).\n",
        "\n",
        "Este modelo se compone de conjuntos de árboles de decisión y podemos emplearlo nuevamente para obtener un rating esperado para aquellos casos en los que los datos no se encuentren disponibles (items no valorados)."
      ]
    },
    {
      "cell_type": "markdown",
      "metadata": {
        "id": "Hv0M-EZ9JtVc"
      },
      "source": [
        "Seleccionaremos el conjunto de datos a emplear en entrenamiento (90%) frente al de validación (10%)."
      ]
    },
    {
      "cell_type": "code",
      "execution_count": null,
      "metadata": {
        "id": "grHpRdgwIOEE"
      },
      "outputs": [],
      "source": [
        "idx = int(0.9 * x.shape[0])\n",
        "x_train, x_val, y_train, y_val = (\n",
        "    x[:idx],\n",
        "    x[idx:],\n",
        "    y[:idx],\n",
        "    y[idx:],\n",
        ")"
      ]
    },
    {
      "cell_type": "code",
      "execution_count": null,
      "metadata": {
        "colab": {
          "base_uri": "https://localhost:8080/"
        },
        "id": "vnO6utD3J6ek",
        "outputId": "8b373d0c-9009-4371-8949-0dabe04566ff"
      },
      "outputs": [
        {
          "output_type": "stream",
          "name": "stdout",
          "text": [
            "RMSE sobre el rating basado en el contenido = 1.1299110124868725\n"
          ]
        }
      ],
      "source": [
        "import xgboost as xgb\n",
        "\n",
        "# Configuramos el modelo en su versión de regressión\n",
        "model_xgb = xgb.XGBRegressor(objective='reg:squarederror')\n",
        "model_xgb.fit(x_train, y_train)\n",
        "\n",
        "# Realizamos las prediciones sobre el conjunto de validación\n",
        "pred = model_xgb.predict(x_val)\n",
        "rmse = np.sqrt(np.mean((pred - y_val.to_numpy())**2))\n",
        "print(f'RMSE sobre el rating basado en el contenido = {rmse}')"
      ]
    },
    {
      "cell_type": "code",
      "execution_count": null,
      "metadata": {
        "id": "obledya3XBq3"
      },
      "outputs": [],
      "source": [
        "def xgb_recommender(user_id, num=10):\n",
        "  # Peliculas vistas\n",
        "  seen_movies = ratings[ratings[\"user_id\"] == user_id]\n",
        "\n",
        "  # Películas no vistas\n",
        "  not_seen = movies[~movies[\"movie_id\"].isin(seen_movies[\"movie_id\"].values)][\"movie_id\"].tolist()\n",
        "\n",
        "  # Ahora podemos refinar nuestra puntuación mediante el modelo XGBoost\n",
        "  user_data = users[users[\"user_id\"] == user_id][selected_cols]\n",
        "  movie_data = movies[movies[\"movie_id\"].isin(not_seen)][genre_cols + [\"movie_id\"]]\n",
        "\n",
        "  # Obtengamos nuestro conjunto de datos de entrenamiento\n",
        "  x_data = movie_data\n",
        "  x_data[\"user_id\"] = user_id\n",
        "  x_data = x_data.merge(user_data, on=[\"user_id\",\"user_id\"])\n",
        "\n",
        "  # Obtenemos las predicciones\n",
        "  pred_xgb = model_xgb.predict(x_data[x.columns])\n",
        "  ret_df = pd.DataFrame({\"movie_id\" : movie_data[\"movie_id\"].values, \"score\" : pred_xgb})\n",
        "  top_rated = ret_df.sort_values(by=\"score\", ascending=False).head(num)[\"movie_id\"].values.tolist()\n",
        "\n",
        "  # Devolvemos la lista de las películas mejor valoradas\n",
        "  return movies[movies[\"movie_id\"].isin(top_rated)][\"title\"]"
      ]
    },
    {
      "cell_type": "code",
      "execution_count": null,
      "metadata": {
        "colab": {
          "base_uri": "https://localhost:8080/"
        },
        "id": "hRS1URN5XZE2",
        "outputId": "a42c720b-4c27-4334-a37f-8c347860614b"
      },
      "outputs": [
        {
          "output_type": "execute_result",
          "data": {
            "text/plain": [
              "1231                   Madonna: Truth or Dare (1991)\n",
              "1546                                Show, The (1995)\n",
              "1560      Tigrero: A Film That Was Never Made (1994)\n",
              "1561    Eye of Vichy, The (Oeil de Vichy, L') (1993)\n",
              "1584                           American Dream (1990)\n",
              "1593                                  Everest (1998)\n",
              "1628                                Nico Icon (1995)\n",
              "1640                                 Dadetown (1995)\n",
              "1648                             Big One, The (1997)\n",
              "1668                        MURDER and murder (1996)\n",
              "Name: title, dtype: object"
            ]
          },
          "metadata": {},
          "execution_count": 34
        }
      ],
      "source": [
        "xgb_recommender(196)"
      ]
    },
    {
      "cell_type": "markdown",
      "metadata": {
        "id": "Kkp5s6mv-L2e"
      },
      "source": [
        "# Modelos híbridos\n",
        "\n",
        "Los modelos híbridos pretenden beneficiarse de la disparidad que ofrecen los distintos modelos. Algunos más enfocados en capturar las similitudes entre usuarios, otros en capturar bien los potenciales feedbacks (ratings) entre pares usuario e ítem, ... Es una práctica habitual en el mundo de la ciencia de datos combinar modelos en modeladidades *bagging* o *boosting* de forma que la combinación entre distintos modelos nos ofrezca lo mejor de ambos.\n",
        "\n",
        "Para una lectura extensa sobre la hibridación y su relevancia en el ámbito de los recomendadores tenéís el artículo de *Çano y Morisio* [Hybrid Recommender Systems: A Systematic Literature Review](https://arxiv.org/abs/1901.03888).\n",
        "\n",
        "Nosotros podremos hacer una primera aproximación sencilla, simplemente empleando dos de los modelos previamente empleados. Existen multitud de opciones dentro de cómo combinar modelos. Bien sopesando de forma que podamos ponderar sus decisiones o simplemente promediando la decisión entre ambos modelos como veremos a continuación."
      ]
    },
    {
      "cell_type": "markdown",
      "metadata": {
        "id": "RDZ878zEfK0D"
      },
      "source": [
        "### Ejercicio"
      ]
    },
    {
      "cell_type": "code",
      "execution_count": null,
      "metadata": {
        "id": "8CCVIH8AKIoJ"
      },
      "outputs": [],
      "source": [
        "def hybrid_recommender(user_id, num=10):\n",
        "  \"\"\"\n",
        "  Ejercicio: combinar dos de los modelos anteriormente entrenados para poder así \n",
        "  combinar los resultados y mejorar nuestras predicciones. Puede ser una \n",
        "  combinación sencilla que simplemente pondere ambas puntuaciones.\n",
        "  \"\"\"\n",
        "  # Peliculas vistas\n",
        "  seen_movies = ratings[ratings[\"user_id\"] == user_id]\n",
        "\n",
        "  # Películas no vistas\n",
        "  not_seen = movies[~movies[\"movie_id\"].isin(seen_movies[\"movie_id\"].values)][\"movie_id\"].tolist()\n",
        "  not_seen = list(set(not_seen).intersection(set(movie2movie_encoded.keys())))\n",
        "  not_seen = [[movie2movie_encoded.get(x)] for x in not_seen]\n",
        "\n",
        "  # User\n",
        "  encoded_id = user2user_encoded.get(user_id)\n",
        "\n",
        "  # Input data para el modelo\n",
        "  input_data  = np.hstack(([[encoded_id]] * len(not_seen), not_seen))\n",
        "  pred_ratings = model.predict(input_data).flatten()\n",
        "\n",
        "  # Top ratings\n",
        "  top_rated = pred_ratings.argsort()[-num:][::-1]\n",
        "  movie_id = [movie_encoded2movie.get(not_seen[x][0]) for x in top_rated]\n",
        "\n",
        "  # Ahora podemos refinar nuestra puntuación mediante el modelo XGBoost\n",
        "  user_data = users[users[\"user_id\"] == user_id][selected_cols]\n",
        "  movie_data = movies[movies[\"movie_id\"].isin(not_seen)][genre_cols + [\"movie_id\"]]\n",
        "\n",
        "  # # Obtengamos nuestro conjunto de datos de entrenamiento\n",
        "  x_data = movie_data\n",
        "  x_data[\"user_id\"] = user_id\n",
        "  x_data = x_data.merge(user_data, on=[\"user_id\",\"user_id\"])\n",
        "\n",
        "  # # Obtenemos las predicciones\n",
        "  pred_xgb = model_xgb.predict(x_data[x.columns])\n",
        "  ret_df = pd.DataFrame({\"movie_id\" : movie_data[\"movie_id\"].values, \"score\" : pred_xgb})\n",
        "  #top_rated = ret_df.sort_values(by=\"score\", ascending=False).head(num)[\"movie_id\"].values.tolist()\n",
        "\n",
        "\n",
        "  ...\n",
        "\n",
        "  # Devolvemos la lista de las películas mejor valoradas\n",
        "  return movies[movies[\"movie_id\"].isin(top_rated)][\"title\"]"
      ]
    },
    {
      "cell_type": "code",
      "execution_count": null,
      "metadata": {
        "colab": {
          "base_uri": "https://localhost:8080/"
        },
        "id": "lVdVA_ETUfQ5",
        "outputId": "d27a59fc-6ab4-4237-8ac6-50c734a6c31f"
      },
      "outputs": [
        {
          "output_type": "execute_result",
          "data": {
            "text/plain": [
              "9                                   Richard III (1995)\n",
              "89                 So I Married an Axe Murderer (1993)\n",
              "114    Haunted World of Edward D. Wood Jr., The (1995)\n",
              "159                         Glengarry Glen Ross (1992)\n",
              "163                                  Abyss, The (1989)\n",
              "172                         Princess Bride, The (1987)\n",
              "176             Good, The Bad and The Ugly, The (1966)\n",
              "184                                      Psycho (1960)\n",
              "251              Lost World: Jurassic Park, The (1997)\n",
              "452                                    Jaws 3-D (1983)\n",
              "Name: title, dtype: object"
            ]
          },
          "metadata": {},
          "execution_count": 36
        }
      ],
      "source": [
        "hybrid_recommender(196)"
      ]
    },
    {
      "cell_type": "code",
      "execution_count": null,
      "metadata": {
        "colab": {
          "base_uri": "https://localhost:8080/"
        },
        "id": "iaOigpvaUhVp",
        "outputId": "9593d0bc-7291-4369-f0c4-18c9faac3255"
      },
      "outputs": [
        {
          "output_type": "execute_result",
          "data": {
            "text/plain": [
              "50       Legends of the Fall (1994)\n",
              "203       Back to the Future (1985)\n",
              "220       Breaking the Waves (1996)\n",
              "231               Young Guns (1988)\n",
              "236            Jerry Maguire (1996)\n",
              "297                 Face/Off (1997)\n",
              "302              Ulee's Gold (1997)\n",
              "303            Fly Away Home (1996)\n",
              "306    Devil's Advocate, The (1997)\n",
              "426    To Kill a Mockingbird (1962)\n",
              "Name: title, dtype: object"
            ]
          },
          "metadata": {},
          "execution_count": 37
        }
      ],
      "source": [
        "hybrid_recommender(5)"
      ]
    }
  ],
  "metadata": {
    "colab": {
      "provenance": []
    },
    "kernelspec": {
      "display_name": "Python 3 (ipykernel)",
      "language": "python",
      "name": "python3"
    },
    "language_info": {
      "codemirror_mode": {
        "name": "ipython",
        "version": 3
      },
      "file_extension": ".py",
      "mimetype": "text/x-python",
      "name": "python",
      "nbconvert_exporter": "python",
      "pygments_lexer": "ipython3",
      "version": "3.9.12"
    }
  },
  "nbformat": 4,
  "nbformat_minor": 0
}