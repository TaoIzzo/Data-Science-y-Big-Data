{
  "nbformat": 4,
  "nbformat_minor": 0,
  "metadata": {
    "colab": {
      "provenance": [],
      "toc_visible": true
    },
    "kernelspec": {
      "name": "python3",
      "display_name": "Python 3"
    },
    "language_info": {
      "name": "python"
    }
  },
  "cells": [
    {
      "cell_type": "markdown",
      "source": [
        "# Importacion de librerias"
      ],
      "metadata": {
        "id": "tBDNOC-dBNQC"
      }
    },
    {
      "cell_type": "code",
      "execution_count": null,
      "metadata": {
        "id": "c5jcB40ABH2G"
      },
      "outputs": [],
      "source": [
        "# librerias a usarse\n",
        "import pandas as pd\n",
        "import numpy as np\n",
        "from sklearn.metrics import mean_squared_error\n",
        "from sklearn.model_selection import train_test_split\n",
        "from sklearn.linear_model import LinearRegression\n",
        "import plotly.express as px\n",
        "import plotly.offline as pyo\n",
        "import plotly.graph_objects as go\n",
        "import matplotlib.pyplot as plt\n",
        "import seaborn as sns\n",
        "from sklearn.preprocessing import StandardScaler\n",
        "regresion_lineal = LinearRegression()\n"
      ]
    },
    {
      "cell_type": "markdown",
      "source": [
        "# Carga de datos"
      ],
      "metadata": {
        "id": "5dztKZ5eBlEu"
      }
    },
    {
      "cell_type": "code",
      "source": [
        "# Importar archivo desde drive\n",
        "url='https://drive.google.com/file/d/1h1z5Gj3o24dG3_q16QNRfuuAl5hlBVuf/view?usp=sharing'\n",
        "file_id=url.split('/')[-2]\n",
        "dwn_url='https://drive.google.com/uc?id=' + file_id\n",
        "datadrive = pd.read_csv(dwn_url, sep =\",\")"
      ],
      "metadata": {
        "id": "w7OIdR2CBoa7"
      },
      "execution_count": null,
      "outputs": []
    },
    {
      "cell_type": "markdown",
      "source": [
        "# Exploracion de datos"
      ],
      "metadata": {
        "id": "JPKowAftyHUr"
      }
    },
    {
      "cell_type": "code",
      "source": [
        "# se extraen las primeras 5 filas para ver los datos\n",
        "datadrive.head()"
      ],
      "metadata": {
        "colab": {
          "base_uri": "https://localhost:8080/"
        },
        "id": "sjnASNdmxZdh",
        "outputId": "70f4a5c2-b104-4492-b6a2-6ce26e0658a3"
      },
      "execution_count": null,
      "outputs": [
        {
          "output_type": "execute_result",
          "data": {
            "text/html": [
              "\n",
              "  <div id=\"df-3ba900a3-4826-4f7a-8dc2-94643bf61057\">\n",
              "    <div class=\"colab-df-container\">\n",
              "      <div>\n",
              "<style scoped>\n",
              "    .dataframe tbody tr th:only-of-type {\n",
              "        vertical-align: middle;\n",
              "    }\n",
              "\n",
              "    .dataframe tbody tr th {\n",
              "        vertical-align: top;\n",
              "    }\n",
              "\n",
              "    .dataframe thead th {\n",
              "        text-align: right;\n",
              "    }\n",
              "</style>\n",
              "<table border=\"1\" class=\"dataframe\">\n",
              "  <thead>\n",
              "    <tr style=\"text-align: right;\">\n",
              "      <th></th>\n",
              "      <th>age</th>\n",
              "      <th>sex</th>\n",
              "      <th>bmi</th>\n",
              "      <th>children</th>\n",
              "      <th>smoker</th>\n",
              "      <th>region</th>\n",
              "      <th>charges</th>\n",
              "    </tr>\n",
              "  </thead>\n",
              "  <tbody>\n",
              "    <tr>\n",
              "      <th>0</th>\n",
              "      <td>19</td>\n",
              "      <td>female</td>\n",
              "      <td>27.900</td>\n",
              "      <td>0</td>\n",
              "      <td>yes</td>\n",
              "      <td>southwest</td>\n",
              "      <td>16884.92400</td>\n",
              "    </tr>\n",
              "    <tr>\n",
              "      <th>1</th>\n",
              "      <td>18</td>\n",
              "      <td>male</td>\n",
              "      <td>33.770</td>\n",
              "      <td>1</td>\n",
              "      <td>no</td>\n",
              "      <td>southeast</td>\n",
              "      <td>1725.55230</td>\n",
              "    </tr>\n",
              "    <tr>\n",
              "      <th>2</th>\n",
              "      <td>28</td>\n",
              "      <td>male</td>\n",
              "      <td>33.000</td>\n",
              "      <td>3</td>\n",
              "      <td>no</td>\n",
              "      <td>southeast</td>\n",
              "      <td>4449.46200</td>\n",
              "    </tr>\n",
              "    <tr>\n",
              "      <th>3</th>\n",
              "      <td>33</td>\n",
              "      <td>male</td>\n",
              "      <td>22.705</td>\n",
              "      <td>0</td>\n",
              "      <td>no</td>\n",
              "      <td>northwest</td>\n",
              "      <td>21984.47061</td>\n",
              "    </tr>\n",
              "    <tr>\n",
              "      <th>4</th>\n",
              "      <td>32</td>\n",
              "      <td>male</td>\n",
              "      <td>28.880</td>\n",
              "      <td>0</td>\n",
              "      <td>no</td>\n",
              "      <td>northwest</td>\n",
              "      <td>3866.85520</td>\n",
              "    </tr>\n",
              "  </tbody>\n",
              "</table>\n",
              "</div>\n",
              "      <button class=\"colab-df-convert\" onclick=\"convertToInteractive('df-3ba900a3-4826-4f7a-8dc2-94643bf61057')\"\n",
              "              title=\"Convert this dataframe to an interactive table.\"\n",
              "              style=\"display:none;\">\n",
              "        \n",
              "  <svg xmlns=\"http://www.w3.org/2000/svg\" height=\"24px\"viewBox=\"0 0 24 24\"\n",
              "       width=\"24px\">\n",
              "    <path d=\"M0 0h24v24H0V0z\" fill=\"none\"/>\n",
              "    <path d=\"M18.56 5.44l.94 2.06.94-2.06 2.06-.94-2.06-.94-.94-2.06-.94 2.06-2.06.94zm-11 1L8.5 8.5l.94-2.06 2.06-.94-2.06-.94L8.5 2.5l-.94 2.06-2.06.94zm10 10l.94 2.06.94-2.06 2.06-.94-2.06-.94-.94-2.06-.94 2.06-2.06.94z\"/><path d=\"M17.41 7.96l-1.37-1.37c-.4-.4-.92-.59-1.43-.59-.52 0-1.04.2-1.43.59L10.3 9.45l-7.72 7.72c-.78.78-.78 2.05 0 2.83L4 21.41c.39.39.9.59 1.41.59.51 0 1.02-.2 1.41-.59l7.78-7.78 2.81-2.81c.8-.78.8-2.07 0-2.86zM5.41 20L4 18.59l7.72-7.72 1.47 1.35L5.41 20z\"/>\n",
              "  </svg>\n",
              "      </button>\n",
              "      \n",
              "  <style>\n",
              "    .colab-df-container {\n",
              "      display:flex;\n",
              "      flex-wrap:wrap;\n",
              "      gap: 12px;\n",
              "    }\n",
              "\n",
              "    .colab-df-convert {\n",
              "      background-color: #E8F0FE;\n",
              "      border: none;\n",
              "      border-radius: 50%;\n",
              "      cursor: pointer;\n",
              "      display: none;\n",
              "      fill: #1967D2;\n",
              "      height: 32px;\n",
              "      padding: 0 0 0 0;\n",
              "      width: 32px;\n",
              "    }\n",
              "\n",
              "    .colab-df-convert:hover {\n",
              "      background-color: #E2EBFA;\n",
              "      box-shadow: 0px 1px 2px rgba(60, 64, 67, 0.3), 0px 1px 3px 1px rgba(60, 64, 67, 0.15);\n",
              "      fill: #174EA6;\n",
              "    }\n",
              "\n",
              "    [theme=dark] .colab-df-convert {\n",
              "      background-color: #3B4455;\n",
              "      fill: #D2E3FC;\n",
              "    }\n",
              "\n",
              "    [theme=dark] .colab-df-convert:hover {\n",
              "      background-color: #434B5C;\n",
              "      box-shadow: 0px 1px 3px 1px rgba(0, 0, 0, 0.15);\n",
              "      filter: drop-shadow(0px 1px 2px rgba(0, 0, 0, 0.3));\n",
              "      fill: #FFFFFF;\n",
              "    }\n",
              "  </style>\n",
              "\n",
              "      <script>\n",
              "        const buttonEl =\n",
              "          document.querySelector('#df-3ba900a3-4826-4f7a-8dc2-94643bf61057 button.colab-df-convert');\n",
              "        buttonEl.style.display =\n",
              "          google.colab.kernel.accessAllowed ? 'block' : 'none';\n",
              "\n",
              "        async function convertToInteractive(key) {\n",
              "          const element = document.querySelector('#df-3ba900a3-4826-4f7a-8dc2-94643bf61057');\n",
              "          const dataTable =\n",
              "            await google.colab.kernel.invokeFunction('convertToInteractive',\n",
              "                                                     [key], {});\n",
              "          if (!dataTable) return;\n",
              "\n",
              "          const docLinkHtml = 'Like what you see? Visit the ' +\n",
              "            '<a target=\"_blank\" href=https://colab.research.google.com/notebooks/data_table.ipynb>data table notebook</a>'\n",
              "            + ' to learn more about interactive tables.';\n",
              "          element.innerHTML = '';\n",
              "          dataTable['output_type'] = 'display_data';\n",
              "          await google.colab.output.renderOutput(dataTable, element);\n",
              "          const docLink = document.createElement('div');\n",
              "          docLink.innerHTML = docLinkHtml;\n",
              "          element.appendChild(docLink);\n",
              "        }\n",
              "      </script>\n",
              "    </div>\n",
              "  </div>\n",
              "  "
            ],
            "text/plain": [
              "   age     sex     bmi  children smoker     region      charges\n",
              "0   19  female  27.900         0    yes  southwest  16884.92400\n",
              "1   18    male  33.770         1     no  southeast   1725.55230\n",
              "2   28    male  33.000         3     no  southeast   4449.46200\n",
              "3   33    male  22.705         0     no  northwest  21984.47061\n",
              "4   32    male  28.880         0     no  northwest   3866.85520"
            ]
          },
          "metadata": {},
          "execution_count": 75
        }
      ]
    },
    {
      "cell_type": "markdown",
      "source": [
        "nombre de las columnas :\n",
        "* age - Edad del asegurado\n",
        "* sex - Género\n",
        "* bmi - Indice de masa corporal \n",
        "* children - Número de hijos\n",
        "* smoker - Indicador si fuma\n",
        "* region - Región donde vive el asegurado\n",
        "* charges -  Prima del seguro"
      ],
      "metadata": {
        "id": "oEJ0I5hkI8O3"
      }
    },
    {
      "cell_type": "code",
      "source": [
        "# Nombre de las columnas\n",
        "datadrive.columns"
      ],
      "metadata": {
        "colab": {
          "base_uri": "https://localhost:8080/"
        },
        "id": "bRcPvjauxn3e",
        "outputId": "c58e9431-7236-4751-9063-bb527aa2df18"
      },
      "execution_count": null,
      "outputs": [
        {
          "output_type": "execute_result",
          "data": {
            "text/plain": [
              "Index(['age', 'sex', 'bmi', 'children', 'smoker', 'region', 'charges'], dtype='object')"
            ]
          },
          "metadata": {},
          "execution_count": 76
        }
      ]
    },
    {
      "cell_type": "code",
      "source": [
        "# Numero de filas y columnas\n",
        "datadrive.shape"
      ],
      "metadata": {
        "colab": {
          "base_uri": "https://localhost:8080/"
        },
        "id": "n-DikM5HxwQ6",
        "outputId": "5ca39b00-695f-4052-e3d1-4fc79bb4b462"
      },
      "execution_count": null,
      "outputs": [
        {
          "output_type": "execute_result",
          "data": {
            "text/plain": [
              "(1338, 7)"
            ]
          },
          "metadata": {},
          "execution_count": 77
        }
      ]
    },
    {
      "cell_type": "code",
      "source": [
        "# Tipo de datos de cada columna\n",
        "datadrive.dtypes"
      ],
      "metadata": {
        "colab": {
          "base_uri": "https://localhost:8080/"
        },
        "id": "u5UYRNX4x8OJ",
        "outputId": "0f0c9471-e2fe-4d7e-e504-d98d315d38a5"
      },
      "execution_count": null,
      "outputs": [
        {
          "output_type": "execute_result",
          "data": {
            "text/plain": [
              "age           int64\n",
              "sex          object\n",
              "bmi         float64\n",
              "children      int64\n",
              "smoker       object\n",
              "region       object\n",
              "charges     float64\n",
              "dtype: object"
            ]
          },
          "metadata": {},
          "execution_count": 78
        }
      ]
    },
    {
      "cell_type": "markdown",
      "source": [
        "# limpieza y duplicados"
      ],
      "metadata": {
        "id": "_IWUt5hZFIgp"
      }
    },
    {
      "cell_type": "code",
      "source": [
        "# Se ve la informacion de las columnas, con el proposito de saber que contiene cada una asi como si tiene valores unicos o repetidos (categorias)\n",
        "for col in datadrive.columns:\n",
        "    print(\"-\"*20 + col+\"-\"*20)\n",
        "    display(datadrive[col].value_counts())"
      ],
      "metadata": {
        "id": "gRoJyz8Hx7Wz",
        "colab": {
          "base_uri": "https://localhost:8080/"
        },
        "outputId": "e820f7ab-263b-4ddb-d910-eec711be4750"
      },
      "execution_count": null,
      "outputs": [
        {
          "output_type": "stream",
          "name": "stdout",
          "text": [
            "--------------------age--------------------\n"
          ]
        },
        {
          "output_type": "display_data",
          "data": {
            "text/plain": [
              "18    69\n",
              "19    68\n",
              "51    29\n",
              "45    29\n",
              "46    29\n",
              "47    29\n",
              "48    29\n",
              "50    29\n",
              "52    29\n",
              "20    29\n",
              "26    28\n",
              "54    28\n",
              "53    28\n",
              "25    28\n",
              "24    28\n",
              "49    28\n",
              "23    28\n",
              "22    28\n",
              "21    28\n",
              "27    28\n",
              "28    28\n",
              "31    27\n",
              "29    27\n",
              "30    27\n",
              "41    27\n",
              "43    27\n",
              "44    27\n",
              "40    27\n",
              "42    27\n",
              "57    26\n",
              "34    26\n",
              "33    26\n",
              "32    26\n",
              "56    26\n",
              "55    26\n",
              "59    25\n",
              "58    25\n",
              "39    25\n",
              "38    25\n",
              "35    25\n",
              "36    25\n",
              "37    25\n",
              "63    23\n",
              "60    23\n",
              "61    23\n",
              "62    23\n",
              "64    22\n",
              "Name: age, dtype: int64"
            ]
          },
          "metadata": {}
        },
        {
          "output_type": "stream",
          "name": "stdout",
          "text": [
            "--------------------sex--------------------\n"
          ]
        },
        {
          "output_type": "display_data",
          "data": {
            "text/plain": [
              "male      676\n",
              "female    662\n",
              "Name: sex, dtype: int64"
            ]
          },
          "metadata": {}
        },
        {
          "output_type": "stream",
          "name": "stdout",
          "text": [
            "--------------------bmi--------------------\n"
          ]
        },
        {
          "output_type": "display_data",
          "data": {
            "text/plain": [
              "32.300    13\n",
              "28.310     9\n",
              "31.350     8\n",
              "30.800     8\n",
              "30.875     8\n",
              "          ..\n",
              "20.100     1\n",
              "29.545     1\n",
              "37.900     1\n",
              "25.520     1\n",
              "24.090     1\n",
              "Name: bmi, Length: 548, dtype: int64"
            ]
          },
          "metadata": {}
        },
        {
          "output_type": "stream",
          "name": "stdout",
          "text": [
            "--------------------children--------------------\n"
          ]
        },
        {
          "output_type": "display_data",
          "data": {
            "text/plain": [
              "0    574\n",
              "1    324\n",
              "2    240\n",
              "3    157\n",
              "4     25\n",
              "5     18\n",
              "Name: children, dtype: int64"
            ]
          },
          "metadata": {}
        },
        {
          "output_type": "stream",
          "name": "stdout",
          "text": [
            "--------------------smoker--------------------\n"
          ]
        },
        {
          "output_type": "display_data",
          "data": {
            "text/plain": [
              "no     1064\n",
              "yes     274\n",
              "Name: smoker, dtype: int64"
            ]
          },
          "metadata": {}
        },
        {
          "output_type": "stream",
          "name": "stdout",
          "text": [
            "--------------------region--------------------\n"
          ]
        },
        {
          "output_type": "display_data",
          "data": {
            "text/plain": [
              "southeast    364\n",
              "southwest    325\n",
              "northwest    325\n",
              "northeast    324\n",
              "Name: region, dtype: int64"
            ]
          },
          "metadata": {}
        },
        {
          "output_type": "stream",
          "name": "stdout",
          "text": [
            "--------------------charges--------------------\n"
          ]
        },
        {
          "output_type": "display_data",
          "data": {
            "text/plain": [
              "1639.56310     2\n",
              "8825.08600     1\n",
              "43254.41795    1\n",
              "5257.50795     1\n",
              "1980.07000     1\n",
              "              ..\n",
              "12269.68865    1\n",
              "6360.99360     1\n",
              "7371.77200     1\n",
              "16420.49455    1\n",
              "34254.05335    1\n",
              "Name: charges, Length: 1337, dtype: int64"
            ]
          },
          "metadata": {}
        }
      ]
    },
    {
      "cell_type": "code",
      "source": [
        "# Se buscan nulos\n",
        "datadrive.isnull().sum()"
      ],
      "metadata": {
        "colab": {
          "base_uri": "https://localhost:8080/"
        },
        "id": "OHuXmKVgBvPX",
        "outputId": "fbdeea67-a534-444b-ee99-2a525d922f7a"
      },
      "execution_count": null,
      "outputs": [
        {
          "output_type": "execute_result",
          "data": {
            "text/plain": [
              "age         0\n",
              "sex         0\n",
              "bmi         0\n",
              "children    0\n",
              "smoker      0\n",
              "region      0\n",
              "charges     0\n",
              "dtype: int64"
            ]
          },
          "metadata": {},
          "execution_count": 80
        }
      ]
    },
    {
      "cell_type": "code",
      "source": [
        "# Se buscan duplicados\n",
        "datadrive[datadrive.duplicated()]"
      ],
      "metadata": {
        "colab": {
          "base_uri": "https://localhost:8080/"
        },
        "id": "a8RIgLbpCmPD",
        "outputId": "7e30f6c3-5a1e-42f1-f997-f3ced567784d"
      },
      "execution_count": null,
      "outputs": [
        {
          "output_type": "execute_result",
          "data": {
            "text/html": [
              "\n",
              "  <div id=\"df-44392c20-4d66-4237-b19f-fa8a1ae7257c\">\n",
              "    <div class=\"colab-df-container\">\n",
              "      <div>\n",
              "<style scoped>\n",
              "    .dataframe tbody tr th:only-of-type {\n",
              "        vertical-align: middle;\n",
              "    }\n",
              "\n",
              "    .dataframe tbody tr th {\n",
              "        vertical-align: top;\n",
              "    }\n",
              "\n",
              "    .dataframe thead th {\n",
              "        text-align: right;\n",
              "    }\n",
              "</style>\n",
              "<table border=\"1\" class=\"dataframe\">\n",
              "  <thead>\n",
              "    <tr style=\"text-align: right;\">\n",
              "      <th></th>\n",
              "      <th>age</th>\n",
              "      <th>sex</th>\n",
              "      <th>bmi</th>\n",
              "      <th>children</th>\n",
              "      <th>smoker</th>\n",
              "      <th>region</th>\n",
              "      <th>charges</th>\n",
              "    </tr>\n",
              "  </thead>\n",
              "  <tbody>\n",
              "    <tr>\n",
              "      <th>581</th>\n",
              "      <td>19</td>\n",
              "      <td>male</td>\n",
              "      <td>30.59</td>\n",
              "      <td>0</td>\n",
              "      <td>no</td>\n",
              "      <td>northwest</td>\n",
              "      <td>1639.5631</td>\n",
              "    </tr>\n",
              "  </tbody>\n",
              "</table>\n",
              "</div>\n",
              "      <button class=\"colab-df-convert\" onclick=\"convertToInteractive('df-44392c20-4d66-4237-b19f-fa8a1ae7257c')\"\n",
              "              title=\"Convert this dataframe to an interactive table.\"\n",
              "              style=\"display:none;\">\n",
              "        \n",
              "  <svg xmlns=\"http://www.w3.org/2000/svg\" height=\"24px\"viewBox=\"0 0 24 24\"\n",
              "       width=\"24px\">\n",
              "    <path d=\"M0 0h24v24H0V0z\" fill=\"none\"/>\n",
              "    <path d=\"M18.56 5.44l.94 2.06.94-2.06 2.06-.94-2.06-.94-.94-2.06-.94 2.06-2.06.94zm-11 1L8.5 8.5l.94-2.06 2.06-.94-2.06-.94L8.5 2.5l-.94 2.06-2.06.94zm10 10l.94 2.06.94-2.06 2.06-.94-2.06-.94-.94-2.06-.94 2.06-2.06.94z\"/><path d=\"M17.41 7.96l-1.37-1.37c-.4-.4-.92-.59-1.43-.59-.52 0-1.04.2-1.43.59L10.3 9.45l-7.72 7.72c-.78.78-.78 2.05 0 2.83L4 21.41c.39.39.9.59 1.41.59.51 0 1.02-.2 1.41-.59l7.78-7.78 2.81-2.81c.8-.78.8-2.07 0-2.86zM5.41 20L4 18.59l7.72-7.72 1.47 1.35L5.41 20z\"/>\n",
              "  </svg>\n",
              "      </button>\n",
              "      \n",
              "  <style>\n",
              "    .colab-df-container {\n",
              "      display:flex;\n",
              "      flex-wrap:wrap;\n",
              "      gap: 12px;\n",
              "    }\n",
              "\n",
              "    .colab-df-convert {\n",
              "      background-color: #E8F0FE;\n",
              "      border: none;\n",
              "      border-radius: 50%;\n",
              "      cursor: pointer;\n",
              "      display: none;\n",
              "      fill: #1967D2;\n",
              "      height: 32px;\n",
              "      padding: 0 0 0 0;\n",
              "      width: 32px;\n",
              "    }\n",
              "\n",
              "    .colab-df-convert:hover {\n",
              "      background-color: #E2EBFA;\n",
              "      box-shadow: 0px 1px 2px rgba(60, 64, 67, 0.3), 0px 1px 3px 1px rgba(60, 64, 67, 0.15);\n",
              "      fill: #174EA6;\n",
              "    }\n",
              "\n",
              "    [theme=dark] .colab-df-convert {\n",
              "      background-color: #3B4455;\n",
              "      fill: #D2E3FC;\n",
              "    }\n",
              "\n",
              "    [theme=dark] .colab-df-convert:hover {\n",
              "      background-color: #434B5C;\n",
              "      box-shadow: 0px 1px 3px 1px rgba(0, 0, 0, 0.15);\n",
              "      filter: drop-shadow(0px 1px 2px rgba(0, 0, 0, 0.3));\n",
              "      fill: #FFFFFF;\n",
              "    }\n",
              "  </style>\n",
              "\n",
              "      <script>\n",
              "        const buttonEl =\n",
              "          document.querySelector('#df-44392c20-4d66-4237-b19f-fa8a1ae7257c button.colab-df-convert');\n",
              "        buttonEl.style.display =\n",
              "          google.colab.kernel.accessAllowed ? 'block' : 'none';\n",
              "\n",
              "        async function convertToInteractive(key) {\n",
              "          const element = document.querySelector('#df-44392c20-4d66-4237-b19f-fa8a1ae7257c');\n",
              "          const dataTable =\n",
              "            await google.colab.kernel.invokeFunction('convertToInteractive',\n",
              "                                                     [key], {});\n",
              "          if (!dataTable) return;\n",
              "\n",
              "          const docLinkHtml = 'Like what you see? Visit the ' +\n",
              "            '<a target=\"_blank\" href=https://colab.research.google.com/notebooks/data_table.ipynb>data table notebook</a>'\n",
              "            + ' to learn more about interactive tables.';\n",
              "          element.innerHTML = '';\n",
              "          dataTable['output_type'] = 'display_data';\n",
              "          await google.colab.output.renderOutput(dataTable, element);\n",
              "          const docLink = document.createElement('div');\n",
              "          docLink.innerHTML = docLinkHtml;\n",
              "          element.appendChild(docLink);\n",
              "        }\n",
              "      </script>\n",
              "    </div>\n",
              "  </div>\n",
              "  "
            ],
            "text/plain": [
              "     age   sex    bmi  children smoker     region    charges\n",
              "581   19  male  30.59         0     no  northwest  1639.5631"
            ]
          },
          "metadata": {},
          "execution_count": 81
        }
      ]
    },
    {
      "cell_type": "markdown",
      "source": [
        "Aparece un duplicado, el cual se eliminara para un mejor entrenamiento "
      ],
      "metadata": {
        "id": "TBka8MNkDPXk"
      }
    },
    {
      "cell_type": "code",
      "source": [
        "datadrive.drop_duplicates(inplace=True)"
      ],
      "metadata": {
        "id": "93MdNXwbC1zd"
      },
      "execution_count": null,
      "outputs": []
    },
    {
      "cell_type": "code",
      "source": [
        "datadrive[(datadrive.age==19) & (datadrive.charges==1639.5631)]"
      ],
      "metadata": {
        "id": "B_c4hdXwxu44",
        "colab": {
          "base_uri": "https://localhost:8080/"
        },
        "outputId": "1ea6bfa9-17af-427b-cee8-6b52df9746eb"
      },
      "execution_count": null,
      "outputs": [
        {
          "output_type": "execute_result",
          "data": {
            "text/html": [
              "\n",
              "  <div id=\"df-f95f480f-025d-441d-8e5d-a85098a6f151\">\n",
              "    <div class=\"colab-df-container\">\n",
              "      <div>\n",
              "<style scoped>\n",
              "    .dataframe tbody tr th:only-of-type {\n",
              "        vertical-align: middle;\n",
              "    }\n",
              "\n",
              "    .dataframe tbody tr th {\n",
              "        vertical-align: top;\n",
              "    }\n",
              "\n",
              "    .dataframe thead th {\n",
              "        text-align: right;\n",
              "    }\n",
              "</style>\n",
              "<table border=\"1\" class=\"dataframe\">\n",
              "  <thead>\n",
              "    <tr style=\"text-align: right;\">\n",
              "      <th></th>\n",
              "      <th>age</th>\n",
              "      <th>sex</th>\n",
              "      <th>bmi</th>\n",
              "      <th>children</th>\n",
              "      <th>smoker</th>\n",
              "      <th>region</th>\n",
              "      <th>charges</th>\n",
              "    </tr>\n",
              "  </thead>\n",
              "  <tbody>\n",
              "    <tr>\n",
              "      <th>195</th>\n",
              "      <td>19</td>\n",
              "      <td>male</td>\n",
              "      <td>30.59</td>\n",
              "      <td>0</td>\n",
              "      <td>no</td>\n",
              "      <td>northwest</td>\n",
              "      <td>1639.5631</td>\n",
              "    </tr>\n",
              "  </tbody>\n",
              "</table>\n",
              "</div>\n",
              "      <button class=\"colab-df-convert\" onclick=\"convertToInteractive('df-f95f480f-025d-441d-8e5d-a85098a6f151')\"\n",
              "              title=\"Convert this dataframe to an interactive table.\"\n",
              "              style=\"display:none;\">\n",
              "        \n",
              "  <svg xmlns=\"http://www.w3.org/2000/svg\" height=\"24px\"viewBox=\"0 0 24 24\"\n",
              "       width=\"24px\">\n",
              "    <path d=\"M0 0h24v24H0V0z\" fill=\"none\"/>\n",
              "    <path d=\"M18.56 5.44l.94 2.06.94-2.06 2.06-.94-2.06-.94-.94-2.06-.94 2.06-2.06.94zm-11 1L8.5 8.5l.94-2.06 2.06-.94-2.06-.94L8.5 2.5l-.94 2.06-2.06.94zm10 10l.94 2.06.94-2.06 2.06-.94-2.06-.94-.94-2.06-.94 2.06-2.06.94z\"/><path d=\"M17.41 7.96l-1.37-1.37c-.4-.4-.92-.59-1.43-.59-.52 0-1.04.2-1.43.59L10.3 9.45l-7.72 7.72c-.78.78-.78 2.05 0 2.83L4 21.41c.39.39.9.59 1.41.59.51 0 1.02-.2 1.41-.59l7.78-7.78 2.81-2.81c.8-.78.8-2.07 0-2.86zM5.41 20L4 18.59l7.72-7.72 1.47 1.35L5.41 20z\"/>\n",
              "  </svg>\n",
              "      </button>\n",
              "      \n",
              "  <style>\n",
              "    .colab-df-container {\n",
              "      display:flex;\n",
              "      flex-wrap:wrap;\n",
              "      gap: 12px;\n",
              "    }\n",
              "\n",
              "    .colab-df-convert {\n",
              "      background-color: #E8F0FE;\n",
              "      border: none;\n",
              "      border-radius: 50%;\n",
              "      cursor: pointer;\n",
              "      display: none;\n",
              "      fill: #1967D2;\n",
              "      height: 32px;\n",
              "      padding: 0 0 0 0;\n",
              "      width: 32px;\n",
              "    }\n",
              "\n",
              "    .colab-df-convert:hover {\n",
              "      background-color: #E2EBFA;\n",
              "      box-shadow: 0px 1px 2px rgba(60, 64, 67, 0.3), 0px 1px 3px 1px rgba(60, 64, 67, 0.15);\n",
              "      fill: #174EA6;\n",
              "    }\n",
              "\n",
              "    [theme=dark] .colab-df-convert {\n",
              "      background-color: #3B4455;\n",
              "      fill: #D2E3FC;\n",
              "    }\n",
              "\n",
              "    [theme=dark] .colab-df-convert:hover {\n",
              "      background-color: #434B5C;\n",
              "      box-shadow: 0px 1px 3px 1px rgba(0, 0, 0, 0.15);\n",
              "      filter: drop-shadow(0px 1px 2px rgba(0, 0, 0, 0.3));\n",
              "      fill: #FFFFFF;\n",
              "    }\n",
              "  </style>\n",
              "\n",
              "      <script>\n",
              "        const buttonEl =\n",
              "          document.querySelector('#df-f95f480f-025d-441d-8e5d-a85098a6f151 button.colab-df-convert');\n",
              "        buttonEl.style.display =\n",
              "          google.colab.kernel.accessAllowed ? 'block' : 'none';\n",
              "\n",
              "        async function convertToInteractive(key) {\n",
              "          const element = document.querySelector('#df-f95f480f-025d-441d-8e5d-a85098a6f151');\n",
              "          const dataTable =\n",
              "            await google.colab.kernel.invokeFunction('convertToInteractive',\n",
              "                                                     [key], {});\n",
              "          if (!dataTable) return;\n",
              "\n",
              "          const docLinkHtml = 'Like what you see? Visit the ' +\n",
              "            '<a target=\"_blank\" href=https://colab.research.google.com/notebooks/data_table.ipynb>data table notebook</a>'\n",
              "            + ' to learn more about interactive tables.';\n",
              "          element.innerHTML = '';\n",
              "          dataTable['output_type'] = 'display_data';\n",
              "          await google.colab.output.renderOutput(dataTable, element);\n",
              "          const docLink = document.createElement('div');\n",
              "          docLink.innerHTML = docLinkHtml;\n",
              "          element.appendChild(docLink);\n",
              "        }\n",
              "      </script>\n",
              "    </div>\n",
              "  </div>\n",
              "  "
            ],
            "text/plain": [
              "     age   sex    bmi  children smoker     region    charges\n",
              "195   19  male  30.59         0     no  northwest  1639.5631"
            ]
          },
          "metadata": {},
          "execution_count": 83
        }
      ]
    },
    {
      "cell_type": "code",
      "source": [
        "\"\"\"La funcion nunquite nos permite saber cuantos valores diferentes hay en cada columna, es similar a lo que se hizo al inicio, \n",
        "   con la diferencias de que aqi solo extraemos el numero de valores unicos y no cuales son\"\"\"\n",
        "datadrive.nunique()"
      ],
      "metadata": {
        "colab": {
          "base_uri": "https://localhost:8080/"
        },
        "id": "dCp7iDRiFTbL",
        "outputId": "326a2504-8a59-4abd-a0ee-ac8cd732f324"
      },
      "execution_count": null,
      "outputs": [
        {
          "output_type": "execute_result",
          "data": {
            "text/plain": [
              "age           47\n",
              "sex            2\n",
              "bmi          548\n",
              "children       6\n",
              "smoker         2\n",
              "region         4\n",
              "charges     1337\n",
              "dtype: int64"
            ]
          },
          "metadata": {},
          "execution_count": 84
        }
      ]
    },
    {
      "cell_type": "code",
      "source": [
        "datadrive.charges.value_counts()"
      ],
      "metadata": {
        "colab": {
          "base_uri": "https://localhost:8080/"
        },
        "id": "s6YluoRUIQYR",
        "outputId": "3ec17c06-c930-4aff-e9c7-5fe3c6b139c8"
      },
      "execution_count": null,
      "outputs": [
        {
          "output_type": "execute_result",
          "data": {
            "text/plain": [
              "8825.08600     1\n",
              "4399.73100     1\n",
              "5257.50795     1\n",
              "1980.07000     1\n",
              "4340.44090     1\n",
              "              ..\n",
              "4536.25900     1\n",
              "12269.68865    1\n",
              "6360.99360     1\n",
              "7371.77200     1\n",
              "34254.05335    1\n",
              "Name: charges, Length: 1337, dtype: int64"
            ]
          },
          "metadata": {},
          "execution_count": 85
        }
      ]
    },
    {
      "cell_type": "markdown",
      "source": [
        "La prima del seguro al tener tantos casi en su totalidad todos los valores unicos no hay mucho que se pueda hacer con ella, seria agrupar los valores en rangos o bien eliminarla, dpendiendo de cual sea nuestro objetivo.\n",
        "\n",
        "Algo similar llega a pasar con el indicer de masa corporar, aunque los calores unicos sean menores siguen siendo demasiados para graficarlos como posteriormete se hara "
      ],
      "metadata": {
        "id": "wOdXG6-PMnuc"
      }
    },
    {
      "cell_type": "markdown",
      "source": [
        "# Graficacion"
      ],
      "metadata": {
        "id": "GzyryPZKGGA3"
      }
    },
    {
      "cell_type": "code",
      "source": [
        "data = go.Box(y = datadrive[\"age\"])\n",
        "layout = go.Layout(title = \"Edades de personas\")\n",
        "fig = go.Figure(data = data, layout = layout)\n",
        "fig.show()"
      ],
      "metadata": {
        "colab": {
          "base_uri": "https://localhost:8080/",
          "height": 542
        },
        "id": "7FJ2P_pvGnEJ",
        "outputId": "cab1723b-f756-4fd2-e88c-1837c6967fb0"
      },
      "execution_count": null,
      "outputs": [
        {
          "output_type": "display_data",
          "data": {
            "text/html": [
              "<html>\n",
              "<head><meta charset=\"utf-8\" /></head>\n",
              "<body>\n",
              "    <div>\n",
              "            <script src=\"https://cdnjs.cloudflare.com/ajax/libs/mathjax/2.7.5/MathJax.js?config=TeX-AMS-MML_SVG\"></script><script type=\"text/javascript\">if (window.MathJax) {MathJax.Hub.Config({SVG: {font: \"STIX-Web\"}});}</script>\n",
              "                <script type=\"text/javascript\">window.PlotlyConfig = {MathJaxConfig: 'local'};</script>\n",
              "        <script src=\"https://cdn.plot.ly/plotly-latest.min.js\"></script>    \n",
              "            <div id=\"d790c810-bce6-40ab-b60f-cf1f48e89918\" class=\"plotly-graph-div\" style=\"height:525px; width:100%;\"></div>\n",
              "            <script type=\"text/javascript\">\n",
              "                \n",
              "                    window.PLOTLYENV=window.PLOTLYENV || {};\n",
              "                    \n",
              "                if (document.getElementById(\"d790c810-bce6-40ab-b60f-cf1f48e89918\")) {\n",
              "                    Plotly.newPlot(\n",
              "                        'd790c810-bce6-40ab-b60f-cf1f48e89918',\n",
              "                        [{\"type\": \"box\", \"y\": [19, 18, 28, 33, 32, 31, 46, 37, 37, 60, 25, 62, 23, 56, 27, 19, 52, 23, 56, 30, 60, 30, 18, 34, 37, 59, 63, 55, 23, 31, 22, 18, 19, 63, 28, 19, 62, 26, 35, 60, 24, 31, 41, 37, 38, 55, 18, 28, 60, 36, 18, 21, 48, 36, 40, 58, 58, 18, 53, 34, 43, 25, 64, 28, 20, 19, 61, 40, 40, 28, 27, 31, 53, 58, 44, 57, 29, 21, 22, 41, 31, 45, 22, 48, 37, 45, 57, 56, 46, 55, 21, 53, 59, 35, 64, 28, 54, 55, 56, 38, 41, 30, 18, 61, 34, 20, 19, 26, 29, 63, 54, 55, 37, 21, 52, 60, 58, 29, 49, 37, 44, 18, 20, 44, 47, 26, 19, 52, 32, 38, 59, 61, 53, 19, 20, 22, 19, 22, 54, 22, 34, 26, 34, 29, 30, 29, 46, 51, 53, 19, 35, 48, 32, 42, 40, 44, 48, 18, 30, 50, 42, 18, 54, 32, 37, 47, 20, 32, 19, 27, 63, 49, 18, 35, 24, 63, 38, 54, 46, 41, 58, 18, 22, 44, 44, 36, 26, 30, 41, 29, 61, 36, 25, 56, 18, 19, 39, 45, 51, 64, 19, 48, 60, 27, 46, 28, 59, 35, 63, 40, 20, 40, 24, 34, 45, 41, 53, 27, 26, 24, 34, 53, 32, 19, 42, 55, 28, 58, 41, 47, 42, 59, 19, 59, 39, 40, 18, 31, 19, 44, 23, 33, 55, 40, 63, 54, 60, 24, 19, 29, 18, 63, 54, 27, 50, 55, 56, 38, 51, 19, 58, 20, 52, 19, 53, 46, 40, 59, 45, 49, 18, 50, 41, 50, 25, 47, 19, 22, 59, 51, 40, 54, 30, 55, 52, 46, 46, 63, 59, 52, 28, 29, 25, 22, 25, 18, 19, 47, 31, 48, 36, 53, 56, 28, 57, 29, 28, 30, 58, 41, 50, 19, 43, 49, 27, 52, 50, 54, 44, 32, 34, 26, 34, 57, 29, 40, 27, 45, 64, 52, 61, 52, 61, 56, 43, 64, 60, 62, 50, 46, 24, 62, 60, 63, 49, 34, 33, 46, 36, 19, 57, 50, 30, 33, 18, 46, 46, 47, 23, 18, 48, 35, 19, 21, 21, 49, 56, 42, 44, 18, 61, 57, 42, 26, 20, 23, 39, 24, 64, 62, 27, 55, 55, 35, 44, 19, 58, 50, 26, 24, 48, 19, 48, 49, 46, 46, 43, 21, 64, 18, 51, 47, 64, 49, 31, 52, 33, 47, 38, 32, 19, 44, 26, 25, 19, 43, 52, 36, 64, 63, 64, 61, 40, 25, 48, 45, 38, 18, 21, 27, 19, 29, 42, 60, 31, 60, 22, 35, 52, 26, 31, 33, 18, 59, 56, 45, 60, 56, 40, 35, 39, 30, 24, 20, 32, 59, 55, 57, 56, 40, 49, 42, 62, 56, 19, 30, 60, 56, 28, 18, 27, 18, 19, 47, 54, 61, 24, 25, 21, 23, 63, 49, 18, 51, 48, 31, 54, 19, 44, 53, 19, 61, 18, 61, 21, 20, 31, 45, 44, 62, 29, 43, 51, 19, 38, 37, 22, 21, 24, 57, 56, 27, 51, 19, 39, 58, 20, 45, 35, 31, 50, 32, 51, 38, 42, 18, 19, 51, 46, 18, 57, 62, 59, 37, 64, 38, 33, 46, 46, 53, 34, 20, 63, 54, 54, 49, 28, 54, 25, 43, 63, 32, 62, 52, 25, 28, 46, 34, 35, 19, 46, 54, 27, 50, 18, 19, 38, 41, 49, 48, 31, 18, 30, 62, 57, 58, 22, 31, 52, 25, 59, 39, 32, 19, 33, 21, 34, 61, 38, 58, 47, 20, 21, 41, 46, 42, 34, 43, 52, 18, 51, 56, 64, 19, 51, 27, 59, 28, 30, 47, 38, 18, 34, 20, 47, 56, 49, 19, 55, 30, 37, 49, 18, 59, 29, 36, 33, 58, 44, 53, 24, 29, 40, 51, 64, 19, 35, 39, 56, 33, 42, 61, 23, 43, 48, 39, 40, 18, 58, 49, 53, 48, 45, 59, 52, 26, 27, 48, 57, 37, 57, 32, 18, 64, 43, 49, 40, 62, 40, 30, 29, 36, 41, 44, 45, 55, 60, 56, 49, 21, 19, 39, 53, 33, 53, 42, 40, 47, 27, 21, 47, 20, 24, 27, 26, 53, 41, 56, 23, 21, 50, 53, 34, 47, 33, 51, 49, 31, 36, 18, 50, 43, 20, 24, 60, 49, 60, 51, 58, 51, 53, 62, 19, 50, 30, 41, 29, 18, 41, 35, 53, 24, 48, 59, 49, 37, 26, 23, 29, 45, 27, 53, 31, 50, 50, 34, 19, 47, 28, 37, 21, 64, 58, 24, 31, 39, 47, 30, 18, 22, 23, 33, 27, 45, 57, 47, 42, 64, 38, 61, 53, 44, 19, 41, 51, 40, 45, 35, 53, 30, 18, 51, 50, 31, 35, 60, 21, 29, 62, 39, 19, 22, 53, 39, 27, 30, 30, 58, 33, 42, 64, 21, 18, 23, 45, 40, 19, 18, 25, 46, 33, 54, 28, 36, 20, 24, 23, 47, 33, 45, 26, 18, 44, 60, 64, 56, 36, 41, 39, 63, 36, 28, 58, 36, 42, 36, 56, 35, 59, 21, 59, 23, 57, 53, 60, 51, 23, 27, 55, 37, 61, 46, 53, 49, 20, 48, 25, 25, 57, 37, 38, 55, 36, 51, 40, 18, 57, 61, 25, 50, 26, 42, 43, 44, 23, 49, 33, 41, 37, 22, 23, 21, 51, 25, 32, 57, 36, 22, 57, 64, 36, 54, 47, 62, 61, 43, 19, 18, 19, 49, 60, 26, 49, 60, 26, 27, 44, 63, 32, 22, 18, 59, 44, 33, 24, 43, 45, 61, 35, 62, 62, 38, 34, 43, 50, 19, 57, 62, 41, 26, 39, 46, 45, 32, 59, 44, 39, 18, 53, 18, 50, 18, 19, 62, 56, 42, 37, 42, 25, 57, 51, 30, 44, 34, 31, 54, 24, 43, 48, 19, 29, 63, 46, 52, 35, 51, 44, 21, 39, 50, 34, 22, 19, 26, 29, 48, 26, 45, 36, 54, 34, 31, 27, 20, 44, 43, 45, 34, 24, 26, 38, 50, 38, 27, 39, 39, 63, 33, 36, 30, 24, 24, 48, 47, 29, 28, 47, 25, 51, 48, 43, 61, 48, 38, 59, 19, 26, 54, 21, 51, 22, 47, 18, 47, 21, 19, 23, 54, 37, 46, 55, 30, 18, 61, 54, 22, 45, 22, 19, 35, 18, 20, 28, 55, 43, 43, 22, 25, 49, 44, 64, 49, 47, 27, 55, 48, 45, 24, 32, 24, 57, 59, 36, 29, 42, 48, 39, 63, 54, 37, 63, 21, 54, 60, 32, 47, 21, 28, 63, 18, 32, 38, 32, 62, 39, 55, 57, 52, 56, 47, 55, 23, 22, 50, 18, 51, 22, 52, 25, 33, 53, 29, 58, 37, 54, 49, 50, 26, 45, 54, 38, 48, 28, 23, 55, 41, 25, 33, 30, 23, 46, 53, 27, 23, 63, 55, 35, 34, 19, 39, 27, 57, 52, 28, 50, 44, 26, 33, 19, 50, 41, 52, 39, 50, 52, 60, 20, 55, 42, 18, 58, 43, 35, 48, 36, 19, 23, 20, 32, 43, 34, 30, 18, 41, 35, 57, 29, 32, 37, 18, 43, 56, 38, 29, 22, 52, 40, 23, 31, 42, 24, 25, 48, 23, 45, 20, 62, 43, 23, 31, 41, 58, 48, 31, 19, 19, 41, 40, 31, 37, 46, 22, 51, 18, 35, 59, 36, 37, 59, 36, 39, 18, 52, 27, 18, 40, 29, 46, 38, 30, 40, 50, 20, 41, 33, 38, 42, 56, 58, 52, 20, 54, 58, 45, 26, 63, 58, 37, 25, 52, 64, 22, 28, 18, 28, 45, 33, 18, 32, 24, 19, 20, 40, 34, 42, 51, 54, 55, 52, 32, 28, 41, 43, 49, 64, 55, 24, 20, 45, 26, 25, 43, 35, 26, 57, 22, 32, 39, 25, 48, 47, 18, 18, 61, 47, 28, 36, 20, 44, 38, 19, 21, 46, 58, 20, 18, 28, 33, 19, 45, 62, 25, 43, 42, 24, 29, 32, 25, 41, 42, 33, 34, 19, 30, 18, 19, 18, 35, 39, 31, 62, 62, 42, 31, 61, 42, 51, 23, 52, 57, 23, 52, 50, 18, 18, 21, 61]}],\n",
              "                        {\"template\": {\"data\": {\"bar\": [{\"error_x\": {\"color\": \"#2a3f5f\"}, \"error_y\": {\"color\": \"#2a3f5f\"}, \"marker\": {\"line\": {\"color\": \"#E5ECF6\", \"width\": 0.5}}, \"type\": \"bar\"}], \"barpolar\": [{\"marker\": {\"line\": {\"color\": \"#E5ECF6\", \"width\": 0.5}}, \"type\": \"barpolar\"}], \"carpet\": [{\"aaxis\": {\"endlinecolor\": \"#2a3f5f\", \"gridcolor\": \"white\", \"linecolor\": \"white\", \"minorgridcolor\": \"white\", \"startlinecolor\": \"#2a3f5f\"}, \"baxis\": {\"endlinecolor\": \"#2a3f5f\", \"gridcolor\": \"white\", \"linecolor\": \"white\", \"minorgridcolor\": \"white\", \"startlinecolor\": \"#2a3f5f\"}, \"type\": \"carpet\"}], \"choropleth\": [{\"colorbar\": {\"outlinewidth\": 0, \"ticks\": \"\"}, \"type\": \"choropleth\"}], \"contour\": [{\"colorbar\": {\"outlinewidth\": 0, \"ticks\": \"\"}, \"colorscale\": [[0.0, \"#0d0887\"], [0.1111111111111111, \"#46039f\"], [0.2222222222222222, \"#7201a8\"], [0.3333333333333333, \"#9c179e\"], [0.4444444444444444, \"#bd3786\"], [0.5555555555555556, \"#d8576b\"], [0.6666666666666666, \"#ed7953\"], [0.7777777777777778, \"#fb9f3a\"], [0.8888888888888888, \"#fdca26\"], [1.0, \"#f0f921\"]], \"type\": \"contour\"}], \"contourcarpet\": [{\"colorbar\": {\"outlinewidth\": 0, \"ticks\": \"\"}, \"type\": \"contourcarpet\"}], \"heatmap\": [{\"colorbar\": {\"outlinewidth\": 0, \"ticks\": \"\"}, \"colorscale\": [[0.0, \"#0d0887\"], [0.1111111111111111, \"#46039f\"], [0.2222222222222222, \"#7201a8\"], [0.3333333333333333, \"#9c179e\"], [0.4444444444444444, \"#bd3786\"], [0.5555555555555556, \"#d8576b\"], [0.6666666666666666, \"#ed7953\"], [0.7777777777777778, \"#fb9f3a\"], [0.8888888888888888, \"#fdca26\"], [1.0, \"#f0f921\"]], \"type\": \"heatmap\"}], \"heatmapgl\": [{\"colorbar\": {\"outlinewidth\": 0, \"ticks\": \"\"}, \"colorscale\": [[0.0, \"#0d0887\"], [0.1111111111111111, \"#46039f\"], [0.2222222222222222, \"#7201a8\"], [0.3333333333333333, \"#9c179e\"], [0.4444444444444444, \"#bd3786\"], [0.5555555555555556, \"#d8576b\"], [0.6666666666666666, \"#ed7953\"], [0.7777777777777778, \"#fb9f3a\"], [0.8888888888888888, \"#fdca26\"], [1.0, \"#f0f921\"]], \"type\": \"heatmapgl\"}], \"histogram\": [{\"marker\": {\"colorbar\": {\"outlinewidth\": 0, \"ticks\": \"\"}}, \"type\": \"histogram\"}], \"histogram2d\": [{\"colorbar\": {\"outlinewidth\": 0, \"ticks\": \"\"}, \"colorscale\": [[0.0, \"#0d0887\"], [0.1111111111111111, \"#46039f\"], [0.2222222222222222, \"#7201a8\"], [0.3333333333333333, \"#9c179e\"], [0.4444444444444444, \"#bd3786\"], [0.5555555555555556, \"#d8576b\"], [0.6666666666666666, \"#ed7953\"], [0.7777777777777778, \"#fb9f3a\"], [0.8888888888888888, \"#fdca26\"], [1.0, \"#f0f921\"]], \"type\": \"histogram2d\"}], \"histogram2dcontour\": [{\"colorbar\": {\"outlinewidth\": 0, \"ticks\": \"\"}, \"colorscale\": [[0.0, \"#0d0887\"], [0.1111111111111111, \"#46039f\"], [0.2222222222222222, \"#7201a8\"], [0.3333333333333333, \"#9c179e\"], [0.4444444444444444, \"#bd3786\"], [0.5555555555555556, \"#d8576b\"], [0.6666666666666666, \"#ed7953\"], [0.7777777777777778, \"#fb9f3a\"], [0.8888888888888888, \"#fdca26\"], [1.0, \"#f0f921\"]], \"type\": \"histogram2dcontour\"}], \"mesh3d\": [{\"colorbar\": {\"outlinewidth\": 0, \"ticks\": \"\"}, \"type\": \"mesh3d\"}], \"parcoords\": [{\"line\": {\"colorbar\": {\"outlinewidth\": 0, \"ticks\": \"\"}}, \"type\": \"parcoords\"}], \"pie\": [{\"automargin\": true, \"type\": \"pie\"}], \"scatter\": [{\"marker\": {\"colorbar\": {\"outlinewidth\": 0, \"ticks\": \"\"}}, \"type\": \"scatter\"}], \"scatter3d\": [{\"line\": {\"colorbar\": {\"outlinewidth\": 0, \"ticks\": \"\"}}, \"marker\": {\"colorbar\": {\"outlinewidth\": 0, \"ticks\": \"\"}}, \"type\": \"scatter3d\"}], \"scattercarpet\": [{\"marker\": {\"colorbar\": {\"outlinewidth\": 0, \"ticks\": \"\"}}, \"type\": \"scattercarpet\"}], \"scattergeo\": [{\"marker\": {\"colorbar\": {\"outlinewidth\": 0, \"ticks\": \"\"}}, \"type\": \"scattergeo\"}], \"scattergl\": [{\"marker\": {\"colorbar\": {\"outlinewidth\": 0, \"ticks\": \"\"}}, \"type\": \"scattergl\"}], \"scattermapbox\": [{\"marker\": {\"colorbar\": {\"outlinewidth\": 0, \"ticks\": \"\"}}, \"type\": \"scattermapbox\"}], \"scatterpolar\": [{\"marker\": {\"colorbar\": {\"outlinewidth\": 0, \"ticks\": \"\"}}, \"type\": \"scatterpolar\"}], \"scatterpolargl\": [{\"marker\": {\"colorbar\": {\"outlinewidth\": 0, \"ticks\": \"\"}}, \"type\": \"scatterpolargl\"}], \"scatterternary\": [{\"marker\": {\"colorbar\": {\"outlinewidth\": 0, \"ticks\": \"\"}}, \"type\": \"scatterternary\"}], \"surface\": [{\"colorbar\": {\"outlinewidth\": 0, \"ticks\": \"\"}, \"colorscale\": [[0.0, \"#0d0887\"], [0.1111111111111111, \"#46039f\"], [0.2222222222222222, \"#7201a8\"], [0.3333333333333333, \"#9c179e\"], [0.4444444444444444, \"#bd3786\"], [0.5555555555555556, \"#d8576b\"], [0.6666666666666666, \"#ed7953\"], [0.7777777777777778, \"#fb9f3a\"], [0.8888888888888888, \"#fdca26\"], [1.0, \"#f0f921\"]], \"type\": \"surface\"}], \"table\": [{\"cells\": {\"fill\": {\"color\": \"#EBF0F8\"}, \"line\": {\"color\": \"white\"}}, \"header\": {\"fill\": {\"color\": \"#C8D4E3\"}, \"line\": {\"color\": \"white\"}}, \"type\": \"table\"}]}, \"layout\": {\"annotationdefaults\": {\"arrowcolor\": \"#2a3f5f\", \"arrowhead\": 0, \"arrowwidth\": 1}, \"coloraxis\": {\"colorbar\": {\"outlinewidth\": 0, \"ticks\": \"\"}}, \"colorscale\": {\"diverging\": [[0, \"#8e0152\"], [0.1, \"#c51b7d\"], [0.2, \"#de77ae\"], [0.3, \"#f1b6da\"], [0.4, \"#fde0ef\"], [0.5, \"#f7f7f7\"], [0.6, \"#e6f5d0\"], [0.7, \"#b8e186\"], [0.8, \"#7fbc41\"], [0.9, \"#4d9221\"], [1, \"#276419\"]], \"sequential\": [[0.0, \"#0d0887\"], [0.1111111111111111, \"#46039f\"], [0.2222222222222222, \"#7201a8\"], [0.3333333333333333, \"#9c179e\"], [0.4444444444444444, \"#bd3786\"], [0.5555555555555556, \"#d8576b\"], [0.6666666666666666, \"#ed7953\"], [0.7777777777777778, \"#fb9f3a\"], [0.8888888888888888, \"#fdca26\"], [1.0, \"#f0f921\"]], \"sequentialminus\": [[0.0, \"#0d0887\"], [0.1111111111111111, \"#46039f\"], [0.2222222222222222, \"#7201a8\"], [0.3333333333333333, \"#9c179e\"], [0.4444444444444444, \"#bd3786\"], [0.5555555555555556, \"#d8576b\"], [0.6666666666666666, \"#ed7953\"], [0.7777777777777778, \"#fb9f3a\"], [0.8888888888888888, \"#fdca26\"], [1.0, \"#f0f921\"]]}, \"colorway\": [\"#636efa\", \"#EF553B\", \"#00cc96\", \"#ab63fa\", \"#FFA15A\", \"#19d3f3\", \"#FF6692\", \"#B6E880\", \"#FF97FF\", \"#FECB52\"], \"font\": {\"color\": \"#2a3f5f\"}, \"geo\": {\"bgcolor\": \"white\", \"lakecolor\": \"white\", \"landcolor\": \"#E5ECF6\", \"showlakes\": true, \"showland\": true, \"subunitcolor\": \"white\"}, \"hoverlabel\": {\"align\": \"left\"}, \"hovermode\": \"closest\", \"mapbox\": {\"style\": \"light\"}, \"paper_bgcolor\": \"white\", \"plot_bgcolor\": \"#E5ECF6\", \"polar\": {\"angularaxis\": {\"gridcolor\": \"white\", \"linecolor\": \"white\", \"ticks\": \"\"}, \"bgcolor\": \"#E5ECF6\", \"radialaxis\": {\"gridcolor\": \"white\", \"linecolor\": \"white\", \"ticks\": \"\"}}, \"scene\": {\"xaxis\": {\"backgroundcolor\": \"#E5ECF6\", \"gridcolor\": \"white\", \"gridwidth\": 2, \"linecolor\": \"white\", \"showbackground\": true, \"ticks\": \"\", \"zerolinecolor\": \"white\"}, \"yaxis\": {\"backgroundcolor\": \"#E5ECF6\", \"gridcolor\": \"white\", \"gridwidth\": 2, \"linecolor\": \"white\", \"showbackground\": true, \"ticks\": \"\", \"zerolinecolor\": \"white\"}, \"zaxis\": {\"backgroundcolor\": \"#E5ECF6\", \"gridcolor\": \"white\", \"gridwidth\": 2, \"linecolor\": \"white\", \"showbackground\": true, \"ticks\": \"\", \"zerolinecolor\": \"white\"}}, \"shapedefaults\": {\"line\": {\"color\": \"#2a3f5f\"}}, \"ternary\": {\"aaxis\": {\"gridcolor\": \"white\", \"linecolor\": \"white\", \"ticks\": \"\"}, \"baxis\": {\"gridcolor\": \"white\", \"linecolor\": \"white\", \"ticks\": \"\"}, \"bgcolor\": \"#E5ECF6\", \"caxis\": {\"gridcolor\": \"white\", \"linecolor\": \"white\", \"ticks\": \"\"}}, \"title\": {\"x\": 0.05}, \"xaxis\": {\"automargin\": true, \"gridcolor\": \"white\", \"linecolor\": \"white\", \"ticks\": \"\", \"title\": {\"standoff\": 15}, \"zerolinecolor\": \"white\", \"zerolinewidth\": 2}, \"yaxis\": {\"automargin\": true, \"gridcolor\": \"white\", \"linecolor\": \"white\", \"ticks\": \"\", \"title\": {\"standoff\": 15}, \"zerolinecolor\": \"white\", \"zerolinewidth\": 2}}}, \"title\": {\"text\": \"Edades de personas\"}},\n",
              "                        {\"responsive\": true}\n",
              "                    ).then(function(){\n",
              "                            \n",
              "var gd = document.getElementById('d790c810-bce6-40ab-b60f-cf1f48e89918');\n",
              "var x = new MutationObserver(function (mutations, observer) {{\n",
              "        var display = window.getComputedStyle(gd).display;\n",
              "        if (!display || display === 'none') {{\n",
              "            console.log([gd, 'removed!']);\n",
              "            Plotly.purge(gd);\n",
              "            observer.disconnect();\n",
              "        }}\n",
              "}});\n",
              "\n",
              "// Listen for the removal of the full notebook cells\n",
              "var notebookContainer = gd.closest('#notebook-container');\n",
              "if (notebookContainer) {{\n",
              "    x.observe(notebookContainer, {childList: true});\n",
              "}}\n",
              "\n",
              "// Listen for the clearing of the current output cell\n",
              "var outputEl = gd.closest('.output');\n",
              "if (outputEl) {{\n",
              "    x.observe(outputEl, {childList: true});\n",
              "}}\n",
              "\n",
              "                        })\n",
              "                };\n",
              "                \n",
              "            </script>\n",
              "        </div>\n",
              "</body>\n",
              "</html>"
            ]
          },
          "metadata": {}
        }
      ]
    },
    {
      "cell_type": "markdown",
      "source": [
        "Se pued eobservar un boxplor con las edades de las personas del dataframe, estando estas mas concentardas entre los 27 y 51 años, teniendo la media como 39 "
      ],
      "metadata": {
        "id": "KlJ-UA1eHB5X"
      }
    },
    {
      "cell_type": "code",
      "source": [
        "datadrive[[\"sex\",\"children\"]].groupby(\"children\").count().plot(kind=\"bar\")"
      ],
      "metadata": {
        "colab": {
          "base_uri": "https://localhost:8080/",
          "height": 296
        },
        "id": "jyrn1l_bH0vb",
        "outputId": "d26232c0-e93c-466c-a89f-952ab650db45"
      },
      "execution_count": null,
      "outputs": [
        {
          "output_type": "execute_result",
          "data": {
            "text/plain": [
              "<matplotlib.axes._subplots.AxesSubplot at 0x7fe811d24410>"
            ]
          },
          "metadata": {},
          "execution_count": 87
        },
        {
          "output_type": "display_data",
          "data": {
            "image/png": "[encoded data removed]",
            "text/plain": [
              "<Figure size 432x288 with 1 Axes>"
            ]
          },
          "metadata": {
            "needs_background": "light"
          }
        }
      ]
    },
    {
      "cell_type": "markdown",
      "source": [
        "En la grafica anteriro se puede obervar la cantidad de niños que las personas tienen en el dataset, a malo grsos esta informacion es correcta solo se tendria que ajustar la etiqueta o hacerlo de una mejor manera como en el siguiente donde se puede ver de una mejor manera la informacion"
      ],
      "metadata": {
        "id": "Di4wVMbfKbYL"
      }
    },
    {
      "cell_type": "code",
      "source": [
        "datadrive.children.value_counts().plot(kind=\"barh\",figsize=(12,8))\n",
        "for index, value in enumerate(datadrive.children.value_counts()):\n",
        "    plt.text(value, index, str(value))\n",
        "plt.title(\"Cantidad de niños \")\n",
        "plt.ylabel(\"Numero de niños\")\n",
        "plt.xlabel('Cantidas')\n",
        "plt.show()"
      ],
      "metadata": {
        "colab": {
          "base_uri": "https://localhost:8080/",
          "height": 513
        },
        "id": "pQuU4oLTJzEO",
        "outputId": "ee6e0ab8-33b9-4e21-8aa8-14b6864fce00"
      },
      "execution_count": null,
      "outputs": [
        {
          "output_type": "display_data",
          "data": {
            "image/png": "[encoded data removed]",
            "text/plain": [
              "<Figure size 864x576 with 1 Axes>"
            ]
          },
          "metadata": {
            "needs_background": "light"
          }
        }
      ]
    },
    {
      "cell_type": "code",
      "source": [
        "datadrive[\"region\"].value_counts().plot(kind=\"pie\", subplots=True, figsize=(9,9),autopct='%.2f%%', legend=False,pctdistance=.5)\n",
        "plt.title(\"Regiones presentes en el dataframe\")\n",
        "# plt.legend(loc=\"upper left\")\n",
        "plt.show()"
      ],
      "metadata": {
        "colab": {
          "base_uri": "https://localhost:8080/",
          "height": 536
        },
        "id": "i_IPQ7EULtjA",
        "outputId": "2b925129-993b-41be-b22a-c4b5292061b1"
      },
      "execution_count": null,
      "outputs": [
        {
          "output_type": "display_data",
          "data": {
            "image/png": "[encoded data removed]",
            "text/plain": [
              "<Figure size 648x648 with 1 Axes>"
            ]
          },
          "metadata": {}
        }
      ]
    },
    {
      "cell_type": "markdown",
      "source": [
        "En el anteriro grafico se puede observar que casi la distribucion entre las 4 regiones es igual, difieren por poco a excepcion de southeast"
      ],
      "metadata": {
        "id": "oGJrlHagMB9N"
      }
    },
    {
      "cell_type": "markdown",
      "source": [
        "Se intenta de buscar una correracion entre las variables numericas o una relacion mediante las garficas"
      ],
      "metadata": {
        "id": "sEF26v41O4Nq"
      }
    },
    {
      "cell_type": "code",
      "source": [
        "datadrive[[\"bmi\",\"age\"]].corr()"
      ],
      "metadata": {
        "colab": {
          "base_uri": "https://localhost:8080/",
          "height": 112
        },
        "id": "H39NUhCoMdDs",
        "outputId": "c611915d-8a0b-4f6f-db73-48d5196835ff"
      },
      "execution_count": null,
      "outputs": [
        {
          "output_type": "execute_result",
          "data": {
            "text/html": [
              "\n",
              "  <div id=\"df-dee1fa5a-36a5-4ded-a566-6204e1aea1cd\">\n",
              "    <div class=\"colab-df-container\">\n",
              "      <div>\n",
              "<style scoped>\n",
              "    .dataframe tbody tr th:only-of-type {\n",
              "        vertical-align: middle;\n",
              "    }\n",
              "\n",
              "    .dataframe tbody tr th {\n",
              "        vertical-align: top;\n",
              "    }\n",
              "\n",
              "    .dataframe thead th {\n",
              "        text-align: right;\n",
              "    }\n",
              "</style>\n",
              "<table border=\"1\" class=\"dataframe\">\n",
              "  <thead>\n",
              "    <tr style=\"text-align: right;\">\n",
              "      <th></th>\n",
              "      <th>bmi</th>\n",
              "      <th>age</th>\n",
              "    </tr>\n",
              "  </thead>\n",
              "  <tbody>\n",
              "    <tr>\n",
              "      <th>bmi</th>\n",
              "      <td>1.000000</td>\n",
              "      <td>0.109344</td>\n",
              "    </tr>\n",
              "    <tr>\n",
              "      <th>age</th>\n",
              "      <td>0.109344</td>\n",
              "      <td>1.000000</td>\n",
              "    </tr>\n",
              "  </tbody>\n",
              "</table>\n",
              "</div>\n",
              "      <button class=\"colab-df-convert\" onclick=\"convertToInteractive('df-dee1fa5a-36a5-4ded-a566-6204e1aea1cd')\"\n",
              "              title=\"Convert this dataframe to an interactive table.\"\n",
              "              style=\"display:none;\">\n",
              "        \n",
              "  <svg xmlns=\"http://www.w3.org/2000/svg\" height=\"24px\"viewBox=\"0 0 24 24\"\n",
              "       width=\"24px\">\n",
              "    <path d=\"M0 0h24v24H0V0z\" fill=\"none\"/>\n",
              "    <path d=\"M18.56 5.44l.94 2.06.94-2.06 2.06-.94-2.06-.94-.94-2.06-.94 2.06-2.06.94zm-11 1L8.5 8.5l.94-2.06 2.06-.94-2.06-.94L8.5 2.5l-.94 2.06-2.06.94zm10 10l.94 2.06.94-2.06 2.06-.94-2.06-.94-.94-2.06-.94 2.06-2.06.94z\"/><path d=\"M17.41 7.96l-1.37-1.37c-.4-.4-.92-.59-1.43-.59-.52 0-1.04.2-1.43.59L10.3 9.45l-7.72 7.72c-.78.78-.78 2.05 0 2.83L4 21.41c.39.39.9.59 1.41.59.51 0 1.02-.2 1.41-.59l7.78-7.78 2.81-2.81c.8-.78.8-2.07 0-2.86zM5.41 20L4 18.59l7.72-7.72 1.47 1.35L5.41 20z\"/>\n",
              "  </svg>\n",
              "      </button>\n",
              "      \n",
              "  <style>\n",
              "    .colab-df-container {\n",
              "      display:flex;\n",
              "      flex-wrap:wrap;\n",
              "      gap: 12px;\n",
              "    }\n",
              "\n",
              "    .colab-df-convert {\n",
              "      background-color: #E8F0FE;\n",
              "      border: none;\n",
              "      border-radius: 50%;\n",
              "      cursor: pointer;\n",
              "      display: none;\n",
              "      fill: #1967D2;\n",
              "      height: 32px;\n",
              "      padding: 0 0 0 0;\n",
              "      width: 32px;\n",
              "    }\n",
              "\n",
              "    .colab-df-convert:hover {\n",
              "      background-color: #E2EBFA;\n",
              "      box-shadow: 0px 1px 2px rgba(60, 64, 67, 0.3), 0px 1px 3px 1px rgba(60, 64, 67, 0.15);\n",
              "      fill: #174EA6;\n",
              "    }\n",
              "\n",
              "    [theme=dark] .colab-df-convert {\n",
              "      background-color: #3B4455;\n",
              "      fill: #D2E3FC;\n",
              "    }\n",
              "\n",
              "    [theme=dark] .colab-df-convert:hover {\n",
              "      background-color: #434B5C;\n",
              "      box-shadow: 0px 1px 3px 1px rgba(0, 0, 0, 0.15);\n",
              "      filter: drop-shadow(0px 1px 2px rgba(0, 0, 0, 0.3));\n",
              "      fill: #FFFFFF;\n",
              "    }\n",
              "  </style>\n",
              "\n",
              "      <script>\n",
              "        const buttonEl =\n",
              "          document.querySelector('#df-dee1fa5a-36a5-4ded-a566-6204e1aea1cd button.colab-df-convert');\n",
              "        buttonEl.style.display =\n",
              "          google.colab.kernel.accessAllowed ? 'block' : 'none';\n",
              "\n",
              "        async function convertToInteractive(key) {\n",
              "          const element = document.querySelector('#df-dee1fa5a-36a5-4ded-a566-6204e1aea1cd');\n",
              "          const dataTable =\n",
              "            await google.colab.kernel.invokeFunction('convertToInteractive',\n",
              "                                                     [key], {});\n",
              "          if (!dataTable) return;\n",
              "\n",
              "          const docLinkHtml = 'Like what you see? Visit the ' +\n",
              "            '<a target=\"_blank\" href=https://colab.research.google.com/notebooks/data_table.ipynb>data table notebook</a>'\n",
              "            + ' to learn more about interactive tables.';\n",
              "          element.innerHTML = '';\n",
              "          dataTable['output_type'] = 'display_data';\n",
              "          await google.colab.output.renderOutput(dataTable, element);\n",
              "          const docLink = document.createElement('div');\n",
              "          docLink.innerHTML = docLinkHtml;\n",
              "          element.appendChild(docLink);\n",
              "        }\n",
              "      </script>\n",
              "    </div>\n",
              "  </div>\n",
              "  "
            ],
            "text/plain": [
              "          bmi       age\n",
              "bmi  1.000000  0.109344\n",
              "age  0.109344  1.000000"
            ]
          },
          "metadata": {},
          "execution_count": 90
        }
      ]
    },
    {
      "cell_type": "code",
      "source": [
        "x = datadrive.bmi\n",
        "y = datadrive.age\n",
        "plt.scatter(x, y)\n",
        "plt.show()"
      ],
      "metadata": {
        "colab": {
          "base_uri": "https://localhost:8080/",
          "height": 265
        },
        "id": "ITQlmS-oS4Un",
        "outputId": "cac22110-84db-4388-d015-a479544e25a8"
      },
      "execution_count": null,
      "outputs": [
        {
          "output_type": "display_data",
          "data": {
            "image/png": "[encoded data removed]",
            "text/plain": [
              "<Figure size 432x288 with 1 Axes>"
            ]
          },
          "metadata": {
            "needs_background": "light"
          }
        }
      ]
    },
    {
      "cell_type": "code",
      "source": [
        "f= plt.figure(figsize=(14,6)) \n",
        "ax = f.add_subplot(121)\n",
        "\n",
        "sns.scatterplot(x = \"age\",y = \"bmi\", data = datadrive ,palette=\"magma\", hue=\"smoker\", ax=ax) \n",
        "ax.set_title('Scatter plot bmi vs age')"
      ],
      "metadata": {
        "colab": {
          "base_uri": "https://localhost:8080/",
          "height": 421
        },
        "id": "lo_R-VQyF_rh",
        "outputId": "179f449e-0f0e-40b6-e750-aaddc51d8af4"
      },
      "execution_count": null,
      "outputs": [
        {
          "output_type": "execute_result",
          "data": {
            "text/plain": [
              "Text(0.5, 1.0, 'Scatter plot bmi vs age')"
            ]
          },
          "metadata": {},
          "execution_count": 92
        },
        {
          "output_type": "display_data",
          "data": {
            "image/png": "[encoded data removed]",
            "text/plain": [
              "<Figure size 1008x432 with 1 Axes>"
            ]
          },
          "metadata": {
            "needs_background": "light"
          }
        }
      ]
    },
    {
      "cell_type": "code",
      "source": [
        "datadrive[[\"charges\",\"age\"]].corr()"
      ],
      "metadata": {
        "colab": {
          "base_uri": "https://localhost:8080/",
          "height": 112
        },
        "id": "e5VWj6i0NwMR",
        "outputId": "78dc3a0f-470b-487f-9a93-60c446a93036"
      },
      "execution_count": null,
      "outputs": [
        {
          "output_type": "execute_result",
          "data": {
            "text/html": [
              "\n",
              "  <div id=\"df-548a64e5-3528-4576-a29a-a7a2f3a6881c\">\n",
              "    <div class=\"colab-df-container\">\n",
              "      <div>\n",
              "<style scoped>\n",
              "    .dataframe tbody tr th:only-of-type {\n",
              "        vertical-align: middle;\n",
              "    }\n",
              "\n",
              "    .dataframe tbody tr th {\n",
              "        vertical-align: top;\n",
              "    }\n",
              "\n",
              "    .dataframe thead th {\n",
              "        text-align: right;\n",
              "    }\n",
              "</style>\n",
              "<table border=\"1\" class=\"dataframe\">\n",
              "  <thead>\n",
              "    <tr style=\"text-align: right;\">\n",
              "      <th></th>\n",
              "      <th>charges</th>\n",
              "      <th>age</th>\n",
              "    </tr>\n",
              "  </thead>\n",
              "  <tbody>\n",
              "    <tr>\n",
              "      <th>charges</th>\n",
              "      <td>1.000000</td>\n",
              "      <td>0.298308</td>\n",
              "    </tr>\n",
              "    <tr>\n",
              "      <th>age</th>\n",
              "      <td>0.298308</td>\n",
              "      <td>1.000000</td>\n",
              "    </tr>\n",
              "  </tbody>\n",
              "</table>\n",
              "</div>\n",
              "      <button class=\"colab-df-convert\" onclick=\"convertToInteractive('df-548a64e5-3528-4576-a29a-a7a2f3a6881c')\"\n",
              "              title=\"Convert this dataframe to an interactive table.\"\n",
              "              style=\"display:none;\">\n",
              "        \n",
              "  <svg xmlns=\"http://www.w3.org/2000/svg\" height=\"24px\"viewBox=\"0 0 24 24\"\n",
              "       width=\"24px\">\n",
              "    <path d=\"M0 0h24v24H0V0z\" fill=\"none\"/>\n",
              "    <path d=\"M18.56 5.44l.94 2.06.94-2.06 2.06-.94-2.06-.94-.94-2.06-.94 2.06-2.06.94zm-11 1L8.5 8.5l.94-2.06 2.06-.94-2.06-.94L8.5 2.5l-.94 2.06-2.06.94zm10 10l.94 2.06.94-2.06 2.06-.94-2.06-.94-.94-2.06-.94 2.06-2.06.94z\"/><path d=\"M17.41 7.96l-1.37-1.37c-.4-.4-.92-.59-1.43-.59-.52 0-1.04.2-1.43.59L10.3 9.45l-7.72 7.72c-.78.78-.78 2.05 0 2.83L4 21.41c.39.39.9.59 1.41.59.51 0 1.02-.2 1.41-.59l7.78-7.78 2.81-2.81c.8-.78.8-2.07 0-2.86zM5.41 20L4 18.59l7.72-7.72 1.47 1.35L5.41 20z\"/>\n",
              "  </svg>\n",
              "      </button>\n",
              "      \n",
              "  <style>\n",
              "    .colab-df-container {\n",
              "      display:flex;\n",
              "      flex-wrap:wrap;\n",
              "      gap: 12px;\n",
              "    }\n",
              "\n",
              "    .colab-df-convert {\n",
              "      background-color: #E8F0FE;\n",
              "      border: none;\n",
              "      border-radius: 50%;\n",
              "      cursor: pointer;\n",
              "      display: none;\n",
              "      fill: #1967D2;\n",
              "      height: 32px;\n",
              "      padding: 0 0 0 0;\n",
              "      width: 32px;\n",
              "    }\n",
              "\n",
              "    .colab-df-convert:hover {\n",
              "      background-color: #E2EBFA;\n",
              "      box-shadow: 0px 1px 2px rgba(60, 64, 67, 0.3), 0px 1px 3px 1px rgba(60, 64, 67, 0.15);\n",
              "      fill: #174EA6;\n",
              "    }\n",
              "\n",
              "    [theme=dark] .colab-df-convert {\n",
              "      background-color: #3B4455;\n",
              "      fill: #D2E3FC;\n",
              "    }\n",
              "\n",
              "    [theme=dark] .colab-df-convert:hover {\n",
              "      background-color: #434B5C;\n",
              "      box-shadow: 0px 1px 3px 1px rgba(0, 0, 0, 0.15);\n",
              "      filter: drop-shadow(0px 1px 2px rgba(0, 0, 0, 0.3));\n",
              "      fill: #FFFFFF;\n",
              "    }\n",
              "  </style>\n",
              "\n",
              "      <script>\n",
              "        const buttonEl =\n",
              "          document.querySelector('#df-548a64e5-3528-4576-a29a-a7a2f3a6881c button.colab-df-convert');\n",
              "        buttonEl.style.display =\n",
              "          google.colab.kernel.accessAllowed ? 'block' : 'none';\n",
              "\n",
              "        async function convertToInteractive(key) {\n",
              "          const element = document.querySelector('#df-548a64e5-3528-4576-a29a-a7a2f3a6881c');\n",
              "          const dataTable =\n",
              "            await google.colab.kernel.invokeFunction('convertToInteractive',\n",
              "                                                     [key], {});\n",
              "          if (!dataTable) return;\n",
              "\n",
              "          const docLinkHtml = 'Like what you see? Visit the ' +\n",
              "            '<a target=\"_blank\" href=https://colab.research.google.com/notebooks/data_table.ipynb>data table notebook</a>'\n",
              "            + ' to learn more about interactive tables.';\n",
              "          element.innerHTML = '';\n",
              "          dataTable['output_type'] = 'display_data';\n",
              "          await google.colab.output.renderOutput(dataTable, element);\n",
              "          const docLink = document.createElement('div');\n",
              "          docLink.innerHTML = docLinkHtml;\n",
              "          element.appendChild(docLink);\n",
              "        }\n",
              "      </script>\n",
              "    </div>\n",
              "  </div>\n",
              "  "
            ],
            "text/plain": [
              "          charges       age\n",
              "charges  1.000000  0.298308\n",
              "age      0.298308  1.000000"
            ]
          },
          "metadata": {},
          "execution_count": 93
        }
      ]
    },
    {
      "cell_type": "code",
      "source": [
        "x = datadrive.charges\n",
        "y = datadrive.age\n",
        "plt.scatter(x, y)\n",
        "plt.show()"
      ],
      "metadata": {
        "colab": {
          "base_uri": "https://localhost:8080/",
          "height": 265
        },
        "id": "BL-9elwtTeyY",
        "outputId": "5a838296-22c4-4f14-fb48-58edfaa50934"
      },
      "execution_count": null,
      "outputs": [
        {
          "output_type": "display_data",
          "data": {
            "image/png": "[encoded data removed]",
            "text/plain": [
              "<Figure size 432x288 with 1 Axes>"
            ]
          },
          "metadata": {
            "needs_background": "light"
          }
        }
      ]
    },
    {
      "cell_type": "code",
      "source": [
        "f= plt.figure(figsize=(14,6)) \n",
        "ax = f.add_subplot(121)\n",
        "\n",
        "sns.scatterplot(x = \"age\",y = \"charges\", data = datadrive ,palette=\"magma\", hue=\"smoker\", ax=ax) \n",
        "ax.set_title('Scatter plot Charges vs age')"
      ],
      "metadata": {
        "colab": {
          "base_uri": "https://localhost:8080/",
          "height": 421
        },
        "id": "356JD3IoFyek",
        "outputId": "94d46edc-cf3b-4efb-9622-378f47016600"
      },
      "execution_count": null,
      "outputs": [
        {
          "output_type": "execute_result",
          "data": {
            "text/plain": [
              "Text(0.5, 1.0, 'Scatter plot Charges vs age')"
            ]
          },
          "metadata": {},
          "execution_count": 95
        },
        {
          "output_type": "display_data",
          "data": {
            "image/png": "[encoded data removed]",
            "text/plain": [
              "<Figure size 1008x432 with 1 Axes>"
            ]
          },
          "metadata": {
            "needs_background": "light"
          }
        }
      ]
    },
    {
      "cell_type": "code",
      "source": [
        "datadrive[[\"bmi\",\"charges\"]].corr()"
      ],
      "metadata": {
        "colab": {
          "base_uri": "https://localhost:8080/",
          "height": 112
        },
        "id": "EcFmKKZtN2T4",
        "outputId": "25d36a44-00e3-4323-923b-94538358c0f2"
      },
      "execution_count": null,
      "outputs": [
        {
          "output_type": "execute_result",
          "data": {
            "text/html": [
              "\n",
              "  <div id=\"df-3aa198c7-024c-4ab4-a7c0-5df6a5afd9ea\">\n",
              "    <div class=\"colab-df-container\">\n",
              "      <div>\n",
              "<style scoped>\n",
              "    .dataframe tbody tr th:only-of-type {\n",
              "        vertical-align: middle;\n",
              "    }\n",
              "\n",
              "    .dataframe tbody tr th {\n",
              "        vertical-align: top;\n",
              "    }\n",
              "\n",
              "    .dataframe thead th {\n",
              "        text-align: right;\n",
              "    }\n",
              "</style>\n",
              "<table border=\"1\" class=\"dataframe\">\n",
              "  <thead>\n",
              "    <tr style=\"text-align: right;\">\n",
              "      <th></th>\n",
              "      <th>bmi</th>\n",
              "      <th>charges</th>\n",
              "    </tr>\n",
              "  </thead>\n",
              "  <tbody>\n",
              "    <tr>\n",
              "      <th>bmi</th>\n",
              "      <td>1.000000</td>\n",
              "      <td>0.198401</td>\n",
              "    </tr>\n",
              "    <tr>\n",
              "      <th>charges</th>\n",
              "      <td>0.198401</td>\n",
              "      <td>1.000000</td>\n",
              "    </tr>\n",
              "  </tbody>\n",
              "</table>\n",
              "</div>\n",
              "      <button class=\"colab-df-convert\" onclick=\"convertToInteractive('df-3aa198c7-024c-4ab4-a7c0-5df6a5afd9ea')\"\n",
              "              title=\"Convert this dataframe to an interactive table.\"\n",
              "              style=\"display:none;\">\n",
              "        \n",
              "  <svg xmlns=\"http://www.w3.org/2000/svg\" height=\"24px\"viewBox=\"0 0 24 24\"\n",
              "       width=\"24px\">\n",
              "    <path d=\"M0 0h24v24H0V0z\" fill=\"none\"/>\n",
              "    <path d=\"M18.56 5.44l.94 2.06.94-2.06 2.06-.94-2.06-.94-.94-2.06-.94 2.06-2.06.94zm-11 1L8.5 8.5l.94-2.06 2.06-.94-2.06-.94L8.5 2.5l-.94 2.06-2.06.94zm10 10l.94 2.06.94-2.06 2.06-.94-2.06-.94-.94-2.06-.94 2.06-2.06.94z\"/><path d=\"M17.41 7.96l-1.37-1.37c-.4-.4-.92-.59-1.43-.59-.52 0-1.04.2-1.43.59L10.3 9.45l-7.72 7.72c-.78.78-.78 2.05 0 2.83L4 21.41c.39.39.9.59 1.41.59.51 0 1.02-.2 1.41-.59l7.78-7.78 2.81-2.81c.8-.78.8-2.07 0-2.86zM5.41 20L4 18.59l7.72-7.72 1.47 1.35L5.41 20z\"/>\n",
              "  </svg>\n",
              "      </button>\n",
              "      \n",
              "  <style>\n",
              "    .colab-df-container {\n",
              "      display:flex;\n",
              "      flex-wrap:wrap;\n",
              "      gap: 12px;\n",
              "    }\n",
              "\n",
              "    .colab-df-convert {\n",
              "      background-color: #E8F0FE;\n",
              "      border: none;\n",
              "      border-radius: 50%;\n",
              "      cursor: pointer;\n",
              "      display: none;\n",
              "      fill: #1967D2;\n",
              "      height: 32px;\n",
              "      padding: 0 0 0 0;\n",
              "      width: 32px;\n",
              "    }\n",
              "\n",
              "    .colab-df-convert:hover {\n",
              "      background-color: #E2EBFA;\n",
              "      box-shadow: 0px 1px 2px rgba(60, 64, 67, 0.3), 0px 1px 3px 1px rgba(60, 64, 67, 0.15);\n",
              "      fill: #174EA6;\n",
              "    }\n",
              "\n",
              "    [theme=dark] .colab-df-convert {\n",
              "      background-color: #3B4455;\n",
              "      fill: #D2E3FC;\n",
              "    }\n",
              "\n",
              "    [theme=dark] .colab-df-convert:hover {\n",
              "      background-color: #434B5C;\n",
              "      box-shadow: 0px 1px 3px 1px rgba(0, 0, 0, 0.15);\n",
              "      filter: drop-shadow(0px 1px 2px rgba(0, 0, 0, 0.3));\n",
              "      fill: #FFFFFF;\n",
              "    }\n",
              "  </style>\n",
              "\n",
              "      <script>\n",
              "        const buttonEl =\n",
              "          document.querySelector('#df-3aa198c7-024c-4ab4-a7c0-5df6a5afd9ea button.colab-df-convert');\n",
              "        buttonEl.style.display =\n",
              "          google.colab.kernel.accessAllowed ? 'block' : 'none';\n",
              "\n",
              "        async function convertToInteractive(key) {\n",
              "          const element = document.querySelector('#df-3aa198c7-024c-4ab4-a7c0-5df6a5afd9ea');\n",
              "          const dataTable =\n",
              "            await google.colab.kernel.invokeFunction('convertToInteractive',\n",
              "                                                     [key], {});\n",
              "          if (!dataTable) return;\n",
              "\n",
              "          const docLinkHtml = 'Like what you see? Visit the ' +\n",
              "            '<a target=\"_blank\" href=https://colab.research.google.com/notebooks/data_table.ipynb>data table notebook</a>'\n",
              "            + ' to learn more about interactive tables.';\n",
              "          element.innerHTML = '';\n",
              "          dataTable['output_type'] = 'display_data';\n",
              "          await google.colab.output.renderOutput(dataTable, element);\n",
              "          const docLink = document.createElement('div');\n",
              "          docLink.innerHTML = docLinkHtml;\n",
              "          element.appendChild(docLink);\n",
              "        }\n",
              "      </script>\n",
              "    </div>\n",
              "  </div>\n",
              "  "
            ],
            "text/plain": [
              "              bmi   charges\n",
              "bmi      1.000000  0.198401\n",
              "charges  0.198401  1.000000"
            ]
          },
          "metadata": {},
          "execution_count": 96
        }
      ]
    },
    {
      "cell_type": "code",
      "source": [
        "x = datadrive.bmi\n",
        "y = datadrive.charges\n",
        "plt.scatter(x, y)\n",
        "plt.show()"
      ],
      "metadata": {
        "colab": {
          "base_uri": "https://localhost:8080/",
          "height": 265
        },
        "id": "8cEH5CUcTh2F",
        "outputId": "d5f05d43-6142-4ded-f337-506454d1bf82"
      },
      "execution_count": null,
      "outputs": [
        {
          "output_type": "display_data",
          "data": {
            "image/png": "[encoded data removed]",
            "text/plain": [
              "<Figure size 432x288 with 1 Axes>"
            ]
          },
          "metadata": {
            "needs_background": "light"
          }
        }
      ]
    },
    {
      "cell_type": "code",
      "source": [
        "f= plt.figure(figsize=(14,6)) \n",
        "ax = f.add_subplot(121)\n",
        "\n",
        "sns.scatterplot(x = \"bmi\",y = \"charges\", data = datadrive ,palette=\"magma\", hue=\"smoker\", ax=ax) \n",
        "ax.set_title('Scatter plot bmi vs charges')\n"
      ],
      "metadata": {
        "colab": {
          "base_uri": "https://localhost:8080/",
          "height": 421
        },
        "id": "Im5vst0HFnYt",
        "outputId": "4da551cc-9208-4084-cba5-0939196b3554"
      },
      "execution_count": null,
      "outputs": [
        {
          "output_type": "execute_result",
          "data": {
            "text/plain": [
              "Text(0.5, 1.0, 'Scatter plot bmi vs charges')"
            ]
          },
          "metadata": {},
          "execution_count": 98
        },
        {
          "output_type": "display_data",
          "data": {
            "image/png": "[encoded data removed]",
            "text/plain": [
              "<Figure size 1008x432 with 1 Axes>"
            ]
          },
          "metadata": {
            "needs_background": "light"
          }
        }
      ]
    },
    {
      "cell_type": "code",
      "source": [
        "datadrive[[\"children\",\"age\"]].corr()"
      ],
      "metadata": {
        "colab": {
          "base_uri": "https://localhost:8080/",
          "height": 112
        },
        "id": "bc_5n647N8K_",
        "outputId": "137e9149-217f-464e-b41e-cb87edf53c44"
      },
      "execution_count": null,
      "outputs": [
        {
          "output_type": "execute_result",
          "data": {
            "text/html": [
              "\n",
              "  <div id=\"df-6d494f8b-79ab-4695-9507-734c6dae85ad\">\n",
              "    <div class=\"colab-df-container\">\n",
              "      <div>\n",
              "<style scoped>\n",
              "    .dataframe tbody tr th:only-of-type {\n",
              "        vertical-align: middle;\n",
              "    }\n",
              "\n",
              "    .dataframe tbody tr th {\n",
              "        vertical-align: top;\n",
              "    }\n",
              "\n",
              "    .dataframe thead th {\n",
              "        text-align: right;\n",
              "    }\n",
              "</style>\n",
              "<table border=\"1\" class=\"dataframe\">\n",
              "  <thead>\n",
              "    <tr style=\"text-align: right;\">\n",
              "      <th></th>\n",
              "      <th>children</th>\n",
              "      <th>age</th>\n",
              "    </tr>\n",
              "  </thead>\n",
              "  <tbody>\n",
              "    <tr>\n",
              "      <th>children</th>\n",
              "      <td>1.000000</td>\n",
              "      <td>0.041536</td>\n",
              "    </tr>\n",
              "    <tr>\n",
              "      <th>age</th>\n",
              "      <td>0.041536</td>\n",
              "      <td>1.000000</td>\n",
              "    </tr>\n",
              "  </tbody>\n",
              "</table>\n",
              "</div>\n",
              "      <button class=\"colab-df-convert\" onclick=\"convertToInteractive('df-6d494f8b-79ab-4695-9507-734c6dae85ad')\"\n",
              "              title=\"Convert this dataframe to an interactive table.\"\n",
              "              style=\"display:none;\">\n",
              "        \n",
              "  <svg xmlns=\"http://www.w3.org/2000/svg\" height=\"24px\"viewBox=\"0 0 24 24\"\n",
              "       width=\"24px\">\n",
              "    <path d=\"M0 0h24v24H0V0z\" fill=\"none\"/>\n",
              "    <path d=\"M18.56 5.44l.94 2.06.94-2.06 2.06-.94-2.06-.94-.94-2.06-.94 2.06-2.06.94zm-11 1L8.5 8.5l.94-2.06 2.06-.94-2.06-.94L8.5 2.5l-.94 2.06-2.06.94zm10 10l.94 2.06.94-2.06 2.06-.94-2.06-.94-.94-2.06-.94 2.06-2.06.94z\"/><path d=\"M17.41 7.96l-1.37-1.37c-.4-.4-.92-.59-1.43-.59-.52 0-1.04.2-1.43.59L10.3 9.45l-7.72 7.72c-.78.78-.78 2.05 0 2.83L4 21.41c.39.39.9.59 1.41.59.51 0 1.02-.2 1.41-.59l7.78-7.78 2.81-2.81c.8-.78.8-2.07 0-2.86zM5.41 20L4 18.59l7.72-7.72 1.47 1.35L5.41 20z\"/>\n",
              "  </svg>\n",
              "      </button>\n",
              "      \n",
              "  <style>\n",
              "    .colab-df-container {\n",
              "      display:flex;\n",
              "      flex-wrap:wrap;\n",
              "      gap: 12px;\n",
              "    }\n",
              "\n",
              "    .colab-df-convert {\n",
              "      background-color: #E8F0FE;\n",
              "      border: none;\n",
              "      border-radius: 50%;\n",
              "      cursor: pointer;\n",
              "      display: none;\n",
              "      fill: #1967D2;\n",
              "      height: 32px;\n",
              "      padding: 0 0 0 0;\n",
              "      width: 32px;\n",
              "    }\n",
              "\n",
              "    .colab-df-convert:hover {\n",
              "      background-color: #E2EBFA;\n",
              "      box-shadow: 0px 1px 2px rgba(60, 64, 67, 0.3), 0px 1px 3px 1px rgba(60, 64, 67, 0.15);\n",
              "      fill: #174EA6;\n",
              "    }\n",
              "\n",
              "    [theme=dark] .colab-df-convert {\n",
              "      background-color: #3B4455;\n",
              "      fill: #D2E3FC;\n",
              "    }\n",
              "\n",
              "    [theme=dark] .colab-df-convert:hover {\n",
              "      background-color: #434B5C;\n",
              "      box-shadow: 0px 1px 3px 1px rgba(0, 0, 0, 0.15);\n",
              "      filter: drop-shadow(0px 1px 2px rgba(0, 0, 0, 0.3));\n",
              "      fill: #FFFFFF;\n",
              "    }\n",
              "  </style>\n",
              "\n",
              "      <script>\n",
              "        const buttonEl =\n",
              "          document.querySelector('#df-6d494f8b-79ab-4695-9507-734c6dae85ad button.colab-df-convert');\n",
              "        buttonEl.style.display =\n",
              "          google.colab.kernel.accessAllowed ? 'block' : 'none';\n",
              "\n",
              "        async function convertToInteractive(key) {\n",
              "          const element = document.querySelector('#df-6d494f8b-79ab-4695-9507-734c6dae85ad');\n",
              "          const dataTable =\n",
              "            await google.colab.kernel.invokeFunction('convertToInteractive',\n",
              "                                                     [key], {});\n",
              "          if (!dataTable) return;\n",
              "\n",
              "          const docLinkHtml = 'Like what you see? Visit the ' +\n",
              "            '<a target=\"_blank\" href=https://colab.research.google.com/notebooks/data_table.ipynb>data table notebook</a>'\n",
              "            + ' to learn more about interactive tables.';\n",
              "          element.innerHTML = '';\n",
              "          dataTable['output_type'] = 'display_data';\n",
              "          await google.colab.output.renderOutput(dataTable, element);\n",
              "          const docLink = document.createElement('div');\n",
              "          docLink.innerHTML = docLinkHtml;\n",
              "          element.appendChild(docLink);\n",
              "        }\n",
              "      </script>\n",
              "    </div>\n",
              "  </div>\n",
              "  "
            ],
            "text/plain": [
              "          children       age\n",
              "children  1.000000  0.041536\n",
              "age       0.041536  1.000000"
            ]
          },
          "metadata": {},
          "execution_count": 99
        }
      ]
    },
    {
      "cell_type": "code",
      "source": [
        "x = datadrive.children\n",
        "y = datadrive.age\n",
        "plt.scatter(x, y)\n",
        "plt.show()"
      ],
      "metadata": {
        "colab": {
          "base_uri": "https://localhost:8080/",
          "height": 265
        },
        "id": "m1wSDSQvTvmK",
        "outputId": "3e61623c-dd4b-4d67-fe7b-876f00c8979d"
      },
      "execution_count": null,
      "outputs": [
        {
          "output_type": "display_data",
          "data": {
            "image/png": "[encoded data removed]",
            "text/plain": [
              "<Figure size 432x288 with 1 Axes>"
            ]
          },
          "metadata": {
            "needs_background": "light"
          }
        }
      ]
    },
    {
      "cell_type": "code",
      "source": [
        "f= plt.figure(figsize=(14,6)) \n",
        "ax = f.add_subplot(121)\n",
        "\n",
        "sns.scatterplot(x = \"age\",y = \"children\", data = datadrive ,palette=\"magma\", hue=\"smoker\", ax=ax) \n",
        "ax.set_title('Scatter plot children vs age')"
      ],
      "metadata": {
        "colab": {
          "base_uri": "https://localhost:8080/",
          "height": 421
        },
        "id": "IvKNc3f_Fcd9",
        "outputId": "647f6e8f-ea2b-4685-995b-3a586b6f3510"
      },
      "execution_count": null,
      "outputs": [
        {
          "output_type": "execute_result",
          "data": {
            "text/plain": [
              "Text(0.5, 1.0, 'Scatter plot children vs age')"
            ]
          },
          "metadata": {},
          "execution_count": 101
        },
        {
          "output_type": "display_data",
          "data": {
            "image/png": "[encoded data removed]",
            "text/plain": [
              "<Figure size 1008x432 with 1 Axes>"
            ]
          },
          "metadata": {
            "needs_background": "light"
          }
        }
      ]
    },
    {
      "cell_type": "code",
      "source": [
        "correlacion = datadrive.corr()\n",
        "sns.heatmap(correlacion, annot=True)"
      ],
      "metadata": {
        "colab": {
          "base_uri": "https://localhost:8080/",
          "height": 286
        },
        "id": "r3Lhgxj2Jnq0",
        "outputId": "13da7df9-3e80-4109-bf68-4da7da7efa33"
      },
      "execution_count": null,
      "outputs": [
        {
          "output_type": "execute_result",
          "data": {
            "text/plain": [
              "<matplotlib.axes._subplots.AxesSubplot at 0x7fe805210f90>"
            ]
          },
          "metadata": {},
          "execution_count": 102
        },
        {
          "output_type": "display_data",
          "data": {
            "image/png": "[encoded data removed]",
            "text/plain": [
              "<Figure size 432x288 with 2 Axes>"
            ]
          },
          "metadata": {
            "needs_background": "light"
          }
        }
      ]
    },
    {
      "cell_type": "markdown",
      "source": [
        "# 3. Entrenamiento lineal multiple\n"
      ],
      "metadata": {
        "id": "npoHIpuqGHbz"
      }
    },
    {
      "cell_type": "markdown",
      "source": [
        "## Hipotesis 1 \n",
        "Utilizando solo las variables numericas Dado que lso modelos solo aceptan variables numericas, vamos a eliminar todas aquellas varuables que no lo son"
      ],
      "metadata": {
        "id": "NvZ1zOaGGpPj"
      }
    },
    {
      "cell_type": "code",
      "source": [
        "for col in datadrive.columns:\n",
        "  print(col +\" \"+ str(datadrive[col].dtype))"
      ],
      "metadata": {
        "colab": {
          "base_uri": "https://localhost:8080/"
        },
        "id": "gPBK-qymGSpg",
        "outputId": "cb4ba318-f52a-4aab-dfdd-14bcc50e687a"
      },
      "execution_count": null,
      "outputs": [
        {
          "output_type": "stream",
          "name": "stdout",
          "text": [
            "age int64\n",
            "sex object\n",
            "bmi float64\n",
            "children int64\n",
            "smoker object\n",
            "region object\n",
            "charges float64\n"
          ]
        }
      ]
    },
    {
      "cell_type": "code",
      "source": [
        "numeric_columns = datadrive[[\"age\",\"bmi\",\"charges\"]]"
      ],
      "metadata": {
        "id": "g34Dq9zsGjBD"
      },
      "execution_count": null,
      "outputs": []
    },
    {
      "cell_type": "code",
      "source": [
        "x_hipot1 = numeric_columns.drop(\"charges\",axis = 1) #Variables independientes\n",
        "y_hipot1 = numeric_columns[\"charges\"] # Variable dependiente"
      ],
      "metadata": {
        "id": "RF_ECnWbGkf8"
      },
      "execution_count": null,
      "outputs": []
    },
    {
      "cell_type": "code",
      "source": [
        "# Preparamos tarin data y test data\n",
        "x_hipot1_train, x_hipot1_test, y_hipot1_train, y_hipot1_test = train_test_split(x_hipot1, y_hipot1, test_size = 0.20, random_state = 43)"
      ],
      "metadata": {
        "id": "XFQBj8_eGmVW"
      },
      "execution_count": null,
      "outputs": []
    },
    {
      "cell_type": "code",
      "source": [
        "# Regresion lineal\n",
        "regresion_lineal.fit(x_hipot1_train,y_hipot1_train)"
      ],
      "metadata": {
        "colab": {
          "base_uri": "https://localhost:8080/"
        },
        "id": "zO8z523TGwHh",
        "outputId": "282237ca-3111-428f-fe53-807e9b8a5ae2"
      },
      "execution_count": null,
      "outputs": [
        {
          "output_type": "execute_result",
          "data": {
            "text/plain": [
              "LinearRegression()"
            ]
          },
          "metadata": {},
          "execution_count": 107
        }
      ]
    },
    {
      "cell_type": "markdown",
      "source": [
        "## Fase de validacion"
      ],
      "metadata": {
        "id": "MOmYO86E1zfe"
      }
    },
    {
      "cell_type": "code",
      "source": [
        "# predecimos lso valores y para los datos usados en el entrenamiento\n",
        "prediccion_entrenamiento = regresion_lineal.predict(x_hipot1_train)\n",
        "\n",
        "# Calculamos el error cuadratico medio (MSE)\n",
        "mse_hipot1_train =  mean_squared_error(y_true = y_hipot1_train, y_pred = prediccion_entrenamiento)\n",
        "print(\"Error cuadratico medio (MSE) Train: \"+ str(mse_hipot1_train))\n",
        "\n",
        "# Predecimos los valores y para los datos usados en el entrenamiento\n",
        "prediccion_entrenamiento = regresion_lineal.predict(x_hipot1_test)\n",
        "\n",
        "# Calculamos el Error Cuadratico Medio (MSE)\n",
        "mse_hipot1_test = mean_squared_error(y_true = y_hipot1_test, y_pred = prediccion_entrenamiento)\n",
        "print(\"Error cuadratico medio (MSE) test: \"+ str(mse_hipot1_test))"
      ],
      "metadata": {
        "colab": {
          "base_uri": "https://localhost:8080/"
        },
        "id": "vV1pffjz2K1H",
        "outputId": "f2183dd6-7e46-496d-cd30-041aac5c7875"
      },
      "execution_count": null,
      "outputs": [
        {
          "output_type": "stream",
          "name": "stdout",
          "text": [
            "Error cuadratico medio (MSE) Train: 129511343.61223857\n",
            "Error cuadratico medio (MSE) test: 129309414.5045359\n"
          ]
        }
      ]
    },
    {
      "cell_type": "markdown",
      "source": [
        "## Hipotesis 2: \n",
        "Transformar las variables categoricas en variables numericas"
      ],
      "metadata": {
        "id": "KmqS3Z9B3u_z"
      }
    },
    {
      "cell_type": "code",
      "source": [
        "for col in datadrive.columns:\n",
        "  print(col +\" \"+ str(datadrive[col].dtype))"
      ],
      "metadata": {
        "colab": {
          "base_uri": "https://localhost:8080/"
        },
        "id": "aRINwGBG5B9P",
        "outputId": "7786d334-b911-4582-dfb8-e7e1b8438c75"
      },
      "execution_count": null,
      "outputs": [
        {
          "output_type": "stream",
          "name": "stdout",
          "text": [
            "age int64\n",
            "sex object\n",
            "bmi float64\n",
            "children int64\n",
            "smoker object\n",
            "region object\n",
            "charges float64\n"
          ]
        }
      ]
    },
    {
      "cell_type": "code",
      "source": [
        "datadrive"
      ],
      "metadata": {
        "id": "j8IGE7HNSRUK",
        "outputId": "8ef5438a-8818-43ac-fc70-f1908984e4d5",
        "colab": {
          "base_uri": "https://localhost:8080/",
          "height": 424
        }
      },
      "execution_count": null,
      "outputs": [
        {
          "output_type": "execute_result",
          "data": {
            "text/html": [
              "\n",
              "  <div id=\"df-58bccf21-8099-4fb3-960f-e2bb1ab302cc\">\n",
              "    <div class=\"colab-df-container\">\n",
              "      <div>\n",
              "<style scoped>\n",
              "    .dataframe tbody tr th:only-of-type {\n",
              "        vertical-align: middle;\n",
              "    }\n",
              "\n",
              "    .dataframe tbody tr th {\n",
              "        vertical-align: top;\n",
              "    }\n",
              "\n",
              "    .dataframe thead th {\n",
              "        text-align: right;\n",
              "    }\n",
              "</style>\n",
              "<table border=\"1\" class=\"dataframe\">\n",
              "  <thead>\n",
              "    <tr style=\"text-align: right;\">\n",
              "      <th></th>\n",
              "      <th>age</th>\n",
              "      <th>sex</th>\n",
              "      <th>bmi</th>\n",
              "      <th>children</th>\n",
              "      <th>smoker</th>\n",
              "      <th>region</th>\n",
              "      <th>charges</th>\n",
              "    </tr>\n",
              "  </thead>\n",
              "  <tbody>\n",
              "    <tr>\n",
              "      <th>0</th>\n",
              "      <td>19</td>\n",
              "      <td>female</td>\n",
              "      <td>27.900</td>\n",
              "      <td>0</td>\n",
              "      <td>yes</td>\n",
              "      <td>southwest</td>\n",
              "      <td>16884.92400</td>\n",
              "    </tr>\n",
              "    <tr>\n",
              "      <th>1</th>\n",
              "      <td>18</td>\n",
              "      <td>male</td>\n",
              "      <td>33.770</td>\n",
              "      <td>1</td>\n",
              "      <td>no</td>\n",
              "      <td>southeast</td>\n",
              "      <td>1725.55230</td>\n",
              "    </tr>\n",
              "    <tr>\n",
              "      <th>2</th>\n",
              "      <td>28</td>\n",
              "      <td>male</td>\n",
              "      <td>33.000</td>\n",
              "      <td>3</td>\n",
              "      <td>no</td>\n",
              "      <td>southeast</td>\n",
              "      <td>4449.46200</td>\n",
              "    </tr>\n",
              "    <tr>\n",
              "      <th>3</th>\n",
              "      <td>33</td>\n",
              "      <td>male</td>\n",
              "      <td>22.705</td>\n",
              "      <td>0</td>\n",
              "      <td>no</td>\n",
              "      <td>northwest</td>\n",
              "      <td>21984.47061</td>\n",
              "    </tr>\n",
              "    <tr>\n",
              "      <th>4</th>\n",
              "      <td>32</td>\n",
              "      <td>male</td>\n",
              "      <td>28.880</td>\n",
              "      <td>0</td>\n",
              "      <td>no</td>\n",
              "      <td>northwest</td>\n",
              "      <td>3866.85520</td>\n",
              "    </tr>\n",
              "    <tr>\n",
              "      <th>...</th>\n",
              "      <td>...</td>\n",
              "      <td>...</td>\n",
              "      <td>...</td>\n",
              "      <td>...</td>\n",
              "      <td>...</td>\n",
              "      <td>...</td>\n",
              "      <td>...</td>\n",
              "    </tr>\n",
              "    <tr>\n",
              "      <th>1333</th>\n",
              "      <td>50</td>\n",
              "      <td>male</td>\n",
              "      <td>30.970</td>\n",
              "      <td>3</td>\n",
              "      <td>no</td>\n",
              "      <td>northwest</td>\n",
              "      <td>10600.54830</td>\n",
              "    </tr>\n",
              "    <tr>\n",
              "      <th>1334</th>\n",
              "      <td>18</td>\n",
              "      <td>female</td>\n",
              "      <td>31.920</td>\n",
              "      <td>0</td>\n",
              "      <td>no</td>\n",
              "      <td>northeast</td>\n",
              "      <td>2205.98080</td>\n",
              "    </tr>\n",
              "    <tr>\n",
              "      <th>1335</th>\n",
              "      <td>18</td>\n",
              "      <td>female</td>\n",
              "      <td>36.850</td>\n",
              "      <td>0</td>\n",
              "      <td>no</td>\n",
              "      <td>southeast</td>\n",
              "      <td>1629.83350</td>\n",
              "    </tr>\n",
              "    <tr>\n",
              "      <th>1336</th>\n",
              "      <td>21</td>\n",
              "      <td>female</td>\n",
              "      <td>25.800</td>\n",
              "      <td>0</td>\n",
              "      <td>no</td>\n",
              "      <td>southwest</td>\n",
              "      <td>2007.94500</td>\n",
              "    </tr>\n",
              "    <tr>\n",
              "      <th>1337</th>\n",
              "      <td>61</td>\n",
              "      <td>female</td>\n",
              "      <td>29.070</td>\n",
              "      <td>0</td>\n",
              "      <td>yes</td>\n",
              "      <td>northwest</td>\n",
              "      <td>29141.36030</td>\n",
              "    </tr>\n",
              "  </tbody>\n",
              "</table>\n",
              "<p>1337 rows × 7 columns</p>\n",
              "</div>\n",
              "      <button class=\"colab-df-convert\" onclick=\"convertToInteractive('df-58bccf21-8099-4fb3-960f-e2bb1ab302cc')\"\n",
              "              title=\"Convert this dataframe to an interactive table.\"\n",
              "              style=\"display:none;\">\n",
              "        \n",
              "  <svg xmlns=\"http://www.w3.org/2000/svg\" height=\"24px\"viewBox=\"0 0 24 24\"\n",
              "       width=\"24px\">\n",
              "    <path d=\"M0 0h24v24H0V0z\" fill=\"none\"/>\n",
              "    <path d=\"M18.56 5.44l.94 2.06.94-2.06 2.06-.94-2.06-.94-.94-2.06-.94 2.06-2.06.94zm-11 1L8.5 8.5l.94-2.06 2.06-.94-2.06-.94L8.5 2.5l-.94 2.06-2.06.94zm10 10l.94 2.06.94-2.06 2.06-.94-2.06-.94-.94-2.06-.94 2.06-2.06.94z\"/><path d=\"M17.41 7.96l-1.37-1.37c-.4-.4-.92-.59-1.43-.59-.52 0-1.04.2-1.43.59L10.3 9.45l-7.72 7.72c-.78.78-.78 2.05 0 2.83L4 21.41c.39.39.9.59 1.41.59.51 0 1.02-.2 1.41-.59l7.78-7.78 2.81-2.81c.8-.78.8-2.07 0-2.86zM5.41 20L4 18.59l7.72-7.72 1.47 1.35L5.41 20z\"/>\n",
              "  </svg>\n",
              "      </button>\n",
              "      \n",
              "  <style>\n",
              "    .colab-df-container {\n",
              "      display:flex;\n",
              "      flex-wrap:wrap;\n",
              "      gap: 12px;\n",
              "    }\n",
              "\n",
              "    .colab-df-convert {\n",
              "      background-color: #E8F0FE;\n",
              "      border: none;\n",
              "      border-radius: 50%;\n",
              "      cursor: pointer;\n",
              "      display: none;\n",
              "      fill: #1967D2;\n",
              "      height: 32px;\n",
              "      padding: 0 0 0 0;\n",
              "      width: 32px;\n",
              "    }\n",
              "\n",
              "    .colab-df-convert:hover {\n",
              "      background-color: #E2EBFA;\n",
              "      box-shadow: 0px 1px 2px rgba(60, 64, 67, 0.3), 0px 1px 3px 1px rgba(60, 64, 67, 0.15);\n",
              "      fill: #174EA6;\n",
              "    }\n",
              "\n",
              "    [theme=dark] .colab-df-convert {\n",
              "      background-color: #3B4455;\n",
              "      fill: #D2E3FC;\n",
              "    }\n",
              "\n",
              "    [theme=dark] .colab-df-convert:hover {\n",
              "      background-color: #434B5C;\n",
              "      box-shadow: 0px 1px 3px 1px rgba(0, 0, 0, 0.15);\n",
              "      filter: drop-shadow(0px 1px 2px rgba(0, 0, 0, 0.3));\n",
              "      fill: #FFFFFF;\n",
              "    }\n",
              "  </style>\n",
              "\n",
              "      <script>\n",
              "        const buttonEl =\n",
              "          document.querySelector('#df-58bccf21-8099-4fb3-960f-e2bb1ab302cc button.colab-df-convert');\n",
              "        buttonEl.style.display =\n",
              "          google.colab.kernel.accessAllowed ? 'block' : 'none';\n",
              "\n",
              "        async function convertToInteractive(key) {\n",
              "          const element = document.querySelector('#df-58bccf21-8099-4fb3-960f-e2bb1ab302cc');\n",
              "          const dataTable =\n",
              "            await google.colab.kernel.invokeFunction('convertToInteractive',\n",
              "                                                     [key], {});\n",
              "          if (!dataTable) return;\n",
              "\n",
              "          const docLinkHtml = 'Like what you see? Visit the ' +\n",
              "            '<a target=\"_blank\" href=https://colab.research.google.com/notebooks/data_table.ipynb>data table notebook</a>'\n",
              "            + ' to learn more about interactive tables.';\n",
              "          element.innerHTML = '';\n",
              "          dataTable['output_type'] = 'display_data';\n",
              "          await google.colab.output.renderOutput(dataTable, element);\n",
              "          const docLink = document.createElement('div');\n",
              "          docLink.innerHTML = docLinkHtml;\n",
              "          element.appendChild(docLink);\n",
              "        }\n",
              "      </script>\n",
              "    </div>\n",
              "  </div>\n",
              "  "
            ],
            "text/plain": [
              "      age     sex     bmi  children smoker     region      charges\n",
              "0      19  female  27.900         0    yes  southwest  16884.92400\n",
              "1      18    male  33.770         1     no  southeast   1725.55230\n",
              "2      28    male  33.000         3     no  southeast   4449.46200\n",
              "3      33    male  22.705         0     no  northwest  21984.47061\n",
              "4      32    male  28.880         0     no  northwest   3866.85520\n",
              "...   ...     ...     ...       ...    ...        ...          ...\n",
              "1333   50    male  30.970         3     no  northwest  10600.54830\n",
              "1334   18  female  31.920         0     no  northeast   2205.98080\n",
              "1335   18  female  36.850         0     no  southeast   1629.83350\n",
              "1336   21  female  25.800         0     no  southwest   2007.94500\n",
              "1337   61  female  29.070         0    yes  northwest  29141.36030\n",
              "\n",
              "[1337 rows x 7 columns]"
            ]
          },
          "metadata": {},
          "execution_count": 151
        }
      ]
    },
    {
      "cell_type": "code",
      "source": [
        "categorical_columns = [\"sex\",\"children\",\"smoker\",\"region\"]"
      ],
      "metadata": {
        "id": "3ERu6BV24t7e"
      },
      "execution_count": null,
      "outputs": []
    },
    {
      "cell_type": "code",
      "source": [
        "# Preparamos el dataset de la hipotenusa 2\n",
        "categorical_columns_hipot2 = pd.get_dummies(data = datadrive, prefix = \"OHE\", prefix_sep = \"_\", columns = categorical_columns, drop_first=True, dtype = \"int8\")"
      ],
      "metadata": {
        "id": "6VcpgIFU33Ak"
      },
      "execution_count": null,
      "outputs": []
    },
    {
      "cell_type": "code",
      "source": [
        "categorical_columns_hipot2"
      ],
      "metadata": {
        "colab": {
          "base_uri": "https://localhost:8080/",
          "height": 424
        },
        "id": "UWuzmpmo4hnh",
        "outputId": "83b1865e-8b14-4f3b-821f-096b24f6053b"
      },
      "execution_count": null,
      "outputs": [
        {
          "output_type": "execute_result",
          "data": {
            "text/html": [
              "\n",
              "  <div id=\"df-e2ff1318-4052-4eec-bec8-b3aa8484255b\">\n",
              "    <div class=\"colab-df-container\">\n",
              "      <div>\n",
              "<style scoped>\n",
              "    .dataframe tbody tr th:only-of-type {\n",
              "        vertical-align: middle;\n",
              "    }\n",
              "\n",
              "    .dataframe tbody tr th {\n",
              "        vertical-align: top;\n",
              "    }\n",
              "\n",
              "    .dataframe thead th {\n",
              "        text-align: right;\n",
              "    }\n",
              "</style>\n",
              "<table border=\"1\" class=\"dataframe\">\n",
              "  <thead>\n",
              "    <tr style=\"text-align: right;\">\n",
              "      <th></th>\n",
              "      <th>age</th>\n",
              "      <th>bmi</th>\n",
              "      <th>charges</th>\n",
              "      <th>OHE_male</th>\n",
              "      <th>OHE_1</th>\n",
              "      <th>OHE_2</th>\n",
              "      <th>OHE_3</th>\n",
              "      <th>OHE_4</th>\n",
              "      <th>OHE_5</th>\n",
              "      <th>OHE_yes</th>\n",
              "      <th>OHE_northwest</th>\n",
              "      <th>OHE_southeast</th>\n",
              "      <th>OHE_southwest</th>\n",
              "    </tr>\n",
              "  </thead>\n",
              "  <tbody>\n",
              "    <tr>\n",
              "      <th>0</th>\n",
              "      <td>19</td>\n",
              "      <td>27.900</td>\n",
              "      <td>16884.92400</td>\n",
              "      <td>0</td>\n",
              "      <td>0</td>\n",
              "      <td>0</td>\n",
              "      <td>0</td>\n",
              "      <td>0</td>\n",
              "      <td>0</td>\n",
              "      <td>1</td>\n",
              "      <td>0</td>\n",
              "      <td>0</td>\n",
              "      <td>1</td>\n",
              "    </tr>\n",
              "    <tr>\n",
              "      <th>1</th>\n",
              "      <td>18</td>\n",
              "      <td>33.770</td>\n",
              "      <td>1725.55230</td>\n",
              "      <td>1</td>\n",
              "      <td>1</td>\n",
              "      <td>0</td>\n",
              "      <td>0</td>\n",
              "      <td>0</td>\n",
              "      <td>0</td>\n",
              "      <td>0</td>\n",
              "      <td>0</td>\n",
              "      <td>1</td>\n",
              "      <td>0</td>\n",
              "    </tr>\n",
              "    <tr>\n",
              "      <th>2</th>\n",
              "      <td>28</td>\n",
              "      <td>33.000</td>\n",
              "      <td>4449.46200</td>\n",
              "      <td>1</td>\n",
              "      <td>0</td>\n",
              "      <td>0</td>\n",
              "      <td>1</td>\n",
              "      <td>0</td>\n",
              "      <td>0</td>\n",
              "      <td>0</td>\n",
              "      <td>0</td>\n",
              "      <td>1</td>\n",
              "      <td>0</td>\n",
              "    </tr>\n",
              "    <tr>\n",
              "      <th>3</th>\n",
              "      <td>33</td>\n",
              "      <td>22.705</td>\n",
              "      <td>21984.47061</td>\n",
              "      <td>1</td>\n",
              "      <td>0</td>\n",
              "      <td>0</td>\n",
              "      <td>0</td>\n",
              "      <td>0</td>\n",
              "      <td>0</td>\n",
              "      <td>0</td>\n",
              "      <td>1</td>\n",
              "      <td>0</td>\n",
              "      <td>0</td>\n",
              "    </tr>\n",
              "    <tr>\n",
              "      <th>4</th>\n",
              "      <td>32</td>\n",
              "      <td>28.880</td>\n",
              "      <td>3866.85520</td>\n",
              "      <td>1</td>\n",
              "      <td>0</td>\n",
              "      <td>0</td>\n",
              "      <td>0</td>\n",
              "      <td>0</td>\n",
              "      <td>0</td>\n",
              "      <td>0</td>\n",
              "      <td>1</td>\n",
              "      <td>0</td>\n",
              "      <td>0</td>\n",
              "    </tr>\n",
              "    <tr>\n",
              "      <th>...</th>\n",
              "      <td>...</td>\n",
              "      <td>...</td>\n",
              "      <td>...</td>\n",
              "      <td>...</td>\n",
              "      <td>...</td>\n",
              "      <td>...</td>\n",
              "      <td>...</td>\n",
              "      <td>...</td>\n",
              "      <td>...</td>\n",
              "      <td>...</td>\n",
              "      <td>...</td>\n",
              "      <td>...</td>\n",
              "      <td>...</td>\n",
              "    </tr>\n",
              "    <tr>\n",
              "      <th>1333</th>\n",
              "      <td>50</td>\n",
              "      <td>30.970</td>\n",
              "      <td>10600.54830</td>\n",
              "      <td>1</td>\n",
              "      <td>0</td>\n",
              "      <td>0</td>\n",
              "      <td>1</td>\n",
              "      <td>0</td>\n",
              "      <td>0</td>\n",
              "      <td>0</td>\n",
              "      <td>1</td>\n",
              "      <td>0</td>\n",
              "      <td>0</td>\n",
              "    </tr>\n",
              "    <tr>\n",
              "      <th>1334</th>\n",
              "      <td>18</td>\n",
              "      <td>31.920</td>\n",
              "      <td>2205.98080</td>\n",
              "      <td>0</td>\n",
              "      <td>0</td>\n",
              "      <td>0</td>\n",
              "      <td>0</td>\n",
              "      <td>0</td>\n",
              "      <td>0</td>\n",
              "      <td>0</td>\n",
              "      <td>0</td>\n",
              "      <td>0</td>\n",
              "      <td>0</td>\n",
              "    </tr>\n",
              "    <tr>\n",
              "      <th>1335</th>\n",
              "      <td>18</td>\n",
              "      <td>36.850</td>\n",
              "      <td>1629.83350</td>\n",
              "      <td>0</td>\n",
              "      <td>0</td>\n",
              "      <td>0</td>\n",
              "      <td>0</td>\n",
              "      <td>0</td>\n",
              "      <td>0</td>\n",
              "      <td>0</td>\n",
              "      <td>0</td>\n",
              "      <td>1</td>\n",
              "      <td>0</td>\n",
              "    </tr>\n",
              "    <tr>\n",
              "      <th>1336</th>\n",
              "      <td>21</td>\n",
              "      <td>25.800</td>\n",
              "      <td>2007.94500</td>\n",
              "      <td>0</td>\n",
              "      <td>0</td>\n",
              "      <td>0</td>\n",
              "      <td>0</td>\n",
              "      <td>0</td>\n",
              "      <td>0</td>\n",
              "      <td>0</td>\n",
              "      <td>0</td>\n",
              "      <td>0</td>\n",
              "      <td>1</td>\n",
              "    </tr>\n",
              "    <tr>\n",
              "      <th>1337</th>\n",
              "      <td>61</td>\n",
              "      <td>29.070</td>\n",
              "      <td>29141.36030</td>\n",
              "      <td>0</td>\n",
              "      <td>0</td>\n",
              "      <td>0</td>\n",
              "      <td>0</td>\n",
              "      <td>0</td>\n",
              "      <td>0</td>\n",
              "      <td>1</td>\n",
              "      <td>1</td>\n",
              "      <td>0</td>\n",
              "      <td>0</td>\n",
              "    </tr>\n",
              "  </tbody>\n",
              "</table>\n",
              "<p>1337 rows × 13 columns</p>\n",
              "</div>\n",
              "      <button class=\"colab-df-convert\" onclick=\"convertToInteractive('df-e2ff1318-4052-4eec-bec8-b3aa8484255b')\"\n",
              "              title=\"Convert this dataframe to an interactive table.\"\n",
              "              style=\"display:none;\">\n",
              "        \n",
              "  <svg xmlns=\"http://www.w3.org/2000/svg\" height=\"24px\"viewBox=\"0 0 24 24\"\n",
              "       width=\"24px\">\n",
              "    <path d=\"M0 0h24v24H0V0z\" fill=\"none\"/>\n",
              "    <path d=\"M18.56 5.44l.94 2.06.94-2.06 2.06-.94-2.06-.94-.94-2.06-.94 2.06-2.06.94zm-11 1L8.5 8.5l.94-2.06 2.06-.94-2.06-.94L8.5 2.5l-.94 2.06-2.06.94zm10 10l.94 2.06.94-2.06 2.06-.94-2.06-.94-.94-2.06-.94 2.06-2.06.94z\"/><path d=\"M17.41 7.96l-1.37-1.37c-.4-.4-.92-.59-1.43-.59-.52 0-1.04.2-1.43.59L10.3 9.45l-7.72 7.72c-.78.78-.78 2.05 0 2.83L4 21.41c.39.39.9.59 1.41.59.51 0 1.02-.2 1.41-.59l7.78-7.78 2.81-2.81c.8-.78.8-2.07 0-2.86zM5.41 20L4 18.59l7.72-7.72 1.47 1.35L5.41 20z\"/>\n",
              "  </svg>\n",
              "      </button>\n",
              "      \n",
              "  <style>\n",
              "    .colab-df-container {\n",
              "      display:flex;\n",
              "      flex-wrap:wrap;\n",
              "      gap: 12px;\n",
              "    }\n",
              "\n",
              "    .colab-df-convert {\n",
              "      background-color: #E8F0FE;\n",
              "      border: none;\n",
              "      border-radius: 50%;\n",
              "      cursor: pointer;\n",
              "      display: none;\n",
              "      fill: #1967D2;\n",
              "      height: 32px;\n",
              "      padding: 0 0 0 0;\n",
              "      width: 32px;\n",
              "    }\n",
              "\n",
              "    .colab-df-convert:hover {\n",
              "      background-color: #E2EBFA;\n",
              "      box-shadow: 0px 1px 2px rgba(60, 64, 67, 0.3), 0px 1px 3px 1px rgba(60, 64, 67, 0.15);\n",
              "      fill: #174EA6;\n",
              "    }\n",
              "\n",
              "    [theme=dark] .colab-df-convert {\n",
              "      background-color: #3B4455;\n",
              "      fill: #D2E3FC;\n",
              "    }\n",
              "\n",
              "    [theme=dark] .colab-df-convert:hover {\n",
              "      background-color: #434B5C;\n",
              "      box-shadow: 0px 1px 3px 1px rgba(0, 0, 0, 0.15);\n",
              "      filter: drop-shadow(0px 1px 2px rgba(0, 0, 0, 0.3));\n",
              "      fill: #FFFFFF;\n",
              "    }\n",
              "  </style>\n",
              "\n",
              "      <script>\n",
              "        const buttonEl =\n",
              "          document.querySelector('#df-e2ff1318-4052-4eec-bec8-b3aa8484255b button.colab-df-convert');\n",
              "        buttonEl.style.display =\n",
              "          google.colab.kernel.accessAllowed ? 'block' : 'none';\n",
              "\n",
              "        async function convertToInteractive(key) {\n",
              "          const element = document.querySelector('#df-e2ff1318-4052-4eec-bec8-b3aa8484255b');\n",
              "          const dataTable =\n",
              "            await google.colab.kernel.invokeFunction('convertToInteractive',\n",
              "                                                     [key], {});\n",
              "          if (!dataTable) return;\n",
              "\n",
              "          const docLinkHtml = 'Like what you see? Visit the ' +\n",
              "            '<a target=\"_blank\" href=https://colab.research.google.com/notebooks/data_table.ipynb>data table notebook</a>'\n",
              "            + ' to learn more about interactive tables.';\n",
              "          element.innerHTML = '';\n",
              "          dataTable['output_type'] = 'display_data';\n",
              "          await google.colab.output.renderOutput(dataTable, element);\n",
              "          const docLink = document.createElement('div');\n",
              "          docLink.innerHTML = docLinkHtml;\n",
              "          element.appendChild(docLink);\n",
              "        }\n",
              "      </script>\n",
              "    </div>\n",
              "  </div>\n",
              "  "
            ],
            "text/plain": [
              "      age     bmi      charges  ...  OHE_northwest  OHE_southeast  OHE_southwest\n",
              "0      19  27.900  16884.92400  ...              0              0              1\n",
              "1      18  33.770   1725.55230  ...              0              1              0\n",
              "2      28  33.000   4449.46200  ...              0              1              0\n",
              "3      33  22.705  21984.47061  ...              1              0              0\n",
              "4      32  28.880   3866.85520  ...              1              0              0\n",
              "...   ...     ...          ...  ...            ...            ...            ...\n",
              "1333   50  30.970  10600.54830  ...              1              0              0\n",
              "1334   18  31.920   2205.98080  ...              0              0              0\n",
              "1335   18  36.850   1629.83350  ...              0              1              0\n",
              "1336   21  25.800   2007.94500  ...              0              0              1\n",
              "1337   61  29.070  29141.36030  ...              1              0              0\n",
              "\n",
              "[1337 rows x 13 columns]"
            ]
          },
          "metadata": {},
          "execution_count": 112
        }
      ]
    },
    {
      "cell_type": "code",
      "source": [
        "x_hipot2 = categorical_columns_hipot2.drop(\"charges\",axis = 1) #Variables independientes\n",
        "y_hipot2 = categorical_columns_hipot2[\"charges\"] # Variable dependiente"
      ],
      "metadata": {
        "id": "sxgCzP8m4cke"
      },
      "execution_count": null,
      "outputs": []
    },
    {
      "cell_type": "code",
      "source": [
        "# Preparamos tarin data y test data\n",
        "x_hipot2_train, x_hipot2_test, y_hipot2_train, y_hipot2_test = train_test_split(x_hipot2, y_hipot2, test_size = 0.20, random_state = 43)"
      ],
      "metadata": {
        "id": "_XJo4Sdo6zkQ"
      },
      "execution_count": null,
      "outputs": []
    },
    {
      "cell_type": "code",
      "source": [
        "# Regresion lineal\n",
        "regresion_lineal.fit(x_hipot2_train,y_hipot2_train)"
      ],
      "metadata": {
        "colab": {
          "base_uri": "https://localhost:8080/"
        },
        "outputId": "b93a9de6-f6c9-4d44-fb67-67c98e110095",
        "id": "XXNZT_YU65X6"
      },
      "execution_count": null,
      "outputs": [
        {
          "output_type": "execute_result",
          "data": {
            "text/plain": [
              "LinearRegression()"
            ]
          },
          "metadata": {},
          "execution_count": 115
        }
      ]
    },
    {
      "cell_type": "markdown",
      "source": [
        "## Fase de validacion"
      ],
      "metadata": {
        "id": "KAa0hMHf7Jlt"
      }
    },
    {
      "cell_type": "code",
      "source": [
        "# predecimos los valores y para los datos usados en el entrenamiento\n",
        "prediccion_entrenamiento = regresion_lineal.predict(x_hipot2_train)\n",
        "\n",
        "\n",
        "# Calculamos el error cuadratico medio (MSE)\n",
        "mse_hipot2_train =  mean_squared_error(y_true = y_hipot2_train, y_pred = prediccion_entrenamiento)\n",
        "print(\"Error cuadratico medio (MSE) Train 1: \"+ str(mse_hipot1_train))\n",
        "print(\"Error cuadratico medio (MSE) Train 2: \"+ str(mse_hipot2_train))\n",
        "\n",
        "\n",
        "# Predecimos los valores y para los datos usados en el entrenamiento\n",
        "prediccion_entrenamiento = regresion_lineal.predict(x_hipot2_test)\n",
        "\n",
        "# Calculamos el Error Cuadratico Medio (MSE)\n",
        "mse_hipot2_test = mean_squared_error(y_true = y_hipot1_test, y_pred = prediccion_entrenamiento)\n",
        "print(\"Error cuadratico medio (MSE) test 1: \"+ str(mse_hipot1_test))\n",
        "print(\"Error cuadratico medio (MSE) test 2: \"+ str(mse_hipot2_test))"
      ],
      "metadata": {
        "colab": {
          "base_uri": "https://localhost:8080/"
        },
        "outputId": "97dbdfcf-4eb2-4ada-e20d-86b7b5232ed4",
        "id": "mfI8goIz7Jlt"
      },
      "execution_count": null,
      "outputs": [
        {
          "output_type": "stream",
          "name": "stdout",
          "text": [
            "Error cuadratico medio (MSE) Train 1: 129511343.61223857\n",
            "Error cuadratico medio (MSE) Train 2: 36036622.56880779\n",
            "Error cuadratico medio (MSE) test 1: 129309414.5045359\n",
            "Error cuadratico medio (MSE) test 2: 38148226.45768796\n"
          ]
        }
      ]
    },
    {
      "cell_type": "markdown",
      "source": [
        "## Hipotesis 3"
      ],
      "metadata": {
        "id": "fa20sqad9u_7"
      }
    },
    {
      "cell_type": "code",
      "source": [
        "#Se prepara el dataset de la hipotesis 3\n",
        "data_hipt3 = pd.get_dummies(data = datadrive, prefix = \"OHE\", prefix_sep = \"_\", columns = categorical_columns, drop_first=True, dtype = \"int8\")"
      ],
      "metadata": {
        "id": "prMZs96Z11lg"
      },
      "execution_count": null,
      "outputs": []
    },
    {
      "cell_type": "code",
      "source": [
        "x_hipot3 = categorical_columns_hipot2.drop(\"charges\",axis = 1) #Variables independientes\n",
        "y_hipot3 = categorical_columns_hipot2[\"charges\"] # Variable dependiente"
      ],
      "metadata": {
        "id": "INKHWvYs-ITn"
      },
      "execution_count": null,
      "outputs": []
    },
    {
      "cell_type": "code",
      "source": [
        "# se escala la variable charges para hacerla mas estandar\n",
        "scaler = StandardScaler()\n",
        "\n",
        "\"\"\"Los algortimos de preprocessing de skelearn estan preparados para convertir matrices pro lo que tenemos que hacer una transformacion de nuestra variable y ya que es una variable de tipo Series, \n",
        "para ello hacemos un .to_numpy que nos convierte la serie en un array y luego hacemos un reshape (-1,1) para transformar un array de 1xn en una matriz de nx1\"\"\"\n",
        "y_hipot3 = scaler.fit_transform(y_hipot3.to_numpy().reshape(-1,1))\n",
        "# Se vueolve a transformar nuestra variable en un array de 1xn\n",
        "y_hipot3 = y_hipot3.reshape(1,-1)[0]"
      ],
      "metadata": {
        "id": "09GoDkJ0-PED"
      },
      "execution_count": null,
      "outputs": []
    },
    {
      "cell_type": "code",
      "source": [
        "x_hipot3_train, x_hipot3_test, y_hipot3_train, y_hipot3_test = train_test_split(x_hipot3, y_hipot3, test_size = 0.20, random_state = 43)"
      ],
      "metadata": {
        "id": "v5-wjvYV_nji"
      },
      "execution_count": null,
      "outputs": []
    },
    {
      "cell_type": "code",
      "source": [
        "# Regresion lineal\n",
        "regresion_lineal.fit(x_hipot3_train,y_hipot3_train)"
      ],
      "metadata": {
        "id": "gDmbRBnjAI1o",
        "outputId": "428e10b6-a94d-4099-ee2d-0da5a9f9eac5",
        "colab": {
          "base_uri": "https://localhost:8080/"
        }
      },
      "execution_count": null,
      "outputs": [
        {
          "output_type": "execute_result",
          "data": {
            "text/plain": [
              "LinearRegression()"
            ]
          },
          "metadata": {},
          "execution_count": 121
        }
      ]
    },
    {
      "cell_type": "markdown",
      "source": [
        "## Fase de validacion"
      ],
      "metadata": {
        "id": "hOWi_SQ-H4lC"
      }
    },
    {
      "cell_type": "code",
      "source": [
        "# predecimos los valores y para los datos usados en el entrenamiento\n",
        "prediccion_entrenamiento = regresion_lineal.predict(x_hipot3_train)\n",
        "\n",
        "\n",
        "# Calculamos el error cuadratico medio (MSE)\n",
        "mse_hipot3_train =  mean_squared_error(y_true = y_hipot3_train, y_pred = prediccion_entrenamiento)\n",
        "print(\"Error cuadratico medio (MSE) Train 1: \"+ str(mse_hipot1_train))\n",
        "print(\"Error cuadratico medio (MSE) Train 2: \"+ str(mse_hipot2_train))\n",
        "print(\"Error cuadratico medio (MSE) Train 3: \"+ str(mse_hipot3_train))\n",
        "\n",
        "\n",
        "\n",
        "# Predecimos los valores y para los datos usados en el entrenamiento\n",
        "prediccion_entrenamiento = regresion_lineal.predict(x_hipot3_test)\n",
        "\n",
        "# Calculamos el Error Cuadratico Medio (MSE)\n",
        "mse_hipot3_test = mean_squared_error(y_true = y_hipot3_test, y_pred = prediccion_entrenamiento)\n",
        "print(\"Error cuadratico medio (MSE) test 1: \"+ str(mse_hipot1_test))\n",
        "print(\"Error cuadratico medio (MSE) test 2: \"+ str(mse_hipot2_test))\n",
        "print(\"Error cuadratico medio (MSE) test 3: \"+ str(mse_hipot3_test))"
      ],
      "metadata": {
        "colab": {
          "base_uri": "https://localhost:8080/"
        },
        "outputId": "12a871d8-d541-4ec1-b3b3-d34b71b50335",
        "id": "Vs37lVIZARHy"
      },
      "execution_count": null,
      "outputs": [
        {
          "output_type": "stream",
          "name": "stdout",
          "text": [
            "Error cuadratico medio (MSE) Train 1: 129511343.61223857\n",
            "Error cuadratico medio (MSE) Train 2: 36036622.56880779\n",
            "Error cuadratico medio (MSE) Train 3: 0.24589797261667348\n",
            "Error cuadratico medio (MSE) test 1: 129309414.5045359\n",
            "Error cuadratico medio (MSE) test 2: 38148226.45768796\n",
            "Error cuadratico medio (MSE) test 3: 0.260306623545425\n"
          ]
        }
      ]
    },
    {
      "cell_type": "markdown",
      "source": [
        "# Hipotesis 4\n",
        "Predecir la edad de los usuarios con las variables numericas "
      ],
      "metadata": {
        "id": "sXsorRSqIsMO"
      }
    },
    {
      "cell_type": "code",
      "source": [
        "for col in datadrive.columns:\n",
        "  print(col +\" \"+ str(datadrive[col].dtype))"
      ],
      "metadata": {
        "colab": {
          "base_uri": "https://localhost:8080/"
        },
        "id": "Vbr22dxsKPT8",
        "outputId": "2839e9be-590f-41a5-f7b2-a081191d1f7b"
      },
      "execution_count": null,
      "outputs": [
        {
          "output_type": "stream",
          "name": "stdout",
          "text": [
            "age int64\n",
            "sex object\n",
            "bmi float64\n",
            "children int64\n",
            "smoker object\n",
            "region object\n",
            "charges float64\n"
          ]
        }
      ]
    },
    {
      "cell_type": "code",
      "source": [
        "numeric_columns = datadrive[[\"age\",\"bmi\",\"charges\"]]"
      ],
      "metadata": {
        "id": "TTamHk0ZKSPi"
      },
      "execution_count": null,
      "outputs": []
    },
    {
      "cell_type": "code",
      "source": [
        "x_hipot4 = numeric_columns.drop(\"age\",axis = 1) #Variables independientes\n",
        "y_hipot4 = numeric_columns[\"age\"] # Variable dependiente\n",
        "x_hipot41 = numeric_columns.drop(\"age\",axis = 1) #Variables independientes\n",
        "y_hipot41 = numeric_columns[\"age\"] # Variable dependiente"
      ],
      "metadata": {
        "id": "rXVhdQcxKaZc"
      },
      "execution_count": null,
      "outputs": []
    },
    {
      "cell_type": "code",
      "source": [
        "# Preparamos tarin data y test data\n",
        "x_hipot4_train, x_hipot4_test, y_hipot4_train, y_hipot4_test = train_test_split(x_hipot4, y_hipot4, test_size = 0.20, random_state = 43)\n",
        "x_hipot41_train, x_hipot41_test, y_hipot41_train, y_hipot41_test = train_test_split(x_hipot41, y_hipot41, test_size = 0.20, random_state = 43)"
      ],
      "metadata": {
        "id": "L0AABFVXIrW2"
      },
      "execution_count": null,
      "outputs": []
    },
    {
      "cell_type": "code",
      "source": [
        "# Regresion lineal\n",
        "regresion_lineal.fit(x_hipot4_train,y_hipot4_train)"
      ],
      "metadata": {
        "colab": {
          "base_uri": "https://localhost:8080/"
        },
        "id": "DpwuCHtuKlc6",
        "outputId": "a6d53b35-6229-4621-a4e0-692cb719ab78"
      },
      "execution_count": null,
      "outputs": [
        {
          "output_type": "execute_result",
          "data": {
            "text/plain": [
              "LinearRegression()"
            ]
          },
          "metadata": {},
          "execution_count": 127
        }
      ]
    },
    {
      "cell_type": "markdown",
      "source": [
        "## Fase de validacion"
      ],
      "metadata": {
        "id": "dkGp21iwKypA"
      }
    },
    {
      "cell_type": "code",
      "source": [
        "# predecimos lso valores y para los datos usados en el entrenamiento\n",
        "prediccion_entrenamiento = regresion_lineal.predict(x_hipot4_train)\n",
        "\n",
        "# Calculamos el error cuadratico medio (MSE)\n",
        "mse_hipot4_train =  mean_squared_error(y_true = y_hipot4_train, y_pred = prediccion_entrenamiento)\n",
        "print(\"Error cuadratico medio (MSE) Train 1: \"+ str(mse_hipot1_train))\n",
        "print(\"Error cuadratico medio (MSE) Train 2: \"+ str(mse_hipot2_train))\n",
        "print(\"Error cuadratico medio (MSE) Train 3: \"+ str(mse_hipot3_train))\n",
        "print(\"Error cuadratico medio (MSE) Train 4: \"+ str(mse_hipot4_train))\n",
        "\n",
        "\n",
        "# Predecimos los valores y para los datos usados en el entrenamiento\n",
        "prediccion_entrenamiento = regresion_lineal.predict(x_hipot4_test)\n",
        "\n",
        "# Calculamos el Error Cuadratico Medio (MSE)\n",
        "mse_hipot4_test = mean_squared_error(y_true = y_hipot4_test, y_pred = prediccion_entrenamiento)\n",
        "print(\"Error cuadratico medio (MSE) test 1: \"+ str(mse_hipot1_test))\n",
        "print(\"Error cuadratico medio (MSE) test 2: \"+ str(mse_hipot2_test))\n",
        "print(\"Error cuadratico medio (MSE) test 3: \"+ str(mse_hipot3_test))\n",
        "print(\"Error cuadratico medio (MSE) test 4: \"+ str(mse_hipot4_test))"
      ],
      "metadata": {
        "colab": {
          "base_uri": "https://localhost:8080/"
        },
        "outputId": "ceb73582-1ea7-4073-d9df-22699949fbcf",
        "id": "AYg2sc3aKypA"
      },
      "execution_count": null,
      "outputs": [
        {
          "output_type": "stream",
          "name": "stdout",
          "text": [
            "Error cuadratico medio (MSE) Train 1: 129511343.61223857\n",
            "Error cuadratico medio (MSE) Train 2: 36036622.56880779\n",
            "Error cuadratico medio (MSE) Train 3: 0.24589797261667348\n",
            "Error cuadratico medio (MSE) Train 4: 176.29420502660435\n",
            "Error cuadratico medio (MSE) test 1: 129309414.5045359\n",
            "Error cuadratico medio (MSE) test 2: 38148226.45768796\n",
            "Error cuadratico medio (MSE) test 3: 0.260306623545425\n",
            "Error cuadratico medio (MSE) test 4: 190.24851755289953\n"
          ]
        }
      ]
    },
    {
      "cell_type": "markdown",
      "source": [
        "Sin esaclar la variable el resultado es muy alto pero no tanto como en el train 1 y 2"
      ],
      "metadata": {
        "id": "T_CxLvpELWNf"
      }
    },
    {
      "cell_type": "markdown",
      "source": [
        "## caso con escalacion"
      ],
      "metadata": {
        "id": "_yOn6ROYL3BI"
      }
    },
    {
      "cell_type": "code",
      "source": [
        "scaler = StandardScaler()\n",
        "\n",
        "\"\"\"Los algortimos de preprocessing de skelearn estan preparados para convertir matrices pro lo que tenemos que hacer una transformacion de nuestra variable y ya que es una variable de tipo Series, \n",
        "para ello hacemos un .to_numpy que nos convierte la serie en un array y luego hacemos un reshape (-1,1) para transformar un array de 1xn en una matriz de nx1\"\"\"\n",
        "y_hipot41 = scaler.fit_transform(y_hipot41.to_numpy().reshape(-1,1))\n",
        "# Se vueolve a transformar nuestra variable en un array de 1xn\n",
        "y_hipot41 = y_hipot41.reshape(1,-1)[0]"
      ],
      "metadata": {
        "id": "1RDheaccLiWc"
      },
      "execution_count": null,
      "outputs": []
    },
    {
      "cell_type": "code",
      "source": [
        "x_hipot41_train, x_hipot41_test, y_hipot41_train, y_hipot41_test = train_test_split(x_hipot41, y_hipot41, test_size = 0.20, random_state = 43)"
      ],
      "metadata": {
        "id": "7bfpG2_CLcNK"
      },
      "execution_count": null,
      "outputs": []
    },
    {
      "cell_type": "code",
      "source": [
        "# Regresion lineal\n",
        "regresion_lineal.fit(x_hipot41_train,y_hipot41_train)"
      ],
      "metadata": {
        "colab": {
          "base_uri": "https://localhost:8080/"
        },
        "id": "Dh41C_j8L5vs",
        "outputId": "08217597-d06f-4aaf-8b19-b25d0bbdde81"
      },
      "execution_count": null,
      "outputs": [
        {
          "output_type": "execute_result",
          "data": {
            "text/plain": [
              "LinearRegression()"
            ]
          },
          "metadata": {},
          "execution_count": 131
        }
      ]
    },
    {
      "cell_type": "markdown",
      "source": [
        "## Fase de validacion"
      ],
      "metadata": {
        "id": "fMkqBNiFMBDW"
      }
    },
    {
      "cell_type": "code",
      "source": [
        "# predecimos los valores y para los datos usados en el entrenamiento\n",
        "prediccion_entrenamiento = regresion_lineal.predict(x_hipot41_train)\n",
        "\n",
        "\n",
        "# Calculamos el error cuadratico medio (MSE)\n",
        "mse_hipot41_train =  mean_squared_error(y_true = y_hipot41_train, y_pred = prediccion_entrenamiento)\n",
        "print(\"Error cuadratico medio (MSE) Train 1: \"+ str(mse_hipot1_train))\n",
        "print(\"Error cuadratico medio (MSE) Train 2: \"+ str(mse_hipot2_train))\n",
        "print(\"Error cuadratico medio (MSE) Train 3: \"+ str(mse_hipot3_train))\n",
        "print(\"Error cuadratico medio (MSE) Train 4: \"+ str(mse_hipot4_train))\n",
        "print(\"Error cuadratico medio (MSE) Train 4_1: \"+ str(mse_hipot41_train))\n",
        "\n",
        "# Predecimos los valores y para los datos usados en el entrenamiento\n",
        "prediccion_entrenamiento = regresion_lineal.predict(x_hipot41_test)\n",
        "\n",
        "# Calculamos el Error Cuadratico Medio (MSE)\n",
        "mse_hipot41_test = mean_squared_error(y_true = y_hipot41_test, y_pred = prediccion_entrenamiento)\n",
        "print(\"Error cuadratico medio (MSE) test 1: \"+ str(mse_hipot1_test))\n",
        "print(\"Error cuadratico medio (MSE) test 2: \"+ str(mse_hipot2_test))\n",
        "print(\"Error cuadratico medio (MSE) test 3: \"+ str(mse_hipot3_test))\n",
        "print(\"Error cuadratico medio (MSE) test 4: \"+ str(mse_hipot4_test))\n",
        "print(\"Error cuadratico medio (MSE) Train 4_1: \"+ str(mse_hipot41_test))\n"
      ],
      "metadata": {
        "colab": {
          "base_uri": "https://localhost:8080/"
        },
        "outputId": "52f7085b-6a37-4e8d-ed1f-aafa70808262",
        "id": "yMwUpjMFMBDW"
      },
      "execution_count": null,
      "outputs": [
        {
          "output_type": "stream",
          "name": "stdout",
          "text": [
            "Error cuadratico medio (MSE) Train 1: 129511343.61223857\n",
            "Error cuadratico medio (MSE) Train 2: 36036622.56880779\n",
            "Error cuadratico medio (MSE) Train 3: 0.24589797261667348\n",
            "Error cuadratico medio (MSE) Train 4: 176.29420502660435\n",
            "Error cuadratico medio (MSE) Train 4_1: 0.8944596744931267\n",
            "Error cuadratico medio (MSE) test 1: 129309414.5045359\n",
            "Error cuadratico medio (MSE) test 2: 38148226.45768796\n",
            "Error cuadratico medio (MSE) test 3: 0.260306623545425\n",
            "Error cuadratico medio (MSE) test 4: 190.24851755289953\n",
            "Error cuadratico medio (MSE) Train 4_1: 0.9652593348572425\n"
          ]
        }
      ]
    },
    {
      "cell_type": "markdown",
      "source": [
        "Al realizar la escalacion vemos que el numero se acerca mas a lo esperado, la duda que tendria aqui es si se puede realizar este escalamiento debido a que las edades no tienen un rango tan alto como lo es la prima del seguro"
      ],
      "metadata": {
        "id": "HzfPlWOAOaYt"
      }
    },
    {
      "cell_type": "markdown",
      "source": [
        "# Hipotesis 5\n",
        "calcular el indice de masa corporal con el sexo y la edad haciendo transformacion en el sexo"
      ],
      "metadata": {
        "id": "w9bTTxewIuy8"
      }
    },
    {
      "cell_type": "code",
      "source": [
        "categorical_columns = [\"sex\"]"
      ],
      "metadata": {
        "id": "_z2kQOokIwWx"
      },
      "execution_count": null,
      "outputs": []
    },
    {
      "cell_type": "code",
      "source": [
        "datadrive2 = datadrive[[\"age\",\"bmi\",\"sex\"]]"
      ],
      "metadata": {
        "id": "5DDxIYuaPeyp"
      },
      "execution_count": null,
      "outputs": []
    },
    {
      "cell_type": "code",
      "source": [
        "categorical_columns_hipot5 = pd.get_dummies(data = datadrive2, prefix = \"OHE\", prefix_sep = \"_\", columns = categorical_columns, drop_first=True, dtype = \"int8\")"
      ],
      "metadata": {
        "id": "T6KuHwf_Pq9-"
      },
      "execution_count": null,
      "outputs": []
    },
    {
      "cell_type": "code",
      "source": [
        "categorical_columns_hipot5"
      ],
      "metadata": {
        "id": "CAvBoXxxPzsk",
        "colab": {
          "base_uri": "https://localhost:8080/",
          "height": 424
        },
        "outputId": "25da3912-8599-4369-88e1-1a4cbf68ab59"
      },
      "execution_count": null,
      "outputs": [
        {
          "output_type": "execute_result",
          "data": {
            "text/html": [
              "\n",
              "  <div id=\"df-d158e43c-1390-4f5f-9716-cbcf684e7a57\">\n",
              "    <div class=\"colab-df-container\">\n",
              "      <div>\n",
              "<style scoped>\n",
              "    .dataframe tbody tr th:only-of-type {\n",
              "        vertical-align: middle;\n",
              "    }\n",
              "\n",
              "    .dataframe tbody tr th {\n",
              "        vertical-align: top;\n",
              "    }\n",
              "\n",
              "    .dataframe thead th {\n",
              "        text-align: right;\n",
              "    }\n",
              "</style>\n",
              "<table border=\"1\" class=\"dataframe\">\n",
              "  <thead>\n",
              "    <tr style=\"text-align: right;\">\n",
              "      <th></th>\n",
              "      <th>age</th>\n",
              "      <th>bmi</th>\n",
              "      <th>OHE_male</th>\n",
              "    </tr>\n",
              "  </thead>\n",
              "  <tbody>\n",
              "    <tr>\n",
              "      <th>0</th>\n",
              "      <td>19</td>\n",
              "      <td>27.900</td>\n",
              "      <td>0</td>\n",
              "    </tr>\n",
              "    <tr>\n",
              "      <th>1</th>\n",
              "      <td>18</td>\n",
              "      <td>33.770</td>\n",
              "      <td>1</td>\n",
              "    </tr>\n",
              "    <tr>\n",
              "      <th>2</th>\n",
              "      <td>28</td>\n",
              "      <td>33.000</td>\n",
              "      <td>1</td>\n",
              "    </tr>\n",
              "    <tr>\n",
              "      <th>3</th>\n",
              "      <td>33</td>\n",
              "      <td>22.705</td>\n",
              "      <td>1</td>\n",
              "    </tr>\n",
              "    <tr>\n",
              "      <th>4</th>\n",
              "      <td>32</td>\n",
              "      <td>28.880</td>\n",
              "      <td>1</td>\n",
              "    </tr>\n",
              "    <tr>\n",
              "      <th>...</th>\n",
              "      <td>...</td>\n",
              "      <td>...</td>\n",
              "      <td>...</td>\n",
              "    </tr>\n",
              "    <tr>\n",
              "      <th>1333</th>\n",
              "      <td>50</td>\n",
              "      <td>30.970</td>\n",
              "      <td>1</td>\n",
              "    </tr>\n",
              "    <tr>\n",
              "      <th>1334</th>\n",
              "      <td>18</td>\n",
              "      <td>31.920</td>\n",
              "      <td>0</td>\n",
              "    </tr>\n",
              "    <tr>\n",
              "      <th>1335</th>\n",
              "      <td>18</td>\n",
              "      <td>36.850</td>\n",
              "      <td>0</td>\n",
              "    </tr>\n",
              "    <tr>\n",
              "      <th>1336</th>\n",
              "      <td>21</td>\n",
              "      <td>25.800</td>\n",
              "      <td>0</td>\n",
              "    </tr>\n",
              "    <tr>\n",
              "      <th>1337</th>\n",
              "      <td>61</td>\n",
              "      <td>29.070</td>\n",
              "      <td>0</td>\n",
              "    </tr>\n",
              "  </tbody>\n",
              "</table>\n",
              "<p>1337 rows × 3 columns</p>\n",
              "</div>\n",
              "      <button class=\"colab-df-convert\" onclick=\"convertToInteractive('df-d158e43c-1390-4f5f-9716-cbcf684e7a57')\"\n",
              "              title=\"Convert this dataframe to an interactive table.\"\n",
              "              style=\"display:none;\">\n",
              "        \n",
              "  <svg xmlns=\"http://www.w3.org/2000/svg\" height=\"24px\"viewBox=\"0 0 24 24\"\n",
              "       width=\"24px\">\n",
              "    <path d=\"M0 0h24v24H0V0z\" fill=\"none\"/>\n",
              "    <path d=\"M18.56 5.44l.94 2.06.94-2.06 2.06-.94-2.06-.94-.94-2.06-.94 2.06-2.06.94zm-11 1L8.5 8.5l.94-2.06 2.06-.94-2.06-.94L8.5 2.5l-.94 2.06-2.06.94zm10 10l.94 2.06.94-2.06 2.06-.94-2.06-.94-.94-2.06-.94 2.06-2.06.94z\"/><path d=\"M17.41 7.96l-1.37-1.37c-.4-.4-.92-.59-1.43-.59-.52 0-1.04.2-1.43.59L10.3 9.45l-7.72 7.72c-.78.78-.78 2.05 0 2.83L4 21.41c.39.39.9.59 1.41.59.51 0 1.02-.2 1.41-.59l7.78-7.78 2.81-2.81c.8-.78.8-2.07 0-2.86zM5.41 20L4 18.59l7.72-7.72 1.47 1.35L5.41 20z\"/>\n",
              "  </svg>\n",
              "      </button>\n",
              "      \n",
              "  <style>\n",
              "    .colab-df-container {\n",
              "      display:flex;\n",
              "      flex-wrap:wrap;\n",
              "      gap: 12px;\n",
              "    }\n",
              "\n",
              "    .colab-df-convert {\n",
              "      background-color: #E8F0FE;\n",
              "      border: none;\n",
              "      border-radius: 50%;\n",
              "      cursor: pointer;\n",
              "      display: none;\n",
              "      fill: #1967D2;\n",
              "      height: 32px;\n",
              "      padding: 0 0 0 0;\n",
              "      width: 32px;\n",
              "    }\n",
              "\n",
              "    .colab-df-convert:hover {\n",
              "      background-color: #E2EBFA;\n",
              "      box-shadow: 0px 1px 2px rgba(60, 64, 67, 0.3), 0px 1px 3px 1px rgba(60, 64, 67, 0.15);\n",
              "      fill: #174EA6;\n",
              "    }\n",
              "\n",
              "    [theme=dark] .colab-df-convert {\n",
              "      background-color: #3B4455;\n",
              "      fill: #D2E3FC;\n",
              "    }\n",
              "\n",
              "    [theme=dark] .colab-df-convert:hover {\n",
              "      background-color: #434B5C;\n",
              "      box-shadow: 0px 1px 3px 1px rgba(0, 0, 0, 0.15);\n",
              "      filter: drop-shadow(0px 1px 2px rgba(0, 0, 0, 0.3));\n",
              "      fill: #FFFFFF;\n",
              "    }\n",
              "  </style>\n",
              "\n",
              "      <script>\n",
              "        const buttonEl =\n",
              "          document.querySelector('#df-d158e43c-1390-4f5f-9716-cbcf684e7a57 button.colab-df-convert');\n",
              "        buttonEl.style.display =\n",
              "          google.colab.kernel.accessAllowed ? 'block' : 'none';\n",
              "\n",
              "        async function convertToInteractive(key) {\n",
              "          const element = document.querySelector('#df-d158e43c-1390-4f5f-9716-cbcf684e7a57');\n",
              "          const dataTable =\n",
              "            await google.colab.kernel.invokeFunction('convertToInteractive',\n",
              "                                                     [key], {});\n",
              "          if (!dataTable) return;\n",
              "\n",
              "          const docLinkHtml = 'Like what you see? Visit the ' +\n",
              "            '<a target=\"_blank\" href=https://colab.research.google.com/notebooks/data_table.ipynb>data table notebook</a>'\n",
              "            + ' to learn more about interactive tables.';\n",
              "          element.innerHTML = '';\n",
              "          dataTable['output_type'] = 'display_data';\n",
              "          await google.colab.output.renderOutput(dataTable, element);\n",
              "          const docLink = document.createElement('div');\n",
              "          docLink.innerHTML = docLinkHtml;\n",
              "          element.appendChild(docLink);\n",
              "        }\n",
              "      </script>\n",
              "    </div>\n",
              "  </div>\n",
              "  "
            ],
            "text/plain": [
              "      age     bmi  OHE_male\n",
              "0      19  27.900         0\n",
              "1      18  33.770         1\n",
              "2      28  33.000         1\n",
              "3      33  22.705         1\n",
              "4      32  28.880         1\n",
              "...   ...     ...       ...\n",
              "1333   50  30.970         1\n",
              "1334   18  31.920         0\n",
              "1335   18  36.850         0\n",
              "1336   21  25.800         0\n",
              "1337   61  29.070         0\n",
              "\n",
              "[1337 rows x 3 columns]"
            ]
          },
          "metadata": {},
          "execution_count": 136
        }
      ]
    },
    {
      "cell_type": "code",
      "source": [
        "x_hipot5 = categorical_columns_hipot5.drop(\"bmi\",axis = 1) #Variables independientes\n",
        "y_hipot5 = categorical_columns_hipot5[\"bmi\"] # Variable dependiente\n",
        "x_hipot51 = categorical_columns_hipot5.drop(\"bmi\",axis = 1) #Variables independientes\n",
        "y_hipot51 = categorical_columns_hipot5[\"bmi\"] # Variable dependiente"
      ],
      "metadata": {
        "id": "ThkSv5jOP6-h"
      },
      "execution_count": null,
      "outputs": []
    },
    {
      "cell_type": "code",
      "source": [
        "# Preparamos tarin data y test data\n",
        "x_hipot5_train, x_hipot5_test, y_hipot5_train, y_hipot5_test = train_test_split(x_hipot5, y_hipot5, test_size = 0.20, random_state = 43)\n",
        "x_hipot51_train, x_hipot51_test, y_hipot51_train, y_hipot51_test = train_test_split(x_hipot51, y_hipot51, test_size = 0.20, random_state = 43)"
      ],
      "metadata": {
        "id": "RqoZCyZlQIFl"
      },
      "execution_count": null,
      "outputs": []
    },
    {
      "cell_type": "code",
      "source": [
        "# Regresion lineal\n",
        "regresion_lineal.fit(x_hipot5_train,y_hipot5_train)"
      ],
      "metadata": {
        "id": "jkSuy2WaQRC7",
        "colab": {
          "base_uri": "https://localhost:8080/"
        },
        "outputId": "8a11a4fb-43cf-4c10-e452-c8b32e767378"
      },
      "execution_count": null,
      "outputs": [
        {
          "output_type": "execute_result",
          "data": {
            "text/plain": [
              "LinearRegression()"
            ]
          },
          "metadata": {},
          "execution_count": 139
        }
      ]
    },
    {
      "cell_type": "markdown",
      "source": [
        "## Fase de validacion"
      ],
      "metadata": {
        "id": "D7t64YEyQZ1_"
      }
    },
    {
      "cell_type": "code",
      "source": [
        "# predecimos los valores y para los datos usados en el entrenamiento\n",
        "prediccion_entrenamiento = regresion_lineal.predict(x_hipot5_train)\n",
        "\n",
        "\n",
        "# Calculamos el error cuadratico medio (MSE)\n",
        "mse_hipot5_train =  mean_squared_error(y_true = y_hipot5_train, y_pred = prediccion_entrenamiento)\n",
        "print(\"Error cuadratico medio (MSE) Train 1: \"+ str(mse_hipot1_train))\n",
        "print(\"Error cuadratico medio (MSE) Train 2: \"+ str(mse_hipot2_train))\n",
        "print(\"Error cuadratico medio (MSE) Train 3: \"+ str(mse_hipot3_train))\n",
        "print(\"Error cuadratico medio (MSE) Train 4: \"+ str(mse_hipot4_train))\n",
        "print(\"Error cuadratico medio (MSE) Train 4_1: \"+ str(mse_hipot41_train))\n",
        "print(\"Error cuadratico medio (MSE) Train 5: \"+ str(mse_hipot5_train))\n",
        "\n",
        "\n",
        "# Predecimos los valores y para los datos usados en el entrenamiento\n",
        "prediccion_entrenamiento = regresion_lineal.predict(x_hipot5_test)\n",
        "\n",
        "# Calculamos el Error Cuadratico Medio (MSE)\n",
        "mse_hipot5_test = mean_squared_error(y_true = y_hipot5_test, y_pred = prediccion_entrenamiento)\n",
        "print(\"Error cuadratico medio (MSE) test 1: \"+ str(mse_hipot1_test))\n",
        "print(\"Error cuadratico medio (MSE) test 2: \"+ str(mse_hipot2_test))\n",
        "print(\"Error cuadratico medio (MSE) test 3: \"+ str(mse_hipot3_test))\n",
        "print(\"Error cuadratico medio (MSE) test 4: \"+ str(mse_hipot4_test))\n",
        "print(\"Error cuadratico medio (MSE) Train 4_1: \"+ str(mse_hipot41_test))\n",
        "print(\"Error cuadratico medio (MSE) Train 5: \"+ str(mse_hipot5_test))"
      ],
      "metadata": {
        "id": "O2qDpz8zQZ1_",
        "colab": {
          "base_uri": "https://localhost:8080/"
        },
        "outputId": "10a7eeb5-ad79-43e8-d823-48c43c5401a3"
      },
      "execution_count": null,
      "outputs": [
        {
          "output_type": "stream",
          "name": "stdout",
          "text": [
            "Error cuadratico medio (MSE) Train 1: 129511343.61223857\n",
            "Error cuadratico medio (MSE) Train 2: 36036622.56880779\n",
            "Error cuadratico medio (MSE) Train 3: 0.24589797261667348\n",
            "Error cuadratico medio (MSE) Train 4: 176.29420502660435\n",
            "Error cuadratico medio (MSE) Train 4_1: 0.8944596744931267\n",
            "Error cuadratico medio (MSE) Train 5: 37.324565408622874\n",
            "Error cuadratico medio (MSE) test 1: 129309414.5045359\n",
            "Error cuadratico medio (MSE) test 2: 38148226.45768796\n",
            "Error cuadratico medio (MSE) test 3: 0.260306623545425\n",
            "Error cuadratico medio (MSE) test 4: 190.24851755289953\n",
            "Error cuadratico medio (MSE) Train 4_1: 0.9652593348572425\n",
            "Error cuadratico medio (MSE) Train 5: 34.12052266698951\n"
          ]
        }
      ]
    },
    {
      "cell_type": "markdown",
      "source": [
        "debido a que el bmi es muy variado se volvera a  escalar este"
      ],
      "metadata": {
        "id": "Mg13mE5mRAt7"
      }
    },
    {
      "cell_type": "markdown",
      "source": [
        "## caso con escalacion"
      ],
      "metadata": {
        "id": "D9iqLJnuTdy7"
      }
    },
    {
      "cell_type": "code",
      "source": [
        "scaler = StandardScaler()\n",
        "\n",
        "\"\"\"Los algortimos de preprocessing de skelearn estan preparados para convertir matrices pro lo que tenemos que hacer una transformacion de nuestra variable y ya que es una variable de tipo Series, \n",
        "para ello hacemos un .to_numpy que nos convierte la serie en un array y luego hacemos un reshape (-1,1) para transformar un array de 1xn en una matriz de nx1\"\"\"\n",
        "y_hipot51 = scaler.fit_transform(y_hipot51.to_numpy().reshape(-1,1))\n",
        "# Se vueolve a transformar nuestra variable en un array de 1xn\n",
        "y_hipot51 = y_hipot51.reshape(1,-1)[0]"
      ],
      "metadata": {
        "id": "LHKPrWmJRWPL"
      },
      "execution_count": null,
      "outputs": []
    },
    {
      "cell_type": "code",
      "source": [
        "x_hipot51_train, x_hipot51_test, y_hipot51_train, y_hipot51_test = train_test_split(x_hipot51, y_hipot51, test_size = 0.20, random_state = 43)"
      ],
      "metadata": {
        "id": "hNmzNhY_Ruqc"
      },
      "execution_count": null,
      "outputs": []
    },
    {
      "cell_type": "code",
      "source": [
        "# Regresion lineal\n",
        "regresion_lineal = LinearRegression()\n",
        "regresion_lineal.fit(x_hipot51_train,y_hipot51_train)"
      ],
      "metadata": {
        "id": "2m5R6_LCR9IO",
        "colab": {
          "base_uri": "https://localhost:8080/"
        },
        "outputId": "f4812a2b-560e-4a8c-aa15-b08590b874a8"
      },
      "execution_count": null,
      "outputs": [
        {
          "output_type": "execute_result",
          "data": {
            "text/plain": [
              "LinearRegression()"
            ]
          },
          "metadata": {},
          "execution_count": 143
        }
      ]
    },
    {
      "cell_type": "markdown",
      "source": [
        "## Fase de validacion"
      ],
      "metadata": {
        "id": "Zg-Bs3VjARHx"
      }
    },
    {
      "cell_type": "code",
      "source": [
        "# predecimos los valores y para los datos usados en el entrenamiento\n",
        "prediccion_entrenamiento = regresion_lineal.predict(x_hipot51_train)\n",
        "\n",
        "\n",
        "# Calculamos el error cuadratico medio (MSE)\n",
        "mse_hipot51_train =  mean_squared_error(y_true = y_hipot51_train, y_pred = prediccion_entrenamiento)\n",
        "print(\"Error cuadratico medio (MSE) Train 1: \"+ str(mse_hipot1_train))\n",
        "print(\"Error cuadratico medio (MSE) Train 2: \"+ str(mse_hipot2_train))\n",
        "print(\"Error cuadratico medio (MSE) Train 3: \"+ str(mse_hipot3_train))\n",
        "print(\"Error cuadratico medio (MSE) Train 4: \"+ str(mse_hipot4_train))\n",
        "print(\"Error cuadratico medio (MSE) Train 4_1: \"+ str(mse_hipot41_train))\n",
        "print(\"Error cuadratico medio (MSE) Train 5: \"+ str(mse_hipot5_train))\n",
        "print(\"Error cuadratico medio (MSE) Train 5_1: \"+ str(mse_hipot51_train))\n",
        "\n",
        "\n",
        "\n",
        "# Predecimos los valores y para los datos usados en el entrenamiento\n",
        "prediccion_entrenamiento = regresion_lineal.predict(x_hipot51_test)\n",
        "\n",
        "# Calculamos el Error Cuadratico Medio (MSE)\n",
        "mse_hipot51_test = mean_squared_error(y_true = y_hipot51_test, y_pred = prediccion_entrenamiento)\n",
        "print(\"Error cuadratico medio (MSE) test 1: \"+ str(mse_hipot1_test))\n",
        "print(\"Error cuadratico medio (MSE) test 2: \"+ str(mse_hipot2_test))\n",
        "print(\"Error cuadratico medio (MSE) test 3: \"+ str(mse_hipot3_test))\n",
        "print(\"Error cuadratico medio (MSE) test 4: \"+ str(mse_hipot4_test))\n",
        "print(\"Error cuadratico medio (MSE) Train 4_1: \"+ str(mse_hipot41_test))\n",
        "print(\"Error cuadratico medio (MSE) Train 5: \"+ str(mse_hipot5_test))\n",
        "print(\"Error cuadratico medio (MSE) Train 5_1: \"+ str(mse_hipot51_test))"
      ],
      "metadata": {
        "colab": {
          "base_uri": "https://localhost:8080/"
        },
        "outputId": "40d6868f-34e3-43dc-a6c5-c813eee35f27",
        "id": "fhxmpcMiSo5k"
      },
      "execution_count": null,
      "outputs": [
        {
          "output_type": "stream",
          "name": "stdout",
          "text": [
            "Error cuadratico medio (MSE) Train 1: 129511343.61223857\n",
            "Error cuadratico medio (MSE) Train 2: 36036622.56880779\n",
            "Error cuadratico medio (MSE) Train 3: 0.24589797261667348\n",
            "Error cuadratico medio (MSE) Train 4: 176.29420502660435\n",
            "Error cuadratico medio (MSE) Train 4_1: 0.8944596744931267\n",
            "Error cuadratico medio (MSE) Train 5: 37.324565408622874\n",
            "Error cuadratico medio (MSE) Train 5_1: 1.003675547857531\n",
            "Error cuadratico medio (MSE) test 1: 129309414.5045359\n",
            "Error cuadratico medio (MSE) test 2: 38148226.45768796\n",
            "Error cuadratico medio (MSE) test 3: 0.260306623545425\n",
            "Error cuadratico medio (MSE) test 4: 190.24851755289953\n",
            "Error cuadratico medio (MSE) Train 4_1: 0.9652593348572425\n",
            "Error cuadratico medio (MSE) Train 5: 34.12052266698951\n",
            "Error cuadratico medio (MSE) Train 5_1: 0.9175172947375929\n"
          ]
        }
      ]
    },
    {
      "cell_type": "code",
      "source": [
        "prediccion_hipot1 = regresion_lineal.predict(x_hipot5_test)\n",
        "prediccion_hipot1 = pd.DataFrame(prediccion_hipot1)\n",
        "prediccion_hipot1.reset_index(drop = True, inplace = True)\n",
        "y_hipot1_test=y_hipot5_test.tolist()\n",
        "df = pd.DataFrame(y_hipot51_test, columns = ['x_hipot5_train'])\n",
        "df1 = prediccion_hipot1.join(df) \n",
        "df1"
      ],
      "metadata": {
        "colab": {
          "base_uri": "https://localhost:8080/",
          "height": 424
        },
        "id": "9Zr95V3YFxR5",
        "outputId": "84183096-0413-4933-a7b9-7b1ac5314c47"
      },
      "execution_count": null,
      "outputs": [
        {
          "output_type": "execute_result",
          "data": {
            "text/html": [
              "\n",
              "  <div id=\"df-c574abe2-eb22-499d-9c4e-4abcba343995\">\n",
              "    <div class=\"colab-df-container\">\n",
              "      <div>\n",
              "<style scoped>\n",
              "    .dataframe tbody tr th:only-of-type {\n",
              "        vertical-align: middle;\n",
              "    }\n",
              "\n",
              "    .dataframe tbody tr th {\n",
              "        vertical-align: top;\n",
              "    }\n",
              "\n",
              "    .dataframe thead th {\n",
              "        text-align: right;\n",
              "    }\n",
              "</style>\n",
              "<table border=\"1\" class=\"dataframe\">\n",
              "  <thead>\n",
              "    <tr style=\"text-align: right;\">\n",
              "      <th></th>\n",
              "      <th>0</th>\n",
              "      <th>x_hipot5_train</th>\n",
              "    </tr>\n",
              "  </thead>\n",
              "  <tbody>\n",
              "    <tr>\n",
              "      <th>0</th>\n",
              "      <td>-0.001276</td>\n",
              "      <td>1.339177</td>\n",
              "    </tr>\n",
              "    <tr>\n",
              "      <th>1</th>\n",
              "      <td>-0.021855</td>\n",
              "      <td>-1.460836</td>\n",
              "    </tr>\n",
              "    <tr>\n",
              "      <th>2</th>\n",
              "      <td>-0.205823</td>\n",
              "      <td>-0.308034</td>\n",
              "    </tr>\n",
              "    <tr>\n",
              "      <th>3</th>\n",
              "      <td>-0.097640</td>\n",
              "      <td>0.776714</td>\n",
              "    </tr>\n",
              "    <tr>\n",
              "      <th>4</th>\n",
              "      <td>-0.013095</td>\n",
              "      <td>1.748315</td>\n",
              "    </tr>\n",
              "    <tr>\n",
              "      <th>...</th>\n",
              "      <td>...</td>\n",
              "      <td>...</td>\n",
              "    </tr>\n",
              "    <tr>\n",
              "      <th>263</th>\n",
              "      <td>-0.223344</td>\n",
              "      <td>-0.058780</td>\n",
              "    </tr>\n",
              "    <tr>\n",
              "      <th>264</th>\n",
              "      <td>0.083269</td>\n",
              "      <td>1.109600</td>\n",
              "    </tr>\n",
              "    <tr>\n",
              "      <th>265</th>\n",
              "      <td>-0.048136</td>\n",
              "      <td>-0.284257</td>\n",
              "    </tr>\n",
              "    <tr>\n",
              "      <th>266</th>\n",
              "      <td>-0.135740</td>\n",
              "      <td>0.401193</td>\n",
              "    </tr>\n",
              "    <tr>\n",
              "      <th>267</th>\n",
              "      <td>0.103849</td>\n",
              "      <td>-0.753249</td>\n",
              "    </tr>\n",
              "  </tbody>\n",
              "</table>\n",
              "<p>268 rows × 2 columns</p>\n",
              "</div>\n",
              "      <button class=\"colab-df-convert\" onclick=\"convertToInteractive('df-c574abe2-eb22-499d-9c4e-4abcba343995')\"\n",
              "              title=\"Convert this dataframe to an interactive table.\"\n",
              "              style=\"display:none;\">\n",
              "        \n",
              "  <svg xmlns=\"http://www.w3.org/2000/svg\" height=\"24px\"viewBox=\"0 0 24 24\"\n",
              "       width=\"24px\">\n",
              "    <path d=\"M0 0h24v24H0V0z\" fill=\"none\"/>\n",
              "    <path d=\"M18.56 5.44l.94 2.06.94-2.06 2.06-.94-2.06-.94-.94-2.06-.94 2.06-2.06.94zm-11 1L8.5 8.5l.94-2.06 2.06-.94-2.06-.94L8.5 2.5l-.94 2.06-2.06.94zm10 10l.94 2.06.94-2.06 2.06-.94-2.06-.94-.94-2.06-.94 2.06-2.06.94z\"/><path d=\"M17.41 7.96l-1.37-1.37c-.4-.4-.92-.59-1.43-.59-.52 0-1.04.2-1.43.59L10.3 9.45l-7.72 7.72c-.78.78-.78 2.05 0 2.83L4 21.41c.39.39.9.59 1.41.59.51 0 1.02-.2 1.41-.59l7.78-7.78 2.81-2.81c.8-.78.8-2.07 0-2.86zM5.41 20L4 18.59l7.72-7.72 1.47 1.35L5.41 20z\"/>\n",
              "  </svg>\n",
              "      </button>\n",
              "      \n",
              "  <style>\n",
              "    .colab-df-container {\n",
              "      display:flex;\n",
              "      flex-wrap:wrap;\n",
              "      gap: 12px;\n",
              "    }\n",
              "\n",
              "    .colab-df-convert {\n",
              "      background-color: #E8F0FE;\n",
              "      border: none;\n",
              "      border-radius: 50%;\n",
              "      cursor: pointer;\n",
              "      display: none;\n",
              "      fill: #1967D2;\n",
              "      height: 32px;\n",
              "      padding: 0 0 0 0;\n",
              "      width: 32px;\n",
              "    }\n",
              "\n",
              "    .colab-df-convert:hover {\n",
              "      background-color: #E2EBFA;\n",
              "      box-shadow: 0px 1px 2px rgba(60, 64, 67, 0.3), 0px 1px 3px 1px rgba(60, 64, 67, 0.15);\n",
              "      fill: #174EA6;\n",
              "    }\n",
              "\n",
              "    [theme=dark] .colab-df-convert {\n",
              "      background-color: #3B4455;\n",
              "      fill: #D2E3FC;\n",
              "    }\n",
              "\n",
              "    [theme=dark] .colab-df-convert:hover {\n",
              "      background-color: #434B5C;\n",
              "      box-shadow: 0px 1px 3px 1px rgba(0, 0, 0, 0.15);\n",
              "      filter: drop-shadow(0px 1px 2px rgba(0, 0, 0, 0.3));\n",
              "      fill: #FFFFFF;\n",
              "    }\n",
              "  </style>\n",
              "\n",
              "      <script>\n",
              "        const buttonEl =\n",
              "          document.querySelector('#df-c574abe2-eb22-499d-9c4e-4abcba343995 button.colab-df-convert');\n",
              "        buttonEl.style.display =\n",
              "          google.colab.kernel.accessAllowed ? 'block' : 'none';\n",
              "\n",
              "        async function convertToInteractive(key) {\n",
              "          const element = document.querySelector('#df-c574abe2-eb22-499d-9c4e-4abcba343995');\n",
              "          const dataTable =\n",
              "            await google.colab.kernel.invokeFunction('convertToInteractive',\n",
              "                                                     [key], {});\n",
              "          if (!dataTable) return;\n",
              "\n",
              "          const docLinkHtml = 'Like what you see? Visit the ' +\n",
              "            '<a target=\"_blank\" href=https://colab.research.google.com/notebooks/data_table.ipynb>data table notebook</a>'\n",
              "            + ' to learn more about interactive tables.';\n",
              "          element.innerHTML = '';\n",
              "          dataTable['output_type'] = 'display_data';\n",
              "          await google.colab.output.renderOutput(dataTable, element);\n",
              "          const docLink = document.createElement('div');\n",
              "          docLink.innerHTML = docLinkHtml;\n",
              "          element.appendChild(docLink);\n",
              "        }\n",
              "      </script>\n",
              "    </div>\n",
              "  </div>\n",
              "  "
            ],
            "text/plain": [
              "            0  x_hipot5_train\n",
              "0   -0.001276        1.339177\n",
              "1   -0.021855       -1.460836\n",
              "2   -0.205823       -0.308034\n",
              "3   -0.097640        0.776714\n",
              "4   -0.013095        1.748315\n",
              "..        ...             ...\n",
              "263 -0.223344       -0.058780\n",
              "264  0.083269        1.109600\n",
              "265 -0.048136       -0.284257\n",
              "266 -0.135740        0.401193\n",
              "267  0.103849       -0.753249\n",
              "\n",
              "[268 rows x 2 columns]"
            ]
          },
          "metadata": {},
          "execution_count": 149
        }
      ]
    },
    {
      "cell_type": "markdown",
      "source": [
        "# Conclusiones\n",
        "Se puede observar que al hacer el escalamiento con variables que son muy variadas da un mejor resultado a la hora de hacer las pruebas del error cuadratico medio "
      ],
      "metadata": {
        "id": "qsQNdG00TGCd"
      }
    },
    {
      "cell_type": "code",
      "source": [],
      "metadata": {
        "id": "vUpyZ2toTIbU"
      },
      "execution_count": null,
      "outputs": []
    }
  ]
}