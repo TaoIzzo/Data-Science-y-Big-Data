{
  "nbformat": 4,
  "nbformat_minor": 0,
  "metadata": {
    "colab": {
      "name": "Importar un dataset en Google Colab.ipynb",
      "provenance": [],
      "collapsed_sections": [
        "551Wf2_YxMdL",
        "6blbW_3v1ghZ"
      ]
    },
    "kernelspec": {
      "name": "python3",
      "display_name": "Python 3"
    },
    "language_info": {
      "name": "python"
    }
  },
  "cells": [
    {
      "cell_type": "markdown",
      "metadata": {
        "id": "H1JxcRENvEo9"
      },
      "source": [
        "Tao Izzo Elvira"
      ]
    },
    {
      "cell_type": "markdown",
      "metadata": {
        "id": "551Wf2_YxMdL"
      },
      "source": [
        "# Libreria General"
      ]
    },
    {
      "cell_type": "code",
      "metadata": {
        "id": "LeyHSf5Pu8g7"
      },
      "source": [
        "import pandas as pd"
      ],
      "execution_count": 1,
      "outputs": []
    },
    {
      "cell_type": "markdown",
      "metadata": {
        "id": "tE70Yg22vLfj"
      },
      "source": [
        "# Carga desde sistema local"
      ]
    },
    {
      "cell_type": "code",
      "metadata": {
        "id": "qS9cdUh2vjVD"
      },
      "source": [
        "# import io \n",
        "from google.colab import files"
      ],
      "execution_count": 2,
      "outputs": []
    },
    {
      "cell_type": "code",
      "metadata": {
        "colab": {
          "resources": {
            "http://localhost:8080/nbextensions/google.colab/files.js": {
              "data": "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",
              "ok": true,
              "headers": [
                [
                  "content-type",
                  "application/javascript"
                ]
              ],
              "status": 200,
              "status_text": ""
            }
          },
          "base_uri": "https://localhost:8080/",
          "height": 73
        },
        "id": "zbid5gMwvpQV",
        "outputId": "cdc597aa-b896-4e2c-e09c-75338cc5fe68"
      },
      "source": [
        "uploaded = files.upload()"
      ],
      "execution_count": 3,
      "outputs": [
        {
          "output_type": "display_data",
          "data": {
            "text/html": [
              "\n",
              "     <input type=\"file\" id=\"files-c090bee6-fb00-4cda-852a-99610f1f2864\" name=\"files[]\" multiple disabled\n",
              "        style=\"border:none\" />\n",
              "     <output id=\"result-c090bee6-fb00-4cda-852a-99610f1f2864\">\n",
              "      Upload widget is only available when the cell has been executed in the\n",
              "      current browser session. Please rerun this cell to enable.\n",
              "      </output>\n",
              "      <script src=\"/nbextensions/google.colab/files.js\"></script> "
            ],
            "text/plain": [
              "<IPython.core.display.HTML object>"
            ]
          },
          "metadata": {}
        },
        {
          "output_type": "stream",
          "name": "stdout",
          "text": [
            "Saving insurance.csv to insurance.csv\n"
          ]
        }
      ]
    },
    {
      "cell_type": "code",
      "metadata": {
        "id": "TRnQBlYmvzUA"
      },
      "source": [
        "datalocal = pd.read_csv(\"titanic.csv\")\n",
        "# data= pd.read_csv(io.BytesIO(uploaded[\"titanic.csv\"]))"
      ],
      "execution_count": 4,
      "outputs": []
    },
    {
      "cell_type": "code",
      "metadata": {
        "colab": {
          "base_uri": "https://localhost:8080/",
          "height": 424
        },
        "id": "eedLQ4kXv_D2",
        "outputId": "4972a75f-8779-4496-dcab-f8e1853c9ae3"
      },
      "source": [
        "datalocal"
      ],
      "execution_count": 5,
      "outputs": [
        {
          "output_type": "execute_result",
          "data": {
            "text/html": [
              "<div>\n",
              "<style scoped>\n",
              "    .dataframe tbody tr th:only-of-type {\n",
              "        vertical-align: middle;\n",
              "    }\n",
              "\n",
              "    .dataframe tbody tr th {\n",
              "        vertical-align: top;\n",
              "    }\n",
              "\n",
              "    .dataframe thead th {\n",
              "        text-align: right;\n",
              "    }\n",
              "</style>\n",
              "<table border=\"1\" class=\"dataframe\">\n",
              "  <thead>\n",
              "    <tr style=\"text-align: right;\">\n",
              "      <th></th>\n",
              "      <th>Survived</th>\n",
              "      <th>Pclass</th>\n",
              "      <th>Name</th>\n",
              "      <th>Sex</th>\n",
              "      <th>Age</th>\n",
              "      <th>Siblings/Spouses Aboard</th>\n",
              "      <th>Parents/Children Aboard</th>\n",
              "      <th>Fare</th>\n",
              "    </tr>\n",
              "  </thead>\n",
              "  <tbody>\n",
              "    <tr>\n",
              "      <th>0</th>\n",
              "      <td>0</td>\n",
              "      <td>3</td>\n",
              "      <td>Mr. Owen Harris Braund</td>\n",
              "      <td>male</td>\n",
              "      <td>22.0</td>\n",
              "      <td>1</td>\n",
              "      <td>0</td>\n",
              "      <td>7.2500</td>\n",
              "    </tr>\n",
              "    <tr>\n",
              "      <th>1</th>\n",
              "      <td>1</td>\n",
              "      <td>1</td>\n",
              "      <td>Mrs. John Bradley (Florence Briggs Thayer) Cum...</td>\n",
              "      <td>female</td>\n",
              "      <td>38.0</td>\n",
              "      <td>1</td>\n",
              "      <td>0</td>\n",
              "      <td>71.2833</td>\n",
              "    </tr>\n",
              "    <tr>\n",
              "      <th>2</th>\n",
              "      <td>1</td>\n",
              "      <td>3</td>\n",
              "      <td>Miss. Laina Heikkinen</td>\n",
              "      <td>female</td>\n",
              "      <td>26.0</td>\n",
              "      <td>0</td>\n",
              "      <td>0</td>\n",
              "      <td>7.9250</td>\n",
              "    </tr>\n",
              "    <tr>\n",
              "      <th>3</th>\n",
              "      <td>1</td>\n",
              "      <td>1</td>\n",
              "      <td>Mrs. Jacques Heath (Lily May Peel) Futrelle</td>\n",
              "      <td>female</td>\n",
              "      <td>35.0</td>\n",
              "      <td>1</td>\n",
              "      <td>0</td>\n",
              "      <td>53.1000</td>\n",
              "    </tr>\n",
              "    <tr>\n",
              "      <th>4</th>\n",
              "      <td>0</td>\n",
              "      <td>3</td>\n",
              "      <td>Mr. William Henry Allen</td>\n",
              "      <td>male</td>\n",
              "      <td>35.0</td>\n",
              "      <td>0</td>\n",
              "      <td>0</td>\n",
              "      <td>8.0500</td>\n",
              "    </tr>\n",
              "    <tr>\n",
              "      <th>...</th>\n",
              "      <td>...</td>\n",
              "      <td>...</td>\n",
              "      <td>...</td>\n",
              "      <td>...</td>\n",
              "      <td>...</td>\n",
              "      <td>...</td>\n",
              "      <td>...</td>\n",
              "      <td>...</td>\n",
              "    </tr>\n",
              "    <tr>\n",
              "      <th>882</th>\n",
              "      <td>0</td>\n",
              "      <td>2</td>\n",
              "      <td>Rev. Juozas Montvila</td>\n",
              "      <td>male</td>\n",
              "      <td>27.0</td>\n",
              "      <td>0</td>\n",
              "      <td>0</td>\n",
              "      <td>13.0000</td>\n",
              "    </tr>\n",
              "    <tr>\n",
              "      <th>883</th>\n",
              "      <td>1</td>\n",
              "      <td>1</td>\n",
              "      <td>Miss. Margaret Edith Graham</td>\n",
              "      <td>female</td>\n",
              "      <td>19.0</td>\n",
              "      <td>0</td>\n",
              "      <td>0</td>\n",
              "      <td>30.0000</td>\n",
              "    </tr>\n",
              "    <tr>\n",
              "      <th>884</th>\n",
              "      <td>0</td>\n",
              "      <td>3</td>\n",
              "      <td>Miss. Catherine Helen Johnston</td>\n",
              "      <td>female</td>\n",
              "      <td>7.0</td>\n",
              "      <td>1</td>\n",
              "      <td>2</td>\n",
              "      <td>23.4500</td>\n",
              "    </tr>\n",
              "    <tr>\n",
              "      <th>885</th>\n",
              "      <td>1</td>\n",
              "      <td>1</td>\n",
              "      <td>Mr. Karl Howell Behr</td>\n",
              "      <td>male</td>\n",
              "      <td>26.0</td>\n",
              "      <td>0</td>\n",
              "      <td>0</td>\n",
              "      <td>30.0000</td>\n",
              "    </tr>\n",
              "    <tr>\n",
              "      <th>886</th>\n",
              "      <td>0</td>\n",
              "      <td>3</td>\n",
              "      <td>Mr. Patrick Dooley</td>\n",
              "      <td>male</td>\n",
              "      <td>32.0</td>\n",
              "      <td>0</td>\n",
              "      <td>0</td>\n",
              "      <td>7.7500</td>\n",
              "    </tr>\n",
              "  </tbody>\n",
              "</table>\n",
              "<p>887 rows × 8 columns</p>\n",
              "</div>"
            ],
            "text/plain": [
              "     Survived  Pclass  ... Parents/Children Aboard     Fare\n",
              "0           0       3  ...                       0   7.2500\n",
              "1           1       1  ...                       0  71.2833\n",
              "2           1       3  ...                       0   7.9250\n",
              "3           1       1  ...                       0  53.1000\n",
              "4           0       3  ...                       0   8.0500\n",
              "..        ...     ...  ...                     ...      ...\n",
              "882         0       2  ...                       0  13.0000\n",
              "883         1       1  ...                       0  30.0000\n",
              "884         0       3  ...                       2  23.4500\n",
              "885         1       1  ...                       0  30.0000\n",
              "886         0       3  ...                       0   7.7500\n",
              "\n",
              "[887 rows x 8 columns]"
            ]
          },
          "metadata": {},
          "execution_count": 5
        }
      ]
    },
    {
      "cell_type": "markdown",
      "metadata": {
        "id": "9uyQH7jyvLpa"
      },
      "source": [
        "#Carga desde Google Drive"
      ]
    },
    {
      "cell_type": "code",
      "metadata": {
        "id": "j0a2p7s3viw8"
      },
      "source": [
        "!pip install -U -q PyDrive\n",
        "from pydrive.auth import GoogleAuth\n",
        "from pydrive.drive import GoogleDrive\n",
        "from google.colab import auth\n",
        "from oauth2client.client import GoogleCredentials"
      ],
      "execution_count": 6,
      "outputs": []
    },
    {
      "cell_type": "code",
      "metadata": {
        "id": "GesR1uy6wMwn"
      },
      "source": [
        "auth.authenticate_user()\n",
        "gauth = GoogleAuth()\n",
        "gauth.credentials = GoogleCredentials.get_application_default()\n",
        "drive = GoogleDrive(gauth)"
      ],
      "execution_count": 7,
      "outputs": []
    },
    {
      "cell_type": "code",
      "metadata": {
        "id": "9WL88KUxwOuX"
      },
      "source": [
        "link = \"https://drive.google.com/open?id=1VquztiN8US8SH39bF8maT1GPUrYrPOh_\""
      ],
      "execution_count": 8,
      "outputs": []
    },
    {
      "cell_type": "code",
      "metadata": {
        "colab": {
          "base_uri": "https://localhost:8080/"
        },
        "id": "z6aPM-20wg6e",
        "outputId": "5c6f2859-169d-4515-f266-95208a31e79a"
      },
      "source": [
        "fluff, id = link.split(\"=\")\n",
        "print(id)"
      ],
      "execution_count": 9,
      "outputs": [
        {
          "output_type": "stream",
          "name": "stdout",
          "text": [
            "1VquztiN8US8SH39bF8maT1GPUrYrPOh_\n"
          ]
        }
      ]
    },
    {
      "cell_type": "code",
      "metadata": {
        "id": "N6W9SoDGwrff"
      },
      "source": [
        "download = drive.CreateFile({\"id\":id})\n",
        "download.GetContentFile(\"data.csv\")"
      ],
      "execution_count": 10,
      "outputs": []
    },
    {
      "cell_type": "code",
      "metadata": {
        "id": "z8-8w6Qiwwa2"
      },
      "source": [
        "datadrive = pd.read_csv(\"data.csv\")"
      ],
      "execution_count": 11,
      "outputs": []
    },
    {
      "cell_type": "code",
      "metadata": {
        "colab": {
          "base_uri": "https://localhost:8080/",
          "height": 597
        },
        "id": "SJ-kKKAZw3Za",
        "outputId": "94681a09-9e53-443c-e836-41fa80cf3f83"
      },
      "source": [
        "datadrive"
      ],
      "execution_count": 12,
      "outputs": [
        {
          "output_type": "execute_result",
          "data": {
            "text/html": [
              "<div>\n",
              "<style scoped>\n",
              "    .dataframe tbody tr th:only-of-type {\n",
              "        vertical-align: middle;\n",
              "    }\n",
              "\n",
              "    .dataframe tbody tr th {\n",
              "        vertical-align: top;\n",
              "    }\n",
              "\n",
              "    .dataframe thead th {\n",
              "        text-align: right;\n",
              "    }\n",
              "</style>\n",
              "<table border=\"1\" class=\"dataframe\">\n",
              "  <thead>\n",
              "    <tr style=\"text-align: right;\">\n",
              "      <th></th>\n",
              "      <th>id</th>\n",
              "      <th>nivel</th>\n",
              "      <th>nombre</th>\n",
              "      <th>turno</th>\n",
              "      <th>domicilio</th>\n",
              "      <th>colonia</th>\n",
              "      <th>alcaldia</th>\n",
              "      <th>sostenimiento</th>\n",
              "      <th>ubicacion</th>\n",
              "      <th>lat</th>\n",
              "      <th>lon</th>\n",
              "      <th>coordenadas</th>\n",
              "    </tr>\n",
              "  </thead>\n",
              "  <tbody>\n",
              "    <tr>\n",
              "      <th>0</th>\n",
              "      <td>0</td>\n",
              "      <td>INICIAL</td>\n",
              "      <td>CENDI PART SEDI LOMAS</td>\n",
              "      <td>MATUTINO</td>\n",
              "      <td>EXPLANADA NO. 305</td>\n",
              "      <td>LOMAS DE CHAPULTEPEC</td>\n",
              "      <td>MIGUEL HIDALGO</td>\n",
              "      <td>Particular</td>\n",
              "      <td>EXPLANADA NO. 305, LOMAS DE CHAPULTEPEC, MIGUE...</td>\n",
              "      <td>19.425154</td>\n",
              "      <td>-99.211154</td>\n",
              "      <td>19.4251542,-99.211154</td>\n",
              "    </tr>\n",
              "    <tr>\n",
              "      <th>1</th>\n",
              "      <td>1</td>\n",
              "      <td>INICIAL</td>\n",
              "      <td>ARMONIA INFANTIL</td>\n",
              "      <td>MATUTINO</td>\n",
              "      <td>AV. SINATEL No 38 MZ. 4 LT. 21</td>\n",
              "      <td>SINATEL AMPLIACION</td>\n",
              "      <td>IZTAPALAPA</td>\n",
              "      <td>Particular</td>\n",
              "      <td>AV. SINATEL No 38 MZ. 4 LT. 21, SINATEL AMPLIA...</td>\n",
              "      <td>19.364828</td>\n",
              "      <td>-99.131801</td>\n",
              "      <td>19.3648281,-99.1318013</td>\n",
              "    </tr>\n",
              "    <tr>\n",
              "      <th>2</th>\n",
              "      <td>2</td>\n",
              "      <td>INICIAL</td>\n",
              "      <td>CENDI PART. COLEGIO DE LAS BALEARES</td>\n",
              "      <td>TIEMPO COMPLETO</td>\n",
              "      <td>JOSEFA ORTIZ DE DOMINGUEZ NO 2</td>\n",
              "      <td>TIZAPAN</td>\n",
              "      <td>ALVARO OBREGON</td>\n",
              "      <td>Particular</td>\n",
              "      <td>JOSEFA ORTIZ DE DOMINGUEZ NO 2, TIZAPAN, ALVAR...</td>\n",
              "      <td>19.335167</td>\n",
              "      <td>-99.202637</td>\n",
              "      <td>19.3351668,-99.202637</td>\n",
              "    </tr>\n",
              "    <tr>\n",
              "      <th>3</th>\n",
              "      <td>3</td>\n",
              "      <td>INICIAL</td>\n",
              "      <td>CENDI PART COLEGIO CIBELES, S.C.</td>\n",
              "      <td>MATUTINO</td>\n",
              "      <td>RIO GRIJALVA NUM 27</td>\n",
              "      <td>CUAUHTEMOC</td>\n",
              "      <td>CUAUHTEMOC</td>\n",
              "      <td>Particular</td>\n",
              "      <td>RIO GRIJALVA NUM 27, CUAUHTEMOC, CUAUHTEMOC</td>\n",
              "      <td>19.433640</td>\n",
              "      <td>-99.170147</td>\n",
              "      <td>19.4336398,-99.1701471</td>\n",
              "    </tr>\n",
              "    <tr>\n",
              "      <th>4</th>\n",
              "      <td>4</td>\n",
              "      <td>INICIAL</td>\n",
              "      <td>CENTRO DE DESARROLLO INFANTIL KINDERGARDEN</td>\n",
              "      <td>TIEMPO COMPLETO</td>\n",
              "      <td>CALLE 11 DE ENERO DE 1861 NO. 2114</td>\n",
              "      <td>LEYES DE REFORMA</td>\n",
              "      <td>IZTAPALAPA</td>\n",
              "      <td>Particular</td>\n",
              "      <td>CALLE 11 DE ENERO DE 1861 NO. 2114, LEYES DE R...</td>\n",
              "      <td>19.382636</td>\n",
              "      <td>-99.066102</td>\n",
              "      <td>19.3826355,-99.0661015</td>\n",
              "    </tr>\n",
              "    <tr>\n",
              "      <th>...</th>\n",
              "      <td>...</td>\n",
              "      <td>...</td>\n",
              "      <td>...</td>\n",
              "      <td>...</td>\n",
              "      <td>...</td>\n",
              "      <td>...</td>\n",
              "      <td>...</td>\n",
              "      <td>...</td>\n",
              "      <td>...</td>\n",
              "      <td>...</td>\n",
              "      <td>...</td>\n",
              "      <td>...</td>\n",
              "    </tr>\n",
              "    <tr>\n",
              "      <th>3691</th>\n",
              "      <td>3691</td>\n",
              "      <td>Preescolar - Inicial *</td>\n",
              "      <td>ARMONIA INFANTIL</td>\n",
              "      <td>MATUTINO</td>\n",
              "      <td>AV. SINATEL No 38 MZ. 4 LT. 21</td>\n",
              "      <td>SINATEL AMPLIACION</td>\n",
              "      <td>IZTAPALAPA</td>\n",
              "      <td>Particular</td>\n",
              "      <td>AV. SINATEL No 38 MZ. 4 LT. 21, SINATEL AMPLIA...</td>\n",
              "      <td>19.364828</td>\n",
              "      <td>-99.131801</td>\n",
              "      <td>19.3648281,-99.1318013</td>\n",
              "    </tr>\n",
              "    <tr>\n",
              "      <th>3692</th>\n",
              "      <td>3692</td>\n",
              "      <td>Preescolar - Inicial *</td>\n",
              "      <td>CENDI PART MI MUNDO FELIZ</td>\n",
              "      <td>MATUTINO</td>\n",
              "      <td>CALZADA DE TLALPAN  NO. 3515</td>\n",
              "      <td>ADOLFO RUIZ CORTINES</td>\n",
              "      <td>COYOACAN</td>\n",
              "      <td>Particular</td>\n",
              "      <td>CALZADA DE TLALPAN  NO. 3515, ADOLFO RUIZ CORT...</td>\n",
              "      <td>19.309168</td>\n",
              "      <td>-99.141439</td>\n",
              "      <td>19.3091684,-99.1414388</td>\n",
              "    </tr>\n",
              "    <tr>\n",
              "      <th>3693</th>\n",
              "      <td>3693</td>\n",
              "      <td>Preescolar - Inicial *</td>\n",
              "      <td>CENDI PART COLEGIO BILBAO S.C.</td>\n",
              "      <td>TIEMPO COMPLETO</td>\n",
              "      <td>NORTE 27 NO. 49</td>\n",
              "      <td>NUEVA VALLEJO</td>\n",
              "      <td>GUSTAVO A. MADERO</td>\n",
              "      <td>Particular</td>\n",
              "      <td>NORTE 27 NO. 49, NUEVA VALLEJO, GUSTAVO A. MADERO</td>\n",
              "      <td>19.493104</td>\n",
              "      <td>-99.150245</td>\n",
              "      <td>19.4931035,-99.1502446</td>\n",
              "    </tr>\n",
              "    <tr>\n",
              "      <th>3694</th>\n",
              "      <td>3694</td>\n",
              "      <td>Preescolar - Inicial *</td>\n",
              "      <td>CENDI PART ECOLOGICO DE DESARROLLO INFANTIL S.C.</td>\n",
              "      <td>TIEMPO COMPLETO</td>\n",
              "      <td>CALVARIO NUM 122</td>\n",
              "      <td>TLALPAN</td>\n",
              "      <td>TLALPAN</td>\n",
              "      <td>Particular</td>\n",
              "      <td>CALVARIO NUM 122, TLALPAN, TLALPAN</td>\n",
              "      <td>19.288341</td>\n",
              "      <td>-99.173730</td>\n",
              "      <td>19.2883405,-99.17373</td>\n",
              "    </tr>\n",
              "    <tr>\n",
              "      <th>3695</th>\n",
              "      <td>3695</td>\n",
              "      <td>Preescolar - Inicial *</td>\n",
              "      <td>MUNDO DE LOS PEQUES</td>\n",
              "      <td>TIEMPO COMPLETO</td>\n",
              "      <td>EDGAR ALLAN POE NUM 314</td>\n",
              "      <td>POLANCO REFORMA</td>\n",
              "      <td>MIGUEL HIDALGO</td>\n",
              "      <td>Particular</td>\n",
              "      <td>EDGAR ALLAN POE NUM 314, POLANCO REFORMA, MIGU...</td>\n",
              "      <td>19.436534</td>\n",
              "      <td>-99.199735</td>\n",
              "      <td>19.4365343,-99.1997352</td>\n",
              "    </tr>\n",
              "  </tbody>\n",
              "</table>\n",
              "<p>3696 rows × 12 columns</p>\n",
              "</div>"
            ],
            "text/plain": [
              "        id                   nivel  ...        lon             coordenadas\n",
              "0        0                 INICIAL  ... -99.211154   19.4251542,-99.211154\n",
              "1        1                 INICIAL  ... -99.131801  19.3648281,-99.1318013\n",
              "2        2                 INICIAL  ... -99.202637   19.3351668,-99.202637\n",
              "3        3                 INICIAL  ... -99.170147  19.4336398,-99.1701471\n",
              "4        4                 INICIAL  ... -99.066102  19.3826355,-99.0661015\n",
              "...    ...                     ...  ...        ...                     ...\n",
              "3691  3691  Preescolar - Inicial *  ... -99.131801  19.3648281,-99.1318013\n",
              "3692  3692  Preescolar - Inicial *  ... -99.141439  19.3091684,-99.1414388\n",
              "3693  3693  Preescolar - Inicial *  ... -99.150245  19.4931035,-99.1502446\n",
              "3694  3694  Preescolar - Inicial *  ... -99.173730    19.2883405,-99.17373\n",
              "3695  3695  Preescolar - Inicial *  ... -99.199735  19.4365343,-99.1997352\n",
              "\n",
              "[3696 rows x 12 columns]"
            ]
          },
          "metadata": {},
          "execution_count": 12
        }
      ]
    },
    {
      "cell_type": "markdown",
      "metadata": {
        "id": "e2DX7aylvLzi"
      },
      "source": [
        "# Carga desde Kaggle"
      ]
    },
    {
      "cell_type": "code",
      "metadata": {
        "id": "C7uMA8dUviQZ"
      },
      "source": [
        "from google.colab import files\n",
        "!pip install -q kaggle"
      ],
      "execution_count": 13,
      "outputs": []
    },
    {
      "cell_type": "code",
      "metadata": {
        "colab": {
          "resources": {
            "http://localhost:8080/nbextensions/google.colab/files.js": {
              "data": "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",
              "ok": true,
              "headers": [
                [
                  "content-type",
                  "application/javascript"
                ]
              ],
              "status": 200,
              "status_text": ""
            }
          },
          "base_uri": "https://localhost:8080/",
          "height": 73
        },
        "id": "qJYZxOBgw-yx",
        "outputId": "72d9bc3f-70ad-42e7-cb7c-4292e16cc757"
      },
      "source": [
        "uploaded = files.upload()"
      ],
      "execution_count": 14,
      "outputs": [
        {
          "output_type": "display_data",
          "data": {
            "text/html": [
              "\n",
              "     <input type=\"file\" id=\"files-3a79077a-8876-4ea2-8fb2-e040ac204fd2\" name=\"files[]\" multiple disabled\n",
              "        style=\"border:none\" />\n",
              "     <output id=\"result-3a79077a-8876-4ea2-8fb2-e040ac204fd2\">\n",
              "      Upload widget is only available when the cell has been executed in the\n",
              "      current browser session. Please rerun this cell to enable.\n",
              "      </output>\n",
              "      <script src=\"/nbextensions/google.colab/files.js\"></script> "
            ],
            "text/plain": [
              "<IPython.core.display.HTML object>"
            ]
          },
          "metadata": {}
        },
        {
          "output_type": "stream",
          "name": "stdout",
          "text": [
            "Saving kaggle.json to kaggle.json\n"
          ]
        }
      ]
    },
    {
      "cell_type": "code",
      "metadata": {
        "colab": {
          "base_uri": "https://localhost:8080/"
        },
        "id": "u5u_zEt3xBFx",
        "outputId": "ae8188b7-dd40-4a14-b7ef-30828408236e"
      },
      "source": [
        "!kaggle datasets download -d paultimothymooney/latitude-and-longitude-for-every-country-and-state"
      ],
      "execution_count": 15,
      "outputs": [
        {
          "output_type": "stream",
          "name": "stdout",
          "text": [
            "Warning: Your Kaggle API key is readable by other users on this system! To fix this, you can run 'chmod 600 /root/.kaggle/kaggle.json'\n",
            "latitude-and-longitude-for-every-country-and-state.zip: Skipping, found more recently modified local copy (use --force to force download)\n"
          ]
        }
      ]
    },
    {
      "cell_type": "code",
      "metadata": {
        "id": "Uylb1h-ixD3s"
      },
      "source": [
        "!mv kaggle.json /root/.kaggle/kaggle.json"
      ],
      "execution_count": 16,
      "outputs": []
    },
    {
      "cell_type": "code",
      "metadata": {
        "colab": {
          "base_uri": "https://localhost:8080/"
        },
        "id": "7jyZZLXVHh4V",
        "outputId": "bb8d1482-398b-47cd-8273-cef087291506"
      },
      "source": [
        "!kaggle datasets download -d paultimothymooney/latitude-and-longitude-for-every-country-and-state"
      ],
      "execution_count": 17,
      "outputs": [
        {
          "output_type": "stream",
          "name": "stdout",
          "text": [
            "Warning: Your Kaggle API key is readable by other users on this system! To fix this, you can run 'chmod 600 /root/.kaggle/kaggle.json'\n",
            "latitude-and-longitude-for-every-country-and-state.zip: Skipping, found more recently modified local copy (use --force to force download)\n"
          ]
        }
      ]
    },
    {
      "cell_type": "code",
      "metadata": {
        "colab": {
          "base_uri": "https://localhost:8080/"
        },
        "id": "_cMvfz_1xD6U",
        "outputId": "e760d67a-3aed-45ca-9d3a-53fb41b7d0aa"
      },
      "source": [
        "!unzip latitude-and-longitude-for-every-country-and-state.zip"
      ],
      "execution_count": 18,
      "outputs": [
        {
          "output_type": "stream",
          "name": "stdout",
          "text": [
            "Archive:  latitude-and-longitude-for-every-country-and-state.zip\n",
            "replace world_country_and_usa_states_latitude_and_longitude_values.csv? [y]es, [n]o, [A]ll, [N]one, [r]ename: yes\n",
            "  inflating: world_country_and_usa_states_latitude_and_longitude_values.csv  \n"
          ]
        }
      ]
    },
    {
      "cell_type": "code",
      "metadata": {
        "id": "o2uDwCPpxD81"
      },
      "source": [
        "datakaggle = pd.read_csv(\"world_country_and_usa_states_latitude_and_longitude_values.csv\")"
      ],
      "execution_count": 19,
      "outputs": []
    },
    {
      "cell_type": "code",
      "metadata": {
        "colab": {
          "base_uri": "https://localhost:8080/",
          "height": 424
        },
        "id": "UajvoU9OxD_h",
        "outputId": "f9f2c0e1-b43a-4792-f4ca-fed6f48e7e46"
      },
      "source": [
        "datakaggle"
      ],
      "execution_count": 20,
      "outputs": [
        {
          "output_type": "execute_result",
          "data": {
            "text/html": [
              "<div>\n",
              "<style scoped>\n",
              "    .dataframe tbody tr th:only-of-type {\n",
              "        vertical-align: middle;\n",
              "    }\n",
              "\n",
              "    .dataframe tbody tr th {\n",
              "        vertical-align: top;\n",
              "    }\n",
              "\n",
              "    .dataframe thead th {\n",
              "        text-align: right;\n",
              "    }\n",
              "</style>\n",
              "<table border=\"1\" class=\"dataframe\">\n",
              "  <thead>\n",
              "    <tr style=\"text-align: right;\">\n",
              "      <th></th>\n",
              "      <th>country_code</th>\n",
              "      <th>latitude</th>\n",
              "      <th>longitude</th>\n",
              "      <th>country</th>\n",
              "      <th>usa_state_code</th>\n",
              "      <th>usa_state_latitude</th>\n",
              "      <th>usa_state_longitude</th>\n",
              "      <th>usa_state</th>\n",
              "    </tr>\n",
              "  </thead>\n",
              "  <tbody>\n",
              "    <tr>\n",
              "      <th>0</th>\n",
              "      <td>AD</td>\n",
              "      <td>42.546245</td>\n",
              "      <td>1.601554</td>\n",
              "      <td>Andorra</td>\n",
              "      <td>AK</td>\n",
              "      <td>63.588753</td>\n",
              "      <td>-154.493062</td>\n",
              "      <td>Alaska</td>\n",
              "    </tr>\n",
              "    <tr>\n",
              "      <th>1</th>\n",
              "      <td>AE</td>\n",
              "      <td>23.424076</td>\n",
              "      <td>53.847818</td>\n",
              "      <td>United Arab Emirates</td>\n",
              "      <td>AL</td>\n",
              "      <td>32.318231</td>\n",
              "      <td>-86.902298</td>\n",
              "      <td>Alabama</td>\n",
              "    </tr>\n",
              "    <tr>\n",
              "      <th>2</th>\n",
              "      <td>AF</td>\n",
              "      <td>33.939110</td>\n",
              "      <td>67.709953</td>\n",
              "      <td>Afghanistan</td>\n",
              "      <td>AR</td>\n",
              "      <td>35.201050</td>\n",
              "      <td>-91.831833</td>\n",
              "      <td>Arkansas</td>\n",
              "    </tr>\n",
              "    <tr>\n",
              "      <th>3</th>\n",
              "      <td>AG</td>\n",
              "      <td>17.060816</td>\n",
              "      <td>-61.796428</td>\n",
              "      <td>Antigua and Barbuda</td>\n",
              "      <td>AZ</td>\n",
              "      <td>34.048928</td>\n",
              "      <td>-111.093731</td>\n",
              "      <td>Arizona</td>\n",
              "    </tr>\n",
              "    <tr>\n",
              "      <th>4</th>\n",
              "      <td>AI</td>\n",
              "      <td>18.220554</td>\n",
              "      <td>-63.068615</td>\n",
              "      <td>Anguilla</td>\n",
              "      <td>CA</td>\n",
              "      <td>36.778261</td>\n",
              "      <td>-119.417932</td>\n",
              "      <td>California</td>\n",
              "    </tr>\n",
              "    <tr>\n",
              "      <th>...</th>\n",
              "      <td>...</td>\n",
              "      <td>...</td>\n",
              "      <td>...</td>\n",
              "      <td>...</td>\n",
              "      <td>...</td>\n",
              "      <td>...</td>\n",
              "      <td>...</td>\n",
              "      <td>...</td>\n",
              "    </tr>\n",
              "    <tr>\n",
              "      <th>240</th>\n",
              "      <td>YE</td>\n",
              "      <td>15.552727</td>\n",
              "      <td>48.516388</td>\n",
              "      <td>Yemen</td>\n",
              "      <td>NaN</td>\n",
              "      <td>NaN</td>\n",
              "      <td>NaN</td>\n",
              "      <td>NaN</td>\n",
              "    </tr>\n",
              "    <tr>\n",
              "      <th>241</th>\n",
              "      <td>YT</td>\n",
              "      <td>-12.827500</td>\n",
              "      <td>45.166244</td>\n",
              "      <td>Mayotte</td>\n",
              "      <td>NaN</td>\n",
              "      <td>NaN</td>\n",
              "      <td>NaN</td>\n",
              "      <td>NaN</td>\n",
              "    </tr>\n",
              "    <tr>\n",
              "      <th>242</th>\n",
              "      <td>ZA</td>\n",
              "      <td>-30.559482</td>\n",
              "      <td>22.937506</td>\n",
              "      <td>South Africa</td>\n",
              "      <td>NaN</td>\n",
              "      <td>NaN</td>\n",
              "      <td>NaN</td>\n",
              "      <td>NaN</td>\n",
              "    </tr>\n",
              "    <tr>\n",
              "      <th>243</th>\n",
              "      <td>ZM</td>\n",
              "      <td>-13.133897</td>\n",
              "      <td>27.849332</td>\n",
              "      <td>Zambia</td>\n",
              "      <td>NaN</td>\n",
              "      <td>NaN</td>\n",
              "      <td>NaN</td>\n",
              "      <td>NaN</td>\n",
              "    </tr>\n",
              "    <tr>\n",
              "      <th>244</th>\n",
              "      <td>ZW</td>\n",
              "      <td>-19.015438</td>\n",
              "      <td>29.154857</td>\n",
              "      <td>Zimbabwe</td>\n",
              "      <td>NaN</td>\n",
              "      <td>NaN</td>\n",
              "      <td>NaN</td>\n",
              "      <td>NaN</td>\n",
              "    </tr>\n",
              "  </tbody>\n",
              "</table>\n",
              "<p>245 rows × 8 columns</p>\n",
              "</div>"
            ],
            "text/plain": [
              "    country_code   latitude  ...  usa_state_longitude   usa_state\n",
              "0             AD  42.546245  ...          -154.493062      Alaska\n",
              "1             AE  23.424076  ...           -86.902298     Alabama\n",
              "2             AF  33.939110  ...           -91.831833    Arkansas\n",
              "3             AG  17.060816  ...          -111.093731     Arizona\n",
              "4             AI  18.220554  ...          -119.417932  California\n",
              "..           ...        ...  ...                  ...         ...\n",
              "240           YE  15.552727  ...                  NaN         NaN\n",
              "241           YT -12.827500  ...                  NaN         NaN\n",
              "242           ZA -30.559482  ...                  NaN         NaN\n",
              "243           ZM -13.133897  ...                  NaN         NaN\n",
              "244           ZW -19.015438  ...                  NaN         NaN\n",
              "\n",
              "[245 rows x 8 columns]"
            ]
          },
          "metadata": {},
          "execution_count": 20
        }
      ]
    },
    {
      "cell_type": "markdown",
      "metadata": {
        "id": "5oOfXZfavaM0"
      },
      "source": [
        "# Analisis exploratorio de datos"
      ]
    },
    {
      "cell_type": "markdown",
      "metadata": {
        "id": "98eOBoGlx6-N"
      },
      "source": [
        "Para el analizis exploratorio usare codigos de cajon que tengo, los cuales facilitan la tarea de analziar, limpiar y transformar en caso de ser necesario el proceso se repitira con los 3 datasets, en caso de hacer limpieza cambiara dependiendo la necesidad"
      ]
    },
    {
      "cell_type": "markdown",
      "metadata": {
        "id": "XUfynY5cyuEa"
      },
      "source": [
        "## local"
      ]
    },
    {
      "cell_type": "code",
      "metadata": {
        "colab": {
          "base_uri": "https://localhost:8080/",
          "height": 206
        },
        "id": "4q7Rdarmvhm7",
        "outputId": "04547b23-7d87-460f-870d-5f6eab72c84b"
      },
      "source": [
        "# Se explora el dataset\n",
        "datalocal.head()"
      ],
      "execution_count": 21,
      "outputs": [
        {
          "output_type": "execute_result",
          "data": {
            "text/html": [
              "<div>\n",
              "<style scoped>\n",
              "    .dataframe tbody tr th:only-of-type {\n",
              "        vertical-align: middle;\n",
              "    }\n",
              "\n",
              "    .dataframe tbody tr th {\n",
              "        vertical-align: top;\n",
              "    }\n",
              "\n",
              "    .dataframe thead th {\n",
              "        text-align: right;\n",
              "    }\n",
              "</style>\n",
              "<table border=\"1\" class=\"dataframe\">\n",
              "  <thead>\n",
              "    <tr style=\"text-align: right;\">\n",
              "      <th></th>\n",
              "      <th>Survived</th>\n",
              "      <th>Pclass</th>\n",
              "      <th>Name</th>\n",
              "      <th>Sex</th>\n",
              "      <th>Age</th>\n",
              "      <th>Siblings/Spouses Aboard</th>\n",
              "      <th>Parents/Children Aboard</th>\n",
              "      <th>Fare</th>\n",
              "    </tr>\n",
              "  </thead>\n",
              "  <tbody>\n",
              "    <tr>\n",
              "      <th>0</th>\n",
              "      <td>0</td>\n",
              "      <td>3</td>\n",
              "      <td>Mr. Owen Harris Braund</td>\n",
              "      <td>male</td>\n",
              "      <td>22.0</td>\n",
              "      <td>1</td>\n",
              "      <td>0</td>\n",
              "      <td>7.2500</td>\n",
              "    </tr>\n",
              "    <tr>\n",
              "      <th>1</th>\n",
              "      <td>1</td>\n",
              "      <td>1</td>\n",
              "      <td>Mrs. John Bradley (Florence Briggs Thayer) Cum...</td>\n",
              "      <td>female</td>\n",
              "      <td>38.0</td>\n",
              "      <td>1</td>\n",
              "      <td>0</td>\n",
              "      <td>71.2833</td>\n",
              "    </tr>\n",
              "    <tr>\n",
              "      <th>2</th>\n",
              "      <td>1</td>\n",
              "      <td>3</td>\n",
              "      <td>Miss. Laina Heikkinen</td>\n",
              "      <td>female</td>\n",
              "      <td>26.0</td>\n",
              "      <td>0</td>\n",
              "      <td>0</td>\n",
              "      <td>7.9250</td>\n",
              "    </tr>\n",
              "    <tr>\n",
              "      <th>3</th>\n",
              "      <td>1</td>\n",
              "      <td>1</td>\n",
              "      <td>Mrs. Jacques Heath (Lily May Peel) Futrelle</td>\n",
              "      <td>female</td>\n",
              "      <td>35.0</td>\n",
              "      <td>1</td>\n",
              "      <td>0</td>\n",
              "      <td>53.1000</td>\n",
              "    </tr>\n",
              "    <tr>\n",
              "      <th>4</th>\n",
              "      <td>0</td>\n",
              "      <td>3</td>\n",
              "      <td>Mr. William Henry Allen</td>\n",
              "      <td>male</td>\n",
              "      <td>35.0</td>\n",
              "      <td>0</td>\n",
              "      <td>0</td>\n",
              "      <td>8.0500</td>\n",
              "    </tr>\n",
              "  </tbody>\n",
              "</table>\n",
              "</div>"
            ],
            "text/plain": [
              "   Survived  Pclass  ... Parents/Children Aboard     Fare\n",
              "0         0       3  ...                       0   7.2500\n",
              "1         1       1  ...                       0  71.2833\n",
              "2         1       3  ...                       0   7.9250\n",
              "3         1       1  ...                       0  53.1000\n",
              "4         0       3  ...                       0   8.0500\n",
              "\n",
              "[5 rows x 8 columns]"
            ]
          },
          "metadata": {},
          "execution_count": 21
        }
      ]
    },
    {
      "cell_type": "code",
      "metadata": {
        "colab": {
          "base_uri": "https://localhost:8080/"
        },
        "id": "SGpfDQAezSAr",
        "outputId": "444f168e-60ef-4733-e1bb-e25423604fbf"
      },
      "source": [
        "# se observa de cuanto es la longitud del mismo (filas)\n",
        "len(datalocal)"
      ],
      "execution_count": 22,
      "outputs": [
        {
          "output_type": "execute_result",
          "data": {
            "text/plain": [
              "887"
            ]
          },
          "metadata": {},
          "execution_count": 22
        }
      ]
    },
    {
      "cell_type": "code",
      "metadata": {
        "colab": {
          "base_uri": "https://localhost:8080/"
        },
        "id": "x0M2JnlBLsq5",
        "outputId": "f3aec979-5eb6-4b18-faf4-04fc27314c72"
      },
      "source": [
        "datalocal.dtypes"
      ],
      "execution_count": 23,
      "outputs": [
        {
          "output_type": "execute_result",
          "data": {
            "text/plain": [
              "Survived                     int64\n",
              "Pclass                       int64\n",
              "Name                        object\n",
              "Sex                         object\n",
              "Age                        float64\n",
              "Siblings/Spouses Aboard      int64\n",
              "Parents/Children Aboard      int64\n",
              "Fare                       float64\n",
              "dtype: object"
            ]
          },
          "metadata": {},
          "execution_count": 23
        }
      ]
    },
    {
      "cell_type": "code",
      "metadata": {
        "colab": {
          "base_uri": "https://localhost:8080/",
          "height": 1000
        },
        "id": "w_d3ft8XzSFK",
        "outputId": "c4683ab7-cb68-4c5d-d23a-e0b5c9214eae"
      },
      "source": [
        "# Se ve la informacion de las columnas, con el proposito de saber que contiene cada una asi como si tiene valores unicos o repetidos (categorias)\n",
        "for col in datalocal.columns:\n",
        "    print(\"-\"*20 + col+\"-\"*20)\n",
        "    display(datalocal[col].value_counts())"
      ],
      "execution_count": 24,
      "outputs": [
        {
          "output_type": "stream",
          "name": "stdout",
          "text": [
            "--------------------Survived--------------------\n"
          ]
        },
        {
          "output_type": "display_data",
          "data": {
            "text/plain": [
              "0    545\n",
              "1    342\n",
              "Name: Survived, dtype: int64"
            ]
          },
          "metadata": {}
        },
        {
          "output_type": "stream",
          "name": "stdout",
          "text": [
            "--------------------Pclass--------------------\n"
          ]
        },
        {
          "output_type": "display_data",
          "data": {
            "text/plain": [
              "3    487\n",
              "1    216\n",
              "2    184\n",
              "Name: Pclass, dtype: int64"
            ]
          },
          "metadata": {}
        },
        {
          "output_type": "stream",
          "name": "stdout",
          "text": [
            "--------------------Name--------------------\n"
          ]
        },
        {
          "output_type": "display_data",
          "data": {
            "text/plain": [
              "Mr. Guentcho Bostandyeff                               1\n",
              "Mrs. Alexander A (Grace Charity Laury) Robins          1\n",
              "Miss. Sara Rebecca Compton                             1\n",
              "Miss. Bertha Lehmann                                   1\n",
              "Mrs. Pekka Pietari (Elin Matilda Dolck) Hakkarainen    1\n",
              "                                                      ..\n",
              "Mr. William Carbines                                   1\n",
              "Mr. Ramon Artagaveytia                                 1\n",
              "Mrs. Charles Melville (Clara Jennings Gregg) Hays      1\n",
              "Mr. Albert Augustsson                                  1\n",
              "Miss. Maria Nakid                                      1\n",
              "Name: Name, Length: 887, dtype: int64"
            ]
          },
          "metadata": {}
        },
        {
          "output_type": "stream",
          "name": "stdout",
          "text": [
            "--------------------Sex--------------------\n"
          ]
        },
        {
          "output_type": "display_data",
          "data": {
            "text/plain": [
              "male      573\n",
              "female    314\n",
              "Name: Sex, dtype: int64"
            ]
          },
          "metadata": {}
        },
        {
          "output_type": "stream",
          "name": "stdout",
          "text": [
            "--------------------Age--------------------\n"
          ]
        },
        {
          "output_type": "display_data",
          "data": {
            "text/plain": [
              "22.00    39\n",
              "28.00    37\n",
              "18.00    36\n",
              "21.00    34\n",
              "24.00    34\n",
              "         ..\n",
              "70.50     1\n",
              "36.50     1\n",
              "23.50     1\n",
              "55.50     1\n",
              "0.42      1\n",
              "Name: Age, Length: 89, dtype: int64"
            ]
          },
          "metadata": {}
        },
        {
          "output_type": "stream",
          "name": "stdout",
          "text": [
            "--------------------Siblings/Spouses Aboard--------------------\n"
          ]
        },
        {
          "output_type": "display_data",
          "data": {
            "text/plain": [
              "0    604\n",
              "1    209\n",
              "2     28\n",
              "4     18\n",
              "3     16\n",
              "8      7\n",
              "5      5\n",
              "Name: Siblings/Spouses Aboard, dtype: int64"
            ]
          },
          "metadata": {}
        },
        {
          "output_type": "stream",
          "name": "stdout",
          "text": [
            "--------------------Parents/Children Aboard--------------------\n"
          ]
        },
        {
          "output_type": "display_data",
          "data": {
            "text/plain": [
              "0    674\n",
              "1    118\n",
              "2     80\n",
              "5      5\n",
              "3      5\n",
              "4      4\n",
              "6      1\n",
              "Name: Parents/Children Aboard, dtype: int64"
            ]
          },
          "metadata": {}
        },
        {
          "output_type": "stream",
          "name": "stdout",
          "text": [
            "--------------------Fare--------------------\n"
          ]
        },
        {
          "output_type": "display_data",
          "data": {
            "text/plain": [
              "8.0500     43\n",
              "13.0000    42\n",
              "7.8958     36\n",
              "7.7500     33\n",
              "26.0000    31\n",
              "           ..\n",
              "8.4583      1\n",
              "9.8375      1\n",
              "8.3625      1\n",
              "14.1083     1\n",
              "17.4000     1\n",
              "Name: Fare, Length: 248, dtype: int64"
            ]
          },
          "metadata": {}
        }
      ]
    },
    {
      "cell_type": "code",
      "metadata": {
        "colab": {
          "base_uri": "https://localhost:8080/"
        },
        "id": "dj6AlyNOzSHn",
        "outputId": "f487b96a-a452-48bd-a98f-067789bbc6a8"
      },
      "source": [
        "# se observa solo el nombre de las columnas que contiene\n",
        "datalocal.columns.values"
      ],
      "execution_count": 25,
      "outputs": [
        {
          "output_type": "execute_result",
          "data": {
            "text/plain": [
              "array(['Survived', 'Pclass', 'Name', 'Sex', 'Age',\n",
              "       'Siblings/Spouses Aboard', 'Parents/Children Aboard', 'Fare'],\n",
              "      dtype=object)"
            ]
          },
          "metadata": {},
          "execution_count": 25
        }
      ]
    },
    {
      "cell_type": "code",
      "metadata": {
        "colab": {
          "base_uri": "https://localhost:8080/"
        },
        "id": "8Kx8tNaTzSJt",
        "outputId": "e453ee83-deb3-4075-f2ee-682644399e74"
      },
      "source": [
        "# se busca si hay nulos\n",
        "datalocal.isnull().sum()"
      ],
      "execution_count": 26,
      "outputs": [
        {
          "output_type": "execute_result",
          "data": {
            "text/plain": [
              "Survived                   0\n",
              "Pclass                     0\n",
              "Name                       0\n",
              "Sex                        0\n",
              "Age                        0\n",
              "Siblings/Spouses Aboard    0\n",
              "Parents/Children Aboard    0\n",
              "Fare                       0\n",
              "dtype: int64"
            ]
          },
          "metadata": {},
          "execution_count": 26
        }
      ]
    },
    {
      "cell_type": "code",
      "metadata": {
        "colab": {
          "base_uri": "https://localhost:8080/"
        },
        "id": "iQhIEKHKzSMV",
        "outputId": "91755041-5699-42ef-d827-43dd26fb4b5e"
      },
      "source": [
        "# se buscan duplicados en las filas \n",
        "datalocal.duplicated().sum()\n",
        "\n",
        "# Para mostrar filas con duplicados es:\n",
        "# datalocal[datalocal.duplicated()]"
      ],
      "execution_count": 27,
      "outputs": [
        {
          "output_type": "execute_result",
          "data": {
            "text/plain": [
              "0"
            ]
          },
          "metadata": {},
          "execution_count": 27
        }
      ]
    },
    {
      "cell_type": "markdown",
      "metadata": {
        "id": "wKYHGRAUGNhF"
      },
      "source": [
        "Al ser un dataset limpio, no habria mas que llevarlo a proceso de graficacion/modelaje"
      ]
    },
    {
      "cell_type": "markdown",
      "metadata": {
        "id": "6blbW_3v1ghZ"
      },
      "source": [
        "## drive"
      ]
    },
    {
      "cell_type": "code",
      "metadata": {
        "colab": {
          "base_uri": "https://localhost:8080/",
          "height": 0
        },
        "id": "hwvv38MB1ghZ",
        "outputId": "9ca48c50-7248-495f-85e8-9adf61306d9c"
      },
      "source": [
        "# Se explora el dataset\n",
        "datadrive.head()"
      ],
      "execution_count": 28,
      "outputs": [
        {
          "output_type": "execute_result",
          "data": {
            "text/html": [
              "<div>\n",
              "<style scoped>\n",
              "    .dataframe tbody tr th:only-of-type {\n",
              "        vertical-align: middle;\n",
              "    }\n",
              "\n",
              "    .dataframe tbody tr th {\n",
              "        vertical-align: top;\n",
              "    }\n",
              "\n",
              "    .dataframe thead th {\n",
              "        text-align: right;\n",
              "    }\n",
              "</style>\n",
              "<table border=\"1\" class=\"dataframe\">\n",
              "  <thead>\n",
              "    <tr style=\"text-align: right;\">\n",
              "      <th></th>\n",
              "      <th>id</th>\n",
              "      <th>nivel</th>\n",
              "      <th>nombre</th>\n",
              "      <th>turno</th>\n",
              "      <th>domicilio</th>\n",
              "      <th>colonia</th>\n",
              "      <th>alcaldia</th>\n",
              "      <th>sostenimiento</th>\n",
              "      <th>ubicacion</th>\n",
              "      <th>lat</th>\n",
              "      <th>lon</th>\n",
              "      <th>coordenadas</th>\n",
              "    </tr>\n",
              "  </thead>\n",
              "  <tbody>\n",
              "    <tr>\n",
              "      <th>0</th>\n",
              "      <td>0</td>\n",
              "      <td>INICIAL</td>\n",
              "      <td>CENDI PART SEDI LOMAS</td>\n",
              "      <td>MATUTINO</td>\n",
              "      <td>EXPLANADA NO. 305</td>\n",
              "      <td>LOMAS DE CHAPULTEPEC</td>\n",
              "      <td>MIGUEL HIDALGO</td>\n",
              "      <td>Particular</td>\n",
              "      <td>EXPLANADA NO. 305, LOMAS DE CHAPULTEPEC, MIGUE...</td>\n",
              "      <td>19.425154</td>\n",
              "      <td>-99.211154</td>\n",
              "      <td>19.4251542,-99.211154</td>\n",
              "    </tr>\n",
              "    <tr>\n",
              "      <th>1</th>\n",
              "      <td>1</td>\n",
              "      <td>INICIAL</td>\n",
              "      <td>ARMONIA INFANTIL</td>\n",
              "      <td>MATUTINO</td>\n",
              "      <td>AV. SINATEL No 38 MZ. 4 LT. 21</td>\n",
              "      <td>SINATEL AMPLIACION</td>\n",
              "      <td>IZTAPALAPA</td>\n",
              "      <td>Particular</td>\n",
              "      <td>AV. SINATEL No 38 MZ. 4 LT. 21, SINATEL AMPLIA...</td>\n",
              "      <td>19.364828</td>\n",
              "      <td>-99.131801</td>\n",
              "      <td>19.3648281,-99.1318013</td>\n",
              "    </tr>\n",
              "    <tr>\n",
              "      <th>2</th>\n",
              "      <td>2</td>\n",
              "      <td>INICIAL</td>\n",
              "      <td>CENDI PART. COLEGIO DE LAS BALEARES</td>\n",
              "      <td>TIEMPO COMPLETO</td>\n",
              "      <td>JOSEFA ORTIZ DE DOMINGUEZ NO 2</td>\n",
              "      <td>TIZAPAN</td>\n",
              "      <td>ALVARO OBREGON</td>\n",
              "      <td>Particular</td>\n",
              "      <td>JOSEFA ORTIZ DE DOMINGUEZ NO 2, TIZAPAN, ALVAR...</td>\n",
              "      <td>19.335167</td>\n",
              "      <td>-99.202637</td>\n",
              "      <td>19.3351668,-99.202637</td>\n",
              "    </tr>\n",
              "    <tr>\n",
              "      <th>3</th>\n",
              "      <td>3</td>\n",
              "      <td>INICIAL</td>\n",
              "      <td>CENDI PART COLEGIO CIBELES, S.C.</td>\n",
              "      <td>MATUTINO</td>\n",
              "      <td>RIO GRIJALVA NUM 27</td>\n",
              "      <td>CUAUHTEMOC</td>\n",
              "      <td>CUAUHTEMOC</td>\n",
              "      <td>Particular</td>\n",
              "      <td>RIO GRIJALVA NUM 27, CUAUHTEMOC, CUAUHTEMOC</td>\n",
              "      <td>19.433640</td>\n",
              "      <td>-99.170147</td>\n",
              "      <td>19.4336398,-99.1701471</td>\n",
              "    </tr>\n",
              "    <tr>\n",
              "      <th>4</th>\n",
              "      <td>4</td>\n",
              "      <td>INICIAL</td>\n",
              "      <td>CENTRO DE DESARROLLO INFANTIL KINDERGARDEN</td>\n",
              "      <td>TIEMPO COMPLETO</td>\n",
              "      <td>CALLE 11 DE ENERO DE 1861 NO. 2114</td>\n",
              "      <td>LEYES DE REFORMA</td>\n",
              "      <td>IZTAPALAPA</td>\n",
              "      <td>Particular</td>\n",
              "      <td>CALLE 11 DE ENERO DE 1861 NO. 2114, LEYES DE R...</td>\n",
              "      <td>19.382636</td>\n",
              "      <td>-99.066102</td>\n",
              "      <td>19.3826355,-99.0661015</td>\n",
              "    </tr>\n",
              "  </tbody>\n",
              "</table>\n",
              "</div>"
            ],
            "text/plain": [
              "   id    nivel  ...        lon             coordenadas\n",
              "0   0  INICIAL  ... -99.211154   19.4251542,-99.211154\n",
              "1   1  INICIAL  ... -99.131801  19.3648281,-99.1318013\n",
              "2   2  INICIAL  ... -99.202637   19.3351668,-99.202637\n",
              "3   3  INICIAL  ... -99.170147  19.4336398,-99.1701471\n",
              "4   4  INICIAL  ... -99.066102  19.3826355,-99.0661015\n",
              "\n",
              "[5 rows x 12 columns]"
            ]
          },
          "metadata": {},
          "execution_count": 28
        }
      ]
    },
    {
      "cell_type": "code",
      "metadata": {
        "colab": {
          "base_uri": "https://localhost:8080/"
        },
        "id": "POoC2AB71gha",
        "outputId": "84aa1b87-488c-4c44-c5e8-2a351780a014"
      },
      "source": [
        "# se observa de cuanto es la longitud del mismo (filas)\n",
        "len(datadrive)"
      ],
      "execution_count": 29,
      "outputs": [
        {
          "output_type": "execute_result",
          "data": {
            "text/plain": [
              "3696"
            ]
          },
          "metadata": {},
          "execution_count": 29
        }
      ]
    },
    {
      "cell_type": "code",
      "metadata": {
        "colab": {
          "base_uri": "https://localhost:8080/"
        },
        "id": "a3z1h5V7LmIg",
        "outputId": "53ef7352-33ea-4cf3-ee8c-d15baae02667"
      },
      "source": [
        "datadrive.dtypes"
      ],
      "execution_count": 30,
      "outputs": [
        {
          "output_type": "execute_result",
          "data": {
            "text/plain": [
              "id                 int64\n",
              "nivel             object\n",
              "nombre            object\n",
              "turno             object\n",
              "domicilio         object\n",
              "colonia           object\n",
              "alcaldia          object\n",
              "sostenimiento     object\n",
              "ubicacion         object\n",
              "lat              float64\n",
              "lon              float64\n",
              "coordenadas       object\n",
              "dtype: object"
            ]
          },
          "metadata": {},
          "execution_count": 30
        }
      ]
    },
    {
      "cell_type": "code",
      "metadata": {
        "colab": {
          "base_uri": "https://localhost:8080/",
          "height": 0
        },
        "id": "YKt4K_A91gha",
        "outputId": "47ae130d-81c1-4ad8-f0ee-0d9120f51c1a"
      },
      "source": [
        "# Se ve la informacion de las columnas, con el proposito de saber que contiene cada una asi como si tiene valores unicos o repetidos (categorias)\n",
        "for col in datadrive.columns:\n",
        "    print(\"-\"*20 + col+\"-\"*20)\n",
        "    display(datadrive[col].value_counts())"
      ],
      "execution_count": 31,
      "outputs": [
        {
          "output_type": "stream",
          "name": "stdout",
          "text": [
            "--------------------id--------------------\n"
          ]
        },
        {
          "output_type": "display_data",
          "data": {
            "text/plain": [
              "2047    1\n",
              "2680    1\n",
              "2676    1\n",
              "625     1\n",
              "2672    1\n",
              "       ..\n",
              "1226    1\n",
              "3271    1\n",
              "1222    1\n",
              "3267    1\n",
              "0       1\n",
              "Name: id, Length: 3696, dtype: int64"
            ]
          },
          "metadata": {}
        },
        {
          "output_type": "stream",
          "name": "stdout",
          "text": [
            "--------------------nivel--------------------\n"
          ]
        },
        {
          "output_type": "display_data",
          "data": {
            "text/plain": [
              "Preescolar                1869\n",
              "Primaria                  1094\n",
              "Secundaria                 524\n",
              "INICIAL                    159\n",
              "Preescolar - Inicial *      42\n",
              "Especial - CAM               6\n",
              "Adultos                      2\n",
              "Name: nivel, dtype: int64"
            ]
          },
          "metadata": {}
        },
        {
          "output_type": "stream",
          "name": "stdout",
          "text": [
            "--------------------nombre--------------------\n"
          ]
        },
        {
          "output_type": "display_data",
          "data": {
            "text/plain": [
              "COLEGIO OLIVERIO CROMWELL                     9\n",
              "COLEGIO DEL BOSQUE                            6\n",
              "WESTHILL INSTITUTE                            6\n",
              "IMPULSO PEDAGÓGICO MEXICANO                   5\n",
              "JARDIN DE NIÑOS FEDERICO FROEBEL              5\n",
              "                                             ..\n",
              "IMAGINA                                       1\n",
              "CENDI PART CENTRO EDUCATIVO INTERKIDS         1\n",
              "INSTITUTO EDUCATIVO YIREH                     1\n",
              "INSTITUTO SIGLO XXI                           1\n",
              "INSTITUTO PEDAGÓGICO KAHLO DE MÉXICO, A.C.    1\n",
              "Name: nombre, Length: 2832, dtype: int64"
            ]
          },
          "metadata": {}
        },
        {
          "output_type": "stream",
          "name": "stdout",
          "text": [
            "--------------------turno--------------------\n"
          ]
        },
        {
          "output_type": "display_data",
          "data": {
            "text/plain": [
              "MATUTINO            3567\n",
              "TIEMPO COMPLETO       88\n",
              "VESPERTINO            36\n",
              "NOCTURNO               3\n",
              "JORNADA AMPLIADA       2\n",
              "Name: turno, dtype: int64"
            ]
          },
          "metadata": {}
        },
        {
          "output_type": "stream",
          "name": "stdout",
          "text": [
            "--------------------domicilio--------------------\n"
          ]
        },
        {
          "output_type": "display_data",
          "data": {
            "text/plain": [
              "MATANZAS NO. 1013               3\n",
              "AVENIDA BENITO JUÁREZ NO. 28    3\n",
              "SUR 25 NO. 257                  3\n",
              "AV. 5 NO. 89                    3\n",
              "BONDOJITO No. 290               3\n",
              "                               ..\n",
              "TORRES ADALID 626               1\n",
              "AVENIDA SANTA LUCIA NUM 260     1\n",
              "TRUCHA NO. 47                   1\n",
              "BORIS GODUNOV No. 133           1\n",
              "ESTADO DE NAYARIT No. 15        1\n",
              "Name: domicilio, Length: 3465, dtype: int64"
            ]
          },
          "metadata": {}
        },
        {
          "output_type": "stream",
          "name": "stdout",
          "text": [
            "--------------------colonia--------------------\n"
          ]
        },
        {
          "output_type": "display_data",
          "data": {
            "text/plain": [
              "DEL VALLE                  76\n",
              "LINDAVISTA                 60\n",
              "AGRICOLA ORIENTAL          53\n",
              "JARDINES DEL PEDREGAL      47\n",
              "JARDIN BALBUENA            39\n",
              "                           ..\n",
              "ZONA EJIDOS DE PADIERNA     1\n",
              "ESTANZUELA                  1\n",
              "VALLE ESCONDIDO             1\n",
              "LOMA DE LA PALMA            1\n",
              "PEÑON DE LOS BAÑOS          1\n",
              "Name: colonia, Length: 709, dtype: int64"
            ]
          },
          "metadata": {}
        },
        {
          "output_type": "stream",
          "name": "stdout",
          "text": [
            "--------------------alcaldia--------------------\n"
          ]
        },
        {
          "output_type": "display_data",
          "data": {
            "text/plain": [
              "IZTAPALAPA                636\n",
              "GUSTAVO A. MADERO         473\n",
              "TLALPAN                   325\n",
              "ALVARO OBREGON            321\n",
              "BENITO JUAREZ             294\n",
              "COYOACAN                  290\n",
              "MIGUEL HIDALGO            223\n",
              "CUAUHTEMOC                190\n",
              "CUAJIMALPA DE MORELOS     172\n",
              "XOCHIMILCO                149\n",
              "VENUSTIANO CARRANZA       140\n",
              "IZTACALCO                 138\n",
              "AZCAPOTZALCO              126\n",
              "TLAHUAC                   103\n",
              "LA MAGDALENA CONTRERAS     84\n",
              "MILPA ALTA                 32\n",
              "Name: alcaldia, dtype: int64"
            ]
          },
          "metadata": {}
        },
        {
          "output_type": "stream",
          "name": "stdout",
          "text": [
            "--------------------sostenimiento--------------------\n"
          ]
        },
        {
          "output_type": "display_data",
          "data": {
            "text/plain": [
              "Particular    3696\n",
              "Name: sostenimiento, dtype: int64"
            ]
          },
          "metadata": {}
        },
        {
          "output_type": "stream",
          "name": "stdout",
          "text": [
            "--------------------ubicacion--------------------\n"
          ]
        },
        {
          "output_type": "display_data",
          "data": {
            "text/plain": [
              "AV. 5 NO. 89, GRANJAS SAN ANTONIO, IZTAPALAPA                            3\n",
              "BOULEVARD CAPRI NO. 97, LOMAS ESTRELLA, IZTAPALAPA                       3\n",
              "PIRINEOS NO. 173, PORTALES, BENITO JUAREZ                                3\n",
              "JOSÉ MARÍA MORELOS Y PAVON NO. 27, SANTA MARIA AZTAHUACAN, IZTAPALAPA    3\n",
              "GENERAL HERMINIO CHAVARRIA NO. 22, CITLALI, IZTAPALAPA                   3\n",
              "                                                                        ..\n",
              "25 NO. 50, OLIVAR DEL CONDE 2A SECCION, ALVARO OBREGON                   1\n",
              "ORIENTE 83 NO 4209, MALINCHE, GUSTAVO A. MADERO                          1\n",
              "MOCORITO NO. 89, ALVARO OBREGON, VENUSTIANO CARRANZA                     1\n",
              "RETORNO 1 DE SUR 12 \"C\" NO. 46, AGRICOLA ORIENTAL, IZTACALCO             1\n",
              "CALZADA MEXICO TACUBA NO 982, TORRE BLANCA, MIGUEL HIDALGO               1\n",
              "Name: ubicacion, Length: 3484, dtype: int64"
            ]
          },
          "metadata": {}
        },
        {
          "output_type": "stream",
          "name": "stdout",
          "text": [
            "--------------------lat--------------------\n"
          ]
        },
        {
          "output_type": "display_data",
          "data": {
            "text/plain": [
              "19.363635    6\n",
              "19.347971    6\n",
              "19.299023    5\n",
              "19.356474    5\n",
              "19.487333    4\n",
              "            ..\n",
              "19.365024    1\n",
              "19.325416    1\n",
              "19.276224    1\n",
              "19.254777    1\n",
              "19.310232    1\n",
              "Name: lat, Length: 2711, dtype: int64"
            ]
          },
          "metadata": {}
        },
        {
          "output_type": "stream",
          "name": "stdout",
          "text": [
            "--------------------lon--------------------\n"
          ]
        },
        {
          "output_type": "display_data",
          "data": {
            "text/plain": [
              "-99.068771    6\n",
              "-99.030162    6\n",
              "-99.182745    5\n",
              "-99.266252    5\n",
              "-99.043647    5\n",
              "             ..\n",
              "-99.125652    1\n",
              "-99.250480    1\n",
              "-99.053654    1\n",
              "-99.164405    1\n",
              "-99.090571    1\n",
              "Name: lon, Length: 2681, dtype: int64"
            ]
          },
          "metadata": {}
        },
        {
          "output_type": "stream",
          "name": "stdout",
          "text": [
            "--------------------coordenadas--------------------\n"
          ]
        },
        {
          "output_type": "display_data",
          "data": {
            "text/plain": [
              "19.3479712,-99.0301617    6\n",
              "19.3636352,-99.0687706    6\n",
              "19.3564739,-99.2662522    5\n",
              "19.2990233,-99.0436467    5\n",
              "19.3600114,-99.1985152    4\n",
              "                         ..\n",
              "19.3030803,-99.1303354    1\n",
              "19.3438284,-99.0511592    1\n",
              "19.3201149,-99.0582741    1\n",
              "19.5058493,-99.2096244    1\n",
              "19.3766923,-99.1850432    1\n",
              "Name: coordenadas, Length: 2712, dtype: int64"
            ]
          },
          "metadata": {}
        }
      ]
    },
    {
      "cell_type": "code",
      "metadata": {
        "colab": {
          "base_uri": "https://localhost:8080/"
        },
        "id": "1Tmj-TH61gha",
        "outputId": "9b771c2d-86db-4e50-bdb3-89f2cda7f3eb"
      },
      "source": [
        "# se observa solo el nombre de las columnas que contiene\n",
        "datadrive.columns.values"
      ],
      "execution_count": 32,
      "outputs": [
        {
          "output_type": "execute_result",
          "data": {
            "text/plain": [
              "array(['id', 'nivel', 'nombre', 'turno', 'domicilio', 'colonia',\n",
              "       'alcaldia', 'sostenimiento', 'ubicacion', 'lat', 'lon',\n",
              "       'coordenadas'], dtype=object)"
            ]
          },
          "metadata": {},
          "execution_count": 32
        }
      ]
    },
    {
      "cell_type": "code",
      "metadata": {
        "colab": {
          "base_uri": "https://localhost:8080/"
        },
        "id": "9MrG_Obd1gha",
        "outputId": "c75d9cec-f2e1-44f9-93f4-bf4d942d755a"
      },
      "source": [
        "# se busca si hay nulos\n",
        "datadrive.isnull().sum()"
      ],
      "execution_count": 33,
      "outputs": [
        {
          "output_type": "execute_result",
          "data": {
            "text/plain": [
              "id                0\n",
              "nivel             0\n",
              "nombre            0\n",
              "turno             0\n",
              "domicilio         0\n",
              "colonia           0\n",
              "alcaldia          0\n",
              "sostenimiento     0\n",
              "ubicacion         0\n",
              "lat              37\n",
              "lon              37\n",
              "coordenadas      37\n",
              "dtype: int64"
            ]
          },
          "metadata": {},
          "execution_count": 33
        }
      ]
    },
    {
      "cell_type": "code",
      "metadata": {
        "colab": {
          "base_uri": "https://localhost:8080/"
        },
        "id": "5GKB3UyqG7Lg",
        "outputId": "edc18255-3f6b-457c-e283-09df5c2b807f"
      },
      "source": [
        "len(datadrive[(datadrive[\"lat\"].isnull())& (~datadrive[\"coordenadas\"].isnull())])\n",
        "# data[(data['nombre'].str.contains('INICIAL')) & (~data['nivel'].str.contains('INICIAL'))]"
      ],
      "execution_count": 34,
      "outputs": [
        {
          "output_type": "execute_result",
          "data": {
            "text/plain": [
              "0"
            ]
          },
          "metadata": {},
          "execution_count": 34
        }
      ]
    },
    {
      "cell_type": "code",
      "metadata": {
        "colab": {
          "base_uri": "https://localhost:8080/"
        },
        "id": "qxlkdeFzIZUr",
        "outputId": "8484105d-051d-408b-a3f3-d8eeb9b48b58"
      },
      "source": [
        "len(datadrive[(datadrive[\"lat\"].isnull())& (datadrive[\"coordenadas\"].isnull())])\n"
      ],
      "execution_count": 35,
      "outputs": [
        {
          "output_type": "execute_result",
          "data": {
            "text/plain": [
              "37"
            ]
          },
          "metadata": {},
          "execution_count": 35
        }
      ]
    },
    {
      "cell_type": "code",
      "metadata": {
        "colab": {
          "base_uri": "https://localhost:8080/"
        },
        "id": "4eRqPGh4ITTU",
        "outputId": "889b82ea-3884-4fb7-c932-9de5b3308b64"
      },
      "source": [
        "len(datadrive[(datadrive[\"lon\"].isnull())& (~datadrive[\"coordenadas\"].isnull())])"
      ],
      "execution_count": 36,
      "outputs": [
        {
          "output_type": "execute_result",
          "data": {
            "text/plain": [
              "0"
            ]
          },
          "metadata": {},
          "execution_count": 36
        }
      ]
    },
    {
      "cell_type": "code",
      "metadata": {
        "colab": {
          "base_uri": "https://localhost:8080/"
        },
        "id": "oJNce9_UIW0z",
        "outputId": "e27000ef-85d8-4951-bf8f-b7638139bc2c"
      },
      "source": [
        "len(datadrive[(datadrive[\"lon\"].isnull())& (datadrive[\"coordenadas\"].isnull())])"
      ],
      "execution_count": 37,
      "outputs": [
        {
          "output_type": "execute_result",
          "data": {
            "text/plain": [
              "37"
            ]
          },
          "metadata": {},
          "execution_count": 37
        }
      ]
    },
    {
      "cell_type": "code",
      "metadata": {
        "colab": {
          "base_uri": "https://localhost:8080/"
        },
        "id": "aX3iw58v1gha",
        "outputId": "c350e1bb-20af-47d9-ceb4-4dcf5f05add0"
      },
      "source": [
        "# se buscan duplicados en las filas \n",
        "datadrive.duplicated().sum()\n",
        "\n",
        "# Para mostrar filas con duplicados es:\n",
        "# datalocal[datalocal.duplicated()]"
      ],
      "execution_count": 38,
      "outputs": [
        {
          "output_type": "execute_result",
          "data": {
            "text/plain": [
              "0"
            ]
          },
          "metadata": {},
          "execution_count": 38
        }
      ]
    },
    {
      "cell_type": "markdown",
      "metadata": {
        "id": "OryxvMZUGbOM"
      },
      "source": [
        "De primera instancia se podrian borrar las coordenadas, sin embargo, es bueno verificar que lat y lon correspondan con las coordenadas, de no ser asi se podrian extraer estas de coordenadas o vicerversa y luego proceder a eliminar ya sea lat y lon o solo coordenadas, debido a que se repite la informacion"
      ]
    },
    {
      "cell_type": "markdown",
      "metadata": {
        "id": "Y8B4cR-B14Zf"
      },
      "source": [
        "## Kaggle"
      ]
    },
    {
      "cell_type": "code",
      "metadata": {
        "colab": {
          "base_uri": "https://localhost:8080/",
          "height": 206
        },
        "id": "hsU00Ybi14Zf",
        "outputId": "eef05c42-cbc8-4635-a4e3-252810acd52a"
      },
      "source": [
        "# Se explora el dataset\n",
        "datakaggle.head()"
      ],
      "execution_count": 39,
      "outputs": [
        {
          "output_type": "execute_result",
          "data": {
            "text/html": [
              "<div>\n",
              "<style scoped>\n",
              "    .dataframe tbody tr th:only-of-type {\n",
              "        vertical-align: middle;\n",
              "    }\n",
              "\n",
              "    .dataframe tbody tr th {\n",
              "        vertical-align: top;\n",
              "    }\n",
              "\n",
              "    .dataframe thead th {\n",
              "        text-align: right;\n",
              "    }\n",
              "</style>\n",
              "<table border=\"1\" class=\"dataframe\">\n",
              "  <thead>\n",
              "    <tr style=\"text-align: right;\">\n",
              "      <th></th>\n",
              "      <th>country_code</th>\n",
              "      <th>latitude</th>\n",
              "      <th>longitude</th>\n",
              "      <th>country</th>\n",
              "      <th>usa_state_code</th>\n",
              "      <th>usa_state_latitude</th>\n",
              "      <th>usa_state_longitude</th>\n",
              "      <th>usa_state</th>\n",
              "    </tr>\n",
              "  </thead>\n",
              "  <tbody>\n",
              "    <tr>\n",
              "      <th>0</th>\n",
              "      <td>AD</td>\n",
              "      <td>42.546245</td>\n",
              "      <td>1.601554</td>\n",
              "      <td>Andorra</td>\n",
              "      <td>AK</td>\n",
              "      <td>63.588753</td>\n",
              "      <td>-154.493062</td>\n",
              "      <td>Alaska</td>\n",
              "    </tr>\n",
              "    <tr>\n",
              "      <th>1</th>\n",
              "      <td>AE</td>\n",
              "      <td>23.424076</td>\n",
              "      <td>53.847818</td>\n",
              "      <td>United Arab Emirates</td>\n",
              "      <td>AL</td>\n",
              "      <td>32.318231</td>\n",
              "      <td>-86.902298</td>\n",
              "      <td>Alabama</td>\n",
              "    </tr>\n",
              "    <tr>\n",
              "      <th>2</th>\n",
              "      <td>AF</td>\n",
              "      <td>33.939110</td>\n",
              "      <td>67.709953</td>\n",
              "      <td>Afghanistan</td>\n",
              "      <td>AR</td>\n",
              "      <td>35.201050</td>\n",
              "      <td>-91.831833</td>\n",
              "      <td>Arkansas</td>\n",
              "    </tr>\n",
              "    <tr>\n",
              "      <th>3</th>\n",
              "      <td>AG</td>\n",
              "      <td>17.060816</td>\n",
              "      <td>-61.796428</td>\n",
              "      <td>Antigua and Barbuda</td>\n",
              "      <td>AZ</td>\n",
              "      <td>34.048928</td>\n",
              "      <td>-111.093731</td>\n",
              "      <td>Arizona</td>\n",
              "    </tr>\n",
              "    <tr>\n",
              "      <th>4</th>\n",
              "      <td>AI</td>\n",
              "      <td>18.220554</td>\n",
              "      <td>-63.068615</td>\n",
              "      <td>Anguilla</td>\n",
              "      <td>CA</td>\n",
              "      <td>36.778261</td>\n",
              "      <td>-119.417932</td>\n",
              "      <td>California</td>\n",
              "    </tr>\n",
              "  </tbody>\n",
              "</table>\n",
              "</div>"
            ],
            "text/plain": [
              "  country_code   latitude  ...  usa_state_longitude   usa_state\n",
              "0           AD  42.546245  ...          -154.493062      Alaska\n",
              "1           AE  23.424076  ...           -86.902298     Alabama\n",
              "2           AF  33.939110  ...           -91.831833    Arkansas\n",
              "3           AG  17.060816  ...          -111.093731     Arizona\n",
              "4           AI  18.220554  ...          -119.417932  California\n",
              "\n",
              "[5 rows x 8 columns]"
            ]
          },
          "metadata": {},
          "execution_count": 39
        }
      ]
    },
    {
      "cell_type": "code",
      "metadata": {
        "colab": {
          "base_uri": "https://localhost:8080/"
        },
        "id": "JsVcA3U8Lfxn",
        "outputId": "67f833d6-9fae-40a8-d88d-243d86b990bb"
      },
      "source": [
        "datakaggle.dtypes"
      ],
      "execution_count": 40,
      "outputs": [
        {
          "output_type": "execute_result",
          "data": {
            "text/plain": [
              "country_code            object\n",
              "latitude               float64\n",
              "longitude              float64\n",
              "country                 object\n",
              "usa_state_code          object\n",
              "usa_state_latitude     float64\n",
              "usa_state_longitude    float64\n",
              "usa_state               object\n",
              "dtype: object"
            ]
          },
          "metadata": {},
          "execution_count": 40
        }
      ]
    },
    {
      "cell_type": "code",
      "metadata": {
        "colab": {
          "base_uri": "https://localhost:8080/"
        },
        "id": "Hhx0i2I014Zg",
        "outputId": "b4202c98-20b4-4165-e2da-6aee91f57a95"
      },
      "source": [
        "# se observa de cuanto es la longitud del mismo (filas)\n",
        "len(datakaggle)"
      ],
      "execution_count": 41,
      "outputs": [
        {
          "output_type": "execute_result",
          "data": {
            "text/plain": [
              "245"
            ]
          },
          "metadata": {},
          "execution_count": 41
        }
      ]
    },
    {
      "cell_type": "code",
      "metadata": {
        "colab": {
          "base_uri": "https://localhost:8080/",
          "height": 1000
        },
        "id": "ntyxoeLa14Zg",
        "outputId": "75993c4b-b990-4868-dba8-1f803c28f95f"
      },
      "source": [
        "# Se ve la informacion de las columnas, con el proposito de saber que contiene cada una asi como si tiene valores unicos o repetidos (categorias)\n",
        "for col in datakaggle.columns:\n",
        "    print(\"-\"*20 + col+\"-\"*20)\n",
        "    display(datakaggle[col].value_counts())"
      ],
      "execution_count": 42,
      "outputs": [
        {
          "output_type": "stream",
          "name": "stdout",
          "text": [
            "--------------------country_code--------------------\n"
          ]
        },
        {
          "output_type": "display_data",
          "data": {
            "text/plain": [
              "ES    1\n",
              "UA    1\n",
              "SY    1\n",
              "PH    1\n",
              "SV    1\n",
              "     ..\n",
              "GF    1\n",
              "AZ    1\n",
              "LY    1\n",
              "FR    1\n",
              "ME    1\n",
              "Name: country_code, Length: 244, dtype: int64"
            ]
          },
          "metadata": {}
        },
        {
          "output_type": "stream",
          "name": "stdout",
          "text": [
            "--------------------latitude--------------------\n"
          ]
        },
        {
          "output_type": "display_data",
          "data": {
            "text/plain": [
              "-0.023559     1\n",
              " 41.153332    1\n",
              " 49.817492    1\n",
              " 41.902916    1\n",
              "-19.054445    1\n",
              "             ..\n",
              " 51.919438    1\n",
              " 18.109581    1\n",
              " 31.046051    1\n",
              " 21.521757    1\n",
              " 37.090240    1\n",
              "Name: latitude, Length: 244, dtype: int64"
            ]
          },
          "metadata": {}
        },
        {
          "output_type": "stream",
          "name": "stdout",
          "text": [
            "--------------------longitude--------------------\n"
          ]
        },
        {
          "output_type": "display_data",
          "data": {
            "text/plain": [
              " 138.252924    1\n",
              "-3.996166      1\n",
              " 174.885971    1\n",
              " 43.356892     1\n",
              " 21.824312     1\n",
              "              ..\n",
              " 29.154857     1\n",
              " 35.243322     1\n",
              " 104.990963    1\n",
              " 14.995463     1\n",
              " 108.277199    1\n",
              "Name: longitude, Length: 244, dtype: int64"
            ]
          },
          "metadata": {}
        },
        {
          "output_type": "stream",
          "name": "stdout",
          "text": [
            "--------------------country--------------------\n"
          ]
        },
        {
          "output_type": "display_data",
          "data": {
            "text/plain": [
              "Denmark        1\n",
              "Jamaica        1\n",
              "Egypt          1\n",
              "Benin          1\n",
              "Guatemala      1\n",
              "              ..\n",
              "New Zealand    1\n",
              "Lesotho        1\n",
              "Slovakia       1\n",
              "Laos           1\n",
              "Samoa          1\n",
              "Name: country, Length: 245, dtype: int64"
            ]
          },
          "metadata": {}
        },
        {
          "output_type": "stream",
          "name": "stdout",
          "text": [
            "--------------------usa_state_code--------------------\n"
          ]
        },
        {
          "output_type": "display_data",
          "data": {
            "text/plain": [
              "OK    1\n",
              "UT    1\n",
              "TX    1\n",
              "TN    1\n",
              "IN    1\n",
              "MN    1\n",
              "NJ    1\n",
              "PR    1\n",
              "NM    1\n",
              "NV    1\n",
              "OR    1\n",
              "NC    1\n",
              "AK    1\n",
              "SC    1\n",
              "WA    1\n",
              "IL    1\n",
              "NY    1\n",
              "CO    1\n",
              "CA    1\n",
              "ND    1\n",
              "NH    1\n",
              "PA    1\n",
              "DE    1\n",
              "AZ    1\n",
              "GA    1\n",
              "AR    1\n",
              "FL    1\n",
              "ID    1\n",
              "AL    1\n",
              "WV    1\n",
              "CT    1\n",
              "KY    1\n",
              "MD    1\n",
              "SD    1\n",
              "NE    1\n",
              "VT    1\n",
              "MO    1\n",
              "OH    1\n",
              "MS    1\n",
              "HI    1\n",
              "LA    1\n",
              "VA    1\n",
              "WY    1\n",
              "WI    1\n",
              "DC    1\n",
              "MA    1\n",
              "KS    1\n",
              "RI    1\n",
              "IA    1\n",
              "MT    1\n",
              "MI    1\n",
              "ME    1\n",
              "Name: usa_state_code, dtype: int64"
            ]
          },
          "metadata": {}
        },
        {
          "output_type": "stream",
          "name": "stdout",
          "text": [
            "--------------------usa_state_latitude--------------------\n"
          ]
        },
        {
          "output_type": "display_data",
          "data": {
            "text/plain": [
              "38.802610    1\n",
              "19.898682    1\n",
              "38.597626    1\n",
              "44.068202    1\n",
              "40.058324    1\n",
              "37.431573    1\n",
              "36.778261    1\n",
              "41.580095    1\n",
              "43.784440    1\n",
              "38.910832    1\n",
              "41.492537    1\n",
              "27.664827    1\n",
              "32.157435    1\n",
              "42.407211    1\n",
              "31.244823    1\n",
              "41.203322    1\n",
              "40.633125    1\n",
              "39.320980    1\n",
              "43.804133    1\n",
              "37.964253    1\n",
              "35.007752    1\n",
              "32.318231    1\n",
              "41.878003    1\n",
              "39.011902    1\n",
              "47.751074    1\n",
              "39.045755    1\n",
              "40.551217    1\n",
              "35.517491    1\n",
              "44.558803    1\n",
              "43.299428    1\n",
              "35.201050    1\n",
              "46.879682    1\n",
              "18.220833    1\n",
              "44.314844    1\n",
              "46.729553    1\n",
              "45.253783    1\n",
              "39.550051    1\n",
              "31.968599    1\n",
              "41.603221    1\n",
              "34.048928    1\n",
              "38.905985    1\n",
              "33.836081    1\n",
              "35.759573    1\n",
              "47.551493    1\n",
              "43.193852    1\n",
              "37.839333    1\n",
              "32.354668    1\n",
              "40.417287    1\n",
              "63.588753    1\n",
              "43.075968    1\n",
              "43.969515    1\n",
              "34.972730    1\n",
              "Name: usa_state_latitude, dtype: int64"
            ]
          },
          "metadata": {}
        },
        {
          "output_type": "stream",
          "name": "stdout",
          "text": [
            "--------------------usa_state_longitude--------------------\n"
          ]
        },
        {
          "output_type": "display_data",
          "data": {
            "text/plain": [
              "-99.901813     3\n",
              "-89.398528     2\n",
              "-85.602364     2\n",
              "-91.831833     2\n",
              "-111.093731    2\n",
              "-82.907123     2\n",
              "-77.033418     1\n",
              "-116.419389    1\n",
              "-74.405661     1\n",
              "-154.493062    1\n",
              "-120.740139    1\n",
              "-69.445469     1\n",
              "-105.782067    1\n",
              "-81.163725     1\n",
              "-93.097702     1\n",
              "-86.902298     1\n",
              "-107.290284    1\n",
              "-71.477429     1\n",
              "-78.656894     1\n",
              "-94.685900     1\n",
              "-72.577841     1\n",
              "-80.454903     1\n",
              "-114.742041    1\n",
              "-105.032363    1\n",
              "-86.580447     1\n",
              "-73.087749     1\n",
              "-120.554201    1\n",
              "-101.002012    1\n",
              "-71.382437     1\n",
              "-75.527670     1\n",
              "-97.092877     1\n",
              "-119.417932    1\n",
              "-66.590149     1\n",
              "-155.665857    1\n",
              "-79.019300     1\n",
              "-74.217933     1\n",
              "-84.270018     1\n",
              "-110.362566    1\n",
              "-98.484246     1\n",
              "-81.515754     1\n",
              "-77.194525     1\n",
              "-88.787868     1\n",
              "-71.572395     1\n",
              "-76.641271     1\n",
              "-92.145024     1\n",
              "Name: usa_state_longitude, dtype: int64"
            ]
          },
          "metadata": {}
        },
        {
          "output_type": "stream",
          "name": "stdout",
          "text": [
            "--------------------usa_state--------------------\n"
          ]
        },
        {
          "output_type": "display_data",
          "data": {
            "text/plain": [
              "Wisconsin               1\n",
              "Oklahoma                1\n",
              "Illinois                1\n",
              "Missouri                1\n",
              "Iowa                    1\n",
              "Rhode Island            1\n",
              "Nevada                  1\n",
              "Michigan                1\n",
              "Massachusetts           1\n",
              "Utah                    1\n",
              "Nebraska                1\n",
              "South Dakota            1\n",
              "Idaho                   1\n",
              "Georgia                 1\n",
              "Virginia                1\n",
              "South Carolina          1\n",
              "Indiana                 1\n",
              "Delaware                1\n",
              "Arkansas                1\n",
              "Connecticut             1\n",
              "Pennsylvania            1\n",
              "New Mexico              1\n",
              "North Dakota            1\n",
              "Alabama                 1\n",
              "New Jersey              1\n",
              "Maine                   1\n",
              "Montana                 1\n",
              "New Hampshire           1\n",
              "Tennessee               1\n",
              "West Virginia           1\n",
              "Kentucky                1\n",
              "Mississippi             1\n",
              "Washington              1\n",
              "Maryland                1\n",
              "Puerto Rico             1\n",
              "Alaska                  1\n",
              "California              1\n",
              "Colorado                1\n",
              "Texas                   1\n",
              "Vermont                 1\n",
              "Oregon                  1\n",
              "Wyoming                 1\n",
              "District of Columbia    1\n",
              "Florida                 1\n",
              "New York                1\n",
              "Louisiana               1\n",
              "Hawaii                  1\n",
              "Kansas                  1\n",
              "Arizona                 1\n",
              "North Carolina          1\n",
              "Ohio                    1\n",
              "Minnesota               1\n",
              "Name: usa_state, dtype: int64"
            ]
          },
          "metadata": {}
        }
      ]
    },
    {
      "cell_type": "code",
      "metadata": {
        "colab": {
          "base_uri": "https://localhost:8080/"
        },
        "id": "qRsB6bBW14Zg",
        "outputId": "f0019a2b-45dc-4ffb-9688-c432c6da8510"
      },
      "source": [
        "# se observa solo el nombre de las columnas que contiene\n",
        "datakaggle.columns.values"
      ],
      "execution_count": 43,
      "outputs": [
        {
          "output_type": "execute_result",
          "data": {
            "text/plain": [
              "array(['country_code', 'latitude', 'longitude', 'country',\n",
              "       'usa_state_code', 'usa_state_latitude', 'usa_state_longitude',\n",
              "       'usa_state'], dtype=object)"
            ]
          },
          "metadata": {},
          "execution_count": 43
        }
      ]
    },
    {
      "cell_type": "code",
      "metadata": {
        "colab": {
          "base_uri": "https://localhost:8080/"
        },
        "id": "5Zer_eak14Zh",
        "outputId": "8551e030-5b9d-4b4e-9565-52b3e7b89986"
      },
      "source": [
        "# se busca si hay nulos\n",
        "datakaggle.isnull().sum()"
      ],
      "execution_count": 44,
      "outputs": [
        {
          "output_type": "execute_result",
          "data": {
            "text/plain": [
              "country_code             1\n",
              "latitude                 1\n",
              "longitude                1\n",
              "country                  0\n",
              "usa_state_code         193\n",
              "usa_state_latitude     193\n",
              "usa_state_longitude    193\n",
              "usa_state              193\n",
              "dtype: int64"
            ]
          },
          "metadata": {},
          "execution_count": 44
        }
      ]
    },
    {
      "cell_type": "code",
      "metadata": {
        "colab": {
          "base_uri": "https://localhost:8080/",
          "height": 81
        },
        "id": "fqYsTdYxIiER",
        "outputId": "917a009f-67f4-42d8-d67a-56ad9818dd86"
      },
      "source": [
        "datakaggle[datakaggle[\"country_code\"].isnull()]"
      ],
      "execution_count": 45,
      "outputs": [
        {
          "output_type": "execute_result",
          "data": {
            "text/html": [
              "<div>\n",
              "<style scoped>\n",
              "    .dataframe tbody tr th:only-of-type {\n",
              "        vertical-align: middle;\n",
              "    }\n",
              "\n",
              "    .dataframe tbody tr th {\n",
              "        vertical-align: top;\n",
              "    }\n",
              "\n",
              "    .dataframe thead th {\n",
              "        text-align: right;\n",
              "    }\n",
              "</style>\n",
              "<table border=\"1\" class=\"dataframe\">\n",
              "  <thead>\n",
              "    <tr style=\"text-align: right;\">\n",
              "      <th></th>\n",
              "      <th>country_code</th>\n",
              "      <th>latitude</th>\n",
              "      <th>longitude</th>\n",
              "      <th>country</th>\n",
              "      <th>usa_state_code</th>\n",
              "      <th>usa_state_latitude</th>\n",
              "      <th>usa_state_longitude</th>\n",
              "      <th>usa_state</th>\n",
              "    </tr>\n",
              "  </thead>\n",
              "  <tbody>\n",
              "    <tr>\n",
              "      <th>156</th>\n",
              "      <td>NaN</td>\n",
              "      <td>-22.95764</td>\n",
              "      <td>18.49041</td>\n",
              "      <td>Namibia</td>\n",
              "      <td>NaN</td>\n",
              "      <td>NaN</td>\n",
              "      <td>NaN</td>\n",
              "      <td>NaN</td>\n",
              "    </tr>\n",
              "  </tbody>\n",
              "</table>\n",
              "</div>"
            ],
            "text/plain": [
              "    country_code  latitude  ...  usa_state_longitude usa_state\n",
              "156          NaN -22.95764  ...                  NaN       NaN\n",
              "\n",
              "[1 rows x 8 columns]"
            ]
          },
          "metadata": {},
          "execution_count": 45
        }
      ]
    },
    {
      "cell_type": "code",
      "metadata": {
        "colab": {
          "base_uri": "https://localhost:8080/",
          "height": 81
        },
        "id": "IVsNZ3n-Ip54",
        "outputId": "a4a371c0-60d7-4b93-dbfe-897512c2e6bf"
      },
      "source": [
        "datakaggle[datakaggle[\"latitude\"].isnull()]"
      ],
      "execution_count": 46,
      "outputs": [
        {
          "output_type": "execute_result",
          "data": {
            "text/html": [
              "<div>\n",
              "<style scoped>\n",
              "    .dataframe tbody tr th:only-of-type {\n",
              "        vertical-align: middle;\n",
              "    }\n",
              "\n",
              "    .dataframe tbody tr th {\n",
              "        vertical-align: top;\n",
              "    }\n",
              "\n",
              "    .dataframe thead th {\n",
              "        text-align: right;\n",
              "    }\n",
              "</style>\n",
              "<table border=\"1\" class=\"dataframe\">\n",
              "  <thead>\n",
              "    <tr style=\"text-align: right;\">\n",
              "      <th></th>\n",
              "      <th>country_code</th>\n",
              "      <th>latitude</th>\n",
              "      <th>longitude</th>\n",
              "      <th>country</th>\n",
              "      <th>usa_state_code</th>\n",
              "      <th>usa_state_latitude</th>\n",
              "      <th>usa_state_longitude</th>\n",
              "      <th>usa_state</th>\n",
              "    </tr>\n",
              "  </thead>\n",
              "  <tbody>\n",
              "    <tr>\n",
              "      <th>226</th>\n",
              "      <td>UM</td>\n",
              "      <td>NaN</td>\n",
              "      <td>NaN</td>\n",
              "      <td>U.S. Minor Outlying Islands</td>\n",
              "      <td>NaN</td>\n",
              "      <td>NaN</td>\n",
              "      <td>NaN</td>\n",
              "      <td>NaN</td>\n",
              "    </tr>\n",
              "  </tbody>\n",
              "</table>\n",
              "</div>"
            ],
            "text/plain": [
              "    country_code  latitude  ...  usa_state_longitude usa_state\n",
              "226           UM       NaN  ...                  NaN       NaN\n",
              "\n",
              "[1 rows x 8 columns]"
            ]
          },
          "metadata": {},
          "execution_count": 46
        }
      ]
    },
    {
      "cell_type": "code",
      "metadata": {
        "colab": {
          "base_uri": "https://localhost:8080/",
          "height": 81
        },
        "id": "Nq3q082AIv6t",
        "outputId": "e1158ce6-4407-4172-b6dc-8f6f16552b9b"
      },
      "source": [
        "datakaggle[datakaggle[\"longitude\"].isnull()]"
      ],
      "execution_count": 47,
      "outputs": [
        {
          "output_type": "execute_result",
          "data": {
            "text/html": [
              "<div>\n",
              "<style scoped>\n",
              "    .dataframe tbody tr th:only-of-type {\n",
              "        vertical-align: middle;\n",
              "    }\n",
              "\n",
              "    .dataframe tbody tr th {\n",
              "        vertical-align: top;\n",
              "    }\n",
              "\n",
              "    .dataframe thead th {\n",
              "        text-align: right;\n",
              "    }\n",
              "</style>\n",
              "<table border=\"1\" class=\"dataframe\">\n",
              "  <thead>\n",
              "    <tr style=\"text-align: right;\">\n",
              "      <th></th>\n",
              "      <th>country_code</th>\n",
              "      <th>latitude</th>\n",
              "      <th>longitude</th>\n",
              "      <th>country</th>\n",
              "      <th>usa_state_code</th>\n",
              "      <th>usa_state_latitude</th>\n",
              "      <th>usa_state_longitude</th>\n",
              "      <th>usa_state</th>\n",
              "    </tr>\n",
              "  </thead>\n",
              "  <tbody>\n",
              "    <tr>\n",
              "      <th>226</th>\n",
              "      <td>UM</td>\n",
              "      <td>NaN</td>\n",
              "      <td>NaN</td>\n",
              "      <td>U.S. Minor Outlying Islands</td>\n",
              "      <td>NaN</td>\n",
              "      <td>NaN</td>\n",
              "      <td>NaN</td>\n",
              "      <td>NaN</td>\n",
              "    </tr>\n",
              "  </tbody>\n",
              "</table>\n",
              "</div>"
            ],
            "text/plain": [
              "    country_code  latitude  ...  usa_state_longitude usa_state\n",
              "226           UM       NaN  ...                  NaN       NaN\n",
              "\n",
              "[1 rows x 8 columns]"
            ]
          },
          "metadata": {},
          "execution_count": 47
        }
      ]
    },
    {
      "cell_type": "code",
      "metadata": {
        "colab": {
          "base_uri": "https://localhost:8080/"
        },
        "id": "ZHouRyrGI5fw",
        "outputId": "645f0cc5-49b9-4589-96f0-6888135d17f3"
      },
      "source": [
        "len(datakaggle[(datakaggle[\"usa_state_code\"].isnull()) & (datakaggle[\"usa_state_latitude\"].isnull()) & (datakaggle[\"usa_state_longitude\"].isnull()) & (datakaggle[\"usa_state\"].isnull())])\n"
      ],
      "execution_count": 48,
      "outputs": [
        {
          "output_type": "execute_result",
          "data": {
            "text/plain": [
              "193"
            ]
          },
          "metadata": {},
          "execution_count": 48
        }
      ]
    },
    {
      "cell_type": "code",
      "metadata": {
        "colab": {
          "base_uri": "https://localhost:8080/"
        },
        "id": "gMYCx-ja14Zh",
        "outputId": "9664c966-5843-46fd-eaa0-e6b1fe792f58"
      },
      "source": [
        "# se buscan duplicados en las filas \n",
        "datakaggle.duplicated().sum()\n",
        "\n",
        "# Para mostrar filas con duplicados es:\n",
        "# datalocal[datalocal.duplicated()]"
      ],
      "execution_count": 49,
      "outputs": [
        {
          "output_type": "execute_result",
          "data": {
            "text/plain": [
              "0"
            ]
          },
          "metadata": {},
          "execution_count": 49
        }
      ]
    },
    {
      "cell_type": "code",
      "metadata": {
        "colab": {
          "base_uri": "https://localhost:8080/"
        },
        "id": "8wX9j3h2J2QC",
        "outputId": "e7e67f49-4d12-45be-fcb3-8f5217961caa"
      },
      "source": [
        "# Plus\n",
        "paises=datakaggle[(datakaggle[\"usa_state_code\"].isnull()) & (datakaggle[\"usa_state_latitude\"].isnull()) & (datakaggle[\"usa_state_longitude\"].isnull()) & (datakaggle[\"usa_state\"].isnull())][\"country\"]\n",
        "j=1\n",
        "for i in paises:\n",
        "  print(str(j)+\" \"+i)\n",
        "  j=j+1"
      ],
      "execution_count": 50,
      "outputs": [
        {
          "output_type": "stream",
          "name": "stdout",
          "text": [
            "1 Czech Republic\n",
            "2 Germany\n",
            "3 Djibouti\n",
            "4 Denmark\n",
            "5 Dominica\n",
            "6 Dominican Republic\n",
            "7 Algeria\n",
            "8 Ecuador\n",
            "9 Estonia\n",
            "10 Egypt\n",
            "11 Western Sahara\n",
            "12 Eritrea\n",
            "13 Spain\n",
            "14 Ethiopia\n",
            "15 Finland\n",
            "16 Fiji\n",
            "17 Falkland Islands [Islas Malvinas]\n",
            "18 Micronesia\n",
            "19 Faroe Islands\n",
            "20 France\n",
            "21 Gabon\n",
            "22 United Kingdom\n",
            "23 Grenada\n",
            "24 Georgia\n",
            "25 French Guiana\n",
            "26 Guernsey\n",
            "27 Ghana\n",
            "28 Gibraltar\n",
            "29 Greenland\n",
            "30 Gambia\n",
            "31 Guinea\n",
            "32 Guadeloupe\n",
            "33 Equatorial Guinea\n",
            "34 Greece\n",
            "35 South Georgia and the South Sandwich Islands\n",
            "36 Guatemala\n",
            "37 Guam\n",
            "38 Guinea-Bissau\n",
            "39 Guyana\n",
            "40 Gaza Strip\n",
            "41 Hong Kong\n",
            "42 Heard Island and McDonald Islands\n",
            "43 Honduras\n",
            "44 Croatia\n",
            "45 Haiti\n",
            "46 Hungary\n",
            "47 Indonesia\n",
            "48 Ireland\n",
            "49 Israel\n",
            "50 Isle of Man\n",
            "51 India\n",
            "52 British Indian Ocean Territory\n",
            "53 Iraq\n",
            "54 Iran\n",
            "55 Iceland\n",
            "56 Italy\n",
            "57 Jersey\n",
            "58 Jamaica\n",
            "59 Jordan\n",
            "60 Japan\n",
            "61 Kenya\n",
            "62 Kyrgyzstan\n",
            "63 Cambodia\n",
            "64 Kiribati\n",
            "65 Comoros\n",
            "66 Saint Kitts and Nevis\n",
            "67 North Korea\n",
            "68 South Korea\n",
            "69 Kuwait\n",
            "70 Cayman Islands\n",
            "71 Kazakhstan\n",
            "72 Laos\n",
            "73 Lebanon\n",
            "74 Saint Lucia\n",
            "75 Liechtenstein\n",
            "76 Sri Lanka\n",
            "77 Liberia\n",
            "78 Lesotho\n",
            "79 Lithuania\n",
            "80 Luxembourg\n",
            "81 Latvia\n",
            "82 Libya\n",
            "83 Morocco\n",
            "84 Monaco\n",
            "85 Moldova\n",
            "86 Montenegro\n",
            "87 Madagascar\n",
            "88 Marshall Islands\n",
            "89 Macedonia [FYROM]\n",
            "90 Mali\n",
            "91 Myanmar [Burma]\n",
            "92 Mongolia\n",
            "93 Macau\n",
            "94 Northern Mariana Islands\n",
            "95 Martinique\n",
            "96 Mauritania\n",
            "97 Montserrat\n",
            "98 Malta\n",
            "99 Mauritius\n",
            "100 Maldives\n",
            "101 Malawi\n",
            "102 Mexico\n",
            "103 Malaysia\n",
            "104 Mozambique\n",
            "105 Namibia\n",
            "106 New Caledonia\n",
            "107 Niger\n",
            "108 Norfolk Island\n",
            "109 Nigeria\n",
            "110 Nicaragua\n",
            "111 Netherlands\n",
            "112 Norway\n",
            "113 Nepal\n",
            "114 Nauru\n",
            "115 Niue\n",
            "116 New Zealand\n",
            "117 Oman\n",
            "118 Panama\n",
            "119 Peru\n",
            "120 French Polynesia\n",
            "121 Papua New Guinea\n",
            "122 Philippines\n",
            "123 Pakistan\n",
            "124 Poland\n",
            "125 Saint Pierre and Miquelon\n",
            "126 Pitcairn Islands\n",
            "127 Puerto Rico\n",
            "128 Palestinian Territories\n",
            "129 Portugal\n",
            "130 Palau\n",
            "131 Paraguay\n",
            "132 Qatar\n",
            "133 Réunion\n",
            "134 Romania\n",
            "135 Serbia\n",
            "136 Russia\n",
            "137 Rwanda\n",
            "138 Saudi Arabia\n",
            "139 Solomon Islands\n",
            "140 Seychelles\n",
            "141 Sudan\n",
            "142 Sweden\n",
            "143 Singapore\n",
            "144 Saint Helena\n",
            "145 Slovenia\n",
            "146 Svalbard and Jan Mayen\n",
            "147 Slovakia\n",
            "148 Sierra Leone\n",
            "149 San Marino\n",
            "150 Senegal\n",
            "151 Somalia\n",
            "152 Suriname\n",
            "153 São Tomé and Príncipe\n",
            "154 El Salvador\n",
            "155 Syria\n",
            "156 Swaziland\n",
            "157 Turks and Caicos Islands\n",
            "158 Chad\n",
            "159 French Southern Territories\n",
            "160 Togo\n",
            "161 Thailand\n",
            "162 Tajikistan\n",
            "163 Tokelau\n",
            "164 Timor-Leste\n",
            "165 Turkmenistan\n",
            "166 Tunisia\n",
            "167 Tonga\n",
            "168 Turkey\n",
            "169 Trinidad and Tobago\n",
            "170 Tuvalu\n",
            "171 Taiwan\n",
            "172 Tanzania\n",
            "173 Ukraine\n",
            "174 Uganda\n",
            "175 U.S. Minor Outlying Islands\n",
            "176 United States\n",
            "177 Uruguay\n",
            "178 Uzbekistan\n",
            "179 Vatican City\n",
            "180 Saint Vincent and the Grenadines\n",
            "181 Venezuela\n",
            "182 British Virgin Islands\n",
            "183 U.S. Virgin Islands\n",
            "184 Vietnam\n",
            "185 Vanuatu\n",
            "186 Wallis and Futuna\n",
            "187 Samoa\n",
            "188 Kosovo\n",
            "189 Yemen\n",
            "190 Mayotte\n",
            "191 South Africa\n",
            "192 Zambia\n",
            "193 Zimbabwe\n"
          ]
        }
      ]
    },
    {
      "cell_type": "markdown",
      "metadata": {
        "id": "vstjF7BjJV4P"
      },
      "source": [
        "Debido a que los valores perdidos en las primeras 3 columnas es 1, se recomienda checar estas filas pro separado para ver si hay relacion alguna, pero con las ultimas 4 columnas la cosa cambia, al ser demasiados valores perdidos se ve si en todos ellos son iguales, es decir, si en la misma fila estan presentes esos 4 valores. Para esos ultimos valores como plus se podria extraer a que pais pertenecen"
      ]
    }
  ]
}