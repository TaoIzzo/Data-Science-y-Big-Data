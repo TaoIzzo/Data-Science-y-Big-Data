{
 "cells": [
  {
   "cell_type": "markdown",
   "metadata": {
    "id": "Sbi6LLhq1wja"
   },
   "source": [
    "# Primeros ejemplos\n",
    "\n",
    "Iniciaremos nuestra exploración de los sistemas de recomendación con los ejemplos más básicos. Estos primeros ejemplos nos permitirán explorar nuestro conjunto de datos en primera instancia y, en casos concretos donde no dispongamos de datos pueden servir como una base o primera aproximación muy socorrida."
   ]
  },
  {
   "cell_type": "markdown",
   "metadata": {
    "id": "Q3ImQNoUpiIQ"
   },
   "source": [
    "## Conjuntos de datos: MovieLens\n",
    "\n",
    "Procederemos a descargarnos la información del conjunto de datos recopilado por el equipo de investigación [grouplens](https://grouplens.org/datasets/movielens/) de la Universidad de Minesota bajo su trabajo previo hecho público:\n",
    "\n",
    "F. Maxwell Harper and Joseph A. Konstan. 2015. **The MovieLens Datasets: History and Context**. *ACM Transactions on Interactive Intelligent Systems (TiiS)* 5, 4: 19:1–19:19. https://doi.org/10.1145/2827872\n",
    "\n",
    "Es un conjunto de datos muy utilizado en el ámbito de los sistemas de recomendación y por ello encontraréis multitud de ejemplos donde podréis ver representados los mismos datos y evaluar vuestras soluciones frente a las publicadas."
   ]
  },
  {
   "cell_type": "code",
   "execution_count": 1,
   "metadata": {
    "executionInfo": {
     "elapsed": 897,
     "status": "ok",
     "timestamp": 1652630683700,
     "user": {
      "displayName": "Iraitz Montalban",
      "userId": "09571778698595513856"
     },
     "user_tz": -120
    },
    "id": "R9P3_fV4teJC"
   },
   "outputs": [],
   "source": [
    "import zipfile\n",
    "import numpy as np\n",
    "import pandas as pd\n",
    "import seaborn as sns\n",
    "from urllib.request import urlretrieve"
   ]
  },
  {
   "cell_type": "code",
   "execution_count": 2,
   "metadata": {
    "colab": {
     "base_uri": "https://localhost:8080/"
    },
    "executionInfo": {
     "elapsed": 2961,
     "status": "ok",
     "timestamp": 1652630691113,
     "user": {
      "displayName": "Iraitz Montalban",
      "userId": "09571778698595513856"
     },
     "user_tz": -120
    },
    "id": "d04eOGWCpO49",
    "outputId": "b8eaafc4-8338-4b81-c5b9-fcb539e1f718"
   },
   "outputs": [
    {
     "name": "stdout",
     "output_type": "stream",
     "text": [
      "Descargando el conjunto de datos...\n",
      "Descargado! Numero de elementos descargados b'943 users\\n1682 items\\n100000 ratings\\n'\n"
     ]
    }
   ],
   "source": [
    "# Descarga del conjunto de datos\n",
    "print(\"Descargando el conjunto de datos...\")\n",
    "\n",
    "urlretrieve(\"https://files.grouplens.org/datasets/movielens/ml-100k.zip\", \"movielens.zip\")\n",
    "zip_ref = zipfile.ZipFile('movielens.zip', \"r\")\n",
    "zip_ref.extractall()\n",
    "info = zip_ref.read('ml-100k/u.info')\n",
    "\n",
    "print(f\"Descargado! Numero de elementos descargados {info}\")"
   ]
  },
  {
   "cell_type": "markdown",
   "metadata": {
    "id": "J57w7MI9uKuv"
   },
   "source": [
    "## Usuarios (Users)\n",
    "\n",
    "Como toda plataforma los usuarios son la pieza clave que motiva las necesidades de recomendación. Por ello deberemos conocer bien a nuestro público."
   ]
  },
  {
   "cell_type": "code",
   "execution_count": 3,
   "metadata": {
    "colab": {
     "base_uri": "https://localhost:8080/",
     "height": 206
    },
    "executionInfo": {
     "elapsed": 5,
     "status": "ok",
     "timestamp": 1647774593289,
     "user": {
      "displayName": "Iraitz Montalban",
      "photoUrl": "https://lh3.googleusercontent.com/a-/AOh14GgvfARZt-Fohb1gudbfMp8rr7aejGBTFsCgZ6Sj=s64",
      "userId": "09571778698595513856"
     },
     "user_tz": -60
    },
    "id": "JeuO1l5kslyK",
    "outputId": "dfe3c0df-67b1-4914-9b41-860cd9a3ef9e"
   },
   "outputs": [
    {
     "data": {
      "text/html": [
       "<div>\n",
       "<style scoped>\n",
       "    .dataframe tbody tr th:only-of-type {\n",
       "        vertical-align: middle;\n",
       "    }\n",
       "\n",
       "    .dataframe tbody tr th {\n",
       "        vertical-align: top;\n",
       "    }\n",
       "\n",
       "    .dataframe thead th {\n",
       "        text-align: right;\n",
       "    }\n",
       "</style>\n",
       "<table border=\"1\" class=\"dataframe\">\n",
       "  <thead>\n",
       "    <tr style=\"text-align: right;\">\n",
       "      <th></th>\n",
       "      <th>user_id</th>\n",
       "      <th>age</th>\n",
       "      <th>sex</th>\n",
       "      <th>occupation</th>\n",
       "      <th>zip_code</th>\n",
       "    </tr>\n",
       "  </thead>\n",
       "  <tbody>\n",
       "    <tr>\n",
       "      <th>0</th>\n",
       "      <td>1</td>\n",
       "      <td>24</td>\n",
       "      <td>M</td>\n",
       "      <td>technician</td>\n",
       "      <td>85711</td>\n",
       "    </tr>\n",
       "    <tr>\n",
       "      <th>1</th>\n",
       "      <td>2</td>\n",
       "      <td>53</td>\n",
       "      <td>F</td>\n",
       "      <td>other</td>\n",
       "      <td>94043</td>\n",
       "    </tr>\n",
       "    <tr>\n",
       "      <th>2</th>\n",
       "      <td>3</td>\n",
       "      <td>23</td>\n",
       "      <td>M</td>\n",
       "      <td>writer</td>\n",
       "      <td>32067</td>\n",
       "    </tr>\n",
       "    <tr>\n",
       "      <th>3</th>\n",
       "      <td>4</td>\n",
       "      <td>24</td>\n",
       "      <td>M</td>\n",
       "      <td>technician</td>\n",
       "      <td>43537</td>\n",
       "    </tr>\n",
       "    <tr>\n",
       "      <th>4</th>\n",
       "      <td>5</td>\n",
       "      <td>33</td>\n",
       "      <td>F</td>\n",
       "      <td>other</td>\n",
       "      <td>15213</td>\n",
       "    </tr>\n",
       "  </tbody>\n",
       "</table>\n",
       "</div>"
      ],
      "text/plain": [
       "   user_id  age sex  occupation zip_code\n",
       "0        1   24   M  technician    85711\n",
       "1        2   53   F       other    94043\n",
       "2        3   23   M      writer    32067\n",
       "3        4   24   M  technician    43537\n",
       "4        5   33   F       other    15213"
      ]
     },
     "execution_count": 3,
     "metadata": {},
     "output_type": "execute_result"
    }
   ],
   "source": [
    "# Cargamos los datos de los usuarios\n",
    "users_cols = ['user_id', 'age', 'sex', 'occupation', 'zip_code']\n",
    "users = pd.read_csv('ml-100k/u.user', sep='|', names=users_cols, encoding='latin-1')\n",
    "users.head()"
   ]
  },
  {
   "cell_type": "markdown",
   "metadata": {
    "id": "htyA8GF_t3KO"
   },
   "source": [
    "Podemos ver cómo es la estructura base de nuestro conjunto de usuarios donde disponemos de rangos de edad, sexo, ocupación y código postal informado."
   ]
  },
  {
   "cell_type": "code",
   "execution_count": 4,
   "metadata": {
    "colab": {
     "base_uri": "https://localhost:8080/",
     "height": 296
    },
    "executionInfo": {
     "elapsed": 496,
     "status": "ok",
     "timestamp": 1647774595469,
     "user": {
      "displayName": "Iraitz Montalban",
      "photoUrl": "https://lh3.googleusercontent.com/a-/AOh14GgvfARZt-Fohb1gudbfMp8rr7aejGBTFsCgZ6Sj=s64",
      "userId": "09571778698595513856"
     },
     "user_tz": -60
    },
    "id": "4ukkrU9Mr68C",
    "outputId": "6f1a35fa-4cd3-4178-ac98-4c0f097d04f1"
   },
   "outputs": [
    {
     "data": {
      "text/plain": [
       "<AxesSubplot:xlabel='age', ylabel='Count'>"
      ]
     },
     "execution_count": 4,
     "metadata": {},
     "output_type": "execute_result"
    },
    {
     "data": {
      "image/png": "[encoded data removed]",
      "text/plain": [
       "<Figure size 432x288 with 1 Axes>"
      ]
     },
     "metadata": {
      "needs_background": "light"
     },
     "output_type": "display_data"
    }
   ],
   "source": [
    "# Muestra ejemplo de la distribución de edad po sexo\n",
    "sns.histplot(users, x=\"age\", hue=\"sex\", element=\"poly\")"
   ]
  },
  {
   "cell_type": "markdown",
   "metadata": {
    "id": "CM41GDGpDHKh"
   },
   "source": [
    "También podemos entender como es la distribución de edad por ocupación. Este tipo de conocimiento es lo que en muchos casos permite hacer asunciones de los gustos base que esperamos en poblaciones concretas por ocupación, rango de edad, país de residencia,..."
   ]
  },
  {
   "cell_type": "code",
   "execution_count": 5,
   "metadata": {
    "colab": {
     "base_uri": "https://localhost:8080/",
     "height": 296
    },
    "executionInfo": {
     "elapsed": 933,
     "status": "ok",
     "timestamp": 1647774598089,
     "user": {
      "displayName": "Iraitz Montalban",
      "photoUrl": "https://lh3.googleusercontent.com/a-/AOh14GgvfARZt-Fohb1gudbfMp8rr7aejGBTFsCgZ6Sj=s64",
      "userId": "09571778698595513856"
     },
     "user_tz": -60
    },
    "id": "jCGRJBrh0x5U",
    "outputId": "00ea0582-80c0-468e-95d7-3e3c960be14e"
   },
   "outputs": [
    {
     "data": {
      "text/plain": [
       "<AxesSubplot:xlabel='age', ylabel='occupation'>"
      ]
     },
     "execution_count": 5,
     "metadata": {},
     "output_type": "execute_result"
    },
    {
     "data": {
      "image/png": "[encoded data removed]",
      "text/plain": [
       "<Figure size 432x288 with 1 Axes>"
      ]
     },
     "metadata": {
      "needs_background": "light"
     },
     "output_type": "display_data"
    }
   ],
   "source": [
    "data = users.groupby(\"occupation\")[\"age\"].mean()\n",
    "data = data.reset_index().sort_values(\"age\", ascending=False)\n",
    "sns.barplot(y=\"occupation\",x=\"age\", data=data)\n"
   ]
  },
  {
   "cell_type": "markdown",
   "metadata": {
    "id": "gVwO6ivOA8_e"
   },
   "source": [
    "También podemos obtener los datos relativos a las ocupaciones con mayor actividad en la plataforma."
   ]
  },
  {
   "cell_type": "markdown",
   "metadata": {
    "id": "e-NAaodAhMSJ"
   },
   "source": [
    "### Ejercicio"
   ]
  },
  {
   "cell_type": "code",
   "execution_count": 6,
   "metadata": {
    "colab": {
     "base_uri": "https://localhost:8080/"
    },
    "executionInfo": {
     "elapsed": 364,
     "status": "ok",
     "timestamp": 1647774646716,
     "user": {
      "displayName": "Iraitz Montalban",
      "photoUrl": "https://lh3.googleusercontent.com/a-/AOh14GgvfARZt-Fohb1gudbfMp8rr7aejGBTFsCgZ6Sj=s64",
      "userId": "09571778698595513856"
     },
     "user_tz": -60
    },
    "id": "Ohlevk3ZBELo",
    "outputId": "d7302e0b-6150-4ab0-fdfa-fa1417dfbb4f"
   },
   "outputs": [
    {
     "data": {
      "text/plain": [
       "student          196\n",
       "other            105\n",
       "educator          95\n",
       "administrator     79\n",
       "engineer          67\n",
       "programmer        66\n",
       "librarian         51\n",
       "writer            45\n",
       "executive         32\n",
       "scientist         31\n",
       "artist            28\n",
       "technician        27\n",
       "marketing         26\n",
       "entertainment     18\n",
       "healthcare        16\n",
       "retired           14\n",
       "lawyer            12\n",
       "salesman          12\n",
       "none               9\n",
       "homemaker          7\n",
       "doctor             7\n",
       "Name: occupation, dtype: int64"
      ]
     },
     "execution_count": 6,
     "metadata": {},
     "output_type": "execute_result"
    }
   ],
   "source": [
    "\"\"\"\n",
    "Ejercicio : Realizar las operaciones necesarias para descubrir las ocupaciones más activas\n",
    "\"\"\"\n",
    "users_cols = ['user_id', 'age', 'sex', 'occupation', 'zip_code']\n",
    "users = pd.read_csv('ml-100k/u.user', sep='|', names=users_cols, encoding='latin-1')\n",
    "users.occupation.value_counts()"
   ]
  },
  {
   "cell_type": "code",
   "execution_count": 7,
   "metadata": {
    "id": "YdS23nCw1txj"
   },
   "outputs": [],
   "source": [
    "common_users = users[users[\"occupation\"].isin([\"student\", \"other\",\"educator\"])]"
   ]
  },
  {
   "cell_type": "code",
   "execution_count": 8,
   "metadata": {
    "colab": {
     "base_uri": "https://localhost:8080/",
     "height": 302
    },
    "executionInfo": {
     "elapsed": 697,
     "status": "ok",
     "timestamp": 1647732959706,
     "user": {
      "displayName": "Iraitz Montalban",
      "photoUrl": "https://lh3.googleusercontent.com/a-/AOh14GgvfARZt-Fohb1gudbfMp8rr7aejGBTFsCgZ6Sj=s64",
      "userId": "09571778698595513856"
     },
     "user_tz": -60
    },
    "id": "y92i42EW0h3a",
    "outputId": "a453b5d9-ab6c-4714-94d1-d1c3b2d4476e"
   },
   "outputs": [
    {
     "data": {
      "text/plain": [
       "<AxesSubplot:xlabel='age', ylabel='Count'>"
      ]
     },
     "execution_count": 8,
     "metadata": {},
     "output_type": "execute_result"
    },
    {
     "data": {
      "image/png": "[encoded data removed]",
      "text/plain": [
       "<Figure size 432x288 with 1 Axes>"
      ]
     },
     "metadata": {
      "needs_background": "light"
     },
     "output_type": "display_data"
    }
   ],
   "source": [
    "sns.histplot(common_users, x=\"age\", hue=\"occupation\", element=\"poly\")"
   ]
  },
  {
   "cell_type": "markdown",
   "metadata": {
    "id": "14ZuWL6RuQY4"
   },
   "source": [
    "## Ítems (Movies)\n",
    "\n",
    "Las películas serán para nosotros los items a recomendar a nuestros usuarios. Obtendremos los datos del conjunto base y además complementaremos aquella información que enriquezca nuestro conocimiento sobre estas pelíoculas de cara a recomendar aquellas que sean del agrado de nuestros usuarios."
   ]
  },
  {
   "cell_type": "code",
   "execution_count": 9,
   "metadata": {
    "colab": {
     "base_uri": "https://localhost:8080/",
     "height": 751
    },
    "executionInfo": {
     "elapsed": 364,
     "status": "ok",
     "timestamp": 1647732971525,
     "user": {
      "displayName": "Iraitz Montalban",
      "photoUrl": "https://lh3.googleusercontent.com/a-/AOh14GgvfARZt-Fohb1gudbfMp8rr7aejGBTFsCgZ6Sj=s64",
      "userId": "09571778698595513856"
     },
     "user_tz": -60
    },
    "id": "LEkb4LPBsJuq",
    "outputId": "6071714e-bf04-4eec-93c6-17232c45a3d3"
   },
   "outputs": [
    {
     "data": {
      "text/html": [
       "<div>\n",
       "<style scoped>\n",
       "    .dataframe tbody tr th:only-of-type {\n",
       "        vertical-align: middle;\n",
       "    }\n",
       "\n",
       "    .dataframe tbody tr th {\n",
       "        vertical-align: top;\n",
       "    }\n",
       "\n",
       "    .dataframe thead th {\n",
       "        text-align: right;\n",
       "    }\n",
       "</style>\n",
       "<table border=\"1\" class=\"dataframe\">\n",
       "  <thead>\n",
       "    <tr style=\"text-align: right;\">\n",
       "      <th></th>\n",
       "      <th>movie_id</th>\n",
       "      <th>title</th>\n",
       "      <th>release_date</th>\n",
       "      <th>video_release_date</th>\n",
       "      <th>imdb_url</th>\n",
       "      <th>genre_unknown</th>\n",
       "      <th>Action</th>\n",
       "      <th>Adventure</th>\n",
       "      <th>Animation</th>\n",
       "      <th>Children</th>\n",
       "      <th>...</th>\n",
       "      <th>Film-Noir</th>\n",
       "      <th>Horror</th>\n",
       "      <th>Musical</th>\n",
       "      <th>Mystery</th>\n",
       "      <th>Romance</th>\n",
       "      <th>Sci-Fi</th>\n",
       "      <th>Thriller</th>\n",
       "      <th>War</th>\n",
       "      <th>Western</th>\n",
       "      <th>year</th>\n",
       "    </tr>\n",
       "  </thead>\n",
       "  <tbody>\n",
       "    <tr>\n",
       "      <th>0</th>\n",
       "      <td>1</td>\n",
       "      <td>Toy Story (1995)</td>\n",
       "      <td>01-Jan-1995</td>\n",
       "      <td>NaN</td>\n",
       "      <td>http://us.imdb.com/M/title-exact?Toy%20Story%2...</td>\n",
       "      <td>0</td>\n",
       "      <td>0</td>\n",
       "      <td>0</td>\n",
       "      <td>1</td>\n",
       "      <td>1</td>\n",
       "      <td>...</td>\n",
       "      <td>0</td>\n",
       "      <td>0</td>\n",
       "      <td>0</td>\n",
       "      <td>0</td>\n",
       "      <td>0</td>\n",
       "      <td>0</td>\n",
       "      <td>0</td>\n",
       "      <td>0</td>\n",
       "      <td>0</td>\n",
       "      <td>1995</td>\n",
       "    </tr>\n",
       "    <tr>\n",
       "      <th>1</th>\n",
       "      <td>2</td>\n",
       "      <td>GoldenEye (1995)</td>\n",
       "      <td>01-Jan-1995</td>\n",
       "      <td>NaN</td>\n",
       "      <td>http://us.imdb.com/M/title-exact?GoldenEye%20(...</td>\n",
       "      <td>0</td>\n",
       "      <td>1</td>\n",
       "      <td>1</td>\n",
       "      <td>0</td>\n",
       "      <td>0</td>\n",
       "      <td>...</td>\n",
       "      <td>0</td>\n",
       "      <td>0</td>\n",
       "      <td>0</td>\n",
       "      <td>0</td>\n",
       "      <td>0</td>\n",
       "      <td>0</td>\n",
       "      <td>1</td>\n",
       "      <td>0</td>\n",
       "      <td>0</td>\n",
       "      <td>1995</td>\n",
       "    </tr>\n",
       "    <tr>\n",
       "      <th>2</th>\n",
       "      <td>3</td>\n",
       "      <td>Four Rooms (1995)</td>\n",
       "      <td>01-Jan-1995</td>\n",
       "      <td>NaN</td>\n",
       "      <td>http://us.imdb.com/M/title-exact?Four%20Rooms%...</td>\n",
       "      <td>0</td>\n",
       "      <td>0</td>\n",
       "      <td>0</td>\n",
       "      <td>0</td>\n",
       "      <td>0</td>\n",
       "      <td>...</td>\n",
       "      <td>0</td>\n",
       "      <td>0</td>\n",
       "      <td>0</td>\n",
       "      <td>0</td>\n",
       "      <td>0</td>\n",
       "      <td>0</td>\n",
       "      <td>1</td>\n",
       "      <td>0</td>\n",
       "      <td>0</td>\n",
       "      <td>1995</td>\n",
       "    </tr>\n",
       "    <tr>\n",
       "      <th>3</th>\n",
       "      <td>4</td>\n",
       "      <td>Get Shorty (1995)</td>\n",
       "      <td>01-Jan-1995</td>\n",
       "      <td>NaN</td>\n",
       "      <td>http://us.imdb.com/M/title-exact?Get%20Shorty%...</td>\n",
       "      <td>0</td>\n",
       "      <td>1</td>\n",
       "      <td>0</td>\n",
       "      <td>0</td>\n",
       "      <td>0</td>\n",
       "      <td>...</td>\n",
       "      <td>0</td>\n",
       "      <td>0</td>\n",
       "      <td>0</td>\n",
       "      <td>0</td>\n",
       "      <td>0</td>\n",
       "      <td>0</td>\n",
       "      <td>0</td>\n",
       "      <td>0</td>\n",
       "      <td>0</td>\n",
       "      <td>1995</td>\n",
       "    </tr>\n",
       "    <tr>\n",
       "      <th>4</th>\n",
       "      <td>5</td>\n",
       "      <td>Copycat (1995)</td>\n",
       "      <td>01-Jan-1995</td>\n",
       "      <td>NaN</td>\n",
       "      <td>http://us.imdb.com/M/title-exact?Copycat%20(1995)</td>\n",
       "      <td>0</td>\n",
       "      <td>0</td>\n",
       "      <td>0</td>\n",
       "      <td>0</td>\n",
       "      <td>0</td>\n",
       "      <td>...</td>\n",
       "      <td>0</td>\n",
       "      <td>0</td>\n",
       "      <td>0</td>\n",
       "      <td>0</td>\n",
       "      <td>0</td>\n",
       "      <td>0</td>\n",
       "      <td>1</td>\n",
       "      <td>0</td>\n",
       "      <td>0</td>\n",
       "      <td>1995</td>\n",
       "    </tr>\n",
       "    <tr>\n",
       "      <th>5</th>\n",
       "      <td>6</td>\n",
       "      <td>Shanghai Triad (Yao a yao yao dao waipo qiao) ...</td>\n",
       "      <td>01-Jan-1995</td>\n",
       "      <td>NaN</td>\n",
       "      <td>http://us.imdb.com/Title?Yao+a+yao+yao+dao+wai...</td>\n",
       "      <td>0</td>\n",
       "      <td>0</td>\n",
       "      <td>0</td>\n",
       "      <td>0</td>\n",
       "      <td>0</td>\n",
       "      <td>...</td>\n",
       "      <td>0</td>\n",
       "      <td>0</td>\n",
       "      <td>0</td>\n",
       "      <td>0</td>\n",
       "      <td>0</td>\n",
       "      <td>0</td>\n",
       "      <td>0</td>\n",
       "      <td>0</td>\n",
       "      <td>0</td>\n",
       "      <td>1995</td>\n",
       "    </tr>\n",
       "    <tr>\n",
       "      <th>6</th>\n",
       "      <td>7</td>\n",
       "      <td>Twelve Monkeys (1995)</td>\n",
       "      <td>01-Jan-1995</td>\n",
       "      <td>NaN</td>\n",
       "      <td>http://us.imdb.com/M/title-exact?Twelve%20Monk...</td>\n",
       "      <td>0</td>\n",
       "      <td>0</td>\n",
       "      <td>0</td>\n",
       "      <td>0</td>\n",
       "      <td>0</td>\n",
       "      <td>...</td>\n",
       "      <td>0</td>\n",
       "      <td>0</td>\n",
       "      <td>0</td>\n",
       "      <td>0</td>\n",
       "      <td>0</td>\n",
       "      <td>1</td>\n",
       "      <td>0</td>\n",
       "      <td>0</td>\n",
       "      <td>0</td>\n",
       "      <td>1995</td>\n",
       "    </tr>\n",
       "    <tr>\n",
       "      <th>7</th>\n",
       "      <td>8</td>\n",
       "      <td>Babe (1995)</td>\n",
       "      <td>01-Jan-1995</td>\n",
       "      <td>NaN</td>\n",
       "      <td>http://us.imdb.com/M/title-exact?Babe%20(1995)</td>\n",
       "      <td>0</td>\n",
       "      <td>0</td>\n",
       "      <td>0</td>\n",
       "      <td>0</td>\n",
       "      <td>1</td>\n",
       "      <td>...</td>\n",
       "      <td>0</td>\n",
       "      <td>0</td>\n",
       "      <td>0</td>\n",
       "      <td>0</td>\n",
       "      <td>0</td>\n",
       "      <td>0</td>\n",
       "      <td>0</td>\n",
       "      <td>0</td>\n",
       "      <td>0</td>\n",
       "      <td>1995</td>\n",
       "    </tr>\n",
       "    <tr>\n",
       "      <th>8</th>\n",
       "      <td>9</td>\n",
       "      <td>Dead Man Walking (1995)</td>\n",
       "      <td>01-Jan-1995</td>\n",
       "      <td>NaN</td>\n",
       "      <td>http://us.imdb.com/M/title-exact?Dead%20Man%20...</td>\n",
       "      <td>0</td>\n",
       "      <td>0</td>\n",
       "      <td>0</td>\n",
       "      <td>0</td>\n",
       "      <td>0</td>\n",
       "      <td>...</td>\n",
       "      <td>0</td>\n",
       "      <td>0</td>\n",
       "      <td>0</td>\n",
       "      <td>0</td>\n",
       "      <td>0</td>\n",
       "      <td>0</td>\n",
       "      <td>0</td>\n",
       "      <td>0</td>\n",
       "      <td>0</td>\n",
       "      <td>1995</td>\n",
       "    </tr>\n",
       "    <tr>\n",
       "      <th>9</th>\n",
       "      <td>10</td>\n",
       "      <td>Richard III (1995)</td>\n",
       "      <td>22-Jan-1996</td>\n",
       "      <td>NaN</td>\n",
       "      <td>http://us.imdb.com/M/title-exact?Richard%20III...</td>\n",
       "      <td>0</td>\n",
       "      <td>0</td>\n",
       "      <td>0</td>\n",
       "      <td>0</td>\n",
       "      <td>0</td>\n",
       "      <td>...</td>\n",
       "      <td>0</td>\n",
       "      <td>0</td>\n",
       "      <td>0</td>\n",
       "      <td>0</td>\n",
       "      <td>0</td>\n",
       "      <td>0</td>\n",
       "      <td>0</td>\n",
       "      <td>1</td>\n",
       "      <td>0</td>\n",
       "      <td>1996</td>\n",
       "    </tr>\n",
       "  </tbody>\n",
       "</table>\n",
       "<p>10 rows × 25 columns</p>\n",
       "</div>"
      ],
      "text/plain": [
       "   movie_id                                              title release_date  \\\n",
       "0         1                                   Toy Story (1995)  01-Jan-1995   \n",
       "1         2                                   GoldenEye (1995)  01-Jan-1995   \n",
       "2         3                                  Four Rooms (1995)  01-Jan-1995   \n",
       "3         4                                  Get Shorty (1995)  01-Jan-1995   \n",
       "4         5                                     Copycat (1995)  01-Jan-1995   \n",
       "5         6  Shanghai Triad (Yao a yao yao dao waipo qiao) ...  01-Jan-1995   \n",
       "6         7                              Twelve Monkeys (1995)  01-Jan-1995   \n",
       "7         8                                        Babe (1995)  01-Jan-1995   \n",
       "8         9                            Dead Man Walking (1995)  01-Jan-1995   \n",
       "9        10                                 Richard III (1995)  22-Jan-1996   \n",
       "\n",
       "   video_release_date                                           imdb_url  \\\n",
       "0                 NaN  http://us.imdb.com/M/title-exact?Toy%20Story%2...   \n",
       "1                 NaN  http://us.imdb.com/M/title-exact?GoldenEye%20(...   \n",
       "2                 NaN  http://us.imdb.com/M/title-exact?Four%20Rooms%...   \n",
       "3                 NaN  http://us.imdb.com/M/title-exact?Get%20Shorty%...   \n",
       "4                 NaN  http://us.imdb.com/M/title-exact?Copycat%20(1995)   \n",
       "5                 NaN  http://us.imdb.com/Title?Yao+a+yao+yao+dao+wai...   \n",
       "6                 NaN  http://us.imdb.com/M/title-exact?Twelve%20Monk...   \n",
       "7                 NaN     http://us.imdb.com/M/title-exact?Babe%20(1995)   \n",
       "8                 NaN  http://us.imdb.com/M/title-exact?Dead%20Man%20...   \n",
       "9                 NaN  http://us.imdb.com/M/title-exact?Richard%20III...   \n",
       "\n",
       "   genre_unknown  Action  Adventure  Animation  Children  ...  Film-Noir  \\\n",
       "0              0       0          0          1         1  ...          0   \n",
       "1              0       1          1          0         0  ...          0   \n",
       "2              0       0          0          0         0  ...          0   \n",
       "3              0       1          0          0         0  ...          0   \n",
       "4              0       0          0          0         0  ...          0   \n",
       "5              0       0          0          0         0  ...          0   \n",
       "6              0       0          0          0         0  ...          0   \n",
       "7              0       0          0          0         1  ...          0   \n",
       "8              0       0          0          0         0  ...          0   \n",
       "9              0       0          0          0         0  ...          0   \n",
       "\n",
       "   Horror  Musical  Mystery  Romance  Sci-Fi  Thriller  War  Western  year  \n",
       "0       0        0        0        0       0         0    0        0  1995  \n",
       "1       0        0        0        0       0         1    0        0  1995  \n",
       "2       0        0        0        0       0         1    0        0  1995  \n",
       "3       0        0        0        0       0         0    0        0  1995  \n",
       "4       0        0        0        0       0         1    0        0  1995  \n",
       "5       0        0        0        0       0         0    0        0  1995  \n",
       "6       0        0        0        0       1         0    0        0  1995  \n",
       "7       0        0        0        0       0         0    0        0  1995  \n",
       "8       0        0        0        0       0         0    0        0  1995  \n",
       "9       0        0        0        0       0         0    1        0  1996  \n",
       "\n",
       "[10 rows x 25 columns]"
      ]
     },
     "execution_count": 9,
     "metadata": {},
     "output_type": "execute_result"
    }
   ],
   "source": [
    "# Cargamos las películas\n",
    "genre_cols = [\n",
    "    \"genre_unknown\", \"Action\", \"Adventure\", \"Animation\", \"Children\", \"Comedy\",\n",
    "    \"Crime\", \"Documentary\", \"Drama\", \"Fantasy\", \"Film-Noir\", \"Horror\",\n",
    "    \"Musical\", \"Mystery\", \"Romance\", \"Sci-Fi\", \"Thriller\", \"War\", \"Western\"\n",
    "]\n",
    "movies_cols = ['movie_id', 'title', 'release_date', \"video_release_date\", \"imdb_url\"] + genre_cols\n",
    "movies = pd.read_csv('ml-100k/u.item', sep='|', names=movies_cols, encoding='latin-1')\n",
    "\n",
    "# Obtenemos el año de la fecha de publicación\n",
    "movies[\"year\"] = movies['release_date'].apply(lambda x: str(x).split('-')[-1])\n",
    "movies.head(10)"
   ]
  },
  {
   "cell_type": "markdown",
   "metadata": {
    "id": "NEGtIbKAigQ1"
   },
   "source": [
    "Podemos ver que el conjunto de base ya contiene el etiquetado de los generos de cada película en formato [OneHotEncoding](https://scikit-learn.org/stable/modules/generated/sklearn.preprocessing.OneHotEncoder.html). Es una forma sencilla de codificar variables categoricas de forma que podamos utilizarlas de forma numérica. Ahondaremos en esto más adelante.\n",
    "\n",
    "Veamos ahora cual es la distribución de nuestros ítems por genero."
   ]
  },
  {
   "cell_type": "markdown",
   "metadata": {
    "id": "-SLzNAPShHCJ"
   },
   "source": [
    "### Ejercicio"
   ]
  },
  {
   "cell_type": "code",
   "execution_count": 10,
   "metadata": {
    "colab": {
     "base_uri": "https://localhost:8080/"
    },
    "executionInfo": {
     "elapsed": 373,
     "status": "ok",
     "timestamp": 1647733114114,
     "user": {
      "displayName": "Iraitz Montalban",
      "photoUrl": "https://lh3.googleusercontent.com/a-/AOh14GgvfARZt-Fohb1gudbfMp8rr7aejGBTFsCgZ6Sj=s64",
      "userId": "09571778698595513856"
     },
     "user_tz": -60
    },
    "id": "rd7tehAK1Kda",
    "outputId": "83e155fc-734b-4119-81a7-46cbe9b49410"
   },
   "outputs": [
    {
     "data": {
      "text/plain": [
       "Drama            725\n",
       "Comedy           505\n",
       "Action           251\n",
       "Thriller         251\n",
       "Romance          247\n",
       "Adventure        135\n",
       "Children         122\n",
       "Crime            109\n",
       "Sci-Fi           101\n",
       "Horror            92\n",
       "War               71\n",
       "Mystery           61\n",
       "Musical           56\n",
       "Documentary       50\n",
       "Animation         42\n",
       "Western           27\n",
       "Film-Noir         24\n",
       "Fantasy           22\n",
       "genre_unknown      2\n",
       "dtype: int64"
      ]
     },
     "execution_count": 10,
     "metadata": {},
     "output_type": "execute_result"
    }
   ],
   "source": [
    "\"\"\"\n",
    "Ejercicio : Realizar las operaciones necesarias para descubrir los ítems por género y conocer la distribución de items en nuestro dominio\n",
    "\"\"\"\n",
    "df=movies[genre_cols].sum().sort_values(ascending=False)\n",
    "df"
   ]
  },
  {
   "cell_type": "code",
   "execution_count": 11,
   "metadata": {
    "colab": {
     "base_uri": "https://localhost:8080/",
     "height": 285
    },
    "executionInfo": {
     "elapsed": 1341,
     "status": "ok",
     "timestamp": 1647733117468,
     "user": {
      "displayName": "Iraitz Montalban",
      "photoUrl": "https://lh3.googleusercontent.com/a-/AOh14GgvfARZt-Fohb1gudbfMp8rr7aejGBTFsCgZ6Sj=s64",
      "userId": "09571778698595513856"
     },
     "user_tz": -60
    },
    "id": "uBjp1gGvD1Sw",
    "outputId": "d4b62ead-3b36-4c6c-f44a-630282b9cbbd"
   },
   "outputs": [
    {
     "data": {
      "text/plain": [
       "<AxesSubplot:>"
      ]
     },
     "execution_count": 11,
     "metadata": {},
     "output_type": "execute_result"
    },
    {
     "data": {
      "image/png": "[encoded data removed]",
      "text/plain": [
       "<Figure size 432x288 with 1 Axes>"
      ]
     },
     "metadata": {
      "needs_background": "light"
     },
     "output_type": "display_data"
    }
   ],
   "source": [
    "x = df.tolist()\n",
    "y = df.index.tolist()\n",
    "sns.barplot(x=x,y=y)"
   ]
  },
  {
   "cell_type": "markdown",
   "metadata": {
    "id": "lxy3Y7DX3IfK"
   },
   "source": [
    "Disponemos de información relativa al contenido, pero es importante poder valorar qué películas son las mejor valoradas entre el público o cuales son las más populares (más vistas). Para ello deberemos cargar el tercer conjunto relevante para nuestro sistema de recomendación."
   ]
  },
  {
   "cell_type": "markdown",
   "metadata": {
    "id": "8wu4jhWkIxSE"
   },
   "source": [
    "## Ratings\n",
    "\n",
    "Finalmente, los ratings son los que recogen las impresiones de los usuarios con respecto a los ítems, dandonos la posibilidad de adecuar en base a dichos gustos la oferta a cada usuario."
   ]
  },
  {
   "cell_type": "code",
   "execution_count": 12,
   "metadata": {
    "colab": {
     "base_uri": "https://localhost:8080/",
     "height": 206
    },
    "executionInfo": {
     "elapsed": 14,
     "status": "ok",
     "timestamp": 1647733764424,
     "user": {
      "displayName": "Iraitz Montalban",
      "photoUrl": "https://lh3.googleusercontent.com/a-/AOh14GgvfARZt-Fohb1gudbfMp8rr7aejGBTFsCgZ6Sj=s64",
      "userId": "09571778698595513856"
     },
     "user_tz": -60
    },
    "id": "CFVwBjot1K_K",
    "outputId": "f483782f-5daa-47d0-98b5-d110fb28e221"
   },
   "outputs": [
    {
     "data": {
      "text/html": [
       "<div>\n",
       "<style scoped>\n",
       "    .dataframe tbody tr th:only-of-type {\n",
       "        vertical-align: middle;\n",
       "    }\n",
       "\n",
       "    .dataframe tbody tr th {\n",
       "        vertical-align: top;\n",
       "    }\n",
       "\n",
       "    .dataframe thead th {\n",
       "        text-align: right;\n",
       "    }\n",
       "</style>\n",
       "<table border=\"1\" class=\"dataframe\">\n",
       "  <thead>\n",
       "    <tr style=\"text-align: right;\">\n",
       "      <th></th>\n",
       "      <th>user_id</th>\n",
       "      <th>movie_id</th>\n",
       "      <th>rating</th>\n",
       "      <th>unix_timestamp</th>\n",
       "    </tr>\n",
       "  </thead>\n",
       "  <tbody>\n",
       "    <tr>\n",
       "      <th>0</th>\n",
       "      <td>196</td>\n",
       "      <td>242</td>\n",
       "      <td>3.0</td>\n",
       "      <td>881250949</td>\n",
       "    </tr>\n",
       "    <tr>\n",
       "      <th>1</th>\n",
       "      <td>186</td>\n",
       "      <td>302</td>\n",
       "      <td>3.0</td>\n",
       "      <td>891717742</td>\n",
       "    </tr>\n",
       "    <tr>\n",
       "      <th>2</th>\n",
       "      <td>22</td>\n",
       "      <td>377</td>\n",
       "      <td>1.0</td>\n",
       "      <td>878887116</td>\n",
       "    </tr>\n",
       "    <tr>\n",
       "      <th>3</th>\n",
       "      <td>244</td>\n",
       "      <td>51</td>\n",
       "      <td>2.0</td>\n",
       "      <td>880606923</td>\n",
       "    </tr>\n",
       "    <tr>\n",
       "      <th>4</th>\n",
       "      <td>166</td>\n",
       "      <td>346</td>\n",
       "      <td>1.0</td>\n",
       "      <td>886397596</td>\n",
       "    </tr>\n",
       "  </tbody>\n",
       "</table>\n",
       "</div>"
      ],
      "text/plain": [
       "   user_id  movie_id  rating  unix_timestamp\n",
       "0      196       242     3.0       881250949\n",
       "1      186       302     3.0       891717742\n",
       "2       22       377     1.0       878887116\n",
       "3      244        51     2.0       880606923\n",
       "4      166       346     1.0       886397596"
      ]
     },
     "execution_count": 12,
     "metadata": {},
     "output_type": "execute_result"
    }
   ],
   "source": [
    "# Cargamos las puntuaciones otorgadas por usuarios a películas vistas en un rango entre 1 a 5\n",
    "ratings_cols = ['user_id', 'movie_id', 'rating', 'unix_timestamp']\n",
    "ratings = pd.read_csv('ml-100k/u.data', sep='\\t', names=ratings_cols, encoding='latin-1')\n",
    "ratings[\"rating\"] = ratings[\"rating\"].apply(lambda x: float(x))\n",
    "ratings.head()"
   ]
  },
  {
   "cell_type": "markdown",
   "metadata": {
    "id": "eV0HMpfTJFPJ"
   },
   "source": [
    "Gracias a estos rating podremos, por ejemplo, buscar aquellas películas más populares."
   ]
  },
  {
   "cell_type": "markdown",
   "metadata": {
    "id": "ntHVEfkthB2q"
   },
   "source": [
    "### Ejercicio"
   ]
  },
  {
   "cell_type": "code",
   "execution_count": 13,
   "metadata": {
    "colab": {
     "base_uri": "https://localhost:8080/"
    },
    "executionInfo": {
     "elapsed": 3,
     "status": "ok",
     "timestamp": 1647733766252,
     "user": {
      "displayName": "Iraitz Montalban",
      "photoUrl": "https://lh3.googleusercontent.com/a-/AOh14GgvfARZt-Fohb1gudbfMp8rr7aejGBTFsCgZ6Sj=s64",
      "userId": "09571778698595513856"
     },
     "user_tz": -60
    },
    "id": "7VDN5THcJM23",
    "outputId": "a915a7a5-f63e-4958-9974-6bc27303f817"
   },
   "outputs": [
    {
     "data": {
      "text/plain": [
       "Star Wars (1977)                   583\n",
       "Contact (1997)                     509\n",
       "Fargo (1996)                       508\n",
       "Return of the Jedi (1983)          507\n",
       "Liar Liar (1997)                   485\n",
       "                                  ... \n",
       "Leopard Son, The (1996)              1\n",
       "Stefano Quantestorie (1993)          1\n",
       "Quartier Mozart (1992)               1\n",
       "Reluctant Debutante, The (1958)      1\n",
       "Dadetown (1995)                      1\n",
       "Name: title, Length: 1664, dtype: int64"
      ]
     },
     "execution_count": 13,
     "metadata": {},
     "output_type": "execute_result"
    }
   ],
   "source": [
    "\"\"\"\n",
    "Ejercicio : Realizar las operaciones necesarias para conocer los ítem valorados más veces\n",
    "\"\"\"\n",
    "titles = movies[['title', 'movie_id']]\n",
    "df = pd.merge(ratings, titles, on='movie_id')\n",
    "df.title.value_counts()"
   ]
  },
  {
   "cell_type": "markdown",
   "metadata": {
    "id": "a0AuXYOzKzu_"
   },
   "source": [
    "Veremos que las películas más populares pueden no ser las mejor valoradas."
   ]
  },
  {
   "cell_type": "code",
   "execution_count": 14,
   "metadata": {
    "colab": {
     "base_uri": "https://localhost:8080/"
    },
    "executionInfo": {
     "elapsed": 368,
     "status": "ok",
     "timestamp": 1647733767165,
     "user": {
      "displayName": "Iraitz Montalban",
      "photoUrl": "https://lh3.googleusercontent.com/a-/AOh14GgvfARZt-Fohb1gudbfMp8rr7aejGBTFsCgZ6Sj=s64",
      "userId": "09571778698595513856"
     },
     "user_tz": -60
    },
    "id": "zyUb91_eI855",
    "outputId": "bdf933e9-1978-4d6c-9cca-35a3f94bbc71"
   },
   "outputs": [
    {
     "data": {
      "text/plain": [
       "title\n",
       "They Made Me a Criminal (1939)                  5.0\n",
       "Marlene Dietrich: Shadow and Light (1996)       5.0\n",
       "Saint of Fort Washington, The (1993)            5.0\n",
       "Someone Else's America (1995)                   5.0\n",
       "Star Kid (1997)                                 5.0\n",
       "                                               ... \n",
       "Eye of Vichy, The (Oeil de Vichy, L') (1993)    1.0\n",
       "King of New York (1990)                         1.0\n",
       "Touki Bouki (Journey of the Hyena) (1973)       1.0\n",
       "Bloody Child, The (1996)                        1.0\n",
       "Crude Oasis, The (1995)                         1.0\n",
       "Name: rating, Length: 1664, dtype: float64"
      ]
     },
     "execution_count": 14,
     "metadata": {},
     "output_type": "execute_result"
    }
   ],
   "source": [
    "\"\"\"\n",
    "Ejercicio : Realizar las operaciones necesarias para conocer los ítem mejor valorados\n",
    "\"\"\"\n",
    "df1=df.groupby('title')['rating'].mean().sort_values(ascending=False)\n",
    "df1"
   ]
  },
  {
   "cell_type": "markdown",
   "metadata": {
    "id": "RAuFn5HiFw_r"
   },
   "source": [
    "Una vez conocemos nuestro conjunto de datos podemos plantearnos cómo deberían ser esas primeras recomendaciones a realizar."
   ]
  },
  {
   "cell_type": "markdown",
   "metadata": {
    "id": "ZLLynzWVLbxX"
   },
   "source": [
    "# Recomendadores por popularidad\n",
    "\n",
    "Es uno de los ejemplos más sencillos donde no se requiere información alguna de los usuarios. Los ítems más populares pueden ser un buen reclamo ante la presencia de un usuario del que nos dispongamos de información. En el ámbito de los recomendadores esta carencia de información se conoce como *cold start*.\n",
    "\n",
    "Permite presentar a un nuevo usuario de una plataforma con información posiblemente de su interés dada la popularidad de esta para otros usuarios.\n",
    "\n",
    "Podemos buscar la relación entre las métricas anteriormente vistas (número de puntuaciones y promedio de las mismas) de cara a entender mejor la relación existente entre estas. Nuestro primer recomendador podría simplemente ofrecernos la películas más populares o las mejor valoradas (o una combinación de ambas). Crearemos un conjunto de datos base que deberemos actualizar cada vez que se disponga de nueva información sobre nuestra colección de ítems (películas)."
   ]
  },
  {
   "cell_type": "code",
   "execution_count": 15,
   "metadata": {
    "colab": {
     "base_uri": "https://localhost:8080/",
     "height": 455
    },
    "executionInfo": {
     "elapsed": 494,
     "status": "ok",
     "timestamp": 1647733769274,
     "user": {
      "displayName": "Iraitz Montalban",
      "photoUrl": "https://lh3.googleusercontent.com/a-/AOh14GgvfARZt-Fohb1gudbfMp8rr7aejGBTFsCgZ6Sj=s64",
      "userId": "09571778698595513856"
     },
     "user_tz": -60
    },
    "id": "qiVXfgfhHErX",
    "outputId": "ccb48460-31ad-43c1-b14e-b8f1875ccd34"
   },
   "outputs": [
    {
     "data": {
      "text/html": [
       "<div>\n",
       "<style scoped>\n",
       "    .dataframe tbody tr th:only-of-type {\n",
       "        vertical-align: middle;\n",
       "    }\n",
       "\n",
       "    .dataframe tbody tr th {\n",
       "        vertical-align: top;\n",
       "    }\n",
       "\n",
       "    .dataframe thead th {\n",
       "        text-align: right;\n",
       "    }\n",
       "</style>\n",
       "<table border=\"1\" class=\"dataframe\">\n",
       "  <thead>\n",
       "    <tr style=\"text-align: right;\">\n",
       "      <th></th>\n",
       "      <th>rating</th>\n",
       "    </tr>\n",
       "    <tr>\n",
       "      <th>movie_id</th>\n",
       "      <th></th>\n",
       "    </tr>\n",
       "  </thead>\n",
       "  <tbody>\n",
       "    <tr>\n",
       "      <th>1</th>\n",
       "      <td>452</td>\n",
       "    </tr>\n",
       "    <tr>\n",
       "      <th>2</th>\n",
       "      <td>131</td>\n",
       "    </tr>\n",
       "    <tr>\n",
       "      <th>3</th>\n",
       "      <td>90</td>\n",
       "    </tr>\n",
       "    <tr>\n",
       "      <th>4</th>\n",
       "      <td>209</td>\n",
       "    </tr>\n",
       "    <tr>\n",
       "      <th>5</th>\n",
       "      <td>86</td>\n",
       "    </tr>\n",
       "    <tr>\n",
       "      <th>...</th>\n",
       "      <td>...</td>\n",
       "    </tr>\n",
       "    <tr>\n",
       "      <th>1678</th>\n",
       "      <td>1</td>\n",
       "    </tr>\n",
       "    <tr>\n",
       "      <th>1679</th>\n",
       "      <td>1</td>\n",
       "    </tr>\n",
       "    <tr>\n",
       "      <th>1680</th>\n",
       "      <td>1</td>\n",
       "    </tr>\n",
       "    <tr>\n",
       "      <th>1681</th>\n",
       "      <td>1</td>\n",
       "    </tr>\n",
       "    <tr>\n",
       "      <th>1682</th>\n",
       "      <td>1</td>\n",
       "    </tr>\n",
       "  </tbody>\n",
       "</table>\n",
       "<p>1682 rows × 1 columns</p>\n",
       "</div>"
      ],
      "text/plain": [
       "          rating\n",
       "movie_id        \n",
       "1            452\n",
       "2            131\n",
       "3             90\n",
       "4            209\n",
       "5             86\n",
       "...          ...\n",
       "1678           1\n",
       "1679           1\n",
       "1680           1\n",
       "1681           1\n",
       "1682           1\n",
       "\n",
       "[1682 rows x 1 columns]"
      ]
     },
     "execution_count": 15,
     "metadata": {},
     "output_type": "execute_result"
    }
   ],
   "source": [
    "ratings_df = pd.DataFrame(df.groupby('movie_id')['rating'].count())\n",
    "ratings_df"
   ]
  },
  {
   "cell_type": "markdown",
   "metadata": {
    "id": "Y3lxOds1g7ux"
   },
   "source": [
    "### Ejercicio"
   ]
  },
  {
   "cell_type": "code",
   "execution_count": 16,
   "metadata": {
    "colab": {
     "base_uri": "https://localhost:8080/",
     "height": 394
    },
    "executionInfo": {
     "elapsed": 7,
     "status": "ok",
     "timestamp": 1647733770145,
     "user": {
      "displayName": "Iraitz Montalban",
      "photoUrl": "https://lh3.googleusercontent.com/a-/AOh14GgvfARZt-Fohb1gudbfMp8rr7aejGBTFsCgZ6Sj=s64",
      "userId": "09571778698595513856"
     },
     "user_tz": -60
    },
    "id": "8lHOTId5MsAI",
    "outputId": "4999679d-66df-4ba0-a68a-e009ec6b5b0f"
   },
   "outputs": [
    {
     "data": {
      "text/html": [
       "<div>\n",
       "<style scoped>\n",
       "    .dataframe tbody tr th:only-of-type {\n",
       "        vertical-align: middle;\n",
       "    }\n",
       "\n",
       "    .dataframe tbody tr th {\n",
       "        vertical-align: top;\n",
       "    }\n",
       "\n",
       "    .dataframe thead th {\n",
       "        text-align: right;\n",
       "    }\n",
       "</style>\n",
       "<table border=\"1\" class=\"dataframe\">\n",
       "  <thead>\n",
       "    <tr style=\"text-align: right;\">\n",
       "      <th></th>\n",
       "      <th>mean_ratings</th>\n",
       "      <th>num_rating</th>\n",
       "      <th>score</th>\n",
       "    </tr>\n",
       "    <tr>\n",
       "      <th>movie_id</th>\n",
       "      <th></th>\n",
       "      <th></th>\n",
       "      <th></th>\n",
       "    </tr>\n",
       "  </thead>\n",
       "  <tbody>\n",
       "    <tr>\n",
       "      <th>50</th>\n",
       "      <td>583</td>\n",
       "      <td>4.358491</td>\n",
       "      <td>2541.0</td>\n",
       "    </tr>\n",
       "    <tr>\n",
       "      <th>100</th>\n",
       "      <td>508</td>\n",
       "      <td>4.155512</td>\n",
       "      <td>2111.0</td>\n",
       "    </tr>\n",
       "    <tr>\n",
       "      <th>181</th>\n",
       "      <td>507</td>\n",
       "      <td>4.007890</td>\n",
       "      <td>2032.0</td>\n",
       "    </tr>\n",
       "    <tr>\n",
       "      <th>258</th>\n",
       "      <td>509</td>\n",
       "      <td>3.803536</td>\n",
       "      <td>1936.0</td>\n",
       "    </tr>\n",
       "    <tr>\n",
       "      <th>174</th>\n",
       "      <td>420</td>\n",
       "      <td>4.252381</td>\n",
       "      <td>1786.0</td>\n",
       "    </tr>\n",
       "    <tr>\n",
       "      <th>...</th>\n",
       "      <td>...</td>\n",
       "      <td>...</td>\n",
       "      <td>...</td>\n",
       "    </tr>\n",
       "    <tr>\n",
       "      <th>1581</th>\n",
       "      <td>1</td>\n",
       "      <td>1.000000</td>\n",
       "      <td>1.0</td>\n",
       "    </tr>\n",
       "    <tr>\n",
       "      <th>1570</th>\n",
       "      <td>1</td>\n",
       "      <td>1.000000</td>\n",
       "      <td>1.0</td>\n",
       "    </tr>\n",
       "    <tr>\n",
       "      <th>1486</th>\n",
       "      <td>1</td>\n",
       "      <td>1.000000</td>\n",
       "      <td>1.0</td>\n",
       "    </tr>\n",
       "    <tr>\n",
       "      <th>1626</th>\n",
       "      <td>1</td>\n",
       "      <td>1.000000</td>\n",
       "      <td>1.0</td>\n",
       "    </tr>\n",
       "    <tr>\n",
       "      <th>1580</th>\n",
       "      <td>1</td>\n",
       "      <td>1.000000</td>\n",
       "      <td>1.0</td>\n",
       "    </tr>\n",
       "  </tbody>\n",
       "</table>\n",
       "<p>1682 rows × 3 columns</p>\n",
       "</div>"
      ],
      "text/plain": [
       "          mean_ratings  num_rating   score\n",
       "movie_id                                  \n",
       "50                 583    4.358491  2541.0\n",
       "100                508    4.155512  2111.0\n",
       "181                507    4.007890  2032.0\n",
       "258                509    3.803536  1936.0\n",
       "174                420    4.252381  1786.0\n",
       "...                ...         ...     ...\n",
       "1581                 1    1.000000     1.0\n",
       "1570                 1    1.000000     1.0\n",
       "1486                 1    1.000000     1.0\n",
       "1626                 1    1.000000     1.0\n",
       "1580                 1    1.000000     1.0\n",
       "\n",
       "[1682 rows x 3 columns]"
      ]
     },
     "execution_count": 16,
     "metadata": {},
     "output_type": "execute_result"
    }
   ],
   "source": [
    "\"\"\"\n",
    "Ejercicio : Construiremos un DataFrame que combine los índices de popularidad y mejor valorados para los ítems\n",
    "\"\"\"\n",
    "ratings_df1 = pd.DataFrame(df.groupby('movie_id')['rating'].count())\n",
    "ratings_df2 = pd.DataFrame(df.groupby('movie_id')['rating'].mean())\n",
    "ratings_df=pd.merge(ratings_df1, ratings_df2,how=\"left\", on=[\"movie_id\"])\n",
    "ratings_df[\"score\"]=ratings_df[\"rating_x\"]*ratings_df[\"rating_y\"]\n",
    "ratings_df.rename(columns={\"rating_y\":\"num_rating\",\"rating_x\":\"mean_ratings\"},inplace=True)\n",
    "ratings_df=ratings_df.sort_values(by=['score'],ascending=False)\n",
    "ratings_df"
   ]
  },
  {
   "cell_type": "markdown",
   "metadata": {
    "id": "f8Y4-NQpHmvS"
   },
   "source": [
    "Con esta información podremos en base a la popularidad de las películas no vistas por el usuario, realizar una primera recomendación."
   ]
  },
  {
   "cell_type": "markdown",
   "metadata": {
    "id": "LClzI8qjg2iD"
   },
   "source": [
    "### Ejercicio"
   ]
  },
  {
   "cell_type": "code",
   "execution_count": 17,
   "metadata": {
    "id": "tT8eYBIWMVbt"
   },
   "outputs": [],
   "source": [
    "  \"\"\"\n",
    "  Ejercicio: Devolveremos las diez películas más vistas y mejor valoradas que no haya visto el usuario indicado por user_id\n",
    "  \"\"\"\n",
    "def popularity_based_recommender(user_id:int):\n",
    "  # Obtenemos 100 candidatos a ser recomendados (por disponer de una muestra de generación)\n",
    "    top_rated = df1[100]\n",
    "\n",
    "  # Obtenemos las películas ya vistas por el usuario\n",
    "    already_seen = ratings[ratings[\"user_id\"] == user_id]\n",
    "\n",
    "  # Nos quedamos con aquellas no vistas del conjunto inicial\n",
    "    return_df = movies[movies]\n",
    "\n",
    "  # Añadimos el título y ofrecemos diez candidatas\n",
    "    return ...\n"
   ]
  },
  {
   "cell_type": "code",
   "execution_count": 18,
   "metadata": {},
   "outputs": [
    {
     "ename": "TypeError",
     "evalue": "unhashable type: 'DataFrame'",
     "output_type": "error",
     "traceback": [
      "\u001b[1;31m---------------------------------------------------------------------------\u001b[0m",
      "\u001b[1;31mTypeError\u001b[0m                                 Traceback (most recent call last)",
      "Input \u001b[1;32mIn [18]\u001b[0m, in \u001b[0;36m<cell line: 1>\u001b[1;34m()\u001b[0m\n\u001b[1;32m----> 1\u001b[0m movies[\u001b[43mmovies\u001b[49m\u001b[43m \u001b[49m\u001b[38;5;129;43;01mnot\u001b[39;49;00m\u001b[43m \u001b[49m\u001b[38;5;129;43;01min\u001b[39;49;00m\u001b[43m(\u001b[49m\u001b[43mratings\u001b[49m\u001b[43m[\u001b[49m\u001b[43mratings\u001b[49m\u001b[43m[\u001b[49m\u001b[38;5;124;43m\"\u001b[39;49m\u001b[38;5;124;43muser_id\u001b[39;49m\u001b[38;5;124;43m\"\u001b[39;49m\u001b[43m]\u001b[49m\u001b[43m \u001b[49m\u001b[38;5;241;43m==\u001b[39;49m\u001b[43m \u001b[49m\u001b[38;5;241;43m1\u001b[39;49m\u001b[43m]\u001b[49m\u001b[43m)\u001b[49m]\n",
      "File \u001b[1;32m~\\anaconda3\\envs\\StudioTao\\lib\\site-packages\\pandas\\core\\generic.py:1994\u001b[0m, in \u001b[0;36mNDFrame.__contains__\u001b[1;34m(self, key)\u001b[0m\n\u001b[0;32m   1991\u001b[0m \u001b[38;5;129m@final\u001b[39m\n\u001b[0;32m   1992\u001b[0m \u001b[38;5;28;01mdef\u001b[39;00m \u001b[38;5;21m__contains__\u001b[39m(\u001b[38;5;28mself\u001b[39m, key) \u001b[38;5;241m-\u001b[39m\u001b[38;5;241m>\u001b[39m bool_t:\n\u001b[0;32m   1993\u001b[0m     \u001b[38;5;124;03m\"\"\"True if the key is in the info axis\"\"\"\u001b[39;00m\n\u001b[1;32m-> 1994\u001b[0m     \u001b[38;5;28;01mreturn\u001b[39;00m \u001b[43mkey\u001b[49m\u001b[43m \u001b[49m\u001b[38;5;129;43;01min\u001b[39;49;00m\u001b[43m \u001b[49m\u001b[38;5;28;43mself\u001b[39;49m\u001b[38;5;241;43m.\u001b[39;49m\u001b[43m_info_axis\u001b[49m\n",
      "File \u001b[1;32m~\\anaconda3\\envs\\StudioTao\\lib\\site-packages\\pandas\\core\\indexes\\base.py:5008\u001b[0m, in \u001b[0;36mIndex.__contains__\u001b[1;34m(self, key)\u001b[0m\n\u001b[0;32m   4973\u001b[0m \u001b[38;5;28;01mdef\u001b[39;00m \u001b[38;5;21m__contains__\u001b[39m(\u001b[38;5;28mself\u001b[39m, key: Any) \u001b[38;5;241m-\u001b[39m\u001b[38;5;241m>\u001b[39m \u001b[38;5;28mbool\u001b[39m:\n\u001b[0;32m   4974\u001b[0m     \u001b[38;5;124;03m\"\"\"\u001b[39;00m\n\u001b[0;32m   4975\u001b[0m \u001b[38;5;124;03m    Return a boolean indicating whether the provided key is in the index.\u001b[39;00m\n\u001b[0;32m   4976\u001b[0m \n\u001b[1;32m   (...)\u001b[0m\n\u001b[0;32m   5006\u001b[0m \u001b[38;5;124;03m    False\u001b[39;00m\n\u001b[0;32m   5007\u001b[0m \u001b[38;5;124;03m    \"\"\"\u001b[39;00m\n\u001b[1;32m-> 5008\u001b[0m     \u001b[38;5;28;43mhash\u001b[39;49m\u001b[43m(\u001b[49m\u001b[43mkey\u001b[49m\u001b[43m)\u001b[49m\n\u001b[0;32m   5009\u001b[0m     \u001b[38;5;28;01mtry\u001b[39;00m:\n\u001b[0;32m   5010\u001b[0m         \u001b[38;5;28;01mreturn\u001b[39;00m key \u001b[38;5;129;01min\u001b[39;00m \u001b[38;5;28mself\u001b[39m\u001b[38;5;241m.\u001b[39m_engine\n",
      "\u001b[1;31mTypeError\u001b[0m: unhashable type: 'DataFrame'"
     ]
    }
   ],
   "source": [
    "movies[movies not in(ratings[ratings[\"user_id\"] == 1])]"
   ]
  },
  {
   "cell_type": "code",
   "execution_count": null,
   "metadata": {
    "colab": {
     "base_uri": "https://localhost:8080/"
    },
    "executionInfo": {
     "elapsed": 3,
     "status": "ok",
     "timestamp": 1647733773199,
     "user": {
      "displayName": "Iraitz Montalban",
      "photoUrl": "https://lh3.googleusercontent.com/a-/AOh14GgvfARZt-Fohb1gudbfMp8rr7aejGBTFsCgZ6Sj=s64",
      "userId": "09571778698595513856"
     },
     "user_tz": -60
    },
    "id": "uPOMoooXPzFf",
    "outputId": "39849163-955b-409c-9b1f-568d79fead66"
   },
   "outputs": [],
   "source": [
    "popularity_based_recommender(1)"
   ]
  },
  {
   "cell_type": "code",
   "execution_count": null,
   "metadata": {
    "colab": {
     "base_uri": "https://localhost:8080/"
    },
    "executionInfo": {
     "elapsed": 8,
     "status": "ok",
     "timestamp": 1647733774588,
     "user": {
      "displayName": "Iraitz Montalban",
      "photoUrl": "https://lh3.googleusercontent.com/a-/AOh14GgvfARZt-Fohb1gudbfMp8rr7aejGBTFsCgZ6Sj=s64",
      "userId": "09571778698595513856"
     },
     "user_tz": -60
    },
    "id": "ExAnLLxPP0r3",
    "outputId": "387f951d-8b77-46b5-9984-e26c02c76807"
   },
   "outputs": [],
   "source": [
    "popularity_based_recommender(196)"
   ]
  },
  {
   "cell_type": "markdown",
   "metadata": {
    "id": "WxRa9V1_QsrU"
   },
   "source": [
    "Esta modalidad de recomendación es quizás de las más sencillas y en cualquier caso, unicamente diponiendo de la información asociada a los ítems vistos por los usuarios puede contarse con una recomendación sobre los títulos más populares. Dentro del caracter general de estos modos de recomendación estas recomendaciones pueden ser segregadas por popularidad entre adolescentes o algún perfil laboral en concreto para lo cual necesitaremos algo más de información asociada al usuario en cuestión que valoramos."
   ]
  },
  {
   "cell_type": "markdown",
   "metadata": {
    "id": "MO8o3ABkRFNT"
   },
   "source": [
    "# La importancia de la similitud\n",
    "\n",
    "Un factor interesante a la hora de recomendar contenido es la similitud que este pueda presentar con contenido ya visto por el usuario en cuestión y del que haya mostrado buen feedback (ratings altos en nuestro caso).\n",
    "\n",
    "Veremos que este mismo conceptoo es extensible a los usuarios (contenido visto por usuarios similares a mi) pero por el momento nos limitaremos a conocer los gustos de nuestro usuario candidato. Para ello deberemos obtener sus películas favoritas."
   ]
  },
  {
   "cell_type": "code",
   "execution_count": 19,
   "metadata": {
    "id": "lwriCCjDQbwr"
   },
   "outputs": [],
   "source": [
    "def favorite_movies(user_id:int, num=10):\n",
    "  \"\"\"\n",
    "  Devolveremos los 10 títulos mejor valorados por un usuario\n",
    "  \"\"\"\n",
    "  # Obtenemos las películas ya vistas por el usuario\n",
    "  rated = ratings[ratings[\"user_id\"] == user_id]\n",
    "  \n",
    "  # Las películas valoradas por este\n",
    "  rated_info = pd.merge(rated, titles, on='movie_id')[[\"movie_id\",\"title\",\"rating\"]]\n",
    "  return rated_info.sort_values(by='rating', ascending=False).head(num)"
   ]
  },
  {
   "cell_type": "code",
   "execution_count": 20,
   "metadata": {
    "colab": {
     "base_uri": "https://localhost:8080/",
     "height": 363
    },
    "executionInfo": {
     "elapsed": 11,
     "status": "ok",
     "timestamp": 1647733779101,
     "user": {
      "displayName": "Iraitz Montalban",
      "photoUrl": "https://lh3.googleusercontent.com/a-/AOh14GgvfARZt-Fohb1gudbfMp8rr7aejGBTFsCgZ6Sj=s64",
      "userId": "09571778698595513856"
     },
     "user_tz": -60
    },
    "id": "qyCrNr2uR_Te",
    "outputId": "0e34e1e6-7706-47a4-a4e0-9c7049dd48ff"
   },
   "outputs": [
    {
     "data": {
      "text/html": [
       "<div>\n",
       "<style scoped>\n",
       "    .dataframe tbody tr th:only-of-type {\n",
       "        vertical-align: middle;\n",
       "    }\n",
       "\n",
       "    .dataframe tbody tr th {\n",
       "        vertical-align: top;\n",
       "    }\n",
       "\n",
       "    .dataframe thead th {\n",
       "        text-align: right;\n",
       "    }\n",
       "</style>\n",
       "<table border=\"1\" class=\"dataframe\">\n",
       "  <thead>\n",
       "    <tr style=\"text-align: right;\">\n",
       "      <th></th>\n",
       "      <th>movie_id</th>\n",
       "      <th>title</th>\n",
       "      <th>rating</th>\n",
       "    </tr>\n",
       "  </thead>\n",
       "  <tbody>\n",
       "    <tr>\n",
       "      <th>27</th>\n",
       "      <td>285</td>\n",
       "      <td>Secrets &amp; Lies (1996)</td>\n",
       "      <td>5.0</td>\n",
       "    </tr>\n",
       "    <tr>\n",
       "      <th>14</th>\n",
       "      <td>692</td>\n",
       "      <td>American President, The (1995)</td>\n",
       "      <td>5.0</td>\n",
       "    </tr>\n",
       "    <tr>\n",
       "      <th>4</th>\n",
       "      <td>655</td>\n",
       "      <td>Stand by Me (1986)</td>\n",
       "      <td>5.0</td>\n",
       "    </tr>\n",
       "    <tr>\n",
       "      <th>5</th>\n",
       "      <td>67</td>\n",
       "      <td>Ace Ventura: Pet Detective (1994)</td>\n",
       "      <td>5.0</td>\n",
       "    </tr>\n",
       "    <tr>\n",
       "      <th>31</th>\n",
       "      <td>153</td>\n",
       "      <td>Fish Called Wanda, A (1988)</td>\n",
       "      <td>5.0</td>\n",
       "    </tr>\n",
       "    <tr>\n",
       "      <th>8</th>\n",
       "      <td>663</td>\n",
       "      <td>Being There (1979)</td>\n",
       "      <td>5.0</td>\n",
       "    </tr>\n",
       "    <tr>\n",
       "      <th>12</th>\n",
       "      <td>286</td>\n",
       "      <td>English Patient, The (1996)</td>\n",
       "      <td>5.0</td>\n",
       "    </tr>\n",
       "    <tr>\n",
       "      <th>15</th>\n",
       "      <td>8</td>\n",
       "      <td>Babe (1995)</td>\n",
       "      <td>5.0</td>\n",
       "    </tr>\n",
       "    <tr>\n",
       "      <th>29</th>\n",
       "      <td>1007</td>\n",
       "      <td>Waiting for Guffman (1996)</td>\n",
       "      <td>4.0</td>\n",
       "    </tr>\n",
       "    <tr>\n",
       "      <th>30</th>\n",
       "      <td>411</td>\n",
       "      <td>Nutty Professor, The (1996)</td>\n",
       "      <td>4.0</td>\n",
       "    </tr>\n",
       "  </tbody>\n",
       "</table>\n",
       "</div>"
      ],
      "text/plain": [
       "    movie_id                              title  rating\n",
       "27       285              Secrets & Lies (1996)     5.0\n",
       "14       692     American President, The (1995)     5.0\n",
       "4        655                 Stand by Me (1986)     5.0\n",
       "5         67  Ace Ventura: Pet Detective (1994)     5.0\n",
       "31       153        Fish Called Wanda, A (1988)     5.0\n",
       "8        663                 Being There (1979)     5.0\n",
       "12       286        English Patient, The (1996)     5.0\n",
       "15         8                        Babe (1995)     5.0\n",
       "29      1007         Waiting for Guffman (1996)     4.0\n",
       "30       411        Nutty Professor, The (1996)     4.0"
      ]
     },
     "execution_count": 20,
     "metadata": {},
     "output_type": "execute_result"
    }
   ],
   "source": [
    "favorite_movies(196)"
   ]
  },
  {
   "cell_type": "code",
   "execution_count": 21,
   "metadata": {
    "colab": {
     "base_uri": "https://localhost:8080/",
     "height": 363
    },
    "executionInfo": {
     "elapsed": 10,
     "status": "ok",
     "timestamp": 1647733780194,
     "user": {
      "displayName": "Iraitz Montalban",
      "photoUrl": "https://lh3.googleusercontent.com/a-/AOh14GgvfARZt-Fohb1gudbfMp8rr7aejGBTFsCgZ6Sj=s64",
      "userId": "09571778698595513856"
     },
     "user_tz": -60
    },
    "id": "VHT0HHmpSA39",
    "outputId": "4692a0e3-e257-4c11-cd28-ee6174c96497"
   },
   "outputs": [
    {
     "data": {
      "text/html": [
       "<div>\n",
       "<style scoped>\n",
       "    .dataframe tbody tr th:only-of-type {\n",
       "        vertical-align: middle;\n",
       "    }\n",
       "\n",
       "    .dataframe tbody tr th {\n",
       "        vertical-align: top;\n",
       "    }\n",
       "\n",
       "    .dataframe thead th {\n",
       "        text-align: right;\n",
       "    }\n",
       "</style>\n",
       "<table border=\"1\" class=\"dataframe\">\n",
       "  <thead>\n",
       "    <tr style=\"text-align: right;\">\n",
       "      <th></th>\n",
       "      <th>movie_id</th>\n",
       "      <th>title</th>\n",
       "      <th>rating</th>\n",
       "    </tr>\n",
       "  </thead>\n",
       "  <tbody>\n",
       "    <tr>\n",
       "      <th>136</th>\n",
       "      <td>170</td>\n",
       "      <td>Cinema Paradiso (1988)</td>\n",
       "      <td>5.0</td>\n",
       "    </tr>\n",
       "    <tr>\n",
       "      <th>67</th>\n",
       "      <td>175</td>\n",
       "      <td>Brazil (1985)</td>\n",
       "      <td>5.0</td>\n",
       "    </tr>\n",
       "    <tr>\n",
       "      <th>182</th>\n",
       "      <td>119</td>\n",
       "      <td>Maya Lin: A Strong Clear Vision (1994)</td>\n",
       "      <td>5.0</td>\n",
       "    </tr>\n",
       "    <tr>\n",
       "      <th>186</th>\n",
       "      <td>181</td>\n",
       "      <td>Return of the Jedi (1983)</td>\n",
       "      <td>5.0</td>\n",
       "    </tr>\n",
       "    <tr>\n",
       "      <th>191</th>\n",
       "      <td>109</td>\n",
       "      <td>Mystery Science Theater 3000: The Movie (1996)</td>\n",
       "      <td>5.0</td>\n",
       "    </tr>\n",
       "    <tr>\n",
       "      <th>77</th>\n",
       "      <td>44</td>\n",
       "      <td>Dolores Claiborne (1994)</td>\n",
       "      <td>5.0</td>\n",
       "    </tr>\n",
       "    <tr>\n",
       "      <th>75</th>\n",
       "      <td>14</td>\n",
       "      <td>Postino, Il (1994)</td>\n",
       "      <td>5.0</td>\n",
       "    </tr>\n",
       "    <tr>\n",
       "      <th>74</th>\n",
       "      <td>12</td>\n",
       "      <td>Usual Suspects, The (1995)</td>\n",
       "      <td>5.0</td>\n",
       "    </tr>\n",
       "    <tr>\n",
       "      <th>194</th>\n",
       "      <td>223</td>\n",
       "      <td>Sling Blade (1996)</td>\n",
       "      <td>5.0</td>\n",
       "    </tr>\n",
       "    <tr>\n",
       "      <th>72</th>\n",
       "      <td>108</td>\n",
       "      <td>Kids in the Hall: Brain Candy (1996)</td>\n",
       "      <td>5.0</td>\n",
       "    </tr>\n",
       "  </tbody>\n",
       "</table>\n",
       "</div>"
      ],
      "text/plain": [
       "     movie_id                                           title  rating\n",
       "136       170                          Cinema Paradiso (1988)     5.0\n",
       "67        175                                   Brazil (1985)     5.0\n",
       "182       119          Maya Lin: A Strong Clear Vision (1994)     5.0\n",
       "186       181                       Return of the Jedi (1983)     5.0\n",
       "191       109  Mystery Science Theater 3000: The Movie (1996)     5.0\n",
       "77         44                        Dolores Claiborne (1994)     5.0\n",
       "75         14                              Postino, Il (1994)     5.0\n",
       "74         12                      Usual Suspects, The (1995)     5.0\n",
       "194       223                              Sling Blade (1996)     5.0\n",
       "72        108            Kids in the Hall: Brain Candy (1996)     5.0"
      ]
     },
     "execution_count": 21,
     "metadata": {},
     "output_type": "execute_result"
    }
   ],
   "source": [
    "favorite_movies(1)"
   ]
  },
  {
   "cell_type": "markdown",
   "metadata": {
    "id": "NXmFIE1AVhS2"
   },
   "source": [
    "Conociendo los gustos de los usuarios sería interesante poder recomendar películas _similares_ de forma que maximicemos la experiencia de nuestro usuario. Podemos así ofrecerle contenido afin a sus gustos registrados. Y aquí es donde entran en juego las méticas de similitud.\n",
    "\n",
    "Las métricas de similitud pretenden establecer un valor numérico de cómo de similares son dos elementos. El rango variará en base a la métrica en cuestión de modo que os presentamos algunas de las más comunes."
   ]
  },
  {
   "cell_type": "markdown",
   "metadata": {
    "id": "RB7f1nGKVzew"
   },
   "source": [
    "## Similitud coseno\n",
    "\n",
    "Es una métrica popular ya que nos permite disponer de una métrica indicando 0 como dos elementos nada similares y 1 cuendo los elementos comparados son idénticos. Su formulación se expresa:\n",
    "\n",
    "$S_c(A,B) = cos(\\theta) = \\frac{A · B}{\\|A\\|\\|B\\|} = \\frac{\\sum_{i=1}^n A_iB_i}{\\sqrt{\\sum_{i=1}^n A_i^2 \\sum_{i=1}^n B_i^2}} $\n",
    "\n",
    "donde $A_i$ y $B_i$ son los componentes de los vectores formados por las características de nuestros items. En el próximo ejemplo veremos cómo podemos comparar muestras basadas en los generos informados.\n"
   ]
  },
  {
   "cell_type": "markdown",
   "metadata": {
    "id": "vVhyzYMmKELs"
   },
   "source": [
    "## Distancia de Jaccard\n",
    "\n",
    "Formulada como se muestra a continuación:\n",
    "\n",
    "$ J(A, B) = \\frac{|A \\cap B|}{|A \\cup B|}$\n",
    "\n",
    "Establece el número de elementos que se encuentran en la conjunción de ambos conjuntos (en nuestro caso podrían ser los generos asociados a una película) y en base a esto establece un índice donde la total coincidencia dará como resultado 1.0. "
   ]
  },
  {
   "cell_type": "markdown",
   "metadata": {
    "id": "bX6RJGxkYbBv"
   },
   "source": [
    "En muchos casos no hará falta que codifiquemos nosotros mismos estas métricas ya que existen muchas de ellas ya codificadas bajo la librería *sklearn* en su sección de [métricas](https://scikit-learn.org/stable/modules/classes.html#module-sklearn.metrics.pairwise)."
   ]
  },
  {
   "cell_type": "markdown",
   "metadata": {
    "id": "6lGUm2kvgqrW"
   },
   "source": [
    "### Ejercicio"
   ]
  },
  {
   "cell_type": "code",
   "execution_count": null,
   "metadata": {
    "id": "OvqsgEtHYLn8"
   },
   "outputs": [],
   "source": [
    "from sklearn.metrics.pairwise import ...\n",
    "\n",
    "\"\"\"\n",
    "Ejercicio: Calcularemos la matriz de similitud de los ítems seleccionando unicamente el comapo \"movie_id\" y las columnas de generos\n",
    "\"\"\"\n",
    "cosine_sim = ..."
   ]
  },
  {
   "cell_type": "markdown",
   "metadata": {
    "id": "7AHZKEKfk06i"
   },
   "source": [
    "Con esto hemos construido un comparador basado en los géneros de las películas, de modo que si indicamos que nos gusa un Drama nos ofrecerá títulos simialres (Dramas). Evidentemente, cuanta más información dispongamos del contenido más precisas serán estas métricas."
   ]
  },
  {
   "cell_type": "code",
   "execution_count": null,
   "metadata": {
    "colab": {
     "base_uri": "https://localhost:8080/",
     "height": 488
    },
    "executionInfo": {
     "elapsed": 368,
     "status": "ok",
     "timestamp": 1647734427468,
     "user": {
      "displayName": "Iraitz Montalban",
      "photoUrl": "https://lh3.googleusercontent.com/a-/AOh14GgvfARZt-Fohb1gudbfMp8rr7aejGBTFsCgZ6Sj=s64",
      "userId": "09571778698595513856"
     },
     "user_tz": -60
    },
    "id": "R5vqAe3BaX_k",
    "outputId": "9526ecf6-0b43-475f-a723-dc66bfe0061e"
   },
   "outputs": [],
   "source": [
    "# Convertimos nuestra matriz en un DataFrame con índices y columnas indicando la relación entre películas\n",
    "sim_matrix = pd.DataFrame(cosine_sim)\n",
    "sim_matrix.columns = movies['movie_id'].values\n",
    "sim_matrix.index += 1\n",
    "sim_matrix"
   ]
  },
  {
   "cell_type": "code",
   "execution_count": null,
   "metadata": {
    "id": "5R6Fg1BYmzA7"
   },
   "outputs": [],
   "source": [
    "def find_similar(movie_id):\n",
    "  # Obtenemos las métricas para las peliculas\n",
    "  m_list = sim_matrix.loc[movie_id].tolist()\n",
    "  # Filtramos por aquellas simialres\n",
    "  similar_movies = [i+1 for i,x in enumerate(m_list) if x >= 0.99]\n",
    "  # Devolvemos los titulos\n",
    "  return movies[movies[\"movie_id\"].isin(similar_movies)][[\"title\"] + genre_cols]"
   ]
  },
  {
   "cell_type": "code",
   "execution_count": null,
   "metadata": {
    "colab": {
     "base_uri": "https://localhost:8080/",
     "height": 191
    },
    "executionInfo": {
     "elapsed": 12,
     "status": "ok",
     "timestamp": 1647734436937,
     "user": {
      "displayName": "Iraitz Montalban",
      "photoUrl": "https://lh3.googleusercontent.com/a-/AOh14GgvfARZt-Fohb1gudbfMp8rr7aejGBTFsCgZ6Sj=s64",
      "userId": "09571778698595513856"
     },
     "user_tz": -60
    },
    "id": "vQa-KCkblVDK",
    "outputId": "37aabd66-278b-448d-c762-0dd80c5fde9b"
   },
   "outputs": [],
   "source": [
    "find_similar(1)"
   ]
  },
  {
   "cell_type": "code",
   "execution_count": null,
   "metadata": {
    "colab": {
     "base_uri": "https://localhost:8080/",
     "height": 306
    },
    "executionInfo": {
     "elapsed": 381,
     "status": "ok",
     "timestamp": 1647734448133,
     "user": {
      "displayName": "Iraitz Montalban",
      "photoUrl": "https://lh3.googleusercontent.com/a-/AOh14GgvfARZt-Fohb1gudbfMp8rr7aejGBTFsCgZ6Sj=s64",
      "userId": "09571778698595513856"
     },
     "user_tz": -60
    },
    "id": "sJchGQkRmxRM",
    "outputId": "ffc13013-9176-494e-9578-2d490063194d"
   },
   "outputs": [],
   "source": [
    "find_similar(7)"
   ]
  },
  {
   "cell_type": "code",
   "execution_count": null,
   "metadata": {
    "colab": {
     "base_uri": "https://localhost:8080/",
     "height": 641
    },
    "executionInfo": {
     "elapsed": 13,
     "status": "ok",
     "timestamp": 1647734450828,
     "user": {
      "displayName": "Iraitz Montalban",
      "photoUrl": "https://lh3.googleusercontent.com/a-/AOh14GgvfARZt-Fohb1gudbfMp8rr7aejGBTFsCgZ6Sj=s64",
      "userId": "09571778698595513856"
     },
     "user_tz": -60
    },
    "id": "47MUtNDWnWHI",
    "outputId": "6c52955c-03e9-4848-c55b-4ebf8bc22230"
   },
   "outputs": [],
   "source": [
    "find_similar(1500)"
   ]
  },
  {
   "cell_type": "markdown",
   "metadata": {
    "id": "rgv9ad56cqT0"
   },
   "source": [
    "Al igual que la similitud de coseno, disponemos de otras métricas como la *distancia de Jaccard* o la *correlación de Pearson* que aportan esta misma visión sobre la proximidad entre distintos items en base a sus campos informados. Podemos completar los datos disponibles con información sobre los actores de las películas, lenguajes en las que se encuentran disponibles o directores de forma que cuanta más información contextual tengamos sobre los items, más precisas serán las métricas de similitud. Existen escenarios donde una métricas ofrecerán resultados más robustos que el resto, debido a la codificación de los campos, uso de valores discretos o conínuos, etc. Será nuestra labor entender cual es la mejor métrica en cada caso.\n",
    "\n",
    "Estas métrica de similitud nos permiten realizar recomendaciones mucho más elavoradas que permitan adecuar las recomendaciones a los gustos del usuario basados en contenidos similares."
   ]
  },
  {
   "cell_type": "markdown",
   "metadata": {
    "id": "4-yGociv4npq"
   },
   "source": [
    "# Recomendadores basadas en contenido\n",
    "\n",
    "El **filtrado basado en contenido** nos permite definir una vez conocemos los gustos y preferencias de un usuario (ítems visitados, visualizados o puntuados) ofrecerle ítems similares (basados en alguna distancia).\n",
    "\n",
    "Una ves los usuarios empiezan a interactuar con la plataforma y a ofrecernos información sobre directores o actores favoritos podemos tener en cuenta estos gustos a la hora de recomendar la películas donde estos aparezcan.\n",
    "\n",
    "En nuestro caso, podremos recurrir a los generos más consumidos o mejor valorados."
   ]
  },
  {
   "cell_type": "markdown",
   "metadata": {
    "id": "T2RPE_oKglRj"
   },
   "source": [
    "### Ejercicio"
   ]
  },
  {
   "cell_type": "code",
   "execution_count": null,
   "metadata": {
    "id": "F4BN33lub4jP"
   },
   "outputs": [],
   "source": [
    "def content_based_recommender(user_id, num=10):\n",
    "   \"\"\"\n",
    "   Ejercicio: Devolvemos el numero de películas indicadas a recomendar que el usuario no haya visto y sean \n",
    "   similares a las películas vistas y puntuadas con un rating alto por el mismo usuario.\n",
    "   \"\"\"\n",
    "   # Películas mejor puntuadas por el usuario\n",
    "   fav_movies = favorite_movies(user_id, 10)\n",
    "\n",
    "   # Películas no vistas por el usuario (candidatas)\n",
    "   ...\n",
    "\n",
    "   # Para cada película buscamos en su matriz de similitud lo títulos más similares, \n",
    "   # su máxima similitud con las películas valoradas y nos quedamos con las num primeras\n",
    "   chosen_movies = ...\n",
    "\n",
    "   return titles[titles[\"movie_id\"].isin(chosen_movies)]"
   ]
  },
  {
   "cell_type": "code",
   "execution_count": null,
   "metadata": {
    "colab": {
     "base_uri": "https://localhost:8080/",
     "height": 363
    },
    "executionInfo": {
     "elapsed": 12,
     "status": "ok",
     "timestamp": 1647734456405,
     "user": {
      "displayName": "Iraitz Montalban",
      "photoUrl": "https://lh3.googleusercontent.com/a-/AOh14GgvfARZt-Fohb1gudbfMp8rr7aejGBTFsCgZ6Sj=s64",
      "userId": "09571778698595513856"
     },
     "user_tz": -60
    },
    "id": "0wIpgQsnkSLo",
    "outputId": "3b25c0db-4e63-41e4-afe0-31a291b748be"
   },
   "outputs": [],
   "source": [
    "favorite_movies(196)"
   ]
  },
  {
   "cell_type": "code",
   "execution_count": null,
   "metadata": {
    "colab": {
     "base_uri": "https://localhost:8080/",
     "height": 363
    },
    "executionInfo": {
     "elapsed": 4,
     "status": "ok",
     "timestamp": 1647734457615,
     "user": {
      "displayName": "Iraitz Montalban",
      "photoUrl": "https://lh3.googleusercontent.com/a-/AOh14GgvfARZt-Fohb1gudbfMp8rr7aejGBTFsCgZ6Sj=s64",
      "userId": "09571778698595513856"
     },
     "user_tz": -60
    },
    "id": "aozgW3SxeAB2",
    "outputId": "e9cb694e-9560-4827-f34e-2d31586d024c"
   },
   "outputs": [],
   "source": [
    "content_based_recommender(196)"
   ]
  },
  {
   "cell_type": "code",
   "execution_count": null,
   "metadata": {
    "colab": {
     "base_uri": "https://localhost:8080/",
     "height": 363
    },
    "executionInfo": {
     "elapsed": 4,
     "status": "ok",
     "timestamp": 1647734459298,
     "user": {
      "displayName": "Iraitz Montalban",
      "photoUrl": "https://lh3.googleusercontent.com/a-/AOh14GgvfARZt-Fohb1gudbfMp8rr7aejGBTFsCgZ6Sj=s64",
      "userId": "09571778698595513856"
     },
     "user_tz": -60
    },
    "id": "UTLlFQivklE_",
    "outputId": "3cc4136c-6a5d-48c9-8872-5389adfaf315"
   },
   "outputs": [],
   "source": [
    "favorite_movies(1)"
   ]
  },
  {
   "cell_type": "code",
   "execution_count": null,
   "metadata": {
    "colab": {
     "base_uri": "https://localhost:8080/",
     "height": 363
    },
    "executionInfo": {
     "elapsed": 8,
     "status": "ok",
     "timestamp": 1647734460670,
     "user": {
      "displayName": "Iraitz Montalban",
      "photoUrl": "https://lh3.googleusercontent.com/a-/AOh14GgvfARZt-Fohb1gudbfMp8rr7aejGBTFsCgZ6Sj=s64",
      "userId": "09571778698595513856"
     },
     "user_tz": -60
    },
    "id": "uDAIgky0iNmY",
    "outputId": "598607dd-855e-40d7-8b95-67e2227a810f"
   },
   "outputs": [],
   "source": [
    "content_based_recommender(1)"
   ]
  }
 ],
 "metadata": {
  "colab": {
   "authorship_tag": "ABX9TyOtEJr8/cJTaSDUid9FD7kY",
   "collapsed_sections": [],
   "name": "Primeros ejemplos de sistemas de recomendación basados en popularidad y contenido (Ejercicios).ipynb",
   "provenance": [
    {
     "file_id": "1jxdQ2-ZKAk8veuaurDtwurqZmsU9m5rp",
     "timestamp": 1647774737919
    }
   ]
  },
  "kernelspec": {
   "display_name": "Python 3 (ipykernel)",
   "language": "python",
   "name": "python3"
  },
  "language_info": {
   "codemirror_mode": {
    "name": "ipython",
    "version": 3
   },
   "file_extension": ".py",
   "mimetype": "text/x-python",
   "name": "python",
   "nbconvert_exporter": "python",
   "pygments_lexer": "ipython3",
   "version": "3.9.12"
  }
 },
 "nbformat": 4,
 "nbformat_minor": 1
}
